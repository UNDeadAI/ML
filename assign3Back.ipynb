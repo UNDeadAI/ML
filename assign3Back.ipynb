{
 "cells": [
  {
   "cell_type": "markdown",
   "metadata": {},
   "source": [
    "# Machine Learning - Assignment 3\n",
    "\n",
    "### Oscar Fabián Ñáñez Núñez - Juan Camilo Calero Espinosa\n",
    "### ofnanezn - jccaleroe"
   ]
  },
  {
   "cell_type": "code",
   "execution_count": 1,
   "metadata": {},
   "outputs": [],
   "source": [
    "from sklearn.datasets import fetch_mldata\n",
    "from sklearn.preprocessing import scale\n",
    "import sklearn\n",
    "import matplotlib.pyplot as plt\n",
    "import numpy as np\n",
    "from numpy import linalg as AL\n",
    "from sklearn.kernel_approximation import RBFSampler\n",
    "from sklearn import svm\n",
    "from sklearn.feature_extraction.text import CountVectorizer\n",
    "from sklearn.feature_extraction.text import TfidfTransformer\n",
    "from threading import Thread\n",
    "from time import time\n",
    "from sklearn.metrics import accuracy_score"
   ]
  },
  {
   "cell_type": "markdown",
   "metadata": {},
   "source": [
    "\n",
    "## 3)"
   ]
  },
  {
   "cell_type": "markdown",
   "metadata": {},
   "source": [
    "## n-grams kernel "
   ]
  },
  {
   "cell_type": "code",
   "execution_count": 2,
   "metadata": {},
   "outputs": [],
   "source": [
    "def ngk(doc1, doc2, n=2, mode='char'):\n",
    "    \"\"\" n: Order of the n-gram\n",
    "    mode: Either 'char' or 'word' \"\"\"\n",
    "\n",
    "    # Counts the occurences of unique n-grams\n",
    "    ngrams = CountVectorizer(analyzer=mode, ngram_range=(n, n)).fit_transform([doc1, doc2])\n",
    "\n",
    "    # Normalize\n",
    "    #a, b = TfidfTransformer().fit_transform(ngrams).toarray()\n",
    "    a, b = ngrams.toarray()\n",
    "    return np.dot(a, b)"
   ]
  },
  {
   "cell_type": "code",
   "execution_count": 3,
   "metadata": {},
   "outputs": [],
   "source": [
    "english = np.genfromtxt('words/english400.txt',dtype='str')\n",
    "spanish = np.genfromtxt('words/spanish400.txt',dtype='str')\n",
    "sl = np.zeros(spanish.shape)\n",
    "el = np.full(spanish.shape, 1)\n",
    "X = np.concatenate((spanish, english), axis=0)\n",
    "Y = np.concatenate((sl, el), axis=0)\n",
    "\n",
    "englishTest = np.genfromtxt('words/englishTest100.txt',dtype='str')\n",
    "spanishTest = np.genfromtxt('words/spanishTest100.txt',dtype='str')\n",
    "slt = np.zeros(spanishTest.shape)\n",
    "elt = np.full(spanishTest.shape, 1)\n",
    "XT = np.concatenate((spanishTest, englishTest), axis=0)\n",
    "YT = np.concatenate((slt, elt), axis=0)"
   ]
  },
  {
   "cell_type": "code",
   "execution_count": 4,
   "metadata": {},
   "outputs": [],
   "source": [
    "def ngkClassifier(n):\n",
    "    #t = time()\n",
    "    gram2 = np.zeros((X.shape[0], X.shape[0]))\n",
    "    for i in range(X.shape[0]):\n",
    "        for j in range(X.shape[0]):\n",
    "            gram2[i][j] = ngk(X[i], X[j], n)\n",
    "\n",
    "    #print(\"gram2 preprocessed\")\n",
    "    #print(round(time()-t))\n",
    "\n",
    "    clf2 = svm.SVC(kernel='precomputed')\n",
    "    clf2.fit(gram2, Y)\n",
    "\n",
    "    #t = time()\n",
    "    gramT2 = np.zeros((XT.shape[0], X.shape[0]))\n",
    "    for i in range(XT.shape[0]):\n",
    "        for j in range(X.shape[0]):\n",
    "            gramT2[i][j] = ngk(XT[i], X[j], n)\n",
    "\n",
    "    #print(\"test gram2 preprocessed\")\n",
    "    #print(round(time()-t))\n",
    "\n",
    "    Z2 = clf2.predict(gramT2)\n",
    "    #print(Z2)\n",
    "    #print(YT)\n",
    "    #print(XT)\n",
    "    a = accuracy_score(YT, Z2)\n",
    "    print(a)\n",
    "    return a"
   ]
  },
  {
   "cell_type": "code",
   "execution_count": 5,
   "metadata": {
    "scrolled": true
   },
   "outputs": [
    {
     "name": "stdout",
     "output_type": "stream",
     "text": [
      "n  1\n",
      "0.715\n",
      "n  2\n",
      "0.785\n",
      "n  3\n",
      "0.71\n",
      "n  4\n",
      "0.695\n",
      "Max n: 2 value: 0.785\n"
     ]
    }
   ],
   "source": [
    "nMax, tmp = 0, 0\n",
    "for n in range(1, 5):\n",
    "    print(\"n \", n)\n",
    "    aux = ngkClassifier(n)\n",
    "    if aux > tmp:\n",
    "        tmp = aux\n",
    "        nMax = n\n",
    "        \n",
    "print(\"Max n:\", nMax, \"value:\", tmp)\n"
   ]
  },
  {
   "cell_type": "markdown",
   "metadata": {},
   "source": [
    "### Best parameter: \n",
    "### n = 2"
   ]
  }
 ],
 "metadata": {
  "kernelspec": {
   "display_name": "Python 3",
   "language": "python",
   "name": "python3"
  },
  "language_info": {
   "codemirror_mode": {
    "name": "ipython",
    "version": 3
   },
   "file_extension": ".py",
   "mimetype": "text/x-python",
   "name": "python",
   "nbconvert_exporter": "python",
   "pygments_lexer": "ipython3",
   "version": "3.6.4"
  }
 },
 "nbformat": 4,
 "nbformat_minor": 2
}
