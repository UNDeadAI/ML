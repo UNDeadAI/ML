{
 "cells": [
  {
   "cell_type": "code",
   "execution_count": 2,
   "metadata": {
    "collapsed": true
   },
   "outputs": [],
   "source": [
    "import numpy as np"
   ]
  },
  {
   "cell_type": "code",
   "execution_count": 15,
   "metadata": {},
   "outputs": [
    {
     "name": "stdout",
     "output_type": "stream",
     "text": [
      "TD Matrix:\n",
      "[[ 2.  3.  0.  3.  7.]\n",
      " [ 0.  5.  5.  0.  3.]\n",
      " [ 5.  0.  7.  3.  3.]\n",
      " [ 3.  1.  0.  9.  9.]\n",
      " [ 0.  0.  7.  1.  3.]\n",
      " [ 6.  9.  4.  6.  0.]]\n",
      "\n",
      "Vector L:\n",
      "[[5]\n",
      " [2]\n",
      " [3]\n",
      " [6]\n",
      " [4]\n",
      " [3]]\n"
     ]
    }
   ],
   "source": [
    "TD = np.array([[2.,3.,0.,3.,7.],\n",
    "               [0.,5.,5.,0.,3.],\n",
    "               [5.,0.,7.,3.,3.],\n",
    "               [3.,1.,0.,9.,9.],\n",
    "               [0.,0.,7.,1.,3.],\n",
    "               [6.,9.,4.,6.,0]])\n",
    "\n",
    "L = np.array([[5,2,3,6,4,3]]).T\n",
    "\n",
    "print(\"TD Matrix:\")\n",
    "print(TD)\n",
    "print(\"\\nVector L:\")\n",
    "print(L)"
   ]
  },
  {
   "cell_type": "code",
   "execution_count": 4,
   "metadata": {},
   "outputs": [
    {
     "name": "stdout",
     "output_type": "stream",
     "text": [
      "[[ 16.  18.  23.  22.  25.]]\n",
      "[[ 16.  18.  23.  22.  25.]]\n"
     ]
    }
   ],
   "source": [
    "print(np.dot(np.ones((1,6)),TD))\n",
    "print(np.sum(TD,axis=0,keepdims=True))"
   ]
  },
  {
   "cell_type": "markdown",
   "metadata": {},
   "source": [
    "## Notation:\n",
    "Let $\\bf{1^{i}}$ be a columnar vector of ones with length i. <br>\n",
    "We'll treat $TD$ as a matrix of size $n \\times m$. <br>\n",
    "We are using broadcasting inside mathematical notation. <br>\n",
    "$*$ operator will refer to element-wise multiplication. <br>\n",
    "$\\times$ operator will refer to matrices dot product."
   ]
  },
  {
   "cell_type": "markdown",
   "metadata": {},
   "source": [
    "## a)\n",
    "Mathematical expression: \n",
    "    $P(T,D) = \\frac{1}{5} * \\frac{TD}{\\sum_j TD} = \\frac{1}{5} * \\frac{TD}{(\\mathbf{1^{n}})^T \\times TD}$ "
   ]
  },
  {
   "cell_type": "code",
   "execution_count": 5,
   "metadata": {},
   "outputs": [
    {
     "name": "stdout",
     "output_type": "stream",
     "text": [
      "[[ 0.025       0.03333333  0.          0.02727273  0.056     ]\n",
      " [ 0.          0.05555556  0.04347826  0.          0.024     ]\n",
      " [ 0.0625      0.          0.06086957  0.02727273  0.024     ]\n",
      " [ 0.0375      0.01111111  0.          0.08181818  0.072     ]\n",
      " [ 0.          0.          0.06086957  0.00909091  0.024     ]\n",
      " [ 0.075       0.1         0.03478261  0.05454545  0.        ]]\n"
     ]
    }
   ],
   "source": [
    "def PTD(TD):\n",
    "    return (1/5) * (TD / np.dot(np.ones((1,6)), TD))\n",
    "\n",
    "P_TD = PTD(TD)\n",
    "print(P_TD)"
   ]
  },
  {
   "cell_type": "markdown",
   "metadata": {},
   "source": [
    "## b)\n",
    "Mathematical expression: \n",
    "    $P(T|D) = \\frac{TD}{\\sum_j TD} = \\frac{TD}{(\\mathbf{1^{n}})^T \\times TD}$"
   ]
  },
  {
   "cell_type": "code",
   "execution_count": 6,
   "metadata": {},
   "outputs": [
    {
     "name": "stdout",
     "output_type": "stream",
     "text": [
      "[[ 0.125       0.16666667  0.          0.13636364  0.28      ]\n",
      " [ 0.          0.27777778  0.2173913   0.          0.12      ]\n",
      " [ 0.3125      0.          0.30434783  0.13636364  0.12      ]\n",
      " [ 0.1875      0.05555556  0.          0.40909091  0.36      ]\n",
      " [ 0.          0.          0.30434783  0.04545455  0.12      ]\n",
      " [ 0.375       0.5         0.17391304  0.27272727  0.        ]]\n"
     ]
    }
   ],
   "source": [
    "def PTgD(TD):\n",
    "    return TD/np.dot(np.ones((1,6)),TD)\n",
    "\n",
    "P_TgD = PTgD(TD)\n",
    "print(P_TgD)"
   ]
  },
  {
   "cell_type": "markdown",
   "metadata": {},
   "source": [
    "## c)\n",
    "Mathematical expression: \n",
    "        $P(D|T) = \\frac {P(T|D) * P(D)} {P(T)}= \\frac {1}{5} * \\frac{P(T|D)}{\\sum_i P(T,D)} = \\frac {1}{5} * \\frac{P(T|D)}{P(T,D) \\times \\mathbf{1^m}}$\n",
    "<br></br>\n",
    "<br></br>\n",
    "Mathematical expression2: \n",
    "        $P(D|T) = \\frac {P(T,D)} {P(T)}= \\frac{P(T,D)}{\\sum_i P(T,D)} = \\frac{P(T,D)}{P(T,D) \\times \\mathbf{1^m}}$"
   ]
  },
  {
   "cell_type": "code",
   "execution_count": 7,
   "metadata": {},
   "outputs": [
    {
     "name": "stdout",
     "output_type": "stream",
     "text": [
      "[[ 0.17654612  0.23539482  0.          0.19259576  0.3954633 ]\n",
      " [ 0.          0.45154704  0.35338464  0.          0.19506832]\n",
      " [ 0.35787437  0.          0.34853851  0.15616336  0.13742376]\n",
      " [ 0.18524987  0.05488885  0.          0.40418153  0.35567975]\n",
      " [ 0.          0.          0.64782097  0.09675248  0.25542655]\n",
      " [ 0.28373832  0.37831776  0.13158879  0.20635514  0.        ]]\n"
     ]
    }
   ],
   "source": [
    "def PDgT(TD):\n",
    "    return (1/5)*(P_TgD/np.dot(P_TD,np.ones((5,1))))\n",
    "\n",
    "P_DgT = PDgT(TD)\n",
    "print(P_DgT)"
   ]
  },
  {
   "cell_type": "code",
   "execution_count": 8,
   "metadata": {},
   "outputs": [
    {
     "name": "stdout",
     "output_type": "stream",
     "text": [
      "[[ 0.17654612  0.23539482  0.          0.19259576  0.3954633 ]\n",
      " [ 0.          0.45154704  0.35338464  0.          0.19506832]\n",
      " [ 0.35787437  0.          0.34853851  0.15616336  0.13742376]\n",
      " [ 0.18524987  0.05488885  0.          0.40418153  0.35567975]\n",
      " [ 0.          0.          0.64782097  0.09675248  0.25542655]\n",
      " [ 0.28373832  0.37831776  0.13158879  0.20635514  0.        ]]\n"
     ]
    }
   ],
   "source": [
    "def PDyT(P_TD):\n",
    "    P_TD/np.dot(P_TD,np.ones((5,1)))\n",
    "    \n",
    "P_DgT2 = PDgT(P_TD)\n",
    "print(P_DgT2)"
   ]
  },
  {
   "cell_type": "markdown",
   "metadata": {},
   "source": [
    "## d)\n",
    "Mathematical expression: \n",
    "        $P(D)_j = \\frac {1}{5} \\hspace{0.3cm} \\forall j$"
   ]
  },
  {
   "cell_type": "code",
   "execution_count": 9,
   "metadata": {},
   "outputs": [
    {
     "name": "stdout",
     "output_type": "stream",
     "text": [
      "[ 0.2  0.2  0.2  0.2  0.2]\n"
     ]
    }
   ],
   "source": [
    "def PD():\n",
    "    return np.array([1/5]*5)\n",
    "\n",
    "P_D = PD()\n",
    "print(P_D)"
   ]
  },
  {
   "cell_type": "markdown",
   "metadata": {},
   "source": [
    "## e)\n",
    "Mathematical expression: \n",
    "        $P(T) = \\sum_i P(T,D) = P(T,D) \\times \\mathbf{1^m}$"
   ]
  },
  {
   "cell_type": "code",
   "execution_count": 10,
   "metadata": {},
   "outputs": [
    {
     "name": "stdout",
     "output_type": "stream",
     "text": [
      "[[ 0.14160606]\n",
      " [ 0.12303382]\n",
      " [ 0.17464229]\n",
      " [ 0.20242929]\n",
      " [ 0.09396047]\n",
      " [ 0.26432806]]\n"
     ]
    }
   ],
   "source": [
    "def PT(PTD):\n",
    "    return np.dot(P_TD,np.ones((5,1)))\n",
    "\n",
    "P_T = PT(P_TD)\n",
    "print(P_T)"
   ]
  },
  {
   "cell_type": "markdown",
   "metadata": {},
   "source": [
    "\n",
    "## f)\n",
    "Mathematical expression: <br> \n",
    "        &emsp;&emsp;$P(l) = P(T)$ <br>\n",
    "        &emsp;&emsp;$\\mathbf{E}[l] = \\sum_l l \\times P(l)$"
   ]
  },
  {
   "cell_type": "markdown",
   "metadata": {},
   "source": [
    "Mathematical expression by Calero: <br> \n",
    "        &emsp;&emsp;$P(l) = P(T)$ <br>\n",
    "        &emsp;&emsp;$\\mathbf{E}[l] = L^{t} \\times P(T)$\n",
    "        "
   ]
  },
  {
   "cell_type": "code",
   "execution_count": 12,
   "metadata": {},
   "outputs": [
    {
     "name": "stdout",
     "output_type": "stream",
     "text": [
      "[ 3.86142666]\n"
     ]
    }
   ],
   "source": [
    "def E(L):\n",
    "    return sum(L*P_T)\n",
    "\n",
    "E_l = E(L)\n",
    "print(E_l)"
   ]
  },
  {
   "cell_type": "code",
   "execution_count": 28,
   "metadata": {},
   "outputs": [
    {
     "name": "stdout",
     "output_type": "stream",
     "text": [
      "[[3.86142666]]\n"
     ]
    }
   ],
   "source": [
    "def E2(l, P_T):\n",
    "    return np.dot(l.T, P_T)\n",
    "\n",
    "print(E2(L, P_T))"
   ]
  },
  {
   "cell_type": "markdown",
   "metadata": {},
   "source": [
    "\n",
    "## g)\n",
    "Mathematical expression:    \n",
    "    $Var(l) = \\mathbf{E}[(l-\\mu)^2]$\n",
    "    <br>\n",
    "    <br>\n",
    "    $Var(l) = \\sum_{i}^{n} p_{i}*(x_{i}-\\mu)^2$"
   ]
  },
  {
   "cell_type": "code",
   "execution_count": 16,
   "metadata": {},
   "outputs": [
    {
     "name": "stdout",
     "output_type": "stream",
     "text": [
      "[ 1.86401552]\n"
     ]
    }
   ],
   "source": [
    "def var(x):\n",
    "    return E((x - np.mean(x))**2)\n",
    "\n",
    "var_l = var(L)\n",
    "print(var_l)"
   ]
  },
  {
   "cell_type": "code",
   "execution_count": 27,
   "metadata": {},
   "outputs": [
    {
     "name": "stdout",
     "output_type": "stream",
     "text": [
      "[[1.86401552]]\n"
     ]
    }
   ],
   "source": [
    "def var2(l, p):\n",
    "    return np.dot(np.square(l-np.mean(l)).T, p)\n",
    "print(var2(L, P_T))"
   ]
  }
 ],
 "metadata": {
  "kernelspec": {
   "display_name": "Python 3",
   "language": "python",
   "name": "python3"
  },
  "language_info": {
   "codemirror_mode": {
    "name": "ipython",
    "version": 3
   },
   "file_extension": ".py",
   "mimetype": "text/x-python",
   "name": "python",
   "nbconvert_exporter": "python",
   "pygments_lexer": "ipython3",
   "version": "3.6.1"
  }
 },
 "nbformat": 4,
 "nbformat_minor": 2
}
