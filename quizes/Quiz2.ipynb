{
 "cells": [
  {
   "cell_type": "markdown",
   "metadata": {},
   "source": [
    "# Quiz 2\n",
    "# Machine Learning 2018-1\n",
    "\n",
    "____________________\n",
    "A support vector machine (SVM) was trained with a particular dataset using this kernel $k(x,y)=(<x,y>+2)^{2}$. As a result,\n",
    "five support vectors were obtained: $x_{1}=(1,2)$, $x_{2}=(3,1)$,  $x_{3}=(0,1)$, $x_{4}=(2,0)$ and $x_{5}=(0,0)$, with labels $y_{1}=1$, $y_{2}=1$, $y_{3}=-1$, $y_{4}=-1$  and $y_{5}=-1$ respectively. The $\\alpha$ values were $\\alpha_1 =0.0763$, $\\alpha_2 = 0.0026 $, $\\alpha_3 =0.0643$, $\\alpha_4 =0.0146$ and $\\alpha_5 =0.4017$. \n",
    "\n",
    "\n",
    "### 1. (1.5) \n",
    "\n",
    "Design a function that calculates the discriminant function for the SVM."
   ]
  },
  {
   "cell_type": "code",
   "execution_count": 1,
   "metadata": {},
   "outputs": [],
   "source": [
    "import numpy as np"
   ]
  },
  {
   "cell_type": "code",
   "execution_count": 2,
   "metadata": {},
   "outputs": [],
   "source": [
    "def compare(val1, val2, error):\n",
    "    if abs(val1 - val2) > error:\n",
    "        return False\n",
    "    return True\n",
    "\n",
    "def compare_array(array1, array2, error):\n",
    "    if array1.shape != array2.shape :\n",
    "        return False\n",
    "    ar1 = np.array(array1)\n",
    "    ar2 = np.array(array2)\n",
    "    ar1.sort()\n",
    "    ar2.sort()\n",
    "    for i in range(ar1.shape[0]):\n",
    "        if not compare(ar1[i], ar2[i], error):\n",
    "            return False\n",
    "    return True\n",
    "\n",
    "X = np.array([[1, 2], [3, 1], [0,1], [2,0], [0,0]])\n",
    "y = np.array([1, 1, -1, -1, -1])\n",
    "alpha = np.array([0.0763, 0.0026, 0.0643, 0.0146, 0.4017])\n",
    "X_test = np.array([[1, 2], [3, 1], [0,1], [2,0], [0,0], [-1,2], [2, -3]])\n",
    "y_test = np.array([ 0.9969,  0.9932, -0.9997, -1.0024, -1.6068, -0.7255, -1.8265])\n",
    "ws = [np.array([0.0997    , 0.3078    , 0.22683986, 0.1682    , 0.3104    ,\n",
    "        0.1578    ]),\n",
    " np.array([0.0997    , 0.2435    , 0.22683986, 0.1682    , 0.1818    ,\n",
    "        0.0292    ]),\n",
    " np.array([4.13000000e-02, 2.43500000e-01, 2.26839855e-01, 1.09800000e-01,\n",
    "        1.81800000e-01, 3.12250226e-17]),\n",
    " np.array([ 0.0413    ,  0.2435    ,  0.22683986,  0.1098    ,  0.1818    ,\n",
    "        -0.8034    ])]"
   ]
  },
  {
   "cell_type": "markdown",
   "metadata": {},
   "source": [
    "### 1. (1.5) \n",
    "\n",
    "Design a function that calculates the discriminant function for the SVM."
   ]
  },
  {
   "cell_type": "code",
   "execution_count": 5,
   "metadata": {},
   "outputs": [],
   "source": [
    "def discriminant(x, X, y, alpha):\n",
    "    '''\n",
    "    x: the sample to classify (numpy array of shape (2,))\n",
    "    X: support vectors (numpy array of shape (n, 2))\n",
    "    y: labels of the support vectors (numpy array of shape (n,))\n",
    "    alpha: coefficients for the support vectors (numpy array of shape (n,))\n",
    "    returns the value of the SVM discriminant function evaluated on x\n",
    "    '''\n",
    "    print(np.dot(X, x))\n",
    "    return np.sum(y*alpha*(np.dot(x, X.T)+2)**2)"
   ]
  },
  {
   "cell_type": "code",
   "execution_count": 6,
   "metadata": {},
   "outputs": [
    {
     "name": "stdout",
     "output_type": "stream",
     "text": [
      "[5 5 2 2 0]\n",
      "[ 5 10  1  6  0]\n",
      "[2 1 1 0 0]\n",
      "[2 6 0 4 0]\n",
      "[0 0 0 0 0]\n",
      "[ 3 -1  2 -2  0]\n",
      "[-4  3 -3  4  0]\n"
     ]
    },
    {
     "data": {
      "text/plain": [
       "True"
      ]
     },
     "execution_count": 6,
     "metadata": {},
     "output_type": "execute_result"
    }
   ],
   "source": [
    "def t1():\n",
    "    for i in range(X_test.shape[0]):\n",
    "        if not compare(y_test[i], discriminant(X_test[i], X, y, alpha), 0.001):\n",
    "            return False\n",
    "    return True\n",
    "t1()"
   ]
  },
  {
   "cell_type": "markdown",
   "metadata": {},
   "source": [
    "### 2. (2.0)\n",
    "Design a function that maps a sample in the input space to the feature space induced by the kernel $k(x,y)=(<x,y>+2)^{2}$."
   ]
  },
  {
   "cell_type": "code",
   "execution_count": 42,
   "metadata": {},
   "outputs": [
    {
     "data": {
      "text/plain": [
       "True"
      ]
     },
     "execution_count": 42,
     "metadata": {},
     "output_type": "execute_result"
    }
   ],
   "source": [
    "def phi(x):\n",
    "    '''\n",
    "    x: a sample in the input space (numpy array of shape (2,))\n",
    "    returns a vector in the feature space corresponding to the image of x (numpy array of shape (6,))\n",
    "    '''\n",
    "    result = np.zeros(6)\n",
    "    result[0] = (x[0]*x[0])\n",
    "    result[1] = np.sqrt(2)*x[0]*x[1]\n",
    "    result[2] = 2*x[0]\n",
    "    result[3] = (x[1]*x[1])\n",
    "    result[4] = 2*x[1]\n",
    "    result[5] = 2 \n",
    "    return result\n",
    "\n",
    "def t2():\n",
    "    for i in range(X_test.shape[0] ):\n",
    "        for j in range(i, X_test.shape[0]):\n",
    "            phi1 = phi(X_test[i])\n",
    "            phi2 = phi(X_test[j])\n",
    "            dot1 = (np.dot(X_test[i], X_test[j]) + 2) ** 2\n",
    "            dot2 = np.dot(phi1, phi2)            \n",
    "            if not compare(dot1, dot2, 0.001):\n",
    "                return False\n",
    "    return True\n",
    "t2()"
   ]
  },
  {
   "cell_type": "markdown",
   "metadata": {},
   "source": [
    "### 3. (1.5)\n",
    "\n",
    "Design a function that calculates the $w$ vector that determines the separation hyperplane in the feature space."
   ]
  },
  {
   "cell_type": "code",
   "execution_count": 59,
   "metadata": {},
   "outputs": [
    {
     "data": {
      "text/plain": [
       "True"
      ]
     },
     "execution_count": 59,
     "metadata": {},
     "output_type": "execute_result"
    }
   ],
   "source": [
    "def calculate_w(X, y, alpha):\n",
    "    '''\n",
    "    X: support vectors (numpy array of shape (n, 2))\n",
    "    y: labels of the support vectors (numpy array of shape (n,))\n",
    "    alpha: coefficients for the support vectors (numpy array of shape (n,))\n",
    "    returns the vector w in the feature space that defines the separating hyperplane (numpy array of shape (6,))\n",
    "    '''\n",
    "    w = np.zeros(6)    \n",
    "    for i in range(X.shape[0]):\n",
    "        w += phi(X[i])*y[i]*alpha[i]    \n",
    "    return w\n",
    "\n",
    "def t3():\n",
    "    for i in range(2, X.shape[0] + 1):        \n",
    "        if not compare_array(calculate_w(X[:i], y[:i], alpha[:i]), ws[i-2], 0.001):\n",
    "            return False\n",
    "    return True\n",
    "t3()"
   ]
  },
  {
   "cell_type": "code",
   "execution_count": 60,
   "metadata": {},
   "outputs": [
    {
     "name": "stdout",
     "output_type": "stream",
     "text": [
      "Score:  5.0 / 5.0\n"
     ]
    }
   ],
   "source": [
    "def evaluate():\n",
    "    score = 0 \n",
    "    tests = [t1, t2, t3]\n",
    "    vals = [1.5, 2, 1.5]\n",
    "    for i in range(len(tests)):\n",
    "        if tests[i]():\n",
    "            score += vals[i]\n",
    "    return score\n",
    "\n",
    "print (\"Score: \", evaluate(), \"/ 5.0\")"
   ]
  }
 ],
 "metadata": {
  "kernelspec": {
   "display_name": "Python 3",
   "language": "python",
   "name": "python3"
  },
  "language_info": {
   "codemirror_mode": {
    "name": "ipython",
    "version": 3
   },
   "file_extension": ".py",
   "mimetype": "text/x-python",
   "name": "python",
   "nbconvert_exporter": "python",
   "pygments_lexer": "ipython3",
   "version": "3.6.5"
  }
 },
 "nbformat": 4,
 "nbformat_minor": 2
}
