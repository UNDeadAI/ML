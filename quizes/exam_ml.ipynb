{
 "cells": [
  {
   "cell_type": "markdown",
   "metadata": {},
   "source": [
    "# Final Exam\n",
    "# Machine Learning 2018-1\n",
    "Keep saving your notebook to guarantee that you don't lose your work. Whenever the end of the exam is announced save the current version. \n",
    "\n",
    "---"
   ]
  },
  {
   "cell_type": "code",
   "execution_count": 1,
   "metadata": {},
   "outputs": [],
   "source": [
    "import numpy as np\n",
    "import pylab as pl\n",
    "\n",
    "%matplotlib inline"
   ]
  },
  {
   "cell_type": "markdown",
   "metadata": {},
   "source": [
    "## 1. (0.5)\n",
    "\n",
    "Consider the following model inspired in a support vector machine. \n",
    "\n",
    "$$ f_w(x) = wx + w_0$$\n",
    "\n",
    "where \n",
    "\n",
    "$$ w=\\sum_{x_{i}\\in X}\\alpha_{i}\\phi(x_{i}) $$\n",
    "\n",
    "The loss function corresponds to the 'hinge' loss function that makes it equivalent to the traditional primal optimization formulation (without the margin or regularization term):\n",
    "\n",
    "$$E(w, x, y) = \\max(0, 1 - y f_w(x))$$\n",
    "\n",
    "Implement this model modifying the following functions:"
   ]
  },
  {
   "cell_type": "code",
   "execution_count": 2,
   "metadata": {},
   "outputs": [],
   "source": [
    "def predict_ksvm(alpha, X, kernel, x):\n",
    "    w = 0\n",
    "    for i in range (len(alpha)):\n",
    "        w += alpha[i] * kernel(X[i], x)    \n",
    "    return w\n",
    "\n",
    "def loss_ksvm(alpha, X, kernel, x, y):\n",
    "    r = predict_ksvm(alpha, X, kernel, x)    \n",
    "    return max(0, 1 - y*r)"
   ]
  },
  {
   "cell_type": "markdown",
   "metadata": {},
   "source": [
    "Test your functions with the following code:"
   ]
  },
  {
   "cell_type": "code",
   "execution_count": 3,
   "metadata": {},
   "outputs": [],
   "source": [
    "def k1(x, y):\n",
    "    return np.dot(x, y)\n",
    "\n",
    "def k2(x, y):\n",
    "    return (np.dot(x, y) + 1) ** 2\n",
    "\n",
    "def test_loss_ksvm():\n",
    "    X = [[-2, -1],\n",
    "         [-1, 3],\n",
    "         [2.5, -1.5],\n",
    "         [4, 2]]\n",
    "    Y = [-1, 1, 1, -1]\n",
    "    epsilon = 0.0001\n",
    "    test1 = [0 , 0 , 6.3 , 3.3]\n",
    "    test2 = [25.775 , 0 , 11.9 , 113.0]\n",
    "    alpha = [0.1, 0.4, -0.5, 0.3]\n",
    "    for i, x_i in enumerate(X):\n",
    "        if abs(loss_ksvm(alpha, X, k1, x_i, Y[i]) - test1[i]) > epsilon:\n",
    "            raise Exception(\"loss_ksvm test failed!\")\n",
    "    for i, x_i in enumerate(X):\n",
    "        if abs(loss_ksvm(alpha, X, k2, x_i, Y[i]) - test2[i]) > epsilon:\n",
    "            raise Exception(\"loss_ksvm test failed!\")\n",
    "\n",
    "test_loss_ksvm()"
   ]
  },
  {
   "cell_type": "markdown",
   "metadata": {},
   "source": [
    "## 2. (1.5)\n",
    "\n",
    "Write a function that calculates the gradient of the loss with respect to the alpha parameter:\n",
    "\n",
    "$$ \\frac{\\partial E}{\\partial \\alpha} $$"
   ]
  },
  {
   "cell_type": "code",
   "execution_count": 12,
   "metadata": {},
   "outputs": [],
   "source": [
    "def de_dalpha(alpha, X, kernel, x, y):\n",
    "    delta = np.zeros(len(alpha))\n",
    "    w = loss_ksvm(alpha, X, kernel, x, y)\n",
    "    if w <= 0:\n",
    "        return delta\n",
    "    for i in range(len(alpha)):        \n",
    "        delta[i] = -y * kernel(X[i], x)\n",
    "    return delta"
   ]
  },
  {
   "cell_type": "markdown",
   "metadata": {},
   "source": [
    "Use the following functions to test your code:"
   ]
  },
  {
   "cell_type": "code",
   "execution_count": 13,
   "metadata": {},
   "outputs": [],
   "source": [
    "def num_de_dalpha(alpha, X, kernel, x, y, epsilon):\n",
    "    deltas = np.identity(len(alpha)) * epsilon\n",
    "    de = np.zeros(len(alpha))\n",
    "    for i in range(len(alpha)):\n",
    "        de[i] = (loss_ksvm(alpha + deltas[i, :], X, kernel, x, y) - \n",
    "                 loss_ksvm(alpha - deltas[i, :], X, kernel, x, y)) / (2 * epsilon)\n",
    "    return de\n",
    "\n",
    "def test_de_dalpha(kernel):\n",
    "    test_loss_ksvm()\n",
    "    num_tests = 100\n",
    "    epsilon = 0.0001\n",
    "    X = [[-2, -1],\n",
    "         [-1, 3],\n",
    "         [2.5, -1.5],\n",
    "         [4, 2]]\n",
    "    for i in range(num_tests):\n",
    "        talpha = np.random.randn(len(X))\n",
    "        tx = np.random.randn(2)\n",
    "        ty = np.random.randn(1)\n",
    "        if np.linalg.norm(de_dalpha(talpha, X, kernel, tx, ty) - \n",
    "                          num_de_dalpha(talpha, X, kernel, tx, ty, epsilon)) > epsilon:\n",
    "            raise Exception(\"de_dalpha test failed!\")\n",
    "\n",
    "test_de_dalpha(k1)\n",
    "test_de_dalpha(k2)"
   ]
  },
  {
   "cell_type": "markdown",
   "metadata": {},
   "source": [
    "## 3. (2.5)\n",
    "\n",
    "### (a) (1.5)\n",
    "Implement batch gradient descent"
   ]
  },
  {
   "cell_type": "code",
   "execution_count": 7,
   "metadata": {
    "collapsed": true
   },
   "outputs": [],
   "source": [
    "def evaluate_ksvm(alpha, X, kernel, X_test, Y_test):\n",
    "    result = 0\n",
    "    for i, x in enumerate(X_test):\n",
    "        result += loss_ksvm(alpha, X, kernel, x, Y_test[i])\n",
    "    return result\n",
    "\n",
    "def train_ksvm(X, Y, epochs, eta, alpha_ini, kernel):\n",
    "    losses = []\n",
    "    alpha = alpha_ini\n",
    "    for i in range(epochs):\n",
    "        ## Your code here\n",
    "        losses.append(evaluate_ksvm(alpha, X, kernel, X, Y))\n",
    "    return alpha, losses"
   ]
  },
  {
   "cell_type": "markdown",
   "metadata": {},
   "source": [
    "Here we train the model using the kernel `k1`"
   ]
  },
  {
   "cell_type": "code",
   "execution_count": 8,
   "metadata": {},
   "outputs": [
    {
     "name": "stdout",
     "output_type": "stream",
     "text": [
      "[0.1, 0.0, -0.1, 0.0]\n",
      "0\n",
      "0\n",
      "0\n",
      "0\n"
     ]
    },
    {
     "data": {
      "image/png": "[encoded data removed]"
     },
     "metadata": {},
     "output_type": "display_data"
    }
   ],
   "source": [
    "X = [[-2, -1],\n",
    "     [-1, 3],\n",
    "     [2.5, -1.5],\n",
    "     [4, 2]]\n",
    "Y = [-1, 1, 1, -1]\n",
    "alpha, losses = train_ksvm(X, Y, 50, 0.001, [0.1, 0.0, -0.1, 0.0], k1)\n",
    "pl.plot(losses)\n",
    "print(alpha)\n",
    "for x in X:\n",
    "    print(predict_ksvm(alpha, X, k2, x))"
   ]
  },
  {
   "cell_type": "markdown",
   "metadata": {},
   "source": [
    "### (b) (0.5)\n",
    "**Does the learned model predict well the training samples? Why? Explain**\n",
    "\n",
    "-----------\n",
    "Now we will train the model using the kernel `k2`"
   ]
  },
  {
   "cell_type": "code",
   "execution_count": 9,
   "metadata": {},
   "outputs": [
    {
     "name": "stdout",
     "output_type": "stream",
     "text": [
      "[0.1, 0.0, -0.1, 0.0]\n",
      "0\n",
      "0\n",
      "0\n",
      "0\n"
     ]
    },
    {
     "data": {
      "image/png": "[encoded data removed]"
     },
     "metadata": {},
     "output_type": "display_data"
    }
   ],
   "source": [
    "alpha, losses = train_ksvm(X, Y, 50, 0.001, [0.1, 0.0, -0.1, 0.0], k2)\n",
    "pl.plot(losses)\n",
    "print(alpha)\n",
    "for x in X:\n",
    "    print(predict_ksvm(alpha, X, k2, x))"
   ]
  },
  {
   "cell_type": "markdown",
   "metadata": {},
   "source": [
    "### (c) (0.5)\n",
    "**What does happen now? Are the results different from the previous experiment? Explain.**"
   ]
  },
  {
   "cell_type": "markdown",
   "metadata": {
    "collapsed": true
   },
   "source": [
    "## 4. (1.0)\n",
    "Implement a regularized version of the model that penalizes the square of the norm of $w$:\n",
    "$$E(w, x, y) = \\max(0, 1 - y f_w(x)) + C||w||^2$$\n",
    "where $C$ is a parameter."
   ]
  },
  {
   "cell_type": "code",
   "execution_count": 7,
   "metadata": {
    "collapsed": true
   },
   "outputs": [],
   "source": [
    "def rloss_ksvm(alpha, X, kernel, x, y, C):\n",
    "    result = 0\n",
    "    # put your code here\n",
    "    return result\n",
    "\n",
    "def rde_dalpha(alpha, X, kernel, x, y, C):\n",
    "    delta = np.zeros(len(alpha))\n",
    "    # put your code here\n",
    "    return delta\n",
    "\n",
    "def rtrain_ksvm(X, Y, epochs, eta, C, alpha_ini, kernel):\n",
    "    losses = []\n",
    "    alpha = alpha_ini\n",
    "    for i in range(epochs):\n",
    "        ## Your code here\n",
    "        losses.append(evaluate_ksvm(alpha, X, kernel, X, Y))\n",
    "    return alpha, losses"
   ]
  },
  {
   "cell_type": "markdown",
   "metadata": {},
   "source": [
    "Evaluate your model with different values of C and showing the loss vs epochs curves.\n",
    "\n",
    "**Note:** This question does not have validation code. It will not get partial credit."
   ]
  },
  {
   "cell_type": "code",
   "execution_count": 0,
   "metadata": {
    "collapsed": true
   },
   "outputs": [],
   "source": []
  }
 ],
 "metadata": {
  "kernelspec": {
   "display_name": "Python 3",
   "language": "python",
   "name": "python3"
  },
  "language_info": {
   "codemirror_mode": {
    "name": "ipython",
    "version": 3
   },
   "file_extension": ".py",
   "mimetype": "text/x-python",
   "name": "python",
   "nbconvert_exporter": "python",
   "pygments_lexer": "ipython3",
   "version": "3.6.5"
  }
 },
 "nbformat": 4,
 "nbformat_minor": 1
}
