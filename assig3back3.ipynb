{
 "cells": [
  {
   "cell_type": "code",
   "execution_count": 5,
   "metadata": {},
   "outputs": [],
   "source": [
    "from sklearn.datasets import fetch_mldata\n",
    "from sklearn.preprocessing import scale\n",
    "import sklearn\n",
    "import matplotlib.pyplot as plt\n",
    "import numpy as np\n",
    "from numpy import linalg as AL\n",
    "from sklearn.kernel_approximation import RBFSampler\n",
    "from sklearn import svm\n",
    "from sklearn.feature_extraction.text import CountVectorizer\n",
    "from sklearn.feature_extraction.text import TfidfTransformer\n",
    "from threading import Thread\n",
    "from time import time\n",
    "from sklearn.metrics import accuracy_score"
   ]
  },
  {
   "cell_type": "markdown",
   "metadata": {},
   "source": [
    "## n-grams kernel \n",
    "### Implementation of the n-gram kernel taken from scikit-learn"
   ]
  },
  {
   "cell_type": "code",
   "execution_count": 6,
   "metadata": {},
   "outputs": [],
   "source": [
    "def ngk(doc1, doc2, n=2):\n",
    "    # Counts the occurences of unique n-grams\n",
    "    ngrams = CountVectorizer(analyzer='char', ngram_range=(n, n)).fit_transform([doc1, doc2])\n",
    "\n",
    "    # Normalize\n",
    "    a, b = TfidfTransformer().fit_transform(ngrams).toarray()\n",
    "    return np.dot(a, b)"
   ]
  },
  {
   "cell_type": "markdown",
   "metadata": {},
   "source": [
    "## NGK Classifier"
   ]
  },
  {
   "cell_type": "markdown",
   "metadata": {},
   "source": [
    "## Load data"
   ]
  },
  {
   "cell_type": "code",
   "execution_count": 13,
   "metadata": {},
   "outputs": [],
   "source": [
    "english = np.genfromtxt('words/english10.txt',dtype='str')\n",
    "spanish = np.genfromtxt('words/spanish10.txt',dtype='str')\n",
    "sl = np.zeros(spanish.shape)\n",
    "el = np.full(spanish.shape, 1)\n",
    "X = np.concatenate((spanish, english), axis=0)\n",
    "Y = np.concatenate((sl, el), axis=0)\n",
    "\n",
    "englishTest = np.genfromtxt('words/englishTest100.txt',dtype='str')\n",
    "spanishTest = np.genfromtxt('words/spanishTest100.txt',dtype='str')\n",
    "slt = np.zeros(spanishTest.shape)\n",
    "elt = np.full(spanishTest.shape, 1)\n",
    "XT = np.concatenate((spanishTest, englishTest), axis=0)\n",
    "YT = np.concatenate((slt, elt), axis=0)"
   ]
  },
  {
   "cell_type": "code",
   "execution_count": 22,
   "metadata": {},
   "outputs": [],
   "source": [
    "gram2 = np.zeros((X.shape[0], X.shape[0]))\n",
    "gramT2 = np.zeros((XT.shape[0], X.shape[0]))\n",
    "clf2 = svm.SVC(kernel='precomputed')\n",
    "def ngkClassifier(n):    \n",
    "    for i in range(X.shape[0]):\n",
    "        for j in range(X.shape[0]):\n",
    "            gram2[i][j] = ngk(X[i], X[j], n)\n",
    "\n",
    "    \n",
    "    clf2.fit(gram2, Y)\n",
    "    \n",
    "    for i in range(XT.shape[0]):\n",
    "        for j in range(X.shape[0]):\n",
    "            gramT2[i][j] = ngk(XT[i], X[j], n)\n",
    "\n",
    "    Z2 = clf2.predict(gramT2)\n",
    "    a = accuracy_score(YT, Z2)\n",
    "    print(a)\n",
    "    return a"
   ]
  },
  {
   "cell_type": "code",
   "execution_count": 23,
   "metadata": {},
   "outputs": [
    {
     "name": "stdout",
     "output_type": "stream",
     "text": [
      "0.565\n"
     ]
    }
   ],
   "source": [
    "a = ngkClassifier(2)"
   ]
  },
  {
   "cell_type": "code",
   "execution_count": 24,
   "metadata": {},
   "outputs": [],
   "source": [
    "Z2 = clf2.predict(gramT2)"
   ]
  },
  {
   "cell_type": "code",
   "execution_count": 27,
   "metadata": {},
   "outputs": [
    {
     "name": "stdout",
     "output_type": "stream",
     "text": [
      "0.565\n"
     ]
    }
   ],
   "source": [
    "a = accuracy_score(YT, Z2)\n",
    "print(a)"
   ]
  },
  {
   "cell_type": "code",
   "execution_count": null,
   "metadata": {},
   "outputs": [],
   "source": []
  },
  {
   "cell_type": "code",
   "execution_count": null,
   "metadata": {},
   "outputs": [],
   "source": []
  }
 ],
 "metadata": {
  "kernelspec": {
   "display_name": "Python 2",
   "language": "python",
   "name": "python2"
  },
  "language_info": {
   "codemirror_mode": {
    "name": "ipython",
    "version": 2
   },
   "file_extension": ".py",
   "mimetype": "text/x-python",
   "name": "python",
   "nbconvert_exporter": "python",
   "pygments_lexer": "ipython2",
   "version": "2.7.14"
  }
 },
 "nbformat": 4,
 "nbformat_minor": 2
}
