{
 "cells": [
  {
   "cell_type": "markdown",
   "metadata": {},
   "source": [
    "# Machine Learning - Assignment 4\n",
    "\n",
    "### Oscar Fabián Ñáñez Núñez - Juan Camilo Calero Espinosa\n",
    "### ofnanezn - jccaleroe"
   ]
  },
  {
   "cell_type": "code",
   "execution_count": 1,
   "metadata": {},
   "outputs": [
    {
     "name": "stderr",
     "output_type": "stream",
     "text": [
      "/home/woom05/.local/lib/python2.7/site-packages/h5py/__init__.py:36: FutureWarning: Conversion of the second argument of issubdtype from `float` to `np.floating` is deprecated. In future, it will be treated as `np.float64 == np.dtype(float).type`.\n",
      "  from ._conv import register_converters as _register_converters\n",
      "Using TensorFlow backend.\n"
     ]
    }
   ],
   "source": [
    "#import pylab as pl\n",
    "from keras.applications.mobilenet import MobileNet\n",
    "from keras.preprocessing import image\n",
    "from keras.applications.mobilenet import preprocess_input, decode_predictions\n",
    "from keras.models import Sequential\n",
    "from keras.layers import Dense, Activation, Dropout\n",
    "from keras.layers import LSTM\n",
    "from keras.optimizers import RMSprop\n",
    "from keras.utils.data_utils import get_file\n",
    "from keras.layers.wrappers import TimeDistributed\n",
    "from itertools import permutations\n",
    "import numpy as np\n",
    "from keras.preprocessing import image\n",
    "import operator\n",
    "from sklearn.metrics import confusion_matrix\n",
    "import matplotlib.pyplot as plt\n",
    "import itertools\n",
    "from operator import itemgetter"
   ]
  },
  {
   "cell_type": "markdown",
   "metadata": {},
   "source": [
    "# 1."
   ]
  },
  {
   "cell_type": "markdown",
   "metadata": {},
   "source": [
    "## 1a)\n",
    "![title](nn.jpg)\n",
    "where $a_{i}=\\sum_{j}w_{j}^{i}z_{j}$ , $z_{i}=f_{i}(a_{i})$ for\n",
    "$i=1,2,3,4$, $z_{5}=a_{5}$ (an input neuron), $f_{2}(x)=\\textrm{relu}(x)$,\n",
    "and $f_{1}(x)=f_{3}(x)=f_{4}(x)=\\textrm{sigmoid}(x)$. $\\textrm{relu}(x)$\n",
    "corresponds to a rectifier linear unit transfer function defined as:\n",
    "$$\n",
    "\\textrm{relu}(x)=\\begin{cases}\n",
    "x & \\textrm{if }x\\ge0\\\\\n",
    "0 & \\textrm{otherwise}\n",
    "\\end{cases}\n",
    "$$\n",
    "\n",
    "1.a Write a function to simulate the neural network:"
   ]
  },
  {
   "cell_type": "code",
   "execution_count": 4,
   "metadata": {},
   "outputs": [],
   "source": [
    "def sigmoid(x, derivative=False):\n",
    "    sigma_x = 1./(1+np.exp(-x))\n",
    "    if not derivative:\n",
    "        return sigma_x\n",
    "    else:\n",
    "        return sigma_x * (1 - sigma_x)\n",
    "    \n",
    "def relu(x, derivative=False):\n",
    "    if not derivative:\n",
    "        return max(0,x)\n",
    "    else:\n",
    "        return (1 if x > 0 else 0)"
   ]
  },
  {
   "cell_type": "code",
   "execution_count": 5,
   "metadata": {},
   "outputs": [],
   "source": [
    "def forward_propagate(x, w):\n",
    "    '''\n",
    "    x: input value for neuron 5\n",
    "    w: weights array in the following order\n",
    "       [w13, w12, w14, w32, w42, w53, w54]\n",
    "    Returns: a pair of arrays (a, z), where \n",
    "             a has the activation values for each neuron, and\n",
    "             z the output values for each neuron\n",
    "    '''\n",
    "    w31, w21, w41, w32, w42, w53, w54 = w[0], w[1], w[2], w[3], w[4], w[5], w[6]\n",
    "    z = np.zeros(5)\n",
    "    a = np.zeros(5)\n",
    "    # your code here\n",
    "    a[4] = x\n",
    "    z[4] = a[4]\n",
    "    a[3] = w54*z[4]\n",
    "    z[3] = sigmoid(a[3])\n",
    "    a[2] = w53*z[4]\n",
    "    z[2] = sigmoid(a[2])\n",
    "    a[1] = w32*z[2] + w42*z[3]\n",
    "    z[1] = relu(a[1])\n",
    "    a[0] = w31*z[2] + w21*z[1] + w41*z[3]\n",
    "    z[0] = sigmoid(a[0])\n",
    "    return (a, z)"
   ]
  },
  {
   "cell_type": "markdown",
   "metadata": {},
   "source": [
    "## 1b)\n",
    "Deduce the equations to calculate $\\delta_{i}$ (the error value per neuron) for all the neurons. Write a function that given a training sample and the weights of the network calculate $\\delta_{i}$ for each neuron. Assume a square error loss:\n",
    "$$ L_2(f, D) =\\sum_{(x_{i},r_{i}) \\in D} (r_i - f(x_i))^2 $$"
   ]
  },
  {
   "cell_type": "code",
   "execution_count": 6,
   "metadata": {},
   "outputs": [],
   "source": [
    "def bp(x, y, w):\n",
    "    '''\n",
    "    x: input value for neuron 5\n",
    "    y: output value for neuron 1\n",
    "    w: weights array in the following order\n",
    "       [w13, w12, w14, w32, w42, w53, w54]\n",
    "    Returns: an arr6ay delta with the delta values for each\n",
    "             neuron\n",
    "    '''\n",
    "    w31, w21, w41, w32, w42, w53, w54 = w[0], w[1], w[2], w[3], w[4], w[5], w[6]\n",
    "    (a, z) = forward_propagate(x, w)\n",
    "    delta = np.zeros(5)\n",
    "    dz1 = -2 * (y - z[0])\n",
    "    da1 = dz1 * sigmoid(a[0],derivative=True)\n",
    "    delta[0] = da1\n",
    "    delta[1] = relu(a[1], derivative=True) * w21 * delta[0]\n",
    "    delta[2] = sigmoid(a[2],derivative=True) * (w31 * delta[0] + w32 * delta[1])\n",
    "    delta[3] = sigmoid(a[3],derivative=True) * (w42 * delta[1] + w41 * delta[0])\n",
    "    delta[4] = sigmoid(a[4],derivative=True) * (w53 * delta[2] + w54 * delta[3])\n",
    "    return delta"
   ]
  },
  {
   "cell_type": "markdown",
   "metadata": {},
   "source": [
    "## 1c) \n",
    "Write a function to update the neural network weights when a new training sample is shown using stochastic gradient descent."
   ]
  },
  {
   "cell_type": "code",
   "execution_count": 8,
   "metadata": {},
   "outputs": [],
   "source": [
    "def train_step(x, y, w, eta):\n",
    "    '''\n",
    "    x: input value for neuron 5\n",
    "    y: output value for neuron 1\n",
    "    w: weights array in the following order\n",
    "       [w13, w12, w14, w32, w42, w53, w54]\n",
    "    eta: learning rate\n",
    "    Returns: updated w array\n",
    "    '''\n",
    "    # Calculate dw\n",
    "    # Your code here\n",
    "    (a, z) = forward_propagate(x, w)\n",
    "    delta = bp(x, y, w)\n",
    "    dw = np.zeros(7)\n",
    "    dw[0] = delta[0] * z[2]\n",
    "    dw[1] = delta[0] * z[1]\n",
    "    dw[2] = delta[0] * z[3]\n",
    "    dw[3] = delta[1] * z[2]\n",
    "    dw[4] = delta[1] * z[3]\n",
    "    dw[5] = delta[2] * z[4]\n",
    "    dw[6] = delta[3] * z[4]\n",
    "    for i in range(7):\n",
    "        w[i] = w[i] - eta * dw[i]\n",
    "    return w"
   ]
  },
  {
   "cell_type": "markdown",
   "metadata": {},
   "source": [
    "## 1d )\n",
    "Use the previous function to train the network with these [training samples](http://fagonzalezo.github.io/ml/samples_assign4.txt).  Plot the evolution of the error and the predictions of the trained network. Write down the weights of the trained network."
   ]
  },
  {
   "cell_type": "code",
   "execution_count": 32,
   "metadata": {},
   "outputs": [
    {
     "name": "stdout",
     "output_type": "stream",
     "text": [
      "Initial Weights:\n",
      "[-0.17787225530677167, -0.673664851121428, -0.7073900410972456, 1.8604338726158207, -2.4425535232733657, 0.04799711255492156, 0.07050185781514191]\n",
      "\n",
      "Final Weights:\n",
      "[0.9751374825914624, -0.6716357833782265, 0.3147344804174333, 1.8331929175745214, -2.4625116941098417, -0.296466450706958, 0.00229215976011362]\n"
     ]
    }
   ],
   "source": [
    "dataset = open(\"samples_assign4.txt\", 'r').readlines()[1:]\n",
    "w = [np.random.randn() for i in range(7)]\n",
    "print(\"Initial Weights:\")\n",
    "print(w)\n",
    "\n",
    "num_iterations = 30\n",
    "history = []\n",
    "\n",
    "for j in range(num_iterations):\n",
    "    error = 0\n",
    "    for line in dataset:\n",
    "        (x,y) = map(float, line.strip().split(\" \"))\n",
    "        (a,z) = forward_propagate(x, w)\n",
    "        error += (y - a[0])**2\n",
    "        w = train_step(x, y, w, 0.01)\n",
    "    history.append(error)\n",
    "    \n",
    "print(\"\\nFinal Weights:\")\n",
    "print(w)"
   ]
  },
  {
   "cell_type": "code",
   "execution_count": 33,
   "metadata": {},
   "outputs": [
    {
     "data": {
      "text/plain": [
       "[<matplotlib.lines.Line2D at 0x7f0bef88d950>]"
      ]
     },
     "execution_count": 33,
     "metadata": {},
     "output_type": "execute_result"
    },
    {
     "data": {
      "image/png": "[encoded data removed]",
      "text/plain": [
       "<matplotlib.figure.Figure at 0x7f0bef8f4f90>"
      ]
     },
     "metadata": {},
     "output_type": "display_data"
    }
   ],
   "source": [
    "epochs = list(range(num_iterations))\n",
    "plt.plot(epochs, history)"
   ]
  },
  {
   "cell_type": "markdown",
   "metadata": {},
   "source": [
    "## 2. (1.0) The hangman\n",
    "\n",
    "Design a function able to find the missing characters from a word. The function must work as follows:\n",
    "\n",
    "```\n",
    ">>> hangman(\"pe_p_e\")\n",
    "'people'\n",
    "\n",
    ">>> hangman(\"phi__sop_y\")\n",
    "'philosophy'\n",
    "\n",
    ">>> hangman(\"si_nif_c_nc_\")\n",
    "'significance'\n",
    "\n",
    ">>> hangman(\"kn__l_d_e\")\n",
    "'knowledge'\n",
    "\n",
    ">>> hangman(\"inte_r_ga_i_n\")\n",
    "'interrogation'\n",
    "```\n",
    "\n",
    "The function must be able to deal with up to 4 unknowns in arbitrary length words. The function must work in a reasonable time (max 30 seconds in a laptop). "
   ]
  },
  {
   "cell_type": "code",
   "execution_count": 6,
   "metadata": {},
   "outputs": [
    {
     "name": "stdout",
     "output_type": "stream",
     "text": [
      "('Total number of chars:', 600901)\n",
      "('Vocabulary size:', 57)\n"
     ]
    }
   ],
   "source": [
    "path = get_file('nietzsche.txt', origin=\"https://s3.amazonaws.com/text-datasets/nietzsche.txt\")\n",
    "text = open(path).read().lower()\n",
    "chars = sorted(list(set(text)))\n",
    "vocab_size = 57\n",
    "char_indices = dict((c, i) for i, c in enumerate(chars))\n",
    "indices_char = dict((i, c) for i, c in enumerate(chars))\n",
    "print(\"Total number of chars:\", len(text))\n",
    "print(\"Vocabulary size:\", vocab_size)"
   ]
  },
  {
   "cell_type": "code",
   "execution_count": 7,
   "metadata": {},
   "outputs": [],
   "source": [
    "def log_likelihood(model, text):\n",
    "    probs = model.predict(parse_text(text, vocab_size, padding=True)).squeeze()\n",
    "    return sum([np.log(probs[i, char_indices[c]]) \n",
    "                 for i,c in enumerate(text[1:]) ])\n",
    "\n",
    "def parse_text(text, vocab_size, padding=False):\n",
    "    if padding:\n",
    "        X = np.zeros((1, maxlen, vocab_size), dtype=np.bool)\n",
    "    else:\n",
    "        X = np.zeros((1, len(text), vocab_size), dtype=np.bool)\n",
    "    for t, char in enumerate(text):\n",
    "        X[0, t, char_indices[char]] = 1\n",
    "    return X"
   ]
  },
  {
   "cell_type": "code",
   "execution_count": 8,
   "metadata": {},
   "outputs": [],
   "source": [
    "maxlen = 40\n",
    "model = Sequential()\n",
    "model.add(LSTM(128, input_shape=(maxlen, vocab_size), return_sequences=True, name=\"lstm_1\"))\n",
    "model.add(TimeDistributed(Dense(vocab_size), name=\"dense_1\"))#Check names to see how to load weights\n",
    "model.add(Activation('softmax', name=\"activation_1\"))\n",
    "h5file = 'lstm-pretrained-weights.hdf5'\n",
    "optimizer = RMSprop(lr=0.01)\n",
    "model.load_weights(h5file)\n",
    "model.compile(loss='categorical_crossentropy', optimizer=optimizer)"
   ]
  },
  {
   "cell_type": "code",
   "execution_count": 59,
   "metadata": {},
   "outputs": [],
   "source": [
    "alphabet = \"abcdefghijklmnopqrstuvwxyz\"\n",
    " \n",
    "def beam_search(word, empty_spaces, width):\n",
    "    s = ((word, empty_spaces), -1)\n",
    "    frontier = [s]\n",
    "    count = 0\n",
    "    for pos in empty_spaces:\n",
    "        new_frontier = []\n",
    "        while frontier:\n",
    "            cur_node = frontier.pop(0)\n",
    "            cur_word = cur_node[0][0]\n",
    "            empty = cur_node[0][1]\n",
    "            cur_pos = empty[0]\n",
    "            for char in alphabet:\n",
    "                child_word = cur_word[:cur_pos] + char + cur_word[cur_pos + 1:]\n",
    "                prediction = log_likelihood(model, child_word)\n",
    "                child_node = ((child_word,empty[1:]), prediction)\n",
    "                new_frontier.append(child_node)\n",
    "        if count == 0:\n",
    "            new_frontier.sort(key=itemgetter(1), reverse=True)\n",
    "            frontier = new_frontier\n",
    "        else:\n",
    "            new_frontier.sort(key=itemgetter(1),reverse=True)\n",
    "            frontier = new_frontier[:width]\n",
    "        count += 1\n",
    "\n",
    "    return frontier[:10]"
   ]
  },
  {
   "cell_type": "code",
   "execution_count": 60,
   "metadata": {},
   "outputs": [],
   "source": [
    "def hangman(word):\n",
    "    ### your code here\n",
    "    empty_spaces = []\n",
    "    for i in range(len(word)):\n",
    "        if word[i] == '_':\n",
    "            empty_spaces.append(i)\n",
    "    word = str.replace(word, \"_\", \" \")\n",
    "    best_results = beam_search(word, empty_spaces, 5)\n",
    "    return best_results\n",
    "    #return log_likelihood(model, word)"
   ]
  },
  {
   "cell_type": "code",
   "execution_count": 63,
   "metadata": {},
   "outputs": [
    {
     "data": {
      "text/plain": [
       "[(('philosopay', []), -12.201210714876652),\n",
       " (('philosophy', []), -12.705522395670414),\n",
       " (('philosopey', []), -14.257561542093754),\n",
       " (('philosopty', []), -14.326228715479374),\n",
       " (('phinosopty', []), -15.19134908914566)]"
      ]
     },
     "execution_count": 63,
     "metadata": {},
     "output_type": "execute_result"
    }
   ],
   "source": [
    "hangman(\"phi__sop_y\")"
   ]
  },
  {
   "cell_type": "code",
   "execution_count": 64,
   "metadata": {},
   "outputs": [
    {
     "data": {
      "text/plain": [
       "[(('significance', []), -16.644860601983964),\n",
       " (('significunce', []), -17.164872373454273),\n",
       " (('sitnificance', []), -17.7872135322541),\n",
       " (('significence', []), -20.550010630860925),\n",
       " (('significancy', []), -21.59570995438844)]"
      ]
     },
     "execution_count": 64,
     "metadata": {},
     "output_type": "execute_result"
    }
   ],
   "source": [
    "hangman(\"si_nif_c_nc_\")"
   ]
  },
  {
   "cell_type": "markdown",
   "metadata": {},
   "source": [
    "### 3. (2.0) Bird classification. \n",
    "\n",
    "1. Direct prediction\n",
    "   * Download the dataset birds from http://www-cvr.ai.uiuc.edu/ponce_grp/data/.\n",
    "   * Use [Keras](https://keras.io/) and the [MobileNet](https://keras.io/applications/#mobilenet) pre-trained model, to classify the images in the birds dataset. Construct a confusion matrix that relates the bird classes with the 10 most frequent classes from ImageNet predicted by the model.\n",
    "2. Transfer learning\n",
    "   * Use the pre-trained MobileNet model as a feature extractor. Create a new model that replaces the top part of MobileNet with two layers of 256 and 6 neurons respectively.\n",
    "   * Change the attribute trainable of the other layers to be False. This will prevent the weights of these layers to be changed during training.\n",
    "   * Train the model with the training images from the bird dataset. \n",
    "   * Evaluate the performance over the test dataset reporting the results in a confusion matrix. Discuss the results. \n",
    "3. Fine tuning\n",
    "   * Repeat the experiment from the last question, but this time allow all the layers to be trained. \n",
    "   * Compare and discuss the results."
   ]
  }
 ],
 "metadata": {
  "kernelspec": {
   "display_name": "Python 2",
   "language": "python",
   "name": "python2"
  },
  "language_info": {
   "codemirror_mode": {
    "name": "ipython",
    "version": 2
   },
   "file_extension": ".py",
   "mimetype": "text/x-python",
   "name": "python",
   "nbconvert_exporter": "python",
   "pygments_lexer": "ipython2",
   "version": "2.7.14"
  }
 },
 "nbformat": 4,
 "nbformat_minor": 2
}
