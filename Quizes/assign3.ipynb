{
 "cells": [
  {
   "cell_type": "markdown",
   "metadata": {},
   "source": [
    "# Assignment 3 - Kernels and SVMs"
   ]
  },
  {
   "cell_type": "code",
   "execution_count": 2,
   "metadata": {},
   "outputs": [],
   "source": [
    "%matplotlib inline"
   ]
  },
  {
   "cell_type": "markdown",
   "metadata": {},
   "source": [
    "## 1\n",
    "\n",
    "Let $\\mathrm{x}=\\left\\{ x_{1},\\dots,x_{n}\\right\\}$  be a subset of an input dataset X. Considering the kernel function $k:\\mathrm{X}\\times\\mathrm{X}\\rightarrow\\mathbb{R}$ which induces a feature space $\\phi\\left(\\mathrm{X}\\right)$. "
   ]
  },
  {
   "cell_type": "markdown",
   "metadata": {},
   "source": [
    "### a. Apply the kernel trick to the expression \"center of mass of the data points in the feature space\"\n",
    "\n",
    "<!-- Note: I first wrote this in LyX and copy&paste all, it's easier that way -->\n",
    "\n",
    "The equation to calculate the average distance in the feature space for a dataset is:\n",
    "\n",
    "$$\\begin{align}\n",
    "\\frac{1}{n}\\sum_{i=1}^{n}\\left\\Vert \\phi\\left(x_{i}\\right)-\\phi_{S}\\left(\\mathrm{x}\\right)\\right\\Vert _{\\phi\\left(\\mathrm{X}\\right)}&=\\frac{1}{n}\\sum_{i=1}^{n}\\left\\Vert \\phi\\left(x_{i}\\right)-\\frac{1}{n}\\sum_{j=1}^{n}\\phi\\left(x_{j}\\right)\\right\\Vert _{\\phi\\left(\\mathrm{X}\\right)}&\\textrm{by definition of }\\phi_{S}\\\\&=\\frac{1}{n^{2}}\\sum_{i=1}^{n}\\left\\Vert n\\phi\\left(x_{i}\\right)-\\sum_{j=1}^{n}\\phi\\left(x_{j}\\right)\\right\\Vert _{\\phi\\left(\\mathrm{X}\\right)}&\\\\&=\\frac{1}{n^{2}}\\sum_{i=1}^{n}\\left\\Vert \\sum_{j=1}^{n}\\phi\\left(x_{i}\\right)-\\phi\\left(x_{j}\\right)\\right\\Vert _{\\phi\\left(\\mathrm{X}\\right)}&\\\\&=\\frac{1}{n^{2}}\\sum_{i=1}^{n}\\sqrt{\\left\\langle \\sum_{j=1}^{n}\\phi\\left(x_{i}\\right)-\\phi\\left(x_{j}\\right),\\sum_{j=1}^{n}\\phi\\left(x_{i}\\right)-\\phi\\left(x_{j}\\right)\\right\\rangle }&\\textrm{because }\\left\\langle x,x\\right\\rangle =\\left\\Vert x\\right\\Vert ^{2}\\\\&=\\frac{1}{n^{2}}\\sum_{i=1}^{n}\\sqrt{\\left\\langle \\sum_{\\substack{j=0\\\\\n",
    "j\\neq i\n",
    "}\n",
    "}^{n}\\phi\\left(x_{i}\\right)-\\phi\\left(x_{j}\\right),\\sum_{\\substack{j=0\\\\\n",
    "j\\neq i\n",
    "}\n",
    "}^{n}\\phi\\left(x_{i}\\right)-\\phi\\left(x_{j}\\right)\\right\\rangle }&\\phi\\left(x_{i}\\right)-\\phi\\left(x_{i}\\right)=\\mathbf{0}\n",
    "\\end{align}$$\n",
    "\n",
    "Let's define y_{j}=\\phi\\left(x_{i}\\right)-\\phi\\left(x_{j}\\right) to simplify a little calculations.\n",
    "\n",
    "$$\\frac{1}{n}\\sum_{i=1}^{n}\\left\\Vert \\phi\\left(x_{i}\\right)-\\phi_{S}\\left(\\mathrm{x}\\right)\\right\\Vert _{\\phi\\left(\\mathrm{X}\\right)}=\\frac{1}{n^{2}}\\sum_{i=1}^{n}\\sqrt{\\left\\langle \\sum_{j=1}^{n}y_{j},\\sum_{j=1}^{n}y_{j}\\right\\rangle }$$\n",
    "\n",
    "Because the dot product is conmutative over addition, we could think of $\\left\\langle \\sum_{j=1}^{n}y_{j},\\sum_{j=1}^{n}y_{j}\\right\\rangle$ as if we were trying to square an addition, something like $\\left(\\sum_{j=1}^{n}y_{j}\\right)^{2}$ (where $y_{j}$ behaves as a regular variable), and that is actually quite neat. It's interesting to note that $\\left(\\sum_{j=1}^{n}y_{j}\\right)^{2}$ reduces to $\\sum_{j=1}^{n}\\sum_{k=1}^{n}y_{j}y_{k}$ or in dot product notation $\\sum_{j=1}^{n}\\sum_{k=1}^{n}\\left\\langle y_{j},y_{k}\\right\\rangle$.\n",
    "\n",
    "$$\\begin{align}\n",
    "\\frac{1}{n}\\sum_{i=1}^{n}\\left\\Vert \\phi\\left(x_{i}\\right)-\\phi_{S}\\left(\\mathrm{x}\\right)\\right\\Vert _{\\phi\\left(\\mathrm{X}\\right)}&=\\frac{1}{n^{2}}\\sum_{i=1}^{n}\\sqrt{\\sum_{j=1}^{n}\\sum_{k=1}^{n}\\left\\langle y_{j},y_{k}\\right\\rangle }\\\\&=\\frac{1}{n^{2}}\\sum_{i=1}^{n}\\sqrt{\\sum_{j=1}^{n}\\sum_{k=1}^{n}\\left\\langle \\phi\\left(x_{i}\\right)-\\phi\\left(x_{j}\\right),\\phi\\left(x_{i}\\right)-\\phi\\left(x_{k}\\right)\\right\\rangle }\\\\&=\\frac{1}{n^{2}}\\sum_{i=1}^{n}\\sqrt{\\sum_{j=1}^{n}\\sum_{k=1}^{n}\\left\\langle \\phi\\left(x_{i}\\right),\\phi\\left(x_{i}\\right)\\right\\rangle +\\left\\langle \\phi\\left(x_{j}\\right),\\phi\\left(x_{k}\\right)\\right\\rangle -\\left\\langle \\phi\\left(x_{i}\\right),\\phi\\left(x_{j}\\right)\\right\\rangle -\\left\\langle \\phi\\left(x_{i}\\right),\\phi\\left(x_{k}\\right)\\right\\rangle }\n",
    "\\end{align}\n",
    "$$\n",
    "\n",
    "Now that we wrote were able to write the expression as a combination of simple dot product multiplications, we can apply the trick of the kernel!\n",
    "\n",
    "$$\\frac{1}{n}\\sum_{i=1}^{n}\\left\\Vert \\phi\\left(x_{i}\\right)-\\phi_{S}\\left(\\mathrm{x}\\right)\\right\\Vert _{\\phi\\left(\\mathrm{X}\\right)}=\\frac{1}{n^{2}}\\sum_{i=1}^{n}\\sqrt{\\sum_{j=1}^{n}\\sum_{k=1}^{n}k\\left(x_{i},x_{i}\\right)+k\\left(x_{j},x_{k}\\right)-k\\left(x_{i},x_{j}\\right)-k\\left(x_{i},x_{k}\\right)}$$\n",
    "\n",
    "Note: the expression can be further simplified to just use matrix operations (excluding the square root), but that is left as future work, just in case there were many datapoints and some optimizations should be done."
   ]
  },
  {
   "cell_type": "markdown",
   "metadata": {},
   "source": [
    "### b. Use the expression found in the previous exercise to calculate the average distance to the center of mass for the following dataset and kernels:\n",
    "\n",
    "$$\\mathrm{x}=\\left\\{ (0,1),(-1,3),(2,4),(3,-1),(-1,-2) \\right\\}$$"
   ]
  },
  {
   "cell_type": "code",
   "execution_count": 2,
   "metadata": {},
   "outputs": [],
   "source": [
    "x = [(0,1),(-1,3),(2,4),(3,-1),(-1,-2)]"
   ]
  },
  {
   "cell_type": "code",
   "execution_count": 3,
   "metadata": {},
   "outputs": [],
   "source": [
    "from typing import List, Tuple, Callable\n",
    "from math import sqrt, exp\n",
    "\n",
    "def avg_to_center_of_mass(x : List[Tuple[float,float]], ker: Callable[[float,float],float]) -> float:\n",
    "    n = len(x)\n",
    "    avg = 0\n",
    "    for i in x:\n",
    "        avg += sqrt(sum((ker(i,i)+ker(j,k)-ker(i,j)-ker(i,k)) for j in x for k in x))\n",
    "    return avg / (n*n)\n",
    "\n",
    "#avg_to_center_of_mass.__annotations__ # interesting, but python doesn't check it at all :("
   ]
  },
  {
   "cell_type": "code",
   "execution_count": 4,
   "metadata": {},
   "outputs": [],
   "source": [
    "lineal_ker = lambda x,y: x[0]*y[0]+x[1]*y[1]\n",
    "squared_ker = lambda x,y: lineal_ker(x,y)**2\n",
    "third_ker = lambda x,y: (lineal_ker(x,y)+1)**5\n",
    "gaussian_dev_1_ker = lambda x,y: exp(-((x[0]-y[0])**2+(x[1]-y[1])**2))"
   ]
  },
  {
   "cell_type": "markdown",
   "metadata": {},
   "source": [
    "i. lineal kernel"
   ]
  },
  {
   "cell_type": "code",
   "execution_count": 5,
   "metadata": {},
   "outputs": [
    {
     "name": "stdout",
     "output_type": "stream",
     "text": [
      "2.5991877273570343\n"
     ]
    }
   ],
   "source": [
    "print( avg_to_center_of_mass(x, lineal_ker) )"
   ]
  },
  {
   "cell_type": "markdown",
   "metadata": {},
   "source": [
    "ii. squared kernel"
   ]
  },
  {
   "cell_type": "code",
   "execution_count": 6,
   "metadata": {},
   "outputs": [
    {
     "name": "stdout",
     "output_type": "stream",
     "text": [
      "7.93374823939363\n"
     ]
    }
   ],
   "source": [
    "print( avg_to_center_of_mass(x, squared_ker) )"
   ]
  },
  {
   "cell_type": "markdown",
   "metadata": {},
   "source": [
    "iii. some polynomial kernel"
   ]
  },
  {
   "cell_type": "code",
   "execution_count": 7,
   "metadata": {},
   "outputs": [
    {
     "name": "stdout",
     "output_type": "stream",
     "text": [
      "699.7672616263939\n"
     ]
    }
   ],
   "source": [
    "print( avg_to_center_of_mass(x, third_ker) )"
   ]
  },
  {
   "cell_type": "markdown",
   "metadata": {},
   "source": [
    "iv. a gaussian kernel"
   ]
  },
  {
   "cell_type": "code",
   "execution_count": 8,
   "metadata": {},
   "outputs": [
    {
     "name": "stdout",
     "output_type": "stream",
     "text": [
      "0.8941212374982302\n"
     ]
    }
   ],
   "source": [
    "print( avg_to_center_of_mass(x, gaussian_dev_1_ker) )"
   ]
  },
  {
   "cell_type": "markdown",
   "metadata": {},
   "source": [
    "To check that the values calculated above are right, let's try to calculate directly the expression with some induced $\\phi$s"
   ]
  },
  {
   "cell_type": "code",
   "execution_count": 9,
   "metadata": {},
   "outputs": [
    {
     "name": "stdout",
     "output_type": "stream",
     "text": [
      "Average distance to center of mass with kernels:\n",
      "Lineal kernel => 2.5991877273570343\n",
      "Squared kernel => 7.93374823939363\n",
      "Polynomial kernel => 699.7672616263939\n"
     ]
    }
   ],
   "source": [
    "import numpy as np\n",
    "\n",
    "def avg_to_center_using_phi(x, phi):\n",
    "    n = x.shape[0]\n",
    "    phi_x = np.apply_along_axis(phi, 1, x)\n",
    "    phi_S = np.sum(phi_x, axis=0) / n\n",
    "    return np.sum( np.sqrt( np.sum( (phi_x - phi_S)**2, axis=1 ) ) ) / n\n",
    "\n",
    "x_ = np.array(x)\n",
    "\n",
    "lineal_phi = lambda x: x\n",
    "sqrt2 = sqrt(2)\n",
    "squared_phi = lambda x: (x[0]**2,x[1]**2,sqrt2*x[0]*x[1])\n",
    "sqrt5 = sqrt(5)\n",
    "# (x+y+1)**5 = x**5 + 5*x**4*y + 5*x**4 + 10*x**3*y**2 + 20*x**3*y + 10*x**3 + 10*x**2*y**3\n",
    "#             + 30*x**2*y**2 + 30*x**2*y + 10*x**2 + 5*x*y**4 + 20*x*y**3 + 30*x*y**2\n",
    "#             + 20*x*y + 5*x + y**5 + 5*y**4 + 10*y**3 + 10*y**2 + 5*y + 1\n",
    "poly_phi = lambda x: ( x[0]**5               , sqrt(5)*x[0]**4*x[1] , sqrt(5)*x[0]**4          , sqrt(10)*x[0]**3*x[1]**2 ,\n",
    "                       sqrt(20)*x[0]**3*x[1] , sqrt(10)*x[0]**3     , sqrt(10)*x[0]**2*x[1]**3 , sqrt(30)*x[0]**2*x[1]**2 ,\n",
    "                       sqrt(30)*x[0]**2*x[1] , sqrt(10)*x[0]**2     , sqrt(5)*x[0]*x[1]**4     , sqrt(20)*x[0]*x[1]**3    ,\n",
    "                       sqrt(30)*x[0]*x[1]**2 , sqrt(20)*x[0]*x[1]   , sqrt(5)*x[0]             , x[1]**5                  ,\n",
    "                       sqrt(5)*x[1]**4       , sqrt(10)*x[1]**3     , sqrt(10)*x[1]**2         , sqrt(5)*x[1]             ,\n",
    "                       1)\n",
    "\n",
    "#print(\"Checking kernels with phis\")\n",
    "#print(third_ker(x[0], x[1]))\n",
    "#print(np.sum( np.multiply( poly_phi(x[0]), poly_phi(x[1])) ) )\n",
    "\n",
    "print(\"Average distance to center of mass with kernels:\")\n",
    "print(\"Lineal kernel =>\", avg_to_center_using_phi(x_, lineal_phi))\n",
    "print(\"Squared kernel =>\", avg_to_center_using_phi(x_, squared_phi))\n",
    "print(\"Polynomial kernel =>\", avg_to_center_using_phi(x_, poly_phi))"
   ]
  },
  {
   "cell_type": "markdown",
   "metadata": {},
   "source": [
    "So, the expression seems to be alright!! :D"
   ]
  },
  {
   "cell_type": "markdown",
   "metadata": {},
   "source": [
    "## 2. Playing with LinearSVMs"
   ]
  },
  {
   "cell_type": "markdown",
   "metadata": {},
   "source": [
    "**a.** Loading (downloading) MNIST dataset"
   ]
  },
  {
   "cell_type": "code",
   "execution_count": 69,
   "metadata": {},
   "outputs": [],
   "source": [
    "from sklearn.datasets import fetch_mldata\n",
    "mnist = fetch_mldata('MNIST original', data_home=\".\")"
   ]
  },
  {
   "cell_type": "markdown",
   "metadata": {},
   "source": [
    "Some of the images from the dataset"
   ]
  },
  {
   "cell_type": "code",
   "execution_count": 71,
   "metadata": {},
   "outputs": [
    {
     "data": {
      "image/png": "[encoded data removed]",
      "text/plain": [
       "<Figure size 1080x216 with 5 Axes>"
      ]
     },
     "metadata": {},
     "output_type": "display_data"
    }
   ],
   "source": [
    "import matplotlib.pyplot as plt\n",
    "from random import randint\n",
    "import random\n",
    "\n",
    "def plot_image(X, seed=3241, kwargs_for_imshow={} ):\n",
    "    random.seed( seed )\n",
    "    n = X.shape[0]\n",
    "\n",
    "    f, axes = plt.subplots(1, 5, sharey=True, figsize=(15,3))\n",
    "    for i in range(5):\n",
    "        axes[i].imshow( X[ randint(0,n-1) ].reshape( (28,28) ), **kwargs_for_imshow )\n",
    "        \n",
    "plot_image( mnist['data'] )"
   ]
  },
  {
   "cell_type": "markdown",
   "metadata": {},
   "source": [
    "**b.** Normaling features (or, scaling features, in SciKit parlance)"
   ]
  },
  {
   "cell_type": "code",
   "execution_count": 12,
   "metadata": {},
   "outputs": [],
   "source": [
    "from sklearn.preprocessing import StandardScaler\n",
    "\n",
    "mnist_scaled = mnist.copy()\n",
    "mnist_scaled['data'] = mnist['data'].astype( np.float64 )\n",
    "\n",
    "scaler = StandardScaler()\n",
    "scaler.fit( mnist_scaled['data'] )\n",
    "mnist_scaled['data'] = scaler.transform( mnist_scaled['data'] )"
   ]
  },
  {
   "cell_type": "markdown",
   "metadata": {},
   "source": [
    "The same images as before, but now after they have been scaled"
   ]
  },
  {
   "cell_type": "code",
   "execution_count": 72,
   "metadata": {},
   "outputs": [
    {
     "data": {
      "image/png": "[encoded data removed]",
      "text/plain": [
       "<Figure size 1080x216 with 5 Axes>"
      ]
     },
     "metadata": {},
     "output_type": "display_data"
    }
   ],
   "source": [
    "plot_image( mnist_scaled['data'], kwargs_for_imshow={'clim': (-1,1)} )"
   ]
  },
  {
   "cell_type": "markdown",
   "metadata": {},
   "source": [
    "It's interesting to see a \"black\" region in the center of every image. This black region, in which all values are negative, indicates where most of information is located. Rarely (or maybe never) a number is drawn so that it touches/uses the outermost pixels, so there's not much information in there, but there is a lot of near the center of the image."
   ]
  },
  {
   "cell_type": "markdown",
   "metadata": {},
   "source": [
    "**c.** Taking two classes and training a linear SVM on them. Selecting optimal C value for them."
   ]
  },
  {
   "cell_type": "code",
   "execution_count": 205,
   "metadata": {},
   "outputs": [],
   "source": [
    "def two_classes(dataset, target, class1, class2):\n",
    "    index = (target == class1) | (target == class2)\n",
    "    X = dataset[ index ]\n",
    "    y = target[ index ]\n",
    "    #y[ y==class1 ] = -1\n",
    "    #y[ y==class2 ] = 1\n",
    "    return X, y\n",
    "\n",
    "X, y = two_classes( mnist_scaled['data'], mnist['target'], 1, 0 )"
   ]
  },
  {
   "cell_type": "markdown",
   "metadata": {},
   "source": [
    "Some datapoints from the dataset of 1 and 0's"
   ]
  },
  {
   "cell_type": "code",
   "execution_count": 206,
   "metadata": {},
   "outputs": [
    {
     "data": {
      "image/png": "[encoded data removed]",
      "text/plain": [
       "<Figure size 1080x216 with 5 Axes>"
      ]
     },
     "metadata": {},
     "output_type": "display_data"
    }
   ],
   "source": [
    "plot_image( X, kwargs_for_imshow={'clim': (-1,1)} )"
   ]
  },
  {
   "cell_type": "code",
   "execution_count": 207,
   "metadata": {},
   "outputs": [],
   "source": [
    "from sklearn import model_selection\n",
    "\n",
    "X_train, X_test, y_train, y_test = model_selection.train_test_split(X, y, test_size=0.2, random_state=5431)"
   ]
  },
  {
   "cell_type": "markdown",
   "metadata": {},
   "source": [
    "Searching for the best C parameter between the values $\\left\\{2^{-15}, 2^{-14}, \\dots, 2^{10}\\right\\}$"
   ]
  },
  {
   "cell_type": "code",
   "execution_count": 214,
   "metadata": {},
   "outputs": [
    {
     "name": "stdout",
     "output_type": "stream",
     "text": [
      "**************************\n"
     ]
    }
   ],
   "source": [
    "from sklearn.svm import LinearSVC\n",
    "\n",
    "C_exp = list(range(-15, 11))\n",
    "scores = []\n",
    "\n",
    "for i in range(len(C_exp)):\n",
    "    #print( \"2**{}\".format(C_exp[i]), end=\"\\t\" )\n",
    "    clf = LinearSVC(random_state=423, C=2**C_exp[i], loss='hinge')\n",
    "    clf.fit( X_train, y_train )\n",
    "    sc = clf.score(X_test, y_test)\n",
    "    #print( sc )\n",
    "    scores.append( sc )\n",
    "    print(\"*\", end=\"\")\n",
    "print()"
   ]
  },
  {
   "cell_type": "markdown",
   "metadata": {},
   "source": [
    "And the plot of trying all possible combinations"
   ]
  },
  {
   "cell_type": "code",
   "execution_count": 215,
   "metadata": {},
   "outputs": [
    {
     "data": {
      "image/png": "[encoded data removed]",
      "text/plain": [
       "<Figure size 432x288 with 1 Axes>"
      ]
     },
     "metadata": {},
     "output_type": "display_data"
    }
   ],
   "source": [
    "plt.xlabel(\"2**i\")\n",
    "plt.ylabel(\"Testing accuracy\")\n",
    "plt.plot(C_exp, scores)\n",
    "plt.show()"
   ]
  },
  {
   "cell_type": "markdown",
   "metadata": {},
   "source": [
    "The best value for C seems to be any value between $2^{-14}$ and $2^{10}$. Now, remember that the bigger the value $C$ is the more will the model overfit. We don't want the model to overfit, therefore I select $2^{-14} as the optimal value for C."
   ]
  },
  {
   "cell_type": "markdown",
   "metadata": {},
   "source": [
    "**d and e.** Extracting weights from classification and ploting them in the shape of the images ($28\\times28$)"
   ]
  },
  {
   "cell_type": "code",
   "execution_count": 218,
   "metadata": {},
   "outputs": [
    {
     "data": {
      "text/plain": [
       "LinearSVC(C=6.103515625e-05, class_weight=None, dual=True, fit_intercept=True,\n",
       "     intercept_scaling=1, loss='hinge', max_iter=1000, multi_class='ovr',\n",
       "     penalty='l2', random_state=423, tol=0.0001, verbose=0)"
      ]
     },
     "execution_count": 218,
     "metadata": {},
     "output_type": "execute_result"
    }
   ],
   "source": [
    "clf = LinearSVC(random_state=423, C=2**-14, loss='hinge')\n",
    "clf.fit( X_train, y_train )"
   ]
  },
  {
   "cell_type": "code",
   "execution_count": 219,
   "metadata": {},
   "outputs": [
    {
     "data": {
      "text/plain": [
       "<matplotlib.collections.PolyCollection at 0x7f5ab0a2f668>"
      ]
     },
     "execution_count": 219,
     "metadata": {},
     "output_type": "execute_result"
    },
    {
     "data": {
      "image/png": "[encoded data removed]",
      "text/plain": [
       "<Figure size 216x216 with 1 Axes>"
      ]
     },
     "metadata": {},
     "output_type": "display_data"
    }
   ],
   "source": [
    "plt.figure( figsize=(3,3) )\n",
    "plt.pcolor( clf.coef_.reshape( (28,28) ) )"
   ]
  },
  {
   "cell_type": "markdown",
   "metadata": {},
   "source": [
    "DISCUSS e and f"
   ]
  },
  {
   "cell_type": "markdown",
   "metadata": {},
   "source": [
    "## 3. Playing with kernels for strings"
   ]
  },
  {
   "cell_type": "code",
   "execution_count": 3,
   "metadata": {},
   "outputs": [],
   "source": [
    "%load_ext Cython"
   ]
  },
  {
   "cell_type": "markdown",
   "metadata": {},
   "source": [
    "The code below is an implementation of the Fast Substring Kernel (SSK) proposed by Lodhi et al. (2002) written in Cython. I took the code from an implementation I did some months back, you can find it in the following url:\n",
    "\n",
    "https://github.com/helq/python-ssk"
   ]
  },
  {
   "cell_type": "code",
   "execution_count": 4,
   "metadata": {},
   "outputs": [],
   "source": [
    "%%cython\n",
    "\n",
    "# Cython code, make sure you have Cython installed ;)\n",
    "import numpy as np\n",
    "cimport numpy as np\n",
    "\n",
    "from cpython cimport array\n",
    "import array\n",
    "\n",
    "cimport cython\n",
    "\n",
    "def ssk(s, t, int n, float lbda, accum=False):\n",
    "    \"\"\"s and t are strings, either numpy.str_ or python str, or a list of chars\"\"\"\n",
    "    s_array = array.array('l', [ord(c) for c in s])\n",
    "    t_array = array.array('l', [ord(c) for c in t])\n",
    "    return ssk_array(s_array, t_array, n, lbda, accum)\n",
    "\n",
    "# Kernel defined by Lodhi et al. (2002)\n",
    "@cython.boundscheck(False) # turn off bounds-checking for entire function\n",
    "@cython.wraparound(False)  # turn off negative index wrapping for entire function\n",
    "def ssk_array(array.array s_, array.array t_, int n, float lbda, accum=False):\n",
    "    cdef int lens, lent\n",
    "    cdef int i, sj, tk\n",
    "    cdef float toret\n",
    "    cdef long[:] s # this reduces the overhead 10x fold!!!\n",
    "    cdef long[:] t\n",
    "\n",
    "    s = s_ if s_.typecode == 'l' else array.array('l', [int(c) for c in s_])\n",
    "    t = t_ if t_.typecode == 'l' else array.array('l', [int(c) for c in t_])\n",
    "\n",
    "    lens, lent = len(s), len(t)\n",
    "    #k_prim = (-1)*np.ones( (n+1, lens, lent) )\n",
    "    cdef np.ndarray[np.float64_t, ndim=3] \\\n",
    "        k_prim = np.zeros( (n, lens, lent), dtype=np.float )\n",
    "\n",
    "    k_prim[0,:,:] = 1\n",
    "\n",
    "    for i in range(1,n):\n",
    "        for sj in range(i,lens):\n",
    "            toret = 0.\n",
    "            for tk in range(i,lent):\n",
    "                if s[sj-1]==t[tk-1]: # trick taken from shogun implemantion of SSK\n",
    "                    toret = lbda * (toret + lbda*k_prim[i-1,sj-1,tk-1])\n",
    "                else:\n",
    "                    toret *= lbda\n",
    "                k_prim[i,sj,tk] = toret + lbda * k_prim[i, sj-1, tk]\n",
    "\n",
    "    cdef int start = 0 if accum else n-1\n",
    "    cdef float k = 0.\n",
    "\n",
    "    for i in range(n):\n",
    "        for sj in range(i,lens):\n",
    "            for tk in range(i,lent):\n",
    "                if s[sj]==t[tk]:\n",
    "                    k += lbda*lbda*k_prim[i,sj,tk]\n",
    "\n",
    "    # print( [len(list(i for (sj,tk,i) in k_prim if i==m-1)) for m in range(n)] )\n",
    "    return k\n",
    "\n",
    "def string_kernel(xs, ys, n, lbda):\n",
    "    \"\"\"xs and ys are numpy arrays of strings or arrays of ints, n an integer and lbda a bool\"\"\"\n",
    "    if len(xs.shape) != 2 or len(ys.shape) != 2 or xs.shape[1] != 1 or ys.shape[1] != 1:\n",
    "        raise \"The shape of the features is wrong, it must be (n,1)\"\n",
    "\n",
    "    cdef int lenxs, lenys\n",
    "    cdef int i, j\n",
    "    cdef np.ndarray[np.float64_t, ndim=2] mat, mat_xs, mat_ys\n",
    "    lenxs, lenys = xs.shape[0], ys.shape[0]\n",
    "\n",
    "    mat = np.zeros( (lenxs, lenys) )\n",
    "\n",
    "    ssk_fun = ssk_array if xs.dtype == 'O' and isinstance(xs[0,0], array.array) else ssk\n",
    "\n",
    "    # If both lists are equal, then the resulting matrix is symetric, there is no need to\n",
    "    # calculate the hole thing\n",
    "    if lenxs == lenys and np.array_equal(xs, ys):\n",
    "        for i in range(lenxs):\n",
    "            for j in range(i,lenys):\n",
    "                mat[j,i] = mat[i,j] = ssk_fun(xs[i,0], ys[j,0], n, lbda, accum=True)\n",
    "\n",
    "        mat_xs = mat_ys = mat.diagonal().reshape( (lenxs, 1) )\n",
    "\n",
    "    else:\n",
    "        for i in range(lenxs):\n",
    "            for j in range(lenys):\n",
    "                mat[i,j] = ssk_fun(xs[i,0], ys[j,0], n, lbda, accum=True)\n",
    "\n",
    "        mat_xs = np.zeros( (lenxs, 1) )\n",
    "        mat_ys = np.zeros( (lenys, 1) )\n",
    "\n",
    "        for i in range(lenxs):\n",
    "            mat_xs[i] = ssk_fun(xs[i,0], xs[i,0], n, lbda, accum=True)\n",
    "        for j in range(lenys):\n",
    "            mat_ys[j] = ssk_fun(ys[j,0], ys[j,0], n, lbda, accum=True)\n",
    "\n",
    "    return np.divide(mat, np.sqrt(mat_ys.T * mat_xs))"
   ]
  },
  {
   "cell_type": "code",
   "execution_count": 5,
   "metadata": {},
   "outputs": [],
   "source": [
    "def get_ssk_kernel_for_scikit(lambda_decay, max_substring):\n",
    "    def strker(il,ir):\n",
    "        #print(\"Shape of gramm matrix to create ({},{})\".format(len(il), len(ir)))\n",
    "        l = np.array(il).reshape( (len(il), 1) )\n",
    "        r = np.array(ir).reshape( (len(ir), 1) )\n",
    "        return string_kernel(l,r,lambda_decay, max_substring)\n",
    "    return strker\n",
    "\n",
    "lambda_decay = .8\n",
    "max_substring = 5\n",
    "\n",
    "my_ssk_kernel = get_ssk_kernel_for_scikit(lambda_decay, max_substring)"
   ]
  },
  {
   "cell_type": "code",
   "execution_count": 8,
   "metadata": {},
   "outputs": [
    {
     "ename": "ValueError",
     "evalue": "cannot reshape array of size 1 into shape (7,1)",
     "output_type": "error",
     "traceback": [
      "\u001b[0;31m---------------------------------------------------------------------------\u001b[0m",
      "\u001b[0;31mValueError\u001b[0m                                Traceback (most recent call last)",
      "\u001b[0;32m<ipython-input-8-68fb873a353d>\u001b[0m in \u001b[0;36m<module>\u001b[0;34m()\u001b[0m\n\u001b[0;32m----> 1\u001b[0;31m \u001b[0mmy_ssk_kernel\u001b[0m\u001b[0;34m(\u001b[0m\u001b[0;34m\"caadadr\"\u001b[0m\u001b[0;34m,\u001b[0m \u001b[0;34m\"caadadt\"\u001b[0m\u001b[0;34m)\u001b[0m\u001b[0;34m\u001b[0m\u001b[0m\n\u001b[0m",
      "\u001b[0;32m<ipython-input-5-682475ef9bb6>\u001b[0m in \u001b[0;36mstrker\u001b[0;34m(il, ir)\u001b[0m\n\u001b[1;32m      2\u001b[0m     \u001b[0;32mdef\u001b[0m \u001b[0mstrker\u001b[0m\u001b[0;34m(\u001b[0m\u001b[0mil\u001b[0m\u001b[0;34m,\u001b[0m\u001b[0mir\u001b[0m\u001b[0;34m)\u001b[0m\u001b[0;34m:\u001b[0m\u001b[0;34m\u001b[0m\u001b[0m\n\u001b[1;32m      3\u001b[0m         \u001b[0;31m#print(\"Shape of gramm matrix to create ({},{})\".format(len(il), len(ir)))\u001b[0m\u001b[0;34m\u001b[0m\u001b[0;34m\u001b[0m\u001b[0m\n\u001b[0;32m----> 4\u001b[0;31m         \u001b[0ml\u001b[0m \u001b[0;34m=\u001b[0m \u001b[0mnp\u001b[0m\u001b[0;34m.\u001b[0m\u001b[0marray\u001b[0m\u001b[0;34m(\u001b[0m\u001b[0mil\u001b[0m\u001b[0;34m)\u001b[0m\u001b[0;34m.\u001b[0m\u001b[0mreshape\u001b[0m\u001b[0;34m(\u001b[0m \u001b[0;34m(\u001b[0m\u001b[0mlen\u001b[0m\u001b[0;34m(\u001b[0m\u001b[0mil\u001b[0m\u001b[0;34m)\u001b[0m\u001b[0;34m,\u001b[0m \u001b[0;36m1\u001b[0m\u001b[0;34m)\u001b[0m \u001b[0;34m)\u001b[0m\u001b[0;34m\u001b[0m\u001b[0m\n\u001b[0m\u001b[1;32m      5\u001b[0m         \u001b[0mr\u001b[0m \u001b[0;34m=\u001b[0m \u001b[0mnp\u001b[0m\u001b[0;34m.\u001b[0m\u001b[0marray\u001b[0m\u001b[0;34m(\u001b[0m\u001b[0mir\u001b[0m\u001b[0;34m)\u001b[0m\u001b[0;34m.\u001b[0m\u001b[0mreshape\u001b[0m\u001b[0;34m(\u001b[0m \u001b[0;34m(\u001b[0m\u001b[0mlen\u001b[0m\u001b[0;34m(\u001b[0m\u001b[0mir\u001b[0m\u001b[0;34m)\u001b[0m\u001b[0;34m,\u001b[0m \u001b[0;36m1\u001b[0m\u001b[0;34m)\u001b[0m \u001b[0;34m)\u001b[0m\u001b[0;34m\u001b[0m\u001b[0m\n\u001b[1;32m      6\u001b[0m         \u001b[0;32mreturn\u001b[0m \u001b[0mstring_kernel\u001b[0m\u001b[0;34m(\u001b[0m\u001b[0ml\u001b[0m\u001b[0;34m,\u001b[0m\u001b[0mr\u001b[0m\u001b[0;34m,\u001b[0m\u001b[0mlambda_decay\u001b[0m\u001b[0;34m,\u001b[0m \u001b[0mmax_substring\u001b[0m\u001b[0;34m)\u001b[0m\u001b[0;34m\u001b[0m\u001b[0m\n",
      "\u001b[0;31mValueError\u001b[0m: cannot reshape array of size 1 into shape (7,1)"
     ]
    }
   ],
   "source": [
    "my_ssk_kernel(\"caadadr\", \"caadadt\")"
   ]
  },
  {
   "cell_type": "code",
   "execution_count": null,
   "metadata": {},
   "outputs": [],
   "source": []
  }
 ],
 "metadata": {
  "kernelspec": {
   "display_name": "Python 3",
   "language": "python",
   "name": "python3"
  },
  "language_info": {
   "codemirror_mode": {
    "name": "ipython",
    "version": 3
   },
   "file_extension": ".py",
   "mimetype": "text/x-python",
   "name": "python",
   "nbconvert_exporter": "python",
   "pygments_lexer": "ipython3",
   "version": "3.6.4"
  }
 },
 "nbformat": 4,
 "nbformat_minor": 2
}
