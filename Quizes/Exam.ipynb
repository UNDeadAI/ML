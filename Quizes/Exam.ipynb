{
 "cells": [
  {
   "cell_type": "code",
   "execution_count": 1,
   "metadata": {},
   "outputs": [],
   "source": [
    "import numpy as np\n",
    "import pylab as pl\n",
    "\n",
    "%matplotlib inline"
   ]
  },
  {
   "cell_type": "markdown",
   "metadata": {},
   "source": [
    "## 1. (0.5)\n",
    "\n",
    "Consider the following model inspired in a support vector machine. \n",
    "\n",
    "$$ f_w(x) = wx + w_0$$\n",
    "\n",
    "where \n",
    "\n",
    "$$ w=\\sum_{x_{i}\\in X}\\alpha_{i}\\phi(x_{i}) $$\n",
    "\n",
    "The loss function corresponds to the 'hinge' loss function that makes it equivalent to the traditional primal optimization formulation (without the margin or regularization term):\n",
    "\n",
    "$$E(w, x, y) = \\max(0, 1 - y f_w(x))$$\n",
    "\n",
    "Implement this model modifying the following functions:"
   ]
  },
  {
   "cell_type": "code",
   "execution_count": 2,
   "metadata": {},
   "outputs": [],
   "source": [
    "def predict_ksvm(alpha, X, kernel, x):\n",
    "    w = 0\n",
    "    for i in range (len(alpha)):\n",
    "        w += alpha[i] * kernel(X[i], x)\n",
    "    return w\n",
    "\n",
    "def loss_ksvm(alpha, X, kernel, x, y):\n",
    "    r = predict_ksvm(alpha, X, kernel, x)\n",
    "    return max(0, 1 - y * r)\n"
   ]
  },
  {
   "cell_type": "code",
   "execution_count": 3,
   "metadata": {},
   "outputs": [],
   "source": [
    "def k1(x, y):\n",
    "    return np.dot(x, y)\n",
    "\n",
    "def k2(x, y):\n",
    "    return (np.dot(x, y) + 1) ** 2\n",
    "\n",
    "def test_loss_ksvm():\n",
    "    X = [[-2, -1],\n",
    "         [-1, 3],\n",
    "         [2.5, -1.5],\n",
    "         [4, 2]]\n",
    "    Y = [-1, 1, 1, -1]\n",
    "    epsilon = 0.0001\n",
    "    test1 = [0 , 0 , 6.3 , 3.3]\n",
    "    test2 = [25.775 , 0 , 11.9 , 113.0]\n",
    "    alpha = [0.1, 0.4, -0.5, 0.3]\n",
    "    for i, x_i in enumerate(X):\n",
    "        if abs(loss_ksvm(alpha, X, k1, x_i, Y[i]) - test1[i]) > epsilon:\n",
    "            raise Exception(\"loss_ksvm test failed!\")\n",
    "    for i, x_i in enumerate(X):\n",
    "        if abs(loss_ksvm(alpha, X, k2, x_i, Y[i]) - test2[i]) > epsilon:\n",
    "            raise Exception(\"loss_ksvm test failed!\")\n",
    "\n",
    "test_loss_ksvm()"
   ]
  },
  {
   "cell_type": "markdown",
   "metadata": {},
   "source": [
    "## 2. (1.5)\n",
    "\n",
    "Write a function that calculates the gradient of the loss with respect to the alpha parameter:\n",
    "\n",
    "$$ \\frac{\\partial E}{\\partial \\alpha} $$"
   ]
  },
  {
   "cell_type": "code",
   "execution_count": 36,
   "metadata": {},
   "outputs": [],
   "source": [
    "def de_dalpha(alpha, X, kernel, x, y):\n",
    "    delta = np.zeros(len(alpha))\n",
    "    #w = predict_ksvm(alpha, X, kernel, x)\n",
    "    #tmp = 0\n",
    "    #if (w * y > 1):\n",
    "    #    tmp = - kernel(X[i], x)\n",
    "    #tmp = max(0, 1 - y * r)\n",
    "\n",
    "    for i in range(len(alpha)):\n",
    "        if (alpha[i] * kernel(X[i], x) * y < 1):\n",
    "            delta[i] = -y * kernel(X[i], x)\n",
    "    return delta"
   ]
  },
  {
   "cell_type": "code",
   "execution_count": 37,
   "metadata": {},
   "outputs": [
    {
     "ename": "Exception",
     "evalue": "de_dalpha test failed!",
     "output_type": "error",
     "traceback": [
      "\u001b[0;31m---------------------------------------------------------------------------\u001b[0m",
      "\u001b[0;31mException\u001b[0m                                 Traceback (most recent call last)",
      "\u001b[0;32m<ipython-input-37-b21c8e57801d>\u001b[0m in \u001b[0;36m<module>\u001b[0;34m()\u001b[0m\n\u001b[1;32m     26\u001b[0m             \u001b[0;32mraise\u001b[0m \u001b[0mException\u001b[0m\u001b[0;34m(\u001b[0m\u001b[0;34m\"de_dalpha test failed!\"\u001b[0m\u001b[0;34m)\u001b[0m\u001b[0;34m\u001b[0m\u001b[0m\n\u001b[1;32m     27\u001b[0m \u001b[0;34m\u001b[0m\u001b[0m\n\u001b[0;32m---> 28\u001b[0;31m \u001b[0mtest_de_dalpha\u001b[0m\u001b[0;34m(\u001b[0m\u001b[0mk1\u001b[0m\u001b[0;34m)\u001b[0m\u001b[0;34m\u001b[0m\u001b[0m\n\u001b[0m\u001b[1;32m     29\u001b[0m \u001b[0mtest_de_dalpha\u001b[0m\u001b[0;34m(\u001b[0m\u001b[0mk2\u001b[0m\u001b[0;34m)\u001b[0m\u001b[0;34m\u001b[0m\u001b[0m\n",
      "\u001b[0;32m<ipython-input-37-b21c8e57801d>\u001b[0m in \u001b[0;36mtest_de_dalpha\u001b[0;34m(kernel)\u001b[0m\n\u001b[1;32m     24\u001b[0m         if np.linalg.norm(de_dalpha(talpha, X, kernel, tx, ty) - \n\u001b[1;32m     25\u001b[0m                           num_de_dalpha(talpha, X, kernel, tx, ty, epsilon)) > epsilon:\n\u001b[0;32m---> 26\u001b[0;31m             \u001b[0;32mraise\u001b[0m \u001b[0mException\u001b[0m\u001b[0;34m(\u001b[0m\u001b[0;34m\"de_dalpha test failed!\"\u001b[0m\u001b[0;34m)\u001b[0m\u001b[0;34m\u001b[0m\u001b[0m\n\u001b[0m\u001b[1;32m     27\u001b[0m \u001b[0;34m\u001b[0m\u001b[0m\n\u001b[1;32m     28\u001b[0m \u001b[0mtest_de_dalpha\u001b[0m\u001b[0;34m(\u001b[0m\u001b[0mk1\u001b[0m\u001b[0;34m)\u001b[0m\u001b[0;34m\u001b[0m\u001b[0m\n",
      "\u001b[0;31mException\u001b[0m: de_dalpha test failed!"
     ]
    }
   ],
   "source": [
    "def num_de_dalpha(alpha, X, kernel, x, y, epsilon):\n",
    "    deltas = np.identity(len(alpha)) * epsilon\n",
    "    de = np.zeros(len(alpha))\n",
    "    for i in range(len(alpha)):\n",
    "        de[i] = (loss_ksvm(alpha + deltas[i, :], X, kernel, x, y) - \n",
    "                 loss_ksvm(alpha - deltas[i, :], X, kernel, x, y)) / (2 * epsilon)\n",
    "    return de\n",
    "\n",
    "def test_de_dalpha(kernel):\n",
    "    test_loss_ksvm()\n",
    "    num_tests = 100\n",
    "    epsilon = 0.0001\n",
    "    X = [[-2, -1],\n",
    "         [-1, 3],\n",
    "         [2.5, -1.5],\n",
    "         [4, 2]]\n",
    "    for i in range(num_tests):\n",
    "        talpha = np.random.randn(len(X))\n",
    "        tx = np.random.randn(2)\n",
    "        ty = np.random.randn(1)\n",
    "        #print(de_dalpha(talpha, X, kernel, tx, ty))\n",
    "        #print(num_de_dalpha(talpha, X, kernel, tx, ty, epsilon))\n",
    "        #print(np.linalg.norm(de_dalpha(talpha, X, kernel, tx, ty) - num_de_dalpha(talpha, X, kernel, tx, ty, epsilon)))\n",
    "        if np.linalg.norm(de_dalpha(talpha, X, kernel, tx, ty) - \n",
    "                          num_de_dalpha(talpha, X, kernel, tx, ty, epsilon)) > epsilon:\n",
    "            raise Exception(\"de_dalpha test failed!\")\n",
    "\n",
    "test_de_dalpha(k1)\n",
    "test_de_dalpha(k2)"
   ]
  },
  {
   "cell_type": "code",
   "execution_count": null,
   "metadata": {},
   "outputs": [],
   "source": []
  },
  {
   "cell_type": "code",
   "execution_count": null,
   "metadata": {},
   "outputs": [],
   "source": []
  }
 ],
 "metadata": {
  "kernelspec": {
   "display_name": "Python 3",
   "language": "python",
   "name": "python3"
  },
  "language_info": {
   "codemirror_mode": {
    "name": "ipython",
    "version": 3
   },
   "file_extension": ".py",
   "mimetype": "text/x-python",
   "name": "python",
   "nbconvert_exporter": "python",
   "pygments_lexer": "ipython3",
   "version": "3.6.5"
  }
 },
 "nbformat": 4,
 "nbformat_minor": 2
}
