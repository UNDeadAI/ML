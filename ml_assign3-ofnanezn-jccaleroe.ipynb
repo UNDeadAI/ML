{
 "cells": [
  {
   "cell_type": "markdown",
   "metadata": {},
   "source": [
    "# Machine Learning - Assignment 3\n",
    "\n",
    "### Oscar Fabián Ñáñez Núñez - Juan Camilo Calero Espinosa\n",
    "### ofnanezn - jccaleroe"
   ]
  },
  {
   "cell_type": "code",
   "execution_count": 33,
   "metadata": {},
   "outputs": [],
   "source": [
    "from sklearn.datasets import fetch_mldata\n",
    "from sklearn.preprocessing import scale\n",
    "import sklearn\n",
    "import matplotlib.pyplot as plt\n",
    "import numpy as np\n",
    "from numpy import linalg as AL\n",
    "from sklearn.kernel_approximation import RBFSampler"
   ]
  },
  {
   "cell_type": "markdown",
   "metadata": {},
   "source": [
    "## 1."
   ]
  },
  {
   "cell_type": "code",
   "execution_count": 23,
   "metadata": {},
   "outputs": [],
   "source": [
    "#<x,y>\n",
    "def phi1(x):\n",
    "    return np.array([x[0], x[1]])"
   ]
  },
  {
   "cell_type": "code",
   "execution_count": 24,
   "metadata": {},
   "outputs": [],
   "source": [
    "#(<x,y>)^2\n",
    "def phi2(x):\n",
    "    return np.array([x[0]**2, np.sqrt(2)*x[0]*x[1], x[1]**2])"
   ]
  },
  {
   "cell_type": "code",
   "execution_count": 28,
   "metadata": {},
   "outputs": [],
   "source": [
    "#(<x,y>+1)^5\n",
    "#x1^10 + 5 x1^8 x2^2 + 5 x1^8 + 10 x1^6 x2^4 + 20 x1^6 x2^2 + 10 x1^6 + 10 x1^4 x2^6 + 30 x1^4 x2^4 + 30 x1^4 x2^2 + 10 x1^4 + 5 x1^2 x2^8 + 20 x1^2 x2^6 + 30 x1^2 x2^4 + 20 x1^2 x2^2 + 5 x1^2 + x2^10 + 5 x2^8 + 10 x2^6 + 10 x2^4 + 5 x2^2 + 1\n",
    "def phi3(X):\n",
    "    x1 = x[0]\n",
    "    x2 = x[1]\n",
    "    return np.array([x1**5, np.sqrt(5)*(x1**4)*(x2), np.sqrt(5)*(x1**4), np.sqrt(10)*(x1**3)*(x2**2), np.sqrt(20)*(x1**3)*x2, np.sqrt(10)*(x1**3), np.sqrt(10)*(x1**2)*(x2**3), np.sqrt(30)*(x1**2)*(x2**2), np.sqrt(30)*(x1**2)*x2 , np.sqrt(10)*(x1**2), np.sqrt(5)*x1*(x2**4), np.sqrt(20)*x1*(x2**3), np.sqrt(30)*x1*(x2**2), np.sqrt(20)*x1*x2, np.sqrt(5)*x1, x2**5, np.sqrt(5)*(x2**4), np.sqrt(10)*(x2**3), np.sqrt(10)*(x2**2), np.sqrt(5)*x2 , 1])"
   ]
  },
  {
   "cell_type": "code",
   "execution_count": 36,
   "metadata": {},
   "outputs": [],
   "source": [
    "def massFuntion(phi, x):\n",
    "    return np.sum(np.array( [ phi(X) for X in x ] ), axis=0 ) / x.shape[0]"
   ]
  },
  {
   "cell_type": "code",
   "execution_count": 37,
   "metadata": {},
   "outputs": [],
   "source": [
    "def averageDistance(phi, x):\n",
    "    s = massFuntion(phi, x)\n",
    "    return np.sum([AL.norm(phi(X) - s) for X in x ]) / x.shape[0]    "
   ]
  },
  {
   "cell_type": "code",
   "execution_count": 39,
   "metadata": {},
   "outputs": [
    {
     "name": "stdout",
     "output_type": "stream",
     "text": [
      "2.181590058931585\n",
      "7.914628929835604\n",
      "1.4485751647352964e-14\n",
      "0.8567338704646932\n"
     ]
    }
   ],
   "source": [
    "x = np.array([[0,1], [-1,3], [2,4], [3,-1], [-1,2]])\n",
    "print(averageDistance(phi1, x))\n",
    "print(averageDistance(phi2, x))\n",
    "print(averageDistance(phi3, x))\n",
    "\n",
    "##Gaussian\n",
    "rbf_feature = RBFSampler(gamma=1, random_state=1)\n",
    "p = rbf_feature.fit_transform(x)\n",
    "s = np.sum(p, axis=0) / p.shape[0]\n",
    "print(np.sum([AL.norm(X - s) for X in p]) / p.shape[0])"
   ]
  },
  {
   "cell_type": "markdown",
   "metadata": {},
   "source": [
    "## 2.\n",
    "\n",
    "## a)"
   ]
  },
  {
   "cell_type": "code",
   "execution_count": 2,
   "metadata": {},
   "outputs": [
    {
     "name": "stdout",
     "output_type": "stream",
     "text": [
      "(70000, 784)\n",
      "(70000,)\n"
     ]
    }
   ],
   "source": [
    "mnist = fetch_mldata('MNIST original')\n",
    "mnist_features = mnist[\"data\"]\n",
    "mnist_label = mnist[\"target\"]\n",
    "print(mnist_features.shape)\n",
    "print(mnist_label.shape)"
   ]
  },
  {
   "cell_type": "markdown",
   "metadata": {},
   "source": [
    "## b)"
   ]
  },
  {
   "cell_type": "code",
   "execution_count": 3,
   "metadata": {},
   "outputs": [
    {
     "name": "stderr",
     "output_type": "stream",
     "text": [
      "/usr/local/lib/python2.7/dist-packages/sklearn/utils/validation.py:475: DataConversionWarning: Data with input dtype uint8 was converted to float64 by the scale function.\n",
      "  warnings.warn(msg, DataConversionWarning)\n"
     ]
    }
   ],
   "source": [
    "mnist_normalized = scale(mnist_features)"
   ]
  },
  {
   "cell_type": "code",
   "execution_count": 4,
   "metadata": {},
   "outputs": [
    {
     "name": "stdout",
     "output_type": "stream",
     "text": [
      "MNIST Normalized Mean:\n",
      "[ 0.00000000e+00  0.00000000e+00  0.00000000e+00  0.00000000e+00\n",
      "  0.00000000e+00  0.00000000e+00  0.00000000e+00  0.00000000e+00\n",
      "  0.00000000e+00  0.00000000e+00  0.00000000e+00  0.00000000e+00\n",
      " -8.90297954e-16  1.37035621e-15  3.46195430e-15  1.85119228e-15\n",
      "  0.00000000e+00  0.00000000e+00  0.00000000e+00  0.00000000e+00\n",
      "  0.00000000e+00  0.00000000e+00  0.00000000e+00  0.00000000e+00\n",
      "  0.00000000e+00  0.00000000e+00  0.00000000e+00  0.00000000e+00\n",
      "  0.00000000e+00  0.00000000e+00  0.00000000e+00  0.00000000e+00\n",
      "  1.66164811e-15 -3.96895770e-15 -1.04125612e-15 -3.21838528e-15\n",
      "  2.96320657e-16  1.94626101e-15  6.56149450e-15  7.37403432e-15\n",
      " -8.95523655e-15 -1.17649416e-14 -7.39276874e-15  9.30961023e-15\n",
      "  3.57000094e-15  1.63714884e-14 -2.70308924e-15 -5.43929257e-15\n",
      "  1.83800445e-15  2.36091503e-15  1.64787886e-15  2.94463957e-16\n",
      "  0.00000000e+00  0.00000000e+00  0.00000000e+00  0.00000000e+00\n",
      "  0.00000000e+00  0.00000000e+00  1.65354324e-15  2.82215677e-15\n",
      " -5.51613680e-15 -7.45300012e-15 -2.79612405e-15 -4.92164870e-15\n",
      "  5.16181007e-15 -1.87797807e-14  4.39600737e-16 -1.98468222e-14\n",
      "  8.63823100e-15  5.36429238e-14  2.13597394e-16  4.13161600e-14\n",
      " -6.27048572e-15  4.62956657e-15 -4.79194069e-14 -4.20037255e-14\n",
      " -1.98280341e-14 -1.88553369e-14  8.94005505e-15 -9.61892421e-15\n",
      " -5.96879936e-16  2.20343079e-15  0.00000000e+00  0.00000000e+00\n",
      "  0.00000000e+00  0.00000000e+00  4.39460299e-16 -3.49650274e-15\n",
      " -2.59631557e-15  1.41066077e-15 -8.02318608e-15  6.75317917e-15\n",
      " -1.29004791e-14 -2.70869347e-14  3.40025619e-14  2.34354782e-14\n",
      "  3.31134477e-14  4.85251125e-15 -8.24200628e-15  3.13930310e-15\n",
      " -2.44637596e-14  4.62675533e-15 -1.53380990e-14 -1.74355601e-14\n",
      " -5.78278116e-14  2.05894956e-14  9.00296108e-15 -1.48794056e-14\n",
      "  1.24886962e-14  1.29341062e-15 -1.33982436e-15  0.00000000e+00\n",
      "  0.00000000e+00  4.04558567e-16  1.80177951e-15 -1.78820902e-15\n",
      " -4.39411672e-15 -1.20172784e-14  2.64938738e-14  1.55507642e-14\n",
      " -2.92511959e-14  2.95341029e-14 -6.73601873e-14  6.06555917e-15\n",
      "  7.23816118e-14  9.72869959e-14  3.09725610e-14 -1.11257844e-13\n",
      " -5.65475793e-14  5.15260136e-14  2.01082468e-14 -1.56481764e-14\n",
      "  1.02035570e-14 -1.26501476e-14  1.58254996e-14 -2.80788127e-14\n",
      " -9.91248631e-15 -4.00346978e-15 -6.46721273e-15  4.62346505e-16\n",
      "  0.00000000e+00  1.58292549e-15 -1.03256852e-15 -8.96487943e-16\n",
      " -4.45556945e-15  6.85838172e-15 -3.73939483e-14 -3.52665682e-14\n",
      " -2.68752274e-14 -8.69895568e-14 -5.71749775e-14  7.67353292e-14\n",
      " -5.57077781e-14  4.35491040e-14  3.12502183e-14 -4.71325106e-14\n",
      "  1.85159348e-14 -4.21563134e-14 -8.59731365e-14 -1.67835777e-14\n",
      "  5.63218837e-15  2.41702705e-14 -2.98400685e-14 -2.64541008e-15\n",
      " -3.51035336e-14 -1.16192659e-14 -5.52269738e-15  3.90136153e-15\n",
      "  0.00000000e+00 -2.55279329e-16 -5.06510855e-15 -1.16099836e-14\n",
      " -2.13275707e-15 -7.32047439e-15  3.52919321e-14 -1.37113194e-14\n",
      "  4.32894625e-14  5.33353441e-14  4.75381480e-14 -3.55530684e-14\n",
      " -2.03520217e-14  4.58408549e-15 -1.94294168e-14  4.29272839e-14\n",
      " -1.06478485e-14  2.40768548e-14  5.34438049e-14 -4.62584923e-14\n",
      "  2.77339485e-14  1.28367832e-14 -1.75551320e-15 -2.80584595e-14\n",
      " -4.14412401e-14  1.72450685e-14 -5.27187361e-15 -3.55026529e-15\n",
      " -1.49423756e-15  1.79146187e-15 -3.08813798e-15 -1.02372593e-14\n",
      "  2.11474921e-14  4.21274539e-14 -3.10804144e-14 -5.05726461e-14\n",
      "  1.08954385e-14 -1.53944381e-14 -1.51910992e-14  8.94673542e-15\n",
      " -1.16123809e-14  5.12702262e-15 -1.74446489e-15  1.68906960e-14\n",
      "  4.18951921e-14  3.21449343e-14  2.68365393e-14 -2.09369760e-14\n",
      " -4.45101353e-14 -2.06745549e-14 -9.18688300e-15  2.90281370e-14\n",
      "  5.10517723e-14  4.29256610e-14  2.62528352e-15  3.84772407e-15\n",
      " -1.15462535e-15 -1.44396687e-15  1.98370709e-14  2.00457746e-14\n",
      "  2.65952649e-14 -4.71153037e-15  3.93024502e-15 -2.29362355e-14\n",
      " -2.32469441e-14  8.95123975e-15  8.07492454e-14  8.13751701e-14\n",
      "  4.81437430e-15  3.08411201e-14 -1.17985272e-14  4.76857284e-15\n",
      " -1.83286053e-14  1.31271010e-14  1.05144845e-14  4.06492300e-15\n",
      "  8.83394310e-15  1.37389306e-14 -2.27558242e-14  1.19883904e-14\n",
      "  2.05579490e-14  3.20909767e-14  1.78406948e-14 -1.36939155e-15\n",
      "  3.67408725e-15  5.25019938e-15 -1.70636630e-14  4.33005596e-14\n",
      "  4.12736734e-14 -2.90487896e-14  3.49244126e-14 -1.47122489e-14\n",
      " -5.39806009e-14 -9.08180610e-14 -1.02455631e-14  5.19216281e-14\n",
      " -5.56177009e-14 -3.82535527e-14  1.55014319e-14 -3.97772291e-16\n",
      "  2.20563599e-14 -3.11765851e-15 -1.02103595e-14  1.95440838e-14\n",
      " -9.77984677e-15  2.72141801e-14  1.63044816e-15 -3.12209441e-14\n",
      " -1.44016418e-14 -1.79104902e-14  1.01538276e-14 -4.56916231e-15\n",
      " -2.02122297e-16  7.34482624e-15  1.22798186e-14 -4.35350085e-14\n",
      "  2.70798217e-14  4.41120886e-14  4.47772914e-14  3.54946104e-14\n",
      " -5.51532312e-14 -3.95689672e-15 -4.57352910e-14 -4.30031407e-14\n",
      " -1.27445039e-14  1.51436482e-15  2.12625917e-14 -6.42478134e-14\n",
      "  1.87911591e-15 -1.05368254e-14 -1.27708955e-15 -1.02747176e-14\n",
      " -1.61281084e-14 -4.18627767e-14 -6.28812899e-14 -4.98728313e-14\n",
      "  5.57410705e-15  1.17152621e-14  1.05059523e-14 -4.13099084e-15\n",
      " -1.21723757e-15 -5.87446768e-15  2.20826998e-14 -2.28939685e-15\n",
      "  4.21822839e-14 -2.63256464e-14 -4.76934365e-14 -1.91746071e-14\n",
      "  4.22290194e-14 -3.04871303e-14  6.37805364e-15  4.08157762e-14\n",
      " -2.92296092e-14  6.48899347e-15  2.17456688e-14 -8.76402855e-14\n",
      "  1.35848697e-14 -4.94473890e-14  2.45489371e-14  2.33278508e-14\n",
      "  7.09158763e-15 -2.29232554e-14  5.46456134e-15  7.57875802e-14\n",
      "  2.55348591e-14  9.58877045e-15  7.04000816e-15  2.17790290e-15\n",
      "  1.60284127e-15  3.75259506e-15 -1.17904932e-14 -2.38041174e-14\n",
      " -2.20632536e-14 -1.28818940e-14  4.77635392e-16 -2.91616318e-14\n",
      " -4.03311860e-14 -2.33759773e-14  2.04809756e-14  1.54954549e-14\n",
      "  2.16972186e-14 -2.88971545e-14 -5.68395902e-14  1.20006132e-14\n",
      " -2.44488477e-14 -7.21811254e-14  7.94926030e-15 -2.27881206e-16\n",
      " -1.16089741e-14  5.72697921e-14  1.42663357e-14  6.61597745e-14\n",
      "  1.19283781e-14  4.18666570e-15 -2.14688882e-16  1.76385553e-15\n",
      "  1.25709003e-15  2.63214416e-15  6.89508450e-15 -1.87662469e-14\n",
      "  2.41068237e-15 -9.36323796e-15 -1.33369791e-14 -4.76146107e-16\n",
      "  1.34653177e-14  3.72411879e-14 -3.66446683e-14 -2.79640596e-14\n",
      " -2.35212389e-14 -1.67817442e-14  1.52126470e-14  5.11293825e-15\n",
      " -7.42955538e-15 -1.63494329e-14  7.42220063e-14 -5.54870467e-14\n",
      "  6.78620969e-15  3.33612122e-14 -7.77782838e-14 -6.64522263e-14\n",
      "  2.88454895e-15 -2.07178501e-15 -3.73829658e-15  5.63431469e-16\n",
      "  4.97138454e-16  1.74019849e-15  9.90932723e-15 -1.80259002e-15\n",
      " -5.06681681e-15 -3.53809061e-14  2.24415090e-14 -1.96901162e-14\n",
      " -4.26258616e-14 -3.18524017e-15 -4.34451522e-15  2.26043374e-14\n",
      " -2.05914183e-14 -1.27713840e-14  1.67878917e-14 -1.12571539e-15\n",
      " -2.76818758e-14  1.05680956e-14 -2.43088660e-14 -1.01306995e-14\n",
      "  3.46595958e-14 -8.23649855e-14 -1.42009658e-14 -2.62276867e-14\n",
      " -3.30432594e-14 -3.52232529e-16  7.89183411e-15  2.63058964e-15\n",
      " -2.95110959e-16 -2.11040963e-15  4.88768381e-15 -4.75224681e-15\n",
      " -7.76760561e-15 -1.04762830e-14  2.08645228e-14  8.24978435e-14\n",
      " -2.00397540e-14  4.10058241e-14 -3.27041854e-14 -5.27292035e-14\n",
      " -3.40612173e-14 -8.24876040e-15 -1.21034072e-14  6.77932631e-15\n",
      "  2.25313197e-14  7.99627285e-14  2.60380701e-14  2.68021097e-14\n",
      "  1.02466377e-14 -9.53451175e-14  2.68782139e-14 -1.93890935e-14\n",
      " -3.84371479e-14 -4.12064073e-15 -1.85257025e-14 -6.63515180e-15\n",
      "  1.30497285e-15  1.54773491e-16  7.82524343e-16  1.07930750e-14\n",
      "  5.52349761e-14  1.16184200e-13  1.12737438e-13 -1.62887481e-13\n",
      " -1.58433964e-14 -2.88185349e-15  2.01486922e-14 -4.47997258e-14\n",
      "  2.90201196e-15 -7.42445797e-15 -5.56502622e-15 -1.33485064e-14\n",
      "  9.74324209e-14  2.96516557e-14  2.07281938e-14  3.60239061e-15\n",
      " -4.12952847e-14 -1.36262002e-14 -1.79177292e-14 -5.21424729e-14\n",
      "  2.50361541e-14 -3.02386655e-14 -1.93327388e-14 -2.46348358e-15\n",
      "  0.00000000e+00 -1.50742990e-15 -6.10754939e-15  2.67566112e-14\n",
      " -2.35464981e-14 -6.92323960e-14 -1.59070725e-13 -8.96274610e-14\n",
      "  1.90553002e-14 -5.73727098e-15 -2.14631836e-14 -5.11287060e-14\n",
      "  2.24113791e-14  8.47778038e-15  1.83975057e-15 -2.55979628e-14\n",
      "  4.38802677e-14 -2.19079675e-14  9.77054628e-15 -4.56456682e-14\n",
      "  2.82450856e-14 -6.33829513e-14  4.14823017e-14 -6.80012856e-14\n",
      "  4.15703662e-14 -3.22041957e-15 -1.24181044e-14 -3.27193877e-16\n",
      "  3.44977430e-15 -9.21484293e-16  8.96583185e-15 -4.46074990e-14\n",
      " -1.35934874e-14  1.44692961e-13 -2.79971443e-14  1.08087878e-13\n",
      " -4.58880870e-15  3.12563665e-14  9.44833101e-15  1.60582500e-14\n",
      "  3.70627656e-15 -3.70848590e-15  1.15795231e-14  2.49853233e-14\n",
      "  4.75411076e-14  6.40566965e-16 -1.32017893e-14 -9.34297719e-15\n",
      " -1.21674512e-14  4.22676037e-14  7.94452504e-14 -5.86400048e-14\n",
      "  2.03628503e-14  2.88516151e-14  1.14085417e-14 -4.09698069e-17\n",
      "  1.48937971e-15 -4.92554410e-16 -1.75434780e-14  4.50217320e-14\n",
      " -4.14177573e-14  8.93911294e-14 -2.62119739e-14  1.23150442e-13\n",
      "  4.04786522e-14  4.31372398e-16 -1.34379936e-14  1.87574432e-14\n",
      " -3.26722776e-17 -4.35953337e-15 -1.08601599e-15  1.59614385e-14\n",
      "  2.51404485e-14 -8.66429151e-16 -1.54534480e-15 -5.45884290e-15\n",
      "  9.49211852e-14 -1.24145265e-13 -4.49921497e-14 -3.11911703e-14\n",
      " -4.57731345e-14 -2.81300832e-14 -1.69046246e-14 -5.91770787e-15\n",
      "  0.00000000e+00  3.53567161e-15 -9.06251641e-15 -2.21280569e-14\n",
      " -6.89773437e-14  4.50301130e-14 -6.67576201e-14 -5.25960735e-14\n",
      "  6.66933175e-14  2.77656818e-14 -3.63467256e-14 -1.71064908e-14\n",
      " -2.02748738e-14 -1.14017684e-15 -1.41239338e-14  8.06566877e-15\n",
      " -1.05561591e-15 -2.83107664e-15 -8.54948176e-15 -1.85887401e-14\n",
      " -8.95759752e-14 -3.70651605e-15  3.67891114e-14  4.14077590e-14\n",
      "  6.84440710e-14  1.56867059e-15 -1.38634746e-14  1.82722220e-15\n",
      "  1.23400178e-15 -5.76002207e-15  1.16807437e-14 -1.54496297e-15\n",
      " -5.85250491e-14  2.70285905e-14 -6.46145835e-15  6.07766536e-14\n",
      " -1.38755252e-13  4.93219973e-14 -2.04276183e-14 -7.44119052e-14\n",
      " -3.85968749e-14 -1.85991710e-14  8.79915506e-15  4.69100631e-15\n",
      "  2.40371136e-15  1.27601485e-14 -2.76486738e-14  4.06440278e-15\n",
      " -1.19371100e-14  1.98088783e-14  4.04746736e-14  3.96355337e-14\n",
      "  4.45673228e-14 -2.24667735e-14 -2.47863466e-15 -4.31373673e-15\n",
      "  4.41871015e-15 -4.23659022e-15 -1.05282784e-14 -2.92089702e-14\n",
      " -1.83206236e-14 -9.96923901e-14  2.12496608e-14  1.18923089e-13\n",
      " -2.09491345e-14 -3.03112551e-14  6.63173659e-14 -9.87203018e-15\n",
      " -2.34873391e-15  1.95840645e-15 -1.20392585e-15  5.28353551e-15\n",
      " -9.84258786e-15  1.78501436e-14 -1.10148049e-14  1.99627473e-14\n",
      "  1.44656794e-14 -4.04466310e-14  1.76004933e-14 -8.68294682e-15\n",
      " -1.34815004e-14  4.46332574e-15 -3.03470458e-15  5.53857634e-15\n",
      "  0.00000000e+00  1.58292549e-15  1.82068874e-15 -1.28447019e-14\n",
      " -3.01392217e-14 -3.73632672e-14 -2.89915377e-14 -2.66693017e-14\n",
      " -3.89577973e-14  2.17719271e-14  3.45680881e-14  1.36489566e-14\n",
      "  2.79786987e-15 -7.53336441e-15 -8.19571078e-15  3.49196227e-15\n",
      "  2.72053745e-14 -2.69133049e-14 -2.98840080e-14 -2.92198599e-14\n",
      "  1.76007011e-14  1.44100961e-14 -1.88415910e-15  1.47232139e-14\n",
      "  8.62256298e-15  4.63113476e-16  1.76645826e-15  0.00000000e+00\n",
      "  0.00000000e+00  0.00000000e+00  3.17462703e-15  2.48931738e-15\n",
      " -3.02825681e-15  1.27781226e-14 -1.19738188e-15  7.17027073e-15\n",
      "  9.18703367e-15 -6.64199410e-14 -2.71929542e-15 -8.03847195e-14\n",
      " -1.20824753e-13  5.67107821e-14  3.99796101e-14  2.27182384e-14\n",
      " -1.02585897e-13 -2.32647362e-14 -9.43719246e-14  2.20504282e-14\n",
      " -6.80991858e-14 -2.07894404e-14  5.64355665e-15  1.17433999e-15\n",
      " -1.22722318e-15 -7.79941835e-16 -3.40153206e-15  0.00000000e+00\n",
      "  0.00000000e+00  0.00000000e+00 -5.95492405e-16  4.29650685e-15\n",
      " -7.99159845e-16  1.86260715e-14 -2.60019308e-15 -7.70772898e-14\n",
      " -5.92183405e-14  1.28779669e-13 -6.80145464e-15 -2.33953499e-14\n",
      "  1.38488230e-13 -1.05237419e-13  1.09135553e-13  1.21983860e-13\n",
      "  1.47773343e-13  5.72885739e-14  4.37292607e-14  1.16183037e-13\n",
      " -6.92235777e-14 -6.87077102e-15 -3.53796417e-15  2.76143165e-14\n",
      "  1.05581687e-14 -2.73310615e-16 -4.71637536e-16  0.00000000e+00\n",
      "  0.00000000e+00  0.00000000e+00  0.00000000e+00  1.94662535e-15\n",
      " -5.78624088e-15 -1.25930885e-14  2.91768667e-14 -2.23128853e-14\n",
      " -1.57279301e-14  7.17361155e-14  6.37471988e-14  2.54733607e-14\n",
      " -3.04379244e-14  1.22612251e-13 -6.86670649e-14 -4.99652994e-14\n",
      " -2.87896175e-14  4.97117557e-14  4.41523183e-14 -3.09405236e-14\n",
      " -5.55932314e-14  9.06457726e-15 -1.21223241e-14 -2.66222783e-15\n",
      "  4.63097038e-15  2.35339445e-15  0.00000000e+00  0.00000000e+00\n",
      "  0.00000000e+00  0.00000000e+00  0.00000000e+00  0.00000000e+00\n",
      "  2.40681718e-15  4.25812000e-15 -7.63982132e-18 -8.09199325e-15\n",
      "  8.07064108e-15 -9.88502534e-16  1.71021187e-14  2.51779127e-14\n",
      " -2.92697822e-14 -8.02304354e-15 -7.59331705e-15 -1.15459795e-14\n",
      "  1.63460628e-14  1.88417411e-14 -6.50588968e-15  1.45374559e-14\n",
      " -7.12479758e-15 -4.37417984e-15 -3.58566589e-15  1.55118901e-15\n",
      "  0.00000000e+00  0.00000000e+00  0.00000000e+00  0.00000000e+00]\n",
      "MNIST Normalized Std_Deviation:\n"
     ]
    },
    {
     "name": "stdout",
     "output_type": "stream",
     "text": [
      "[0. 0. 0. 0. 0. 0. 0. 0. 0. 0. 0. 0. 1. 1. 1. 1. 0. 0. 0. 0. 0. 0. 0. 0.\n",
      " 0. 0. 0. 0. 0. 0. 0. 0. 1. 1. 1. 1. 1. 1. 1. 1. 1. 1. 1. 1. 1. 1. 1. 1.\n",
      " 1. 1. 1. 1. 0. 0. 0. 0. 0. 0. 1. 1. 1. 1. 1. 1. 1. 1. 1. 1. 1. 1. 1. 1.\n",
      " 1. 1. 1. 1. 1. 1. 1. 1. 1. 1. 0. 0. 0. 0. 1. 1. 1. 1. 1. 1. 1. 1. 1. 1.\n",
      " 1. 1. 1. 1. 1. 1. 1. 1. 1. 1. 1. 1. 1. 1. 1. 0. 0. 1. 1. 1. 1. 1. 1. 1.\n",
      " 1. 1. 1. 1. 1. 1. 1. 1. 1. 1. 1. 1. 1. 1. 1. 1. 1. 1. 1. 1. 0. 1. 1. 1.\n",
      " 1. 1. 1. 1. 1. 1. 1. 1. 1. 1. 1. 1. 1. 1. 1. 1. 1. 1. 1. 1. 1. 1. 1. 1.\n",
      " 0. 1. 1. 1. 1. 1. 1. 1. 1. 1. 1. 1. 1. 1. 1. 1. 1. 1. 1. 1. 1. 1. 1. 1.\n",
      " 1. 1. 1. 1. 1. 1. 1. 1. 1. 1. 1. 1. 1. 1. 1. 1. 1. 1. 1. 1. 1. 1. 1. 1.\n",
      " 1. 1. 1. 1. 1. 1. 1. 1. 1. 1. 1. 1. 1. 1. 1. 1. 1. 1. 1. 1. 1. 1. 1. 1.\n",
      " 1. 1. 1. 1. 1. 1. 1. 1. 1. 1. 1. 1. 1. 1. 1. 1. 1. 1. 1. 1. 1. 1. 1. 1.\n",
      " 1. 1. 1. 1. 1. 1. 1. 1. 1. 1. 1. 1. 1. 1. 1. 1. 1. 1. 1. 1. 1. 1. 1. 1.\n",
      " 1. 1. 1. 1. 1. 1. 1. 1. 1. 1. 1. 1. 1. 1. 1. 1. 1. 1. 1. 1. 1. 1. 1. 1.\n",
      " 1. 1. 1. 1. 1. 1. 1. 1. 1. 1. 1. 1. 1. 1. 1. 1. 1. 1. 1. 1. 1. 1. 1. 1.\n",
      " 1. 1. 1. 1. 1. 1. 1. 1. 1. 1. 1. 1. 1. 1. 1. 1. 1. 1. 1. 1. 1. 1. 1. 1.\n",
      " 1. 1. 1. 1. 1. 1. 1. 1. 1. 1. 1. 1. 1. 1. 1. 1. 1. 1. 1. 1. 1. 1. 1. 1.\n",
      " 1. 1. 1. 1. 1. 1. 1. 1. 1. 1. 1. 1. 1. 1. 1. 1. 1. 1. 1. 1. 1. 1. 1. 1.\n",
      " 1. 1. 1. 1. 1. 1. 1. 1. 1. 1. 1. 1. 1. 1. 1. 1. 1. 1. 1. 1. 1. 1. 1. 1.\n",
      " 1. 1. 1. 1. 1. 1. 1. 1. 1. 1. 1. 1. 1. 1. 1. 1. 1. 1. 1. 1. 1. 1. 1. 1.\n",
      " 1. 1. 1. 1. 1. 1. 1. 1. 1. 1. 1. 1. 1. 1. 1. 1. 1. 1. 1. 1. 0. 1. 1. 1.\n",
      " 1. 1. 1. 1. 1. 1. 1. 1. 1. 1. 1. 1. 1. 1. 1. 1. 1. 1. 1. 1. 1. 1. 1. 1.\n",
      " 1. 1. 1. 1. 1. 1. 1. 1. 1. 1. 1. 1. 1. 1. 1. 1. 1. 1. 1. 1. 1. 1. 1. 1.\n",
      " 1. 1. 1. 1. 1. 1. 1. 1. 1. 1. 1. 1. 1. 1. 1. 1. 1. 1. 1. 1. 1. 1. 1. 1.\n",
      " 1. 1. 1. 1. 1. 1. 1. 1. 0. 1. 1. 1. 1. 1. 1. 1. 1. 1. 1. 1. 1. 1. 1. 1.\n",
      " 1. 1. 1. 1. 1. 1. 1. 1. 1. 1. 1. 1. 1. 1. 1. 1. 1. 1. 1. 1. 1. 1. 1. 1.\n",
      " 1. 1. 1. 1. 1. 1. 1. 1. 1. 1. 1. 1. 1. 1. 1. 1. 1. 1. 1. 1. 1. 1. 1. 1.\n",
      " 1. 1. 1. 1. 1. 1. 1. 1. 1. 1. 1. 1. 1. 1. 1. 1. 1. 1. 1. 1. 0. 1. 1. 1.\n",
      " 1. 1. 1. 1. 1. 1. 1. 1. 1. 1. 1. 1. 1. 1. 1. 1. 1. 1. 1. 1. 1. 1. 1. 0.\n",
      " 0. 0. 1. 1. 1. 1. 1. 1. 1. 1. 1. 1. 1. 1. 1. 1. 1. 1. 1. 1. 1. 1. 1. 1.\n",
      " 1. 1. 1. 0. 0. 0. 1. 1. 1. 1. 1. 1. 1. 1. 1. 1. 1. 1. 1. 1. 1. 1. 1. 1.\n",
      " 1. 1. 1. 1. 1. 1. 1. 0. 0. 0. 0. 1. 1. 1. 1. 1. 1. 1. 1. 1. 1. 1. 1. 1.\n",
      " 1. 1. 1. 1. 1. 1. 1. 1. 1. 1. 0. 0. 0. 0. 0. 0. 1. 1. 1. 1. 1. 1. 1. 1.\n",
      " 1. 1. 1. 1. 1. 1. 1. 1. 1. 1. 1. 1. 0. 0. 0. 0.]\n"
     ]
    }
   ],
   "source": [
    "print(\"MNIST Normalized Mean:\")\n",
    "print(mnist_normalized.mean(axis=0))\n",
    "print(\"MNIST Normalized Std_Deviation:\")\n",
    "print(mnist_normalized.std(axis=0))"
   ]
  },
  {
   "cell_type": "markdown",
   "metadata": {},
   "source": [
    "## c)\n",
    "\n",
    "We will use the classes 6 and 9."
   ]
  },
  {
   "cell_type": "code",
   "execution_count": 98,
   "metadata": {},
   "outputs": [
    {
     "name": "stdout",
     "output_type": "stream",
     "text": [
      "((5918, 784), (5949, 784), (5918,), (5949,))\n",
      "((958, 784), (1009, 784), (958,), (1009,))\n"
     ]
    }
   ],
   "source": [
    "C_values = [2**i for i in range(-15,11)]\n",
    "\n",
    "ranges = [(0,5923),(5923,12665),(12665,18623),(18623,24754),(24754,30596),(30596,36017),(36017,41935),(41935,48200),(48200,54051),(54051,60000),\n",
    "          (60000,60980),(60980,62115),(62115,63147),(63147,64157),(64157,65139),(65139,66031),(66031,66989),(66989,68017),(68017,68991),(68991,70000)]\n",
    "\n",
    "r_min1_train, r_max1_train = ranges[6][0], ranges[6][1]\n",
    "r_min2_train, r_max2_train = ranges[9][0], ranges[9][1]\n",
    "r_min1_test, r_max1_test = ranges[16][0], ranges[16][1]\n",
    "r_min2_test, r_max2_test = ranges[19][0], ranges[19][1]\n",
    "\n",
    "\n",
    "features_class6_train = mnist_features[r_min1_train:r_max1_train,:]\n",
    "features_class9_train = mnist_features[r_min2_train:r_max2_train,:]\n",
    "labels_class6_train = mnist_label[r_min1_train:r_max1_train]\n",
    "labels_class9_train = mnist_label[r_min2_train:r_max2_train]\n",
    "features_class6_test = mnist_features[r_min1_test:r_max1_test,:]\n",
    "features_class9_test = mnist_features[r_min2_test:r_max2_test,:]\n",
    "labels_class6_test = mnist_label[r_min1_test:r_max1_test]\n",
    "labels_class9_test = mnist_label[r_min2_test:r_max2_test]\n",
    "\n",
    "print(features_class6_train.shape, features_class9_train.shape, labels_class6_train.shape, labels_class9_train.shape)\n",
    "print(features_class6_test.shape, features_class9_test.shape, labels_class6_test.shape, labels_class9_test.shape)"
   ]
  },
  {
   "cell_type": "code",
   "execution_count": 99,
   "metadata": {},
   "outputs": [
    {
     "name": "stdout",
     "output_type": "stream",
     "text": [
      "((11867, 784), (11867,))\n",
      "((1967, 784), (1967,))\n"
     ]
    }
   ],
   "source": [
    "features_train = np.vstack((features_class6_train, features_class9_train))\n",
    "features_test = np.vstack((features_class6_test, features_class9_test))\n",
    "labels_train = np.append(labels_class6_train, labels_class9_train)\n",
    "labels_test = np.append(labels_class6_test, labels_class9_test)\n",
    "\n",
    "print(features_train.shape, labels_train.shape)\n",
    "print(features_test.shape, labels_test.shape)"
   ]
  },
  {
   "cell_type": "code",
   "execution_count": 100,
   "metadata": {},
   "outputs": [],
   "source": [
    "from sklearn import svm"
   ]
  },
  {
   "cell_type": "code",
   "execution_count": 101,
   "metadata": {},
   "outputs": [],
   "source": [
    "historic_error_train = []\n",
    "historic_error_test = []\n",
    "\n",
    "for C in C_values:\n",
    "    model = svm.LinearSVC(C=C,loss='hinge')\n",
    "    model.fit(features_train, labels_train)\n",
    "    predicted_train = model.predict(features_train)\n",
    "    predicted_test = model.predict(features_test)\n",
    "    error_train = sklearn.metrics.mean_squared_error(labels_train, predicted_train)\n",
    "    error_test = sklearn.metrics.mean_squared_error(labels_test, predicted_test)\n",
    "    historic_error_train.append(error_train)\n",
    "    historic_error_test.append(error_test)"
   ]
  },
  {
   "cell_type": "code",
   "execution_count": 102,
   "metadata": {},
   "outputs": [
    {
     "name": "stderr",
     "output_type": "stream",
     "text": [
      "/usr/local/lib/python2.7/dist-packages/ipykernel_launcher.py:2: MatplotlibDeprecationWarning: pyplot.hold is deprecated.\n",
      "    Future behavior will be consistent with the long-time default:\n",
      "    plot commands add elements without first clearing the\n",
      "    Axes and/or Figure.\n",
      "  \n"
     ]
    },
    {
     "data": {
      "text/plain": [
       "[<matplotlib.lines.Line2D at 0x7fbe2de77790>]"
      ]
     },
     "execution_count": 102,
     "metadata": {},
     "output_type": "execute_result"
    },
    {
     "data": {
      "image/png": "[encoded data removed]",
      "text/plain": [
       "<matplotlib.figure.Figure at 0x7fbe2df50050>"
      ]
     },
     "metadata": {},
     "output_type": "display_data"
    }
   ],
   "source": [
    "plt.plot([i for i in range(-15,11)],historic_error_train)\n",
    "plt.hold(True)\n",
    "plt.plot([i for i in range(-15,11)],historic_error_test)"
   ]
  },
  {
   "cell_type": "markdown",
   "metadata": {},
   "source": [
    "## d)\n",
    "Since all values of $C$ have equal error, we will choose $C = 2^0 = 1$."
   ]
  },
  {
   "cell_type": "code",
   "execution_count": 140,
   "metadata": {},
   "outputs": [],
   "source": [
    "model = svm.LinearSVC(C=1,loss='hinge')\n",
    "model.fit(features_train, labels_train)\n",
    "params = model.get_params()"
   ]
  },
  {
   "cell_type": "code",
   "execution_count": 152,
   "metadata": {},
   "outputs": [
    {
     "name": "stdout",
     "output_type": "stream",
     "text": [
      "(1, 784)\n",
      "[[ 0.00000000e+00  0.00000000e+00  0.00000000e+00  0.00000000e+00\n",
      "   0.00000000e+00  0.00000000e+00  0.00000000e+00  0.00000000e+00\n",
      "   0.00000000e+00  0.00000000e+00  0.00000000e+00  0.00000000e+00\n",
      "   0.00000000e+00  0.00000000e+00  0.00000000e+00  0.00000000e+00\n",
      "   0.00000000e+00  0.00000000e+00  0.00000000e+00  0.00000000e+00\n",
      "   0.00000000e+00  0.00000000e+00  0.00000000e+00  0.00000000e+00\n",
      "   0.00000000e+00  0.00000000e+00  0.00000000e+00  0.00000000e+00\n",
      "   0.00000000e+00  0.00000000e+00  0.00000000e+00  0.00000000e+00\n",
      "   0.00000000e+00  0.00000000e+00  0.00000000e+00  0.00000000e+00\n",
      "   0.00000000e+00  0.00000000e+00  2.11758237e-21  1.69406589e-21\n",
      "  -1.65367392e-04 -9.94011648e-06 -8.47032947e-22  0.00000000e+00\n",
      "   0.00000000e+00  0.00000000e+00  0.00000000e+00  0.00000000e+00\n",
      "   0.00000000e+00  0.00000000e+00 -1.69406589e-21  1.69406589e-21\n",
      "   0.00000000e+00  0.00000000e+00  0.00000000e+00  0.00000000e+00\n",
      "   0.00000000e+00  0.00000000e+00  0.00000000e+00  0.00000000e+00\n",
      "   0.00000000e+00  0.00000000e+00  0.00000000e+00  0.00000000e+00\n",
      "   7.19978005e-21 -1.18174243e-04 -4.22010194e-04 -9.47199965e-05\n",
      "  -3.20773326e-04 -1.44665253e-04 -3.27787879e-04 -3.61227072e-04\n",
      "  -2.69149583e-05 -6.57696212e-07 -9.07620773e-05  7.62329653e-21\n",
      "  -6.45862622e-21 -8.89384595e-21 -3.38813179e-21 -3.38813179e-21\n",
      "   0.00000000e+00  0.00000000e+00  0.00000000e+00  0.00000000e+00\n",
      "   0.00000000e+00  0.00000000e+00  0.00000000e+00  0.00000000e+00\n",
      "   0.00000000e+00 -1.31539242e-05 -1.01804057e-05 -2.47238424e-04\n",
      "  -3.50780897e-04 -5.22494489e-04 -6.81916770e-04 -4.62802753e-04\n",
      "  -1.13475935e-03 -1.22703655e-03 -8.77657328e-04 -1.23483137e-03\n",
      "  -8.48063058e-04 -5.87578328e-04 -3.00013218e-04 -2.79239745e-04\n",
      "  -2.03481429e-04 -6.87776696e-05 -1.09452636e-04 -7.69126628e-05\n",
      "   2.06464281e-21  0.00000000e+00  0.00000000e+00  0.00000000e+00\n",
      "   0.00000000e+00  0.00000000e+00  0.00000000e+00  0.00000000e+00\n",
      "  -6.71000120e-05 -1.19263913e-04 -1.09594520e-04 -3.67948948e-04\n",
      "  -4.75277936e-04 -1.06021561e-03 -3.59224959e-04 -2.51201802e-04\n",
      "  -4.35403668e-04 -6.08314474e-04 -6.63659313e-04  2.65456448e-04\n",
      "   5.56257237e-04  4.22707231e-04 -6.26017310e-04 -6.91140532e-04\n",
      "  -5.18033675e-04 -4.05065954e-04 -1.90146678e-04 -1.86365298e-04\n",
      "   0.00000000e+00  0.00000000e+00  0.00000000e+00  0.00000000e+00\n",
      "   0.00000000e+00  0.00000000e+00  0.00000000e+00  0.00000000e+00\n",
      "  -3.03813943e-04 -3.24941924e-04 -1.58717954e-04 -4.26539779e-04\n",
      "  -5.21003141e-04 -5.78100332e-04 -5.19683496e-05  1.09007436e-03\n",
      "   8.80743211e-04  6.48762286e-04  3.03915925e-04 -2.62872077e-04\n",
      "   2.33424481e-04  8.18653392e-04  5.45903346e-04 -9.72738485e-04\n",
      "  -2.27238716e-04 -3.45862251e-04 -5.21253504e-04 -3.72639604e-04\n",
      "  -2.16805789e-04 -2.06481703e-05  0.00000000e+00  0.00000000e+00\n",
      "   0.00000000e+00  0.00000000e+00  0.00000000e+00  0.00000000e+00\n",
      "  -4.36150078e-04 -2.55888822e-04 -5.55289874e-05 -3.07055144e-04\n",
      "   2.11050306e-04  8.75693062e-05  7.63030941e-04  5.61522006e-04\n",
      "   4.99590487e-04  6.88969821e-04  1.41153816e-03  8.33213584e-04\n",
      "   9.97239607e-04  1.46096832e-03  8.83669950e-04 -2.54205932e-04\n",
      "   6.23934228e-04  8.22313644e-04  2.18827625e-04  5.59379318e-04\n",
      "   1.61395604e-04  6.04044147e-06  0.00000000e+00  0.00000000e+00\n",
      "   0.00000000e+00  0.00000000e+00  0.00000000e+00  0.00000000e+00\n",
      "  -4.73427862e-04 -1.51201331e-04  1.60413522e-04 -1.09036729e-04\n",
      "   3.75109932e-04 -1.11259383e-04  7.11819532e-04  4.42268856e-04\n",
      "   2.44930167e-06  5.67307959e-04  1.89296366e-04  1.03312684e-03\n",
      "   1.04719298e-03  4.66357792e-04  5.09700848e-04  2.40931919e-04\n",
      "   1.56644889e-03  8.06486905e-04  4.35978216e-04  8.02263746e-04\n",
      "   8.44414297e-04  5.10945744e-04  0.00000000e+00  0.00000000e+00\n",
      "   0.00000000e+00  0.00000000e+00  0.00000000e+00  0.00000000e+00\n",
      "  -4.57866115e-04 -1.69962735e-05  3.81156765e-04 -4.01217140e-05\n",
      "   7.42360053e-04  2.78706612e-04  2.03883108e-05  4.09181524e-04\n",
      "  -1.70651771e-04  6.72008165e-04  8.20670186e-05  4.83815544e-04\n",
      "   1.52262398e-03  8.84414835e-04  1.11752966e-03 -1.82384565e-04\n",
      "   3.74430697e-04 -2.28255244e-04  2.98141492e-04  3.59911769e-04\n",
      "   6.21416002e-04  3.76578411e-04  0.00000000e+00  0.00000000e+00\n",
      "   0.00000000e+00  0.00000000e+00  0.00000000e+00  0.00000000e+00\n",
      "  -3.05223458e-04  1.49664805e-04  9.00281886e-04  7.28392131e-04\n",
      "  -5.37101222e-05  2.03080974e-04  4.20573050e-04  7.23551245e-05\n",
      "   8.45647497e-04  4.53843247e-04  9.05874592e-04  1.52032990e-03\n",
      "   9.20118997e-04  4.04144352e-04  9.18489196e-04  1.01995203e-03\n",
      "   3.43568373e-05 -1.28747741e-04  4.48067538e-04  8.70981186e-05\n",
      "  -3.79326850e-05  5.60275711e-06  0.00000000e+00  0.00000000e+00\n",
      "   0.00000000e+00  0.00000000e+00  0.00000000e+00  0.00000000e+00\n",
      "  -3.19569428e-05  9.36796459e-04  8.60027659e-04  5.66184331e-04\n",
      "   5.07071772e-04  7.45669615e-04  6.97385201e-04 -1.20961977e-04\n",
      "   4.56443834e-04 -2.07834435e-04  1.83343347e-04  3.99815607e-04\n",
      "   7.76447995e-04  1.72811313e-04  5.93415505e-04  1.41608718e-03\n",
      "   1.33309832e-03 -1.39218896e-04 -3.99552389e-05 -3.20116685e-04\n",
      "  -4.36001191e-04 -8.81905782e-05  0.00000000e+00  0.00000000e+00\n",
      "   0.00000000e+00  0.00000000e+00  5.96418867e-05  0.00000000e+00\n",
      "   3.34691840e-04  7.73755219e-04  5.38166581e-04  1.17246154e-04\n",
      "   5.81365934e-04  5.50883481e-04  8.42636273e-04  5.49701600e-04\n",
      "   8.15926862e-04 -2.50359246e-04  3.65022215e-04  9.77358969e-04\n",
      "   1.62482828e-04  2.53817549e-04  6.03636370e-05  2.88000019e-04\n",
      "   3.98779484e-04 -4.94844975e-04 -3.64849333e-05  4.23283060e-05\n",
      "  -6.11154957e-04 -2.96111535e-04  0.00000000e+00  0.00000000e+00\n",
      "   0.00000000e+00  0.00000000e+00  1.46291420e-05  4.23516474e-22\n",
      "   7.72534249e-04  6.76233785e-04  4.32594845e-04  3.51456304e-04\n",
      "   8.95460062e-04 -2.24875923e-04 -9.66442524e-04 -2.16979483e-04\n",
      "  -4.95594975e-04 -8.62695309e-04  6.52837401e-04  1.58055744e-04\n",
      "   1.07134497e-03  1.15704838e-03 -2.10017086e-04  8.62909580e-05\n",
      "   2.20462381e-04 -1.63157648e-04 -1.03451293e-04  2.10664081e-04\n",
      "  -5.12411722e-04 -2.88635100e-04  0.00000000e+00  0.00000000e+00\n",
      "   0.00000000e+00  0.00000000e+00  0.00000000e+00  2.37322130e-05\n",
      "   8.28375198e-04  2.33241964e-04  4.59076195e-04  4.23912279e-04\n",
      "   3.99808700e-04 -1.28350186e-03  5.28020890e-04 -8.84948157e-04\n",
      "  -5.67560644e-04 -6.77178441e-04  1.60365981e-04 -1.07494390e-04\n",
      "   3.40362790e-04  3.33533391e-04  3.97229510e-04 -8.34805445e-04\n",
      "   6.70522927e-04 -7.36155555e-04  1.38434220e-04 -5.06797453e-04\n",
      "  -7.38563438e-04 -1.10484235e-04  0.00000000e+00  0.00000000e+00\n",
      "   0.00000000e+00  0.00000000e+00  0.00000000e+00  4.10228254e-05\n",
      "   9.89916297e-04  4.35456355e-04 -1.25845800e-05 -2.61584997e-04\n",
      "  -1.21528642e-05 -3.35269196e-04 -3.19019695e-05 -4.40718763e-04\n",
      "  -1.49360089e-03 -1.64867890e-04  2.70105710e-04 -4.08953708e-04\n",
      "   4.73042597e-04  1.19868338e-03 -3.70010733e-05  6.58823161e-04\n",
      "   5.16666865e-04 -5.03276991e-05 -9.77512842e-05 -8.53667585e-04\n",
      "  -7.44527004e-04 -2.58623699e-05  0.00000000e+00  0.00000000e+00\n",
      "   0.00000000e+00  0.00000000e+00  0.00000000e+00  1.42936810e-21\n",
      "   5.06195974e-04  1.74350742e-05  6.39685692e-05 -1.63267095e-04\n",
      "   6.60875041e-04  1.94237317e-04 -3.92724376e-05 -1.03487819e-03\n",
      "  -2.71731526e-04  1.09456283e-04 -8.66120139e-05  1.20128681e-04\n",
      "   4.94958695e-04  1.02179026e-03  2.16882715e-04 -3.46639676e-04\n",
      "   5.33560169e-04  1.50590252e-05 -3.07709279e-04 -2.61874213e-04\n",
      "  -5.06111766e-04 -1.66357947e-04 -1.05879118e-22  0.00000000e+00\n",
      "   0.00000000e+00  0.00000000e+00  0.00000000e+00  2.64697796e-23\n",
      "   2.01349856e-04 -4.75312720e-04 -2.80130270e-04 -2.31496923e-04\n",
      "  -2.35244084e-04 -8.04464295e-04 -5.40133460e-04 -1.44264811e-03\n",
      "   5.32456852e-05  5.12882964e-04 -8.06829307e-04 -4.06442835e-04\n",
      "  -1.04867193e-03  1.82580731e-04 -1.06880855e-03 -3.88141413e-05\n",
      "   9.80135637e-04 -4.46767907e-04 -3.50934690e-04 -3.18672568e-04\n",
      "  -4.09950187e-04 -1.76842692e-04  0.00000000e+00  0.00000000e+00\n",
      "   0.00000000e+00  0.00000000e+00  0.00000000e+00  0.00000000e+00\n",
      "  -5.90037450e-05 -4.43014752e-04 -6.53223343e-04 -5.73397534e-04\n",
      "  -6.47693938e-04 -8.06831159e-04 -8.88696796e-04 -3.66032129e-04\n",
      "  -1.03770878e-03  3.27403122e-05  5.78645360e-05 -3.70881580e-05\n",
      "   3.18474445e-04 -6.08267154e-05 -8.92162894e-04 -2.37222909e-04\n",
      "   2.45524590e-04 -9.39656349e-04 -3.40665745e-04 -6.39153369e-04\n",
      "  -4.86900487e-05 -7.75871098e-05  0.00000000e+00  0.00000000e+00\n",
      "   0.00000000e+00  0.00000000e+00  0.00000000e+00  0.00000000e+00\n",
      "  -8.08556692e-05 -3.79479581e-04 -9.86088572e-05 -9.63748237e-04\n",
      "  -6.55012265e-04 -6.83618174e-04 -5.83311199e-04 -4.39418972e-04\n",
      "  -1.41626831e-03 -6.47139062e-05  8.82955567e-04 -1.69390214e-04\n",
      "  -4.28359499e-04 -2.50515095e-06 -8.69101564e-04 -9.20866075e-04\n",
      "  -2.66464830e-04 -3.12166183e-04 -6.11896675e-04 -1.31927183e-04\n",
      "   3.72383825e-04 -2.90121823e-06  0.00000000e+00  0.00000000e+00\n",
      "   0.00000000e+00  0.00000000e+00  0.00000000e+00  0.00000000e+00\n",
      "  -9.13552377e-05 -2.86815545e-04 -1.15001913e-04 -1.05242556e-04\n",
      "  -5.12091592e-04 -9.55102121e-04 -1.48914185e-03 -1.78849186e-03\n",
      "  -9.41118191e-04 -4.24355419e-05 -5.41744504e-04 -3.79060748e-04\n",
      "   1.45086283e-04 -1.96501299e-05 -6.61438041e-04 -3.76895601e-04\n",
      "  -1.77666043e-04 -7.35103774e-04 -5.11245891e-04  4.84319795e-04\n",
      "   8.91109877e-04  8.36470836e-06  0.00000000e+00  0.00000000e+00\n",
      "   0.00000000e+00  0.00000000e+00  0.00000000e+00  0.00000000e+00\n",
      "  -2.58921314e-05  4.79895879e-05  5.87075722e-05 -4.97539562e-04\n",
      "  -1.92310033e-04 -4.26837217e-05 -8.76126375e-04 -1.06450788e-03\n",
      "  -1.02990001e-03 -1.36232476e-03 -1.88814818e-04 -7.47167456e-04\n",
      "  -5.31786504e-04  8.16027591e-04  3.24119299e-05  1.05649548e-04\n",
      "  -8.41273098e-04 -5.11931380e-04 -2.11637581e-04  7.49765614e-04\n",
      "   1.12960945e-03  1.78795641e-04  0.00000000e+00  0.00000000e+00\n",
      "   0.00000000e+00  0.00000000e+00  0.00000000e+00  0.00000000e+00\n",
      "   7.14684049e-22  2.35883546e-04  2.88499162e-04 -1.61887131e-04\n",
      "  -1.83328977e-04 -9.59428329e-04 -4.15523723e-04 -1.26484125e-03\n",
      "  -9.16041121e-04 -9.95715580e-04 -7.51757357e-04  4.28317101e-04\n",
      "  -7.26030728e-05 -1.80842232e-04  4.89130663e-04 -1.12450745e-03\n",
      "  -7.38946744e-04  2.20699042e-04  3.10193213e-04  6.72345686e-04\n",
      "   9.05298740e-04  6.27353127e-06  0.00000000e+00  0.00000000e+00\n",
      "   0.00000000e+00  0.00000000e+00  0.00000000e+00  0.00000000e+00\n",
      "   0.00000000e+00  1.77588898e-04  2.62188090e-04  4.95962239e-04\n",
      "   2.77629821e-04 -3.41390332e-04 -6.81656206e-04 -2.60908652e-04\n",
      "  -1.06325996e-03 -9.53262411e-04 -8.55787112e-04 -7.10197449e-04\n",
      "  -9.52230687e-05 -3.14441679e-04 -1.21035000e-03 -1.47642705e-03\n",
      "   4.40177043e-04  6.24748556e-04  5.53759766e-04  5.54381087e-04\n",
      "   8.99025209e-04  7.62329653e-21  0.00000000e+00  0.00000000e+00\n",
      "   0.00000000e+00  0.00000000e+00  0.00000000e+00  0.00000000e+00\n",
      "  -1.05879118e-22  7.34261789e-05  1.77575674e-04  3.84671870e-04\n",
      "   9.39493500e-04  1.01759452e-03  8.37582095e-04  8.79366785e-04\n",
      "  -3.12680217e-04 -2.52462526e-04 -9.21375048e-04  6.90573640e-04\n",
      "   5.04786539e-04  2.74632513e-04 -3.65601173e-04  1.55934617e-04\n",
      "   6.09268718e-04  7.93795950e-04  4.98419784e-04  3.48831391e-04\n",
      "   8.99025209e-04 -6.35274710e-22  0.00000000e+00  0.00000000e+00\n",
      "   0.00000000e+00  0.00000000e+00  0.00000000e+00  0.00000000e+00\n",
      "  -5.61159328e-21  5.53747789e-20  1.09785173e-04  3.42503841e-04\n",
      "   6.18877811e-04  6.29893674e-04  1.10084625e-03  2.02164721e-03\n",
      "   1.43549832e-03  1.52890525e-03  6.39804097e-04  9.79067169e-04\n",
      "  -4.04078210e-04  3.47010776e-04  4.62409914e-04  5.13792618e-04\n",
      "   6.80011016e-04  9.55761489e-04  6.50396059e-04  3.46981126e-04\n",
      "   1.37642854e-21  0.00000000e+00  0.00000000e+00  0.00000000e+00\n",
      "   0.00000000e+00  0.00000000e+00  0.00000000e+00  0.00000000e+00\n",
      "   4.23516474e-22 -6.98802181e-21  1.93095095e-04  3.52061606e-04\n",
      "   2.33703902e-04  4.25994240e-04  9.74963498e-04  7.00869472e-04\n",
      "   1.88663980e-04  5.90916523e-04  5.62324151e-04  2.95682334e-04\n",
      "   2.99523861e-04  6.53236485e-04  3.81179790e-04  4.03514075e-04\n",
      "   3.75673115e-04  2.88657265e-04 -9.74087889e-21  1.05879118e-21\n",
      "   1.32348898e-22  0.00000000e+00  0.00000000e+00  0.00000000e+00\n",
      "   0.00000000e+00  0.00000000e+00  0.00000000e+00  0.00000000e+00\n",
      "   0.00000000e+00  4.14169822e-05  3.26903807e-04  2.11515153e-04\n",
      "   1.87491493e-05  5.82335151e-22  4.49986253e-21  5.23952653e-08\n",
      "   5.82543852e-05  1.64604871e-05  1.35838296e-04  2.31778341e-04\n",
      "  -5.50571416e-21  2.37114294e-05  1.03668575e-04  9.47782344e-05\n",
      "   2.65178726e-04  2.58912571e-04  0.00000000e+00  0.00000000e+00\n",
      "   0.00000000e+00  0.00000000e+00  0.00000000e+00  0.00000000e+00\n",
      "   0.00000000e+00  0.00000000e+00  0.00000000e+00  0.00000000e+00\n",
      "   0.00000000e+00  0.00000000e+00  0.00000000e+00  0.00000000e+00\n",
      "   0.00000000e+00  0.00000000e+00  0.00000000e+00  0.00000000e+00\n",
      "  -5.08219768e-21  3.07049443e-21 -1.90582413e-21  0.00000000e+00\n",
      "   0.00000000e+00  0.00000000e+00  0.00000000e+00  0.00000000e+00\n",
      "   0.00000000e+00  0.00000000e+00  0.00000000e+00  0.00000000e+00\n",
      "   0.00000000e+00  0.00000000e+00  0.00000000e+00  0.00000000e+00]]\n"
     ]
    }
   ],
   "source": [
    "weights = model.coef_\n",
    "print(weights.shape)\n",
    "print(weights)"
   ]
  },
  {
   "cell_type": "markdown",
   "metadata": {},
   "source": [
    "## e)"
   ]
  },
  {
   "cell_type": "code",
   "execution_count": 157,
   "metadata": {},
   "outputs": [
    {
     "data": {
      "text/plain": [
       "<matplotlib.collections.PolyCollection at 0x7fbe308a2910>"
      ]
     },
     "execution_count": 157,
     "metadata": {},
     "output_type": "execute_result"
    },
    {
     "data": {
      "image/png": "[encoded data removed]",
      "text/plain": [
       "<matplotlib.figure.Figure at 0x7fbe30a45090>"
      ]
     },
     "metadata": {},
     "output_type": "display_data"
    }
   ],
   "source": [
    "matrix_weights = weights.reshape((28,28))\n",
    "plt.pcolor(matrix_weights)"
   ]
  },
  {
   "cell_type": "code",
   "execution_count": null,
   "metadata": {},
   "outputs": [],
   "source": []
  }
 ],
 "metadata": {
  "kernelspec": {
   "display_name": "Python 3",
   "language": "python",
   "name": "python3"
  },
  "language_info": {
   "codemirror_mode": {
    "name": "ipython",
    "version": 3
   },
   "file_extension": ".py",
   "mimetype": "text/x-python",
   "name": "python",
   "nbconvert_exporter": "python",
   "pygments_lexer": "ipython3",
   "version": "3.6.4"
  }
 },
 "nbformat": 4,
 "nbformat_minor": 2
}
