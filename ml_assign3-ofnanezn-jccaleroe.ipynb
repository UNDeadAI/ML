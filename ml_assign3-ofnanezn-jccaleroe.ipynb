{
 "cells": [
  {
   "cell_type": "markdown",
   "metadata": {},
   "source": [
    "# Machine Learning - Assignment 3\n",
    "\n",
    "### Oscar Fabián Ñáñez Núñez - Juan Camilo Calero Espinosa\n",
    "### ofnanezn - jccaleroe"
   ]
  },
  {
   "cell_type": "code",
   "execution_count": 2,
   "metadata": {},
   "outputs": [],
   "source": [
    "from sklearn.datasets import fetch_mldata\n",
    "from sklearn.preprocessing import scale\n",
    "import sklearn\n",
    "import matplotlib.pyplot as plt\n",
    "import numpy as np\n",
    "from numpy import linalg as AL\n",
    "from sklearn.kernel_approximation import RBFSampler\n",
    "from sklearn import svm\n",
    "from sklearn.feature_extraction.text import CountVectorizer\n",
    "from sklearn.feature_extraction.text import TfidfTransformer\n",
    "from sklearn.metrics import accuracy_score\n",
    "import plotly\n",
    "plotly.tools.set_credentials_file(username='jccaleroe', api_key='31jq72ObDKXbhBSSm4bF')\n",
    "import plotly.plotly as py\n",
    "import plotly.graph_objs as go"
   ]
  },
  {
   "cell_type": "markdown",
   "metadata": {},
   "source": [
    "## 1."
   ]
  },
  {
   "cell_type": "markdown",
   "metadata": {},
   "source": [
    "## a)\n",
    "To obtain the feature space of each kernel, the formula given in the assigment was implemented:\n",
    "$$ \\overline{d} = \\frac{1}{n}\\sum_{i=1}^{n}\\left\\Vert \\phi(x_{i})-\\phi_{S}\\left(\\mathrm{x}\\right)\\right\\Vert _{\\phi(\\mathrm{X})}$$\n",
    "$$\\quad \\quad \\quad = \\frac{1}{n}\\sum_{i=1}^{n}\\left\\Vert \\phi(x_{i})-\\frac{1}{n}\\sum_{j=1}^{n}\\phi(x_{j})\\right\\Vert _{\\phi\\left(\\mathrm{X}\\right)} $$"
   ]
  },
  {
   "cell_type": "code",
   "execution_count": 5,
   "metadata": {},
   "outputs": [],
   "source": [
    "def massFuntion(phi, x):\n",
    "    return np.sum(np.array( [ phi(X) for X in x ] ), axis=0 ) / x.shape[0]"
   ]
  },
  {
   "cell_type": "code",
   "execution_count": 6,
   "metadata": {},
   "outputs": [],
   "source": [
    "def averageDistance(phi, x):\n",
    "    s = massFuntion(phi, x)\n",
    "    return np.sum([AL.norm(phi(X) - s) for X in x ]) / x.shape[0]    "
   ]
  },
  {
   "cell_type": "markdown",
   "metadata": {},
   "source": [
    "## b)"
   ]
  },
  {
   "cell_type": "code",
   "execution_count": 7,
   "metadata": {},
   "outputs": [],
   "source": [
    "#<x,y>\n",
    "def phi1(x):\n",
    "    return np.array([x[0], x[1]])"
   ]
  },
  {
   "cell_type": "code",
   "execution_count": 8,
   "metadata": {},
   "outputs": [],
   "source": [
    "#(<x,y>)^2\n",
    "def phi2(x):\n",
    "    return np.array([x[0]**2, np.sqrt(2)*x[0]*x[1], x[1]**2])"
   ]
  },
  {
   "cell_type": "code",
   "execution_count": 9,
   "metadata": {},
   "outputs": [],
   "source": [
    "#(<x,y>+1)^5\n",
    "#x1^10 + 5 x1^8 x2^2 + 5 x1^8 + 10 x1^6 x2^4 + 20 x1^6 x2^2 + 10 x1^6 + 10 x1^4 x2^6 + 30 x1^4 x2^4 + 30 x1^4 x2^2 + 10 x1^4 + 5 x1^2 x2^8 + 20 x1^2 x2^6 + 30 x1^2 x2^4 + 20 x1^2 x2^2 + 5 x1^2 + x2^10 + 5 x2^8 + 10 x2^6 + 10 x2^4 + 5 x2^2 + 1\n",
    "def phi3(x):\n",
    "    x1 = x[0]\n",
    "    x2 = x[1]\n",
    "    return np.array([x1**5, np.sqrt(5)*(x1**4)*(x2), np.sqrt(5)*(x1**4), np.sqrt(10)*(x1**3)*(x2**2), \n",
    "                     np.sqrt(20)*(x1**3)*x2, np.sqrt(10)*(x1**3), np.sqrt(10)*(x1**2)*(x2**3), \n",
    "                     np.sqrt(30)*(x1**2)*(x2**2), np.sqrt(30)*(x1**2)*x2 , np.sqrt(10)*(x1**2), \n",
    "                     np.sqrt(5)*x1*(x2**4), np.sqrt(20)*x1*(x2**3), np.sqrt(30)*x1*(x2**2), np.sqrt(20)*x1*x2, \n",
    "                     np.sqrt(5)*x1, x2**5, np.sqrt(5)*(x2**4), np.sqrt(10)*(x2**3), np.sqrt(10)*(x2**2), np.sqrt(5)*x2 , 1])"
   ]
  },
  {
   "cell_type": "code",
   "execution_count": 10,
   "metadata": {},
   "outputs": [
    {
     "name": "stdout",
     "output_type": "stream",
     "text": [
      "Average distance to center of mass with kernels:\n",
      "\n",
      "('Lineal kernel =>', 2.5218896377192297)\n",
      "('Squared kernel =>', 7.93374823939363)\n",
      "('Polynomial kernel =>', 699.7672616263939)\n",
      "('Gaussian kernel =>', 0.8770336212133835)\n"
     ]
    }
   ],
   "source": [
    "x = np.array([[0,1], [-1,3], [2,4], [3,-1], [-1,-2]])\n",
    "\n",
    "print(\"Average distance to center of mass with kernels:\\n\")\n",
    "print(\"Lineal kernel =>\", averageDistance(phi1, x))\n",
    "print(\"Squared kernel =>\", averageDistance(phi2, x))\n",
    "print(\"Polynomial kernel =>\", averageDistance(phi3, x))\n",
    "\n",
    "##Gaussian\n",
    "rbf_feature = RBFSampler(gamma=1, random_state=1)\n",
    "p = rbf_feature.fit_transform(x)\n",
    "s = np.sum(p, axis=0) / x.shape[0]\n",
    "print(\"Gaussian kernel =>\", np.sum([AL.norm(X - s) for X in p]) / x.shape[0])"
   ]
  },
  {
   "cell_type": "markdown",
   "metadata": {},
   "source": [
    "## 2.\n",
    "\n",
    "## a)"
   ]
  },
  {
   "cell_type": "code",
   "execution_count": 11,
   "metadata": {},
   "outputs": [
    {
     "name": "stdout",
     "output_type": "stream",
     "text": [
      "(70000, 784)\n",
      "(70000,)\n"
     ]
    }
   ],
   "source": [
    "mnist = fetch_mldata('MNIST original')\n",
    "mnist_features = mnist[\"data\"]\n",
    "mnist_label = mnist[\"target\"]\n",
    "print(mnist_features.shape)\n",
    "print(mnist_label.shape)"
   ]
  },
  {
   "cell_type": "markdown",
   "metadata": {},
   "source": [
    "Taking some sample images:"
   ]
  },
  {
   "cell_type": "code",
   "execution_count": 21,
   "metadata": {},
   "outputs": [
    {
     "data": {
      "text/plain": [
       "<matplotlib.text.Text at 0x7f2573718150>"
      ]
     },
     "execution_count": 21,
     "metadata": {},
     "output_type": "execute_result"
    },
    {
     "data": {
      "image/png": "[encoded data removed]",
      "text/plain": [
       "<matplotlib.figure.Figure at 0x7f2579b2d3d0>"
      ]
     },
     "metadata": {},
     "output_type": "display_data"
    }
   ],
   "source": [
    "plt.subplot(1, 4, 1)\n",
    "plt.imshow(mnist_features[1000].reshape(28,28))\n",
    "plt.title(str(mnist_label[1000]))\n",
    "plt.subplot(1, 4, 2)\n",
    "plt.imshow(mnist_features[10000].reshape(28,28))\n",
    "plt.title(str(mnist_label[10000]))\n",
    "plt.subplot(1, 4, 3)\n",
    "plt.imshow(mnist_features[25000].reshape(28,28))\n",
    "plt.title(str(mnist_label[25000]))\n",
    "plt.subplot(1, 4, 4)\n",
    "plt.imshow(mnist_features[50000].reshape(28,28))\n",
    "plt.title(str(mnist_label[50000]))"
   ]
  },
  {
   "cell_type": "markdown",
   "metadata": {},
   "source": [
    "## b)"
   ]
  },
  {
   "cell_type": "code",
   "execution_count": 22,
   "metadata": {},
   "outputs": [
    {
     "name": "stderr",
     "output_type": "stream",
     "text": [
      "/usr/local/lib/python2.7/dist-packages/sklearn/utils/validation.py:475: DataConversionWarning: Data with input dtype uint8 was converted to float64 by the scale function.\n",
      "  warnings.warn(msg, DataConversionWarning)\n"
     ]
    }
   ],
   "source": [
    "mnist_normalized = scale(mnist_features)"
   ]
  },
  {
   "cell_type": "code",
   "execution_count": 23,
   "metadata": {},
   "outputs": [
    {
     "name": "stdout",
     "output_type": "stream",
     "text": [
      "MNIST Normalized Mean:\n",
      "[ 0.00000000e+00  0.00000000e+00  0.00000000e+00  0.00000000e+00\n",
      "  0.00000000e+00  0.00000000e+00  0.00000000e+00  0.00000000e+00\n",
      "  0.00000000e+00  0.00000000e+00  0.00000000e+00  0.00000000e+00\n",
      " -8.90297954e-16  1.37035621e-15  3.46195430e-15  1.85119228e-15\n",
      "  0.00000000e+00  0.00000000e+00  0.00000000e+00  0.00000000e+00\n",
      "  0.00000000e+00  0.00000000e+00  0.00000000e+00  0.00000000e+00\n",
      "  0.00000000e+00  0.00000000e+00  0.00000000e+00  0.00000000e+00\n",
      "  0.00000000e+00  0.00000000e+00  0.00000000e+00  0.00000000e+00\n",
      "  1.66164811e-15 -3.96895770e-15 -1.04125612e-15 -3.21838528e-15\n",
      "  2.96320657e-16  1.94626101e-15  6.56149450e-15  7.37403432e-15\n",
      " -8.95523655e-15 -1.17649416e-14 -7.39276874e-15  9.30961023e-15\n",
      "  3.57000094e-15  1.63714884e-14 -2.70308924e-15 -5.43929257e-15\n",
      "  1.83800445e-15  2.36091503e-15  1.64787886e-15  2.94463957e-16\n",
      "  0.00000000e+00  0.00000000e+00  0.00000000e+00  0.00000000e+00\n",
      "  0.00000000e+00  0.00000000e+00  1.65354324e-15  2.82215677e-15\n",
      " -5.51613680e-15 -7.45300012e-15 -2.79612405e-15 -4.92164870e-15\n",
      "  5.16181007e-15 -1.87797807e-14  4.39600737e-16 -1.98468222e-14\n",
      "  8.63823100e-15  5.36429238e-14  2.13597394e-16  4.13161600e-14\n",
      " -6.27048572e-15  4.62956657e-15 -4.79194069e-14 -4.20037255e-14\n",
      " -1.98280341e-14 -1.88553369e-14  8.94005505e-15 -9.61892421e-15\n",
      " -5.96879936e-16  2.20343079e-15  0.00000000e+00  0.00000000e+00\n",
      "  0.00000000e+00  0.00000000e+00  4.39460299e-16 -3.49650274e-15\n",
      " -2.59631557e-15  1.41066077e-15 -8.02318608e-15  6.75317917e-15\n",
      " -1.29004791e-14 -2.70869347e-14  3.40025619e-14  2.34354782e-14\n",
      "  3.31134477e-14  4.85251125e-15 -8.24200628e-15  3.13930310e-15\n",
      " -2.44637596e-14  4.62675533e-15 -1.53380990e-14 -1.74355601e-14\n",
      " -5.78278116e-14  2.05894956e-14  9.00296108e-15 -1.48794056e-14\n",
      "  1.24886962e-14  1.29341062e-15 -1.33982436e-15  0.00000000e+00\n",
      "  0.00000000e+00  4.04558567e-16  1.80177951e-15 -1.78820902e-15\n",
      " -4.39411672e-15 -1.20172784e-14  2.64938738e-14  1.55507642e-14\n",
      " -2.92511959e-14  2.95341029e-14 -6.73601873e-14  6.06555917e-15\n",
      "  7.23816118e-14  9.72869959e-14  3.09725610e-14 -1.11257844e-13\n",
      " -5.65475793e-14  5.15260136e-14  2.01082468e-14 -1.56481764e-14\n",
      "  1.02035570e-14 -1.26501476e-14  1.58254996e-14 -2.80788127e-14\n",
      " -9.91248631e-15 -4.00346978e-15 -6.46721273e-15  4.62346505e-16\n",
      "  0.00000000e+00  1.58292549e-15 -1.03256852e-15 -8.96487943e-16\n",
      " -4.45556945e-15  6.85838172e-15 -3.73939483e-14 -3.52665682e-14\n",
      " -2.68752274e-14 -8.69895568e-14 -5.71749775e-14  7.67353292e-14\n",
      " -5.57077781e-14  4.35491040e-14  3.12502183e-14 -4.71325106e-14\n",
      "  1.85159348e-14 -4.21563134e-14 -8.59731365e-14 -1.67835777e-14\n",
      "  5.63218837e-15  2.41702705e-14 -2.98400685e-14 -2.64541008e-15\n",
      " -3.51035336e-14 -1.16192659e-14 -5.52269738e-15  3.90136153e-15\n",
      "  0.00000000e+00 -2.55279329e-16 -5.06510855e-15 -1.16099836e-14\n",
      " -2.13275707e-15 -7.32047439e-15  3.52919321e-14 -1.37113194e-14\n",
      "  4.32894625e-14  5.33353441e-14  4.75381480e-14 -3.55530684e-14\n",
      " -2.03520217e-14  4.58408549e-15 -1.94294168e-14  4.29272839e-14\n",
      " -1.06478485e-14  2.40768548e-14  5.34438049e-14 -4.62584923e-14\n",
      "  2.77339485e-14  1.28367832e-14 -1.75551320e-15 -2.80584595e-14\n",
      " -4.14412401e-14  1.72450685e-14 -5.27187361e-15 -3.55026529e-15\n",
      " -1.49423756e-15  1.79146187e-15 -3.08813798e-15 -1.02372593e-14\n",
      "  2.11474921e-14  4.21274539e-14 -3.10804144e-14 -5.05726461e-14\n",
      "  1.08954385e-14 -1.53944381e-14 -1.51910992e-14  8.94673542e-15\n",
      " -1.16123809e-14  5.12702262e-15 -1.74446489e-15  1.68906960e-14\n",
      "  4.18951921e-14  3.21449343e-14  2.68365393e-14 -2.09369760e-14\n",
      " -4.45101353e-14 -2.06745549e-14 -9.18688300e-15  2.90281370e-14\n",
      "  5.10517723e-14  4.29256610e-14  2.62528352e-15  3.84772407e-15\n",
      " -1.15462535e-15 -1.44396687e-15  1.98370709e-14  2.00457746e-14\n",
      "  2.65952649e-14 -4.71153037e-15  3.93024502e-15 -2.29362355e-14\n",
      " -2.32469441e-14  8.95123975e-15  8.07492454e-14  8.13751701e-14\n",
      "  4.81437430e-15  3.08411201e-14 -1.17985272e-14  4.76857284e-15\n",
      " -1.83286053e-14  1.31271010e-14  1.05144845e-14  4.06492300e-15\n",
      "  8.83394310e-15  1.37389306e-14 -2.27558242e-14  1.19883904e-14\n",
      "  2.05579490e-14  3.20909767e-14  1.78406948e-14 -1.36939155e-15\n",
      "  3.67408725e-15  5.25019938e-15 -1.70636630e-14  4.33005596e-14\n",
      "  4.12736734e-14 -2.90487896e-14  3.49244126e-14 -1.47122489e-14\n",
      " -5.39806009e-14 -9.08180610e-14 -1.02455631e-14  5.19216281e-14\n",
      " -5.56177009e-14 -3.82535527e-14  1.55014319e-14 -3.97772291e-16\n",
      "  2.20563599e-14 -3.11765851e-15 -1.02103595e-14  1.95440838e-14\n",
      " -9.77984677e-15  2.72141801e-14  1.63044816e-15 -3.12209441e-14\n",
      " -1.44016418e-14 -1.79104902e-14  1.01538276e-14 -4.56916231e-15\n",
      " -2.02122297e-16  7.34482624e-15  1.22798186e-14 -4.35350085e-14\n",
      "  2.70798217e-14  4.41120886e-14  4.47772914e-14  3.54946104e-14\n",
      " -5.51532312e-14 -3.95689672e-15 -4.57352910e-14 -4.30031407e-14\n",
      " -1.27445039e-14  1.51436482e-15  2.12625917e-14 -6.42478134e-14\n",
      "  1.87911591e-15 -1.05368254e-14 -1.27708955e-15 -1.02747176e-14\n",
      " -1.61281084e-14 -4.18627767e-14 -6.28812899e-14 -4.98728313e-14\n",
      "  5.57410705e-15  1.17152621e-14  1.05059523e-14 -4.13099084e-15\n",
      " -1.21723757e-15 -5.87446768e-15  2.20826998e-14 -2.28939685e-15\n",
      "  4.21822839e-14 -2.63256464e-14 -4.76934365e-14 -1.91746071e-14\n",
      "  4.22290194e-14 -3.04871303e-14  6.37805364e-15  4.08157762e-14\n",
      " -2.92296092e-14  6.48899347e-15  2.17456688e-14 -8.76402855e-14\n",
      "  1.35848697e-14 -4.94473890e-14  2.45489371e-14  2.33278508e-14\n",
      "  7.09158763e-15 -2.29232554e-14  5.46456134e-15  7.57875802e-14\n",
      "  2.55348591e-14  9.58877045e-15  7.04000816e-15  2.17790290e-15\n",
      "  1.60284127e-15  3.75259506e-15 -1.17904932e-14 -2.38041174e-14\n",
      " -2.20632536e-14 -1.28818940e-14  4.77635392e-16 -2.91616318e-14\n",
      " -4.03311860e-14 -2.33759773e-14  2.04809756e-14  1.54954549e-14\n",
      "  2.16972186e-14 -2.88971545e-14 -5.68395902e-14  1.20006132e-14\n",
      " -2.44488477e-14 -7.21811254e-14  7.94926030e-15 -2.27881206e-16\n",
      " -1.16089741e-14  5.72697921e-14  1.42663357e-14  6.61597745e-14\n",
      "  1.19283781e-14  4.18666570e-15 -2.14688882e-16  1.76385553e-15\n",
      "  1.25709003e-15  2.63214416e-15  6.89508450e-15 -1.87662469e-14\n",
      "  2.41068237e-15 -9.36323796e-15 -1.33369791e-14 -4.76146107e-16\n",
      "  1.34653177e-14  3.72411879e-14 -3.66446683e-14 -2.79640596e-14\n",
      " -2.35212389e-14 -1.67817442e-14  1.52126470e-14  5.11293825e-15\n",
      " -7.42955538e-15 -1.63494329e-14  7.42220063e-14 -5.54870467e-14\n",
      "  6.78620969e-15  3.33612122e-14 -7.77782838e-14 -6.64522263e-14\n",
      "  2.88454895e-15 -2.07178501e-15 -3.73829658e-15  5.63431469e-16\n",
      "  4.97138454e-16  1.74019849e-15  9.90932723e-15 -1.80259002e-15\n",
      " -5.06681681e-15 -3.53809061e-14  2.24415090e-14 -1.96901162e-14\n",
      " -4.26258616e-14 -3.18524017e-15 -4.34451522e-15  2.26043374e-14\n",
      " -2.05914183e-14 -1.27713840e-14  1.67878917e-14 -1.12571539e-15\n",
      " -2.76818758e-14  1.05680956e-14 -2.43088660e-14 -1.01306995e-14\n",
      "  3.46595958e-14 -8.23649855e-14 -1.42009658e-14 -2.62276867e-14\n",
      " -3.30432594e-14 -3.52232529e-16  7.89183411e-15  2.63058964e-15\n",
      " -2.95110959e-16 -2.11040963e-15  4.88768381e-15 -4.75224681e-15\n",
      " -7.76760561e-15 -1.04762830e-14  2.08645228e-14  8.24978435e-14\n",
      " -2.00397540e-14  4.10058241e-14 -3.27041854e-14 -5.27292035e-14\n",
      " -3.40612173e-14 -8.24876040e-15 -1.21034072e-14  6.77932631e-15\n",
      "  2.25313197e-14  7.99627285e-14  2.60380701e-14  2.68021097e-14\n",
      "  1.02466377e-14 -9.53451175e-14  2.68782139e-14 -1.93890935e-14\n",
      " -3.84371479e-14 -4.12064073e-15 -1.85257025e-14 -6.63515180e-15\n",
      "  1.30497285e-15  1.54773491e-16  7.82524343e-16  1.07930750e-14\n",
      "  5.52349761e-14  1.16184200e-13  1.12737438e-13 -1.62887481e-13\n",
      " -1.58433964e-14 -2.88185349e-15  2.01486922e-14 -4.47997258e-14\n",
      "  2.90201196e-15 -7.42445797e-15 -5.56502622e-15 -1.33485064e-14\n",
      "  9.74324209e-14  2.96516557e-14  2.07281938e-14  3.60239061e-15\n",
      " -4.12952847e-14 -1.36262002e-14 -1.79177292e-14 -5.21424729e-14\n",
      "  2.50361541e-14 -3.02386655e-14 -1.93327388e-14 -2.46348358e-15\n",
      "  0.00000000e+00 -1.50742990e-15 -6.10754939e-15  2.67566112e-14\n",
      " -2.35464981e-14 -6.92323960e-14 -1.59070725e-13 -8.96274610e-14\n",
      "  1.90553002e-14 -5.73727098e-15 -2.14631836e-14 -5.11287060e-14\n",
      "  2.24113791e-14  8.47778038e-15  1.83975057e-15 -2.55979628e-14\n",
      "  4.38802677e-14 -2.19079675e-14  9.77054628e-15 -4.56456682e-14\n",
      "  2.82450856e-14 -6.33829513e-14  4.14823017e-14 -6.80012856e-14\n",
      "  4.15703662e-14 -3.22041957e-15 -1.24181044e-14 -3.27193877e-16\n",
      "  3.44977430e-15 -9.21484293e-16  8.96583185e-15 -4.46074990e-14\n",
      " -1.35934874e-14  1.44692961e-13 -2.79971443e-14  1.08087878e-13\n",
      " -4.58880870e-15  3.12563665e-14  9.44833101e-15  1.60582500e-14\n",
      "  3.70627656e-15 -3.70848590e-15  1.15795231e-14  2.49853233e-14\n",
      "  4.75411076e-14  6.40566965e-16 -1.32017893e-14 -9.34297719e-15\n",
      " -1.21674512e-14  4.22676037e-14  7.94452504e-14 -5.86400048e-14\n",
      "  2.03628503e-14  2.88516151e-14  1.14085417e-14 -4.09698069e-17\n",
      "  1.48937971e-15 -4.92554410e-16 -1.75434780e-14  4.50217320e-14\n",
      " -4.14177573e-14  8.93911294e-14 -2.62119739e-14  1.23150442e-13\n",
      "  4.04786522e-14  4.31372398e-16 -1.34379936e-14  1.87574432e-14\n",
      " -3.26722776e-17 -4.35953337e-15 -1.08601599e-15  1.59614385e-14\n",
      "  2.51404485e-14 -8.66429151e-16 -1.54534480e-15 -5.45884290e-15\n",
      "  9.49211852e-14 -1.24145265e-13 -4.49921497e-14 -3.11911703e-14\n",
      " -4.57731345e-14 -2.81300832e-14 -1.69046246e-14 -5.91770787e-15\n",
      "  0.00000000e+00  3.53567161e-15 -9.06251641e-15 -2.21280569e-14\n",
      " -6.89773437e-14  4.50301130e-14 -6.67576201e-14 -5.25960735e-14\n",
      "  6.66933175e-14  2.77656818e-14 -3.63467256e-14 -1.71064908e-14\n",
      " -2.02748738e-14 -1.14017684e-15 -1.41239338e-14  8.06566877e-15\n",
      " -1.05561591e-15 -2.83107664e-15 -8.54948176e-15 -1.85887401e-14\n",
      " -8.95759752e-14 -3.70651605e-15  3.67891114e-14  4.14077590e-14\n",
      "  6.84440710e-14  1.56867059e-15 -1.38634746e-14  1.82722220e-15\n",
      "  1.23400178e-15 -5.76002207e-15  1.16807437e-14 -1.54496297e-15\n",
      " -5.85250491e-14  2.70285905e-14 -6.46145835e-15  6.07766536e-14\n",
      " -1.38755252e-13  4.93219973e-14 -2.04276183e-14 -7.44119052e-14\n",
      " -3.85968749e-14 -1.85991710e-14  8.79915506e-15  4.69100631e-15\n",
      "  2.40371136e-15  1.27601485e-14 -2.76486738e-14  4.06440278e-15\n",
      " -1.19371100e-14  1.98088783e-14  4.04746736e-14  3.96355337e-14\n",
      "  4.45673228e-14 -2.24667735e-14 -2.47863466e-15 -4.31373673e-15\n",
      "  4.41871015e-15 -4.23659022e-15 -1.05282784e-14 -2.92089702e-14\n",
      " -1.83206236e-14 -9.96923901e-14  2.12496608e-14  1.18923089e-13\n",
      " -2.09491345e-14 -3.03112551e-14  6.63173659e-14 -9.87203018e-15\n",
      " -2.34873391e-15  1.95840645e-15 -1.20392585e-15  5.28353551e-15\n",
      " -9.84258786e-15  1.78501436e-14 -1.10148049e-14  1.99627473e-14\n",
      "  1.44656794e-14 -4.04466310e-14  1.76004933e-14 -8.68294682e-15\n",
      " -1.34815004e-14  4.46332574e-15 -3.03470458e-15  5.53857634e-15\n",
      "  0.00000000e+00  1.58292549e-15  1.82068874e-15 -1.28447019e-14\n",
      " -3.01392217e-14 -3.73632672e-14 -2.89915377e-14 -2.66693017e-14\n",
      " -3.89577973e-14  2.17719271e-14  3.45680881e-14  1.36489566e-14\n",
      "  2.79786987e-15 -7.53336441e-15 -8.19571078e-15  3.49196227e-15\n",
      "  2.72053745e-14 -2.69133049e-14 -2.98840080e-14 -2.92198599e-14\n",
      "  1.76007011e-14  1.44100961e-14 -1.88415910e-15  1.47232139e-14\n",
      "  8.62256298e-15  4.63113476e-16  1.76645826e-15  0.00000000e+00\n",
      "  0.00000000e+00  0.00000000e+00  3.17462703e-15  2.48931738e-15\n",
      " -3.02825681e-15  1.27781226e-14 -1.19738188e-15  7.17027073e-15\n",
      "  9.18703367e-15 -6.64199410e-14 -2.71929542e-15 -8.03847195e-14\n",
      " -1.20824753e-13  5.67107821e-14  3.99796101e-14  2.27182384e-14\n",
      " -1.02585897e-13 -2.32647362e-14 -9.43719246e-14  2.20504282e-14\n",
      " -6.80991858e-14 -2.07894404e-14  5.64355665e-15  1.17433999e-15\n",
      " -1.22722318e-15 -7.79941835e-16 -3.40153206e-15  0.00000000e+00\n",
      "  0.00000000e+00  0.00000000e+00 -5.95492405e-16  4.29650685e-15\n",
      " -7.99159845e-16  1.86260715e-14 -2.60019308e-15 -7.70772898e-14\n",
      " -5.92183405e-14  1.28779669e-13 -6.80145464e-15 -2.33953499e-14\n",
      "  1.38488230e-13 -1.05237419e-13  1.09135553e-13  1.21983860e-13\n",
      "  1.47773343e-13  5.72885739e-14  4.37292607e-14  1.16183037e-13\n",
      " -6.92235777e-14 -6.87077102e-15 -3.53796417e-15  2.76143165e-14\n",
      "  1.05581687e-14 -2.73310615e-16 -4.71637536e-16  0.00000000e+00\n",
      "  0.00000000e+00  0.00000000e+00  0.00000000e+00  1.94662535e-15\n",
      " -5.78624088e-15 -1.25930885e-14  2.91768667e-14 -2.23128853e-14\n",
      " -1.57279301e-14  7.17361155e-14  6.37471988e-14  2.54733607e-14\n",
      " -3.04379244e-14  1.22612251e-13 -6.86670649e-14 -4.99652994e-14\n",
      " -2.87896175e-14  4.97117557e-14  4.41523183e-14 -3.09405236e-14\n",
      " -5.55932314e-14  9.06457726e-15 -1.21223241e-14 -2.66222783e-15\n",
      "  4.63097038e-15  2.35339445e-15  0.00000000e+00  0.00000000e+00\n",
      "  0.00000000e+00  0.00000000e+00  0.00000000e+00  0.00000000e+00\n",
      "  2.40681718e-15  4.25812000e-15 -7.63982132e-18 -8.09199325e-15\n",
      "  8.07064108e-15 -9.88502534e-16  1.71021187e-14  2.51779127e-14\n",
      " -2.92697822e-14 -8.02304354e-15 -7.59331705e-15 -1.15459795e-14\n",
      "  1.63460628e-14  1.88417411e-14 -6.50588968e-15  1.45374559e-14\n",
      " -7.12479758e-15 -4.37417984e-15 -3.58566589e-15  1.55118901e-15\n",
      "  0.00000000e+00  0.00000000e+00  0.00000000e+00  0.00000000e+00]\n",
      "MNIST Normalized Std_Deviation:\n"
     ]
    },
    {
     "name": "stdout",
     "output_type": "stream",
     "text": [
      "[0. 0. 0. 0. 0. 0. 0. 0. 0. 0. 0. 0. 1. 1. 1. 1. 0. 0. 0. 0. 0. 0. 0. 0.\n",
      " 0. 0. 0. 0. 0. 0. 0. 0. 1. 1. 1. 1. 1. 1. 1. 1. 1. 1. 1. 1. 1. 1. 1. 1.\n",
      " 1. 1. 1. 1. 0. 0. 0. 0. 0. 0. 1. 1. 1. 1. 1. 1. 1. 1. 1. 1. 1. 1. 1. 1.\n",
      " 1. 1. 1. 1. 1. 1. 1. 1. 1. 1. 0. 0. 0. 0. 1. 1. 1. 1. 1. 1. 1. 1. 1. 1.\n",
      " 1. 1. 1. 1. 1. 1. 1. 1. 1. 1. 1. 1. 1. 1. 1. 0. 0. 1. 1. 1. 1. 1. 1. 1.\n",
      " 1. 1. 1. 1. 1. 1. 1. 1. 1. 1. 1. 1. 1. 1. 1. 1. 1. 1. 1. 1. 0. 1. 1. 1.\n",
      " 1. 1. 1. 1. 1. 1. 1. 1. 1. 1. 1. 1. 1. 1. 1. 1. 1. 1. 1. 1. 1. 1. 1. 1.\n",
      " 0. 1. 1. 1. 1. 1. 1. 1. 1. 1. 1. 1. 1. 1. 1. 1. 1. 1. 1. 1. 1. 1. 1. 1.\n",
      " 1. 1. 1. 1. 1. 1. 1. 1. 1. 1. 1. 1. 1. 1. 1. 1. 1. 1. 1. 1. 1. 1. 1. 1.\n",
      " 1. 1. 1. 1. 1. 1. 1. 1. 1. 1. 1. 1. 1. 1. 1. 1. 1. 1. 1. 1. 1. 1. 1. 1.\n",
      " 1. 1. 1. 1. 1. 1. 1. 1. 1. 1. 1. 1. 1. 1. 1. 1. 1. 1. 1. 1. 1. 1. 1. 1.\n",
      " 1. 1. 1. 1. 1. 1. 1. 1. 1. 1. 1. 1. 1. 1. 1. 1. 1. 1. 1. 1. 1. 1. 1. 1.\n",
      " 1. 1. 1. 1. 1. 1. 1. 1. 1. 1. 1. 1. 1. 1. 1. 1. 1. 1. 1. 1. 1. 1. 1. 1.\n",
      " 1. 1. 1. 1. 1. 1. 1. 1. 1. 1. 1. 1. 1. 1. 1. 1. 1. 1. 1. 1. 1. 1. 1. 1.\n",
      " 1. 1. 1. 1. 1. 1. 1. 1. 1. 1. 1. 1. 1. 1. 1. 1. 1. 1. 1. 1. 1. 1. 1. 1.\n",
      " 1. 1. 1. 1. 1. 1. 1. 1. 1. 1. 1. 1. 1. 1. 1. 1. 1. 1. 1. 1. 1. 1. 1. 1.\n",
      " 1. 1. 1. 1. 1. 1. 1. 1. 1. 1. 1. 1. 1. 1. 1. 1. 1. 1. 1. 1. 1. 1. 1. 1.\n",
      " 1. 1. 1. 1. 1. 1. 1. 1. 1. 1. 1. 1. 1. 1. 1. 1. 1. 1. 1. 1. 1. 1. 1. 1.\n",
      " 1. 1. 1. 1. 1. 1. 1. 1. 1. 1. 1. 1. 1. 1. 1. 1. 1. 1. 1. 1. 1. 1. 1. 1.\n",
      " 1. 1. 1. 1. 1. 1. 1. 1. 1. 1. 1. 1. 1. 1. 1. 1. 1. 1. 1. 1. 0. 1. 1. 1.\n",
      " 1. 1. 1. 1. 1. 1. 1. 1. 1. 1. 1. 1. 1. 1. 1. 1. 1. 1. 1. 1. 1. 1. 1. 1.\n",
      " 1. 1. 1. 1. 1. 1. 1. 1. 1. 1. 1. 1. 1. 1. 1. 1. 1. 1. 1. 1. 1. 1. 1. 1.\n",
      " 1. 1. 1. 1. 1. 1. 1. 1. 1. 1. 1. 1. 1. 1. 1. 1. 1. 1. 1. 1. 1. 1. 1. 1.\n",
      " 1. 1. 1. 1. 1. 1. 1. 1. 0. 1. 1. 1. 1. 1. 1. 1. 1. 1. 1. 1. 1. 1. 1. 1.\n",
      " 1. 1. 1. 1. 1. 1. 1. 1. 1. 1. 1. 1. 1. 1. 1. 1. 1. 1. 1. 1. 1. 1. 1. 1.\n",
      " 1. 1. 1. 1. 1. 1. 1. 1. 1. 1. 1. 1. 1. 1. 1. 1. 1. 1. 1. 1. 1. 1. 1. 1.\n",
      " 1. 1. 1. 1. 1. 1. 1. 1. 1. 1. 1. 1. 1. 1. 1. 1. 1. 1. 1. 1. 0. 1. 1. 1.\n",
      " 1. 1. 1. 1. 1. 1. 1. 1. 1. 1. 1. 1. 1. 1. 1. 1. 1. 1. 1. 1. 1. 1. 1. 0.\n",
      " 0. 0. 1. 1. 1. 1. 1. 1. 1. 1. 1. 1. 1. 1. 1. 1. 1. 1. 1. 1. 1. 1. 1. 1.\n",
      " 1. 1. 1. 0. 0. 0. 1. 1. 1. 1. 1. 1. 1. 1. 1. 1. 1. 1. 1. 1. 1. 1. 1. 1.\n",
      " 1. 1. 1. 1. 1. 1. 1. 0. 0. 0. 0. 1. 1. 1. 1. 1. 1. 1. 1. 1. 1. 1. 1. 1.\n",
      " 1. 1. 1. 1. 1. 1. 1. 1. 1. 1. 0. 0. 0. 0. 0. 0. 1. 1. 1. 1. 1. 1. 1. 1.\n",
      " 1. 1. 1. 1. 1. 1. 1. 1. 1. 1. 1. 1. 0. 0. 0. 0.]\n"
     ]
    }
   ],
   "source": [
    "print(\"MNIST Normalized Mean:\")\n",
    "print(mnist_normalized.mean(axis=0))\n",
    "print(\"MNIST Normalized Std_Deviation:\")\n",
    "print(mnist_normalized.std(axis=0))"
   ]
  },
  {
   "cell_type": "markdown",
   "metadata": {},
   "source": [
    "As we can see, the mean are values close to zero, and in the case of Standar Deviation, almost all values are 1, except for columns where all values are exactly zero. <br><br>\n",
    "Let's plot some samples with the values normalized:"
   ]
  },
  {
   "cell_type": "code",
   "execution_count": 25,
   "metadata": {},
   "outputs": [
    {
     "data": {
      "text/plain": [
       "<matplotlib.text.Text at 0x7f2559196dd0>"
      ]
     },
     "execution_count": 25,
     "metadata": {},
     "output_type": "execute_result"
    },
    {
     "data": {
      "image/png": "[encoded data removed]",
      "text/plain": [
       "<matplotlib.figure.Figure at 0x7f255936f150>"
      ]
     },
     "metadata": {},
     "output_type": "display_data"
    }
   ],
   "source": [
    "plt.subplot(1, 4, 1)\n",
    "plt.imshow(mnist_normalized[1100].reshape(28,28))\n",
    "plt.title(str(mnist_label[1100]))\n",
    "plt.subplot(1, 4, 2)\n",
    "plt.imshow(mnist_normalized[11000].reshape(28,28))\n",
    "plt.title(str(mnist_label[11000]))\n",
    "plt.subplot(1, 4, 3)\n",
    "plt.imshow(mnist_normalized[26000].reshape(28,28))\n",
    "plt.title(str(mnist_label[26000]))\n",
    "plt.subplot(1, 4, 4)\n",
    "plt.imshow(mnist_normalized[51000].reshape(28,28))\n",
    "plt.title(str(mnist_label[51000]))"
   ]
  },
  {
   "cell_type": "markdown",
   "metadata": {},
   "source": [
    "## c)\n",
    "\n",
    "We will use the classes 6 and 9."
   ]
  },
  {
   "cell_type": "code",
   "execution_count": 82,
   "metadata": {},
   "outputs": [
    {
     "name": "stdout",
     "output_type": "stream",
     "text": [
      "C Values:\n",
      "[3.0517578125e-05, 6.103515625e-05, 0.0001220703125, 0.000244140625, 0.00048828125, 0.0009765625, 0.001953125, 0.00390625, 0.0078125, 0.015625, 0.03125, 0.0625, 0.125, 0.25, 0.5, 1, 2, 4, 8, 16, 32, 64, 128, 256, 512, 1024]\n",
      "Shapes for training vectors:\n",
      "((5918, 784), (5949, 784), (5918,), (5949,))\n",
      "Shapes for training vectors:\n",
      "((958, 784), (1009, 784), (958,), (1009,))\n"
     ]
    }
   ],
   "source": [
    "C_values = [2**i for i in range(-15,11)]\n",
    "\n",
    "ranges = [(0,5923),(5923,12665),(12665,18623),(18623,24754),(24754,30596),(30596,36017),(36017,41935),(41935,48200),(48200,54051),(54051,60000),\n",
    "          (60000,60980),(60980,62115),(62115,63147),(63147,64157),(64157,65139),(65139,66031),(66031,66989),(66989,68017),(68017,68991),(68991,70000)]\n",
    "\n",
    "r_min1_train, r_max1_train = ranges[6][0], ranges[6][1]\n",
    "r_min2_train, r_max2_train = ranges[9][0], ranges[9][1]\n",
    "r_min1_test, r_max1_test = ranges[16][0], ranges[16][1]\n",
    "r_min2_test, r_max2_test = ranges[19][0], ranges[19][1]\n",
    "\n",
    "\n",
    "features_class6_train = mnist_normalized[r_min1_train:r_max1_train,:]\n",
    "features_class9_train = mnist_normalized[r_min2_train:r_max2_train,:]\n",
    "labels_class6_train = mnist_label[r_min1_train:r_max1_train]\n",
    "labels_class9_train = mnist_label[r_min2_train:r_max2_train]\n",
    "features_class6_test = mnist_normalized[r_min1_test:r_max1_test,:]\n",
    "features_class9_test = mnist_normalized[r_min2_test:r_max2_test,:]\n",
    "labels_class6_test = mnist_label[r_min1_test:r_max1_test]\n",
    "labels_class9_test = mnist_label[r_min2_test:r_max2_test]\n",
    "\n",
    "print(\"C Values:\")\n",
    "print(C_values)\n",
    "print(\"Shapes for training vectors:\")\n",
    "print(features_class6_train.shape, features_class9_train.shape, labels_class6_train.shape, labels_class9_train.shape)\n",
    "print(\"Shapes for training vectors:\")\n",
    "print(features_class6_test.shape, features_class9_test.shape, labels_class6_test.shape, labels_class9_test.shape)"
   ]
  },
  {
   "cell_type": "code",
   "execution_count": 83,
   "metadata": {},
   "outputs": [
    {
     "name": "stdout",
     "output_type": "stream",
     "text": [
      "((11867, 784), (11867,))\n",
      "((1967, 784), (1967,))\n"
     ]
    }
   ],
   "source": [
    "features_train = np.vstack((features_class6_train, features_class9_train))\n",
    "features_test = np.vstack((features_class6_test, features_class9_test))\n",
    "labels_train = np.append(labels_class6_train, labels_class9_train)\n",
    "labels_test = np.append(labels_class6_test, labels_class9_test)\n",
    "\n",
    "print(features_train.shape, labels_train.shape)\n",
    "print(features_test.shape, labels_test.shape)"
   ]
  },
  {
   "cell_type": "markdown",
   "metadata": {},
   "source": [
    "Plotting some samples:"
   ]
  },
  {
   "cell_type": "code",
   "execution_count": 84,
   "metadata": {},
   "outputs": [
    {
     "data": {
      "text/plain": [
       "<matplotlib.text.Text at 0x7f2552f83090>"
      ]
     },
     "execution_count": 84,
     "metadata": {},
     "output_type": "execute_result"
    },
    {
     "data": {
      "image/png": "[encoded data removed]",
      "text/plain": [
       "<matplotlib.figure.Figure at 0x7f25578288d0>"
      ]
     },
     "metadata": {},
     "output_type": "display_data"
    }
   ],
   "source": [
    "plt.subplot(1, 4, 1)\n",
    "plt.imshow(features_train[100].reshape(28,28))\n",
    "plt.title(str(labels_train[100]))\n",
    "plt.subplot(1, 4, 2)\n",
    "plt.imshow(features_train[8000].reshape(28,28))\n",
    "plt.title(str(labels_train[8000]))\n",
    "plt.subplot(1, 4, 3)\n",
    "plt.imshow(features_test[100].reshape(28,28))\n",
    "plt.title(str(labels_test[100]))\n",
    "plt.subplot(1, 4, 4)\n",
    "plt.imshow(features_test[1500].reshape(28,28))\n",
    "plt.title(str(labels_test[1500]))"
   ]
  },
  {
   "cell_type": "code",
   "execution_count": 85,
   "metadata": {},
   "outputs": [],
   "source": [
    "historic_error_train = []\n",
    "historic_error_test = []\n",
    "\n",
    "for C in C_values:\n",
    "    model = svm.LinearSVC(C=C,loss='hinge')\n",
    "    model.fit(features_train, labels_train)\n",
    "    predicted_train = model.predict(features_train)\n",
    "    predicted_test = model.predict(features_test)\n",
    "    error_train = sklearn.metrics.mean_squared_error(labels_train, predicted_train)\n",
    "    error_test = sklearn.metrics.mean_squared_error(labels_test, predicted_test)\n",
    "    historic_error_train.append(error_train)\n",
    "    historic_error_test.append(error_test)"
   ]
  },
  {
   "cell_type": "code",
   "execution_count": 99,
   "metadata": {},
   "outputs": [
    {
     "name": "stderr",
     "output_type": "stream",
     "text": [
      "/usr/local/lib/python2.7/dist-packages/ipykernel_launcher.py:2: MatplotlibDeprecationWarning: pyplot.hold is deprecated.\n",
      "    Future behavior will be consistent with the long-time default:\n",
      "    plot commands add elements without first clearing the\n",
      "    Axes and/or Figure.\n",
      "  \n"
     ]
    },
    {
     "data": {
      "text/plain": [
       "<matplotlib.text.Text at 0x7f2552b75c90>"
      ]
     },
     "execution_count": 99,
     "metadata": {},
     "output_type": "execute_result"
    },
    {
     "data": {
      "image/png": "[encoded data removed]",
      "text/plain": [
       "<matplotlib.figure.Figure at 0x7f2552f5bcd0>"
      ]
     },
     "metadata": {},
     "output_type": "display_data"
    }
   ],
   "source": [
    "plt.plot([i for i in range(-15,11)],historic_error_train)\n",
    "plt.hold(True)\n",
    "plt.plot([i for i in range(-15,11)],historic_error_test)\n",
    "plt.xlabel(\"log(C)\")\n",
    "plt.ylabel(\"error\")"
   ]
  },
  {
   "cell_type": "markdown",
   "metadata": {},
   "source": [
    "Since the value $-6$ has the min error between training and test set, we will choose $C = 2^{-6}$. "
   ]
  },
  {
   "cell_type": "markdown",
   "metadata": {},
   "source": [
    "## d)"
   ]
  },
  {
   "cell_type": "code",
   "execution_count": 103,
   "metadata": {},
   "outputs": [],
   "source": [
    "model = svm.LinearSVC(C=C_values[9],loss='hinge')\n",
    "model.fit(features_train, labels_train)"
   ]
  },
  {
   "cell_type": "code",
   "execution_count": 104,
   "metadata": {},
   "outputs": [
    {
     "name": "stdout",
     "output_type": "stream",
     "text": [
      "(1, 784)\n",
      "[[ 0.00000000e+00  0.00000000e+00  0.00000000e+00  0.00000000e+00\n",
      "   0.00000000e+00  0.00000000e+00  0.00000000e+00  0.00000000e+00\n",
      "   0.00000000e+00  0.00000000e+00  0.00000000e+00  0.00000000e+00\n",
      "  -7.65436086e-04 -9.97026835e-04 -7.07299966e-04 -7.07299966e-04\n",
      "   0.00000000e+00  0.00000000e+00  0.00000000e+00  0.00000000e+00\n",
      "   0.00000000e+00  0.00000000e+00  0.00000000e+00  0.00000000e+00\n",
      "   0.00000000e+00  0.00000000e+00  0.00000000e+00  0.00000000e+00\n",
      "   0.00000000e+00  0.00000000e+00  0.00000000e+00  0.00000000e+00\n",
      "  -7.07299966e-04 -1.07893286e-03 -1.60269817e-03 -2.12730543e-03\n",
      "  -2.74125480e-03 -3.59274636e-03 -4.57812284e-03 -5.64458016e-03\n",
      "  -5.98059898e-03 -6.03193260e-03 -6.18287818e-03 -5.77646348e-03\n",
      "  -5.66419783e-03 -5.13536210e-03 -4.29068215e-03 -3.46827231e-03\n",
      "  -3.01549509e-03 -1.90511573e-03 -1.58646264e-03 -1.06146449e-03\n",
      "   0.00000000e+00  0.00000000e+00  0.00000000e+00  0.00000000e+00\n",
      "   0.00000000e+00  0.00000000e+00 -7.07299966e-04 -9.34748026e-04\n",
      "  -1.47651020e-03 -2.00814277e-03 -3.43632042e-03 -5.24173225e-03\n",
      "  -7.04465060e-03 -1.02782731e-02 -1.39145737e-02 -1.62161471e-02\n",
      "  -1.92467396e-02 -2.21024229e-02 -2.44566452e-02 -2.59831345e-02\n",
      "  -2.58927569e-02 -2.43725383e-02 -2.21335717e-02 -1.86929705e-02\n",
      "  -1.45310112e-02 -1.04552734e-02 -7.25700537e-03 -4.43245558e-03\n",
      "  -2.44648286e-03 -1.35669632e-03  0.00000000e+00  0.00000000e+00\n",
      "   0.00000000e+00  0.00000000e+00 -9.30075740e-04 -1.53683416e-03\n",
      "  -2.52188789e-03 -4.15642132e-03 -6.67152787e-03 -1.04188193e-02\n",
      "  -2.61147346e-02 -3.42393959e-02 -3.67296495e-02 -9.89282261e-02\n",
      "  -9.22402433e-02 -1.24943236e-01 -1.21261573e-01 -1.25923261e-01\n",
      "  -9.55221776e-02 -6.93963351e-02 -5.79508618e-02 -4.29516042e-02\n",
      "  -3.55264871e-02 -1.99278084e-02 -1.42879510e-02 -8.89574565e-03\n",
      "  -5.56935693e-03 -2.87936279e-03 -1.12356046e-03  0.00000000e+00\n",
      "   0.00000000e+00 -7.07299966e-04 -1.34501628e-03 -2.76733720e-03\n",
      "  -9.48151361e-03 -9.37154058e-03 -1.91007642e-02 -2.38322949e-02\n",
      "  -4.07371723e-02 -8.21546617e-02 -7.81259650e-02 -3.98262818e-02\n",
      "  -2.81983242e-02 -5.09618639e-02 -5.17262665e-02 -1.66794416e-02\n",
      "  -1.90331274e-02 -3.60033705e-02 -4.90522314e-02 -5.66280581e-02\n",
      "  -8.07284783e-02 -8.21696008e-02 -3.07462976e-02 -2.03589599e-02\n",
      "  -1.31888828e-02 -7.14077291e-03 -2.88748905e-03 -9.99743127e-04\n",
      "   0.00000000e+00 -7.07299966e-04 -2.10464685e-03 -4.10066209e-03\n",
      "  -1.99822780e-02 -2.14815743e-02 -4.77672926e-02 -4.35842354e-02\n",
      "  -5.29212418e-02 -6.02913147e-02 -7.82919015e-03  3.38608350e-02\n",
      "   3.28642966e-02  1.18676373e-02 -1.34547555e-02 -4.68430131e-02\n",
      "  -2.45914001e-03  1.49929887e-02  2.67670444e-02 -5.94754609e-02\n",
      "  -1.55101162e-02 -8.45848745e-03 -3.37430880e-02 -3.56341307e-02\n",
      "  -2.44149727e-02 -1.38962958e-02 -6.17438832e-03 -1.42219781e-03\n",
      "   0.00000000e+00 -9.65033338e-04 -2.77122624e-03 -6.87951428e-03\n",
      "  -2.28613071e-02 -4.13396606e-02 -5.33417179e-02 -3.75652870e-02\n",
      "  -1.13729625e-02  1.17155546e-02  3.01848642e-02  2.65923033e-02\n",
      "   1.82286095e-02  5.64450759e-02  4.56665335e-02  5.85018450e-02\n",
      "   8.37943293e-02  5.62213483e-02  6.27188624e-02 -7.61082935e-03\n",
      "   3.29053223e-02  3.59795417e-02 -3.73451001e-02  1.22098015e-03\n",
      "  -4.11408624e-04 -1.29280102e-02 -9.02610692e-03 -2.85880342e-03\n",
      "  -7.07299966e-04 -2.43783816e-03 -4.97907180e-03 -1.12224121e-02\n",
      "  -2.97150207e-02 -4.93478265e-02 -3.12997371e-02 -2.27873288e-02\n",
      "   3.05650174e-02 -2.41101345e-02 -2.77377642e-03 -1.26374749e-02\n",
      "  -2.99944729e-02  2.80081818e-02  2.21263318e-02  5.53851573e-02\n",
      "   8.53704609e-02  2.35306228e-02  2.23997449e-02  9.10771021e-03\n",
      "   6.04092325e-02  5.19045218e-02  1.95840412e-02  1.85976365e-02\n",
      "   3.05339813e-02  3.38774793e-02 -1.05967109e-02 -2.85879324e-03\n",
      "  -8.70670936e-04 -3.33540623e-03 -8.07781067e-03 -1.58382148e-02\n",
      "  -3.75185565e-02 -2.82349356e-02 -5.15284271e-03  1.05012041e-02\n",
      "   3.62920139e-02 -6.85965012e-03 -2.43604905e-02 -1.57169264e-02\n",
      "  -4.18537553e-02 -1.36135817e-03 -1.94088481e-02  1.47955892e-02\n",
      "   7.34353963e-02  4.58710169e-02  4.77963528e-02 -2.92761342e-02\n",
      "   8.87979021e-03 -1.26153639e-02 -6.69099654e-04  2.43648349e-02\n",
      "   4.42799779e-02  1.76836476e-02 -1.04644754e-02 -2.59695178e-03\n",
      "  -1.29469683e-03 -4.20654603e-03 -9.78823376e-03 -1.74192923e-02\n",
      "  -2.43786845e-02  3.42572571e-03  1.76006010e-02  2.94390967e-02\n",
      "  -8.20051692e-04  4.14412377e-02  9.72517156e-03  3.22104541e-03\n",
      "   1.86763924e-02  1.57322796e-02  1.34624170e-02  8.13731231e-02\n",
      "   4.92809530e-02  2.95740861e-02  8.21266853e-02  2.53275302e-02\n",
      "   1.85924979e-02 -1.81227078e-02  8.50460710e-03  2.42839647e-02\n",
      "  -2.64957210e-02 -1.57953800e-02 -9.10543953e-03 -2.78789959e-03\n",
      "  -1.31800793e-03 -4.28153781e-03 -9.81454321e-03 -1.71610362e-02\n",
      "  -1.20121115e-02  3.58556792e-02  1.92387517e-02  4.01456170e-02\n",
      "   2.90345707e-02  3.43158059e-02  4.50790939e-02 -2.28091893e-02\n",
      "   2.13770327e-02 -2.38103264e-02 -8.32504147e-03  2.96576899e-02\n",
      "   7.33341991e-02  2.18745567e-02  4.99704471e-02  3.51687316e-02\n",
      "   4.81744541e-02  1.02011669e-02  7.32808706e-03  1.23786356e-02\n",
      "  -1.25497059e-02 -1.12919246e-02 -7.16416711e-03 -2.45859080e-03\n",
      "  -1.33034574e-03 -3.83201693e-03  3.52004299e-03 -1.50977662e-02\n",
      "   2.13186230e-02  5.22185588e-02  1.11158905e-02  4.68648678e-02\n",
      "   6.38258172e-02  2.36613571e-02  7.81816149e-02  3.86665394e-02\n",
      "   6.18633506e-02 -1.33087975e-02 -1.08087157e-02  6.86798940e-02\n",
      "   5.36077955e-02  3.47383235e-02 -2.29295092e-03  2.48384704e-02\n",
      "   1.74350569e-03  2.08020196e-02  5.09724413e-03  1.11985745e-02\n",
      "  -1.60140304e-02 -1.23365060e-02 -5.39579357e-03 -1.79311287e-03\n",
      "  -9.18983187e-04 -2.99607138e-03 -2.73142957e-03 -1.26177883e-02\n",
      "   5.23067197e-02  5.80892105e-02  1.70494165e-02  3.26342237e-02\n",
      "   6.75562802e-02  6.79128980e-03 -1.85574926e-02  2.86980992e-02\n",
      "  -1.58516128e-04 -7.19312955e-02  9.99262448e-03  6.23683093e-03\n",
      "   3.47199650e-02  7.76563104e-02 -1.27672204e-02  3.24614784e-02\n",
      "   2.56166099e-03  1.97503263e-02 -1.03109301e-02 -2.52343121e-02\n",
      "  -6.50345978e-02 -1.08979871e-02 -3.96568106e-03 -1.71898277e-03\n",
      "  -7.07299966e-04 -2.06716798e-03 -4.76730788e-03 -1.05064698e-02\n",
      "   3.77686253e-02  3.96103933e-02  1.61943984e-02  1.99479670e-02\n",
      "   3.37312013e-02 -1.89011208e-02  1.02400790e-02 -4.60395212e-02\n",
      "  -3.79459048e-02 -8.64255514e-02  1.37070163e-02 -1.34233734e-02\n",
      "   1.01462196e-02  4.00360708e-02 -1.55280472e-02 -5.77583671e-03\n",
      "   4.69712495e-02 -7.01273378e-03  1.33394194e-02 -5.34373928e-02\n",
      "  -3.40993382e-02 -1.13172272e-02 -4.09649223e-03 -1.28280268e-03\n",
      "  -7.07299966e-04 -1.38398383e-03 -3.38118413e-03 -9.38222755e-03\n",
      "   6.69141603e-02  1.81209246e-04  1.49628149e-02  1.06021841e-02\n",
      "   7.63191148e-03 -1.47638731e-03  3.43413395e-03 -4.40369694e-02\n",
      "  -9.91892469e-02  5.93239167e-03  2.19373064e-02  2.88425403e-03\n",
      "   4.37140829e-02  1.11718481e-01  3.24463105e-02  5.34297400e-02\n",
      "   3.90270942e-02 -1.65353433e-02 -4.75111407e-03 -5.23647852e-02\n",
      "  -4.08205804e-02 -1.29184585e-02 -4.44498996e-03 -1.21013817e-03\n",
      "  -8.26455228e-04 -7.25822370e-04 -3.43633251e-03 -9.76458725e-03\n",
      "   4.09094801e-02 -3.28966087e-02  2.45242516e-03 -3.92707211e-03\n",
      "   1.40249972e-02  7.84251540e-03 -1.06363654e-02 -4.82156242e-02\n",
      "  -3.61501793e-02  2.02352045e-02  1.42511815e-02  3.50188404e-02\n",
      "   5.86409322e-03  9.21652850e-02  1.66553219e-02 -2.61503699e-02\n",
      "   5.95299894e-03 -3.49472640e-02 -4.48444532e-03 -2.61428102e-02\n",
      "  -5.59068787e-02 -1.44010735e-02 -5.31630148e-03 -1.69674664e-03\n",
      "  -7.07299966e-04 -1.32360704e-03 -4.12630261e-03 -1.12166640e-02\n",
      "   1.48378887e-02 -5.36579463e-02 -1.35332905e-02 -1.28999278e-02\n",
      "  -4.45093812e-02 -4.06230616e-02 -4.38123763e-02 -8.38571421e-02\n",
      "  -5.26187820e-02 -7.44379179e-03 -2.27322586e-02  4.83451382e-02\n",
      "  -3.09156276e-02  1.40531681e-02 -6.25039825e-02 -5.15391481e-02\n",
      "   2.65808755e-03 -5.01929455e-03 -2.14254848e-02 -2.01337521e-02\n",
      "  -4.19892891e-02 -1.55789912e-02 -6.13384743e-03 -1.85056507e-03\n",
      "   0.00000000e+00 -1.54748590e-03 -4.79107452e-03 -1.36690110e-02\n",
      "  -5.50231245e-03 -1.88528327e-02 -1.62074661e-02 -2.62092574e-02\n",
      "  -7.08596972e-02 -3.41519258e-02 -5.69773374e-02 -6.49863246e-02\n",
      "  -6.19590213e-02 -1.13641567e-03 -7.23803620e-03  1.46709519e-02\n",
      "   5.26365929e-03 -2.54157664e-02 -4.87244680e-02 -4.84979625e-02\n",
      "  -8.92223501e-03 -3.54506449e-02 -3.02960132e-02 -5.43571076e-02\n",
      "  -2.32064783e-02 -1.62990587e-02 -6.44026075e-03 -2.10729741e-03\n",
      "  -1.02321307e-03 -1.30794843e-03 -6.27559808e-03 -1.69703635e-02\n",
      "  -5.40951031e-03 -1.47102622e-02 -1.30191203e-02 -2.36239339e-02\n",
      "  -3.06549149e-02 -3.87584671e-02 -3.91634361e-02 -5.58908391e-02\n",
      "  -6.58889534e-02  6.44435824e-03  2.04685692e-02 -5.68995665e-03\n",
      "  -2.29901939e-02 -1.88003103e-02  2.05348039e-03 -1.92501383e-02\n",
      "   1.22247919e-02 -3.41795379e-02 -1.31567834e-02 -2.71879959e-02\n",
      "  -1.14856147e-02 -1.57697411e-02 -5.81779762e-03 -1.82752602e-03\n",
      "  -7.07299966e-04 -1.89810415e-03 -7.30166188e-03 -1.93629423e-02\n",
      "  -2.11422323e-02 -2.04928276e-03  1.84424352e-03  5.11349836e-03\n",
      "  -3.47328565e-03 -6.75831137e-02 -1.09000669e-01 -9.48406940e-02\n",
      "  -5.31932756e-02 -1.33652986e-03 -3.24661947e-02 -1.01852343e-02\n",
      "   4.98807882e-02 -1.24368049e-03  3.07520269e-02 -5.09713739e-03\n",
      "   3.71784529e-03 -3.88308699e-02 -2.12614761e-02 -6.60360349e-03\n",
      "   9.64331575e-03 -1.29495397e-02 -5.42018452e-03 -1.45164255e-03\n",
      "   0.00000000e+00 -1.85303232e-03 -8.01216209e-03 -2.03735500e-02\n",
      "  -3.76086132e-02  3.21578713e-02  1.62948608e-02 -1.79140969e-02\n",
      "  -1.78844336e-02 -2.84805893e-02 -6.19991059e-02 -9.42131537e-02\n",
      "  -7.63475298e-02 -8.28310987e-02 -7.21558984e-03 -4.53693452e-02\n",
      "   3.15179838e-02  6.69606889e-02  7.79010242e-03 -1.36060870e-02\n",
      "  -3.76459191e-02 -7.39837446e-02 -5.26324833e-02 -4.08227642e-03\n",
      "   3.84131345e-02  2.80332534e-02 -4.87651747e-03 -1.00023132e-03\n",
      "  -7.07299966e-04 -1.73414573e-03 -7.57932659e-03 -1.74610075e-02\n",
      "  -3.29539062e-02  2.56798743e-02  1.53957735e-02 -1.26176701e-03\n",
      "  -1.82974761e-02 -6.12677196e-02 -2.96331163e-02 -7.37455082e-02\n",
      "  -5.47675712e-02 -7.81560219e-02 -5.10945339e-02 -2.72360870e-03\n",
      "   3.58648091e-02  1.21337707e-02  2.36554747e-02 -2.62333894e-02\n",
      "  -4.54344241e-02 -8.42758607e-04 -7.15290040e-03  4.58952157e-04\n",
      "   2.40890576e-02 -7.41178881e-03 -3.68700928e-03 -7.07299966e-04\n",
      "  -7.07299966e-04 -1.04035423e-03 -6.15827247e-03 -1.01881871e-02\n",
      "  -2.41088437e-02  2.99959912e-02  8.30156886e-03 -3.94975271e-03\n",
      "  -2.01826299e-02 -4.71483800e-02 -3.92623560e-02 -2.42747892e-02\n",
      "  -4.82622120e-02 -6.54265026e-02 -5.16110741e-02 -4.55582149e-02\n",
      "  -9.96668124e-03 -1.88585380e-02  6.69906457e-03 -6.78609570e-02\n",
      "  -1.42443063e-02  3.01262925e-02  3.35759880e-02  1.24960870e-02\n",
      "   4.64710028e-02 -6.83938019e-03 -2.25537259e-03 -7.07299966e-04\n",
      "   0.00000000e+00 -7.07299966e-04 -4.08058441e-03 -3.48376294e-03\n",
      "  -1.34904988e-02  2.12130603e-02  3.55938919e-02  1.26238185e-02\n",
      "   4.99763230e-02  1.46977613e-02  2.60854319e-02  4.28178803e-02\n",
      "   1.28995801e-02  2.62624989e-02 -4.66196301e-02 -1.00977342e-02\n",
      "   3.47808144e-02  4.79975341e-02  1.98700642e-04 -8.12220722e-03\n",
      "   3.01681239e-02  6.00758820e-02 -1.63605766e-02  7.39445989e-03\n",
      "   6.01048227e-02 -3.80428141e-03 -1.80533431e-03  0.00000000e+00\n",
      "   0.00000000e+00  0.00000000e+00 -1.79360374e-03 -5.25628148e-03\n",
      "  -4.48601572e-03 -4.75878842e-03  9.83665537e-03  1.34653598e-03\n",
      "   4.32933995e-02  5.14659750e-02  6.88740984e-02  8.08328103e-02\n",
      "   9.35334875e-02  8.01764637e-02  3.24517392e-02  4.54518009e-02\n",
      "  -1.29596605e-02  1.28768126e-02 -9.10316124e-05  2.66378848e-02\n",
      "   2.45615757e-02  3.09673633e-02  3.45772268e-02  3.05839134e-02\n",
      "  -4.61013930e-03 -1.97733627e-03 -8.23439782e-04  0.00000000e+00\n",
      "   0.00000000e+00  0.00000000e+00 -1.15459426e-03 -1.95931563e-03\n",
      "   3.24457409e-03 -2.29804759e-03  5.45474055e-03 -4.91364778e-04\n",
      "   1.65402779e-02  4.71433932e-02  3.53428642e-02  1.56185930e-02\n",
      "  -1.09153706e-02  2.24896041e-02  4.42354133e-02  2.86588251e-02\n",
      "   1.20686574e-03  3.19903784e-02 -9.04724884e-03  1.78553766e-02\n",
      "   2.95600600e-02 -1.13893163e-03 -8.44662091e-03 -5.25065999e-03\n",
      "  -2.93495433e-03 -1.18521297e-03 -7.07299966e-04  0.00000000e+00\n",
      "   0.00000000e+00  0.00000000e+00  0.00000000e+00  1.03210245e-03\n",
      "  -1.94887139e-03  2.65188542e-03  1.49489418e-02  2.42766973e-03\n",
      "  -1.43349167e-02 -2.36555795e-02 -2.91013380e-02 -2.09649616e-02\n",
      "   1.90167314e-02 -1.70635093e-02  1.61191232e-02  2.04447326e-02\n",
      "  -2.48942695e-02 -1.81368300e-02 -7.45385775e-04 -2.80494802e-03\n",
      "   1.35026352e-02  1.09655548e-02 -4.17229457e-03 -2.39814039e-03\n",
      "  -1.13692300e-03 -7.07299966e-04  0.00000000e+00  0.00000000e+00\n",
      "   0.00000000e+00  0.00000000e+00  0.00000000e+00  0.00000000e+00\n",
      "  -1.00315018e-03 -1.56858016e-03 -2.20747290e-03 -1.91298959e-03\n",
      "  -3.31358734e-03 -5.60119166e-03 -7.83845894e-03 -8.53193564e-03\n",
      "   1.02593914e-03 -2.25889580e-03 -1.11497242e-02 -1.05055176e-02\n",
      "  -9.49101072e-03 -7.79155925e-03 -5.28738143e-03 -3.94024730e-03\n",
      "  -3.13456523e-03 -1.99068639e-03 -1.56051521e-03 -9.99725085e-04\n",
      "   0.00000000e+00  0.00000000e+00  0.00000000e+00  0.00000000e+00]]\n"
     ]
    }
   ],
   "source": [
    "weights = model.coef_\n",
    "print(weights.shape)\n",
    "print(weights)"
   ]
  },
  {
   "cell_type": "markdown",
   "metadata": {},
   "source": [
    "## e)"
   ]
  },
  {
   "cell_type": "markdown",
   "metadata": {},
   "source": [
    "### i)"
   ]
  },
  {
   "cell_type": "code",
   "execution_count": null,
   "metadata": {},
   "outputs": [],
   "source": [
    "matrix_weights = weights.reshape((28,28))"
   ]
  },
  {
   "cell_type": "markdown",
   "metadata": {},
   "source": [
    "### ii)"
   ]
  },
  {
   "cell_type": "code",
   "execution_count": 116,
   "metadata": {},
   "outputs": [
    {
     "data": {
      "text/plain": [
       "<matplotlib.colorbar.Colorbar at 0x7f2551a8d9d0>"
      ]
     },
     "execution_count": 116,
     "metadata": {},
     "output_type": "execute_result"
    },
    {
     "data": {
      "image/png": "[encoded data removed]",
      "text/plain": [
       "<matplotlib.figure.Figure at 0x7f2551d4c210>"
      ]
     },
     "metadata": {},
     "output_type": "display_data"
    }
   ],
   "source": [
    "plt.pcolor(matrix_weights)\n",
    "plt.colorbar()"
   ]
  },
  {
   "cell_type": "markdown",
   "metadata": {},
   "source": [
    "### iii)"
   ]
  },
  {
   "cell_type": "code",
   "execution_count": 117,
   "metadata": {},
   "outputs": [
    {
     "data": {
      "text/plain": [
       "<matplotlib.colorbar.Colorbar at 0x7f2551964650>"
      ]
     },
     "execution_count": 117,
     "metadata": {},
     "output_type": "execute_result"
    },
    {
     "data": {
      "image/png": "[encoded data removed]",
      "text/plain": [
       "<matplotlib.figure.Figure at 0x7f2551a06090>"
      ]
     },
     "metadata": {},
     "output_type": "display_data"
    }
   ],
   "source": [
    "plt.pcolor(matrix_weights, cmap='RdBu')\n",
    "plt.colorbar()"
   ]
  },
  {
   "cell_type": "markdown",
   "metadata": {},
   "source": [
    "### iv)\n",
    "\n",
    "As we can see in the above picture, the positive and negative values are around the center, so we can think as these values as the most significant values when we try to make predictions. Furthermore, it seems the positive weights are approximately around the $6$ contour and the positive weights are around the $9$ contour, which means that it tries to predict six as positive examples and nine as negative examples. "
   ]
  },
  {
   "cell_type": "markdown",
   "metadata": {},
   "source": [
    "## f)"
   ]
  },
  {
   "cell_type": "markdown",
   "metadata": {},
   "source": [
    "### Test for 0 and 1 (C = $2^{-12}$)"
   ]
  },
  {
   "cell_type": "code",
   "execution_count": 159,
   "metadata": {},
   "outputs": [],
   "source": [
    "r_min1_train, r_max1_train = ranges[0][0], ranges[0][1]\n",
    "r_min2_train, r_max2_train = ranges[1][0], ranges[1][1]\n",
    "r_min1_test, r_max1_test = ranges[10][0], ranges[10][1]\n",
    "r_min2_test, r_max2_test = ranges[11][0], ranges[11][1]\n",
    "\n",
    "features_class1_train = mnist_normalized[r_min1_train:r_max1_train,:]\n",
    "features_class2_train = mnist_normalized[r_min2_train:r_max2_train,:]\n",
    "labels_class1_train = mnist_label[r_min1_train:r_max1_train]\n",
    "labels_class2_train = mnist_label[r_min2_train:r_max2_train]\n",
    "features_class1_test = mnist_normalized[r_min1_test:r_max1_test,:]\n",
    "features_class2_test = mnist_normalized[r_min2_test:r_max2_test,:]\n",
    "labels_class1_test = mnist_label[r_min1_test:r_max1_test]\n",
    "labels_class2_test = mnist_label[r_min2_test:r_max2_test]\n",
    "\n",
    "features_train = np.vstack((features_class1_train, features_class2_train))\n",
    "features_test = np.vstack((features_class1_test, features_class2_test))\n",
    "labels_train = np.append(labels_class1_train, labels_class2_train)\n",
    "labels_test = np.append(labels_class1_test, labels_class2_test)"
   ]
  },
  {
   "cell_type": "code",
   "execution_count": 160,
   "metadata": {},
   "outputs": [
    {
     "data": {
      "text/plain": [
       "<matplotlib.text.Text at 0x7f2554385710>"
      ]
     },
     "execution_count": 160,
     "metadata": {},
     "output_type": "execute_result"
    },
    {
     "data": {
      "image/png": "[encoded data removed]",
      "text/plain": [
       "<matplotlib.figure.Figure at 0x7f255458df90>"
      ]
     },
     "metadata": {},
     "output_type": "display_data"
    }
   ],
   "source": [
    "plt.subplot(1, 4, 1)\n",
    "plt.imshow(features_train[100].reshape(28,28))\n",
    "plt.title(str(labels_train[100]))\n",
    "plt.subplot(1, 4, 2)\n",
    "plt.imshow(features_train[8000].reshape(28,28))\n",
    "plt.title(str(labels_train[8000]))\n",
    "plt.subplot(1, 4, 3)\n",
    "plt.imshow(features_test[100].reshape(28,28))\n",
    "plt.title(str(labels_test[100]))\n",
    "plt.subplot(1, 4, 4)\n",
    "plt.imshow(features_test[1500].reshape(28,28))\n",
    "plt.title(str(labels_test[1500]))"
   ]
  },
  {
   "cell_type": "code",
   "execution_count": 161,
   "metadata": {},
   "outputs": [
    {
     "name": "stdout",
     "output_type": "stream",
     "text": [
      "Train Error: 0.0012633241215949467\n",
      "Test Error: 0.0009456264775413711\n"
     ]
    },
    {
     "data": {
      "text/plain": [
       "<matplotlib.colorbar.Colorbar at 0x7f25542a8650>"
      ]
     },
     "execution_count": 161,
     "metadata": {},
     "output_type": "execute_result"
    },
    {
     "data": {
      "image/png": "[encoded data removed]",
      "text/plain": [
       "<matplotlib.figure.Figure at 0x7f2554a67d90>"
      ]
     },
     "metadata": {},
     "output_type": "display_data"
    }
   ],
   "source": [
    "model = svm.LinearSVC(C=2**(-12),loss='hinge')\n",
    "model.fit(features_train, labels_train)\n",
    "predicted_train = model.predict(features_train)\n",
    "predicted_test = model.predict(features_test)\n",
    "error_train = sklearn.metrics.mean_squared_error(labels_train, predicted_train)\n",
    "error_test = sklearn.metrics.mean_squared_error(labels_test, predicted_test)\n",
    "print(\"Train Error: \"+ str(error_train))\n",
    "print(\"Test Error: \"+ str(error_test))\n",
    "\n",
    "weights = model.coef_\n",
    "matrix_weights = weights.reshape((28,28))\n",
    "plt.pcolor(matrix_weights, cmap='RdBu')\n",
    "plt.colorbar()"
   ]
  },
  {
   "cell_type": "markdown",
   "metadata": {},
   "source": [
    "### Test for 6 and 8 (C = $2^{-5}$)"
   ]
  },
  {
   "cell_type": "code",
   "execution_count": 175,
   "metadata": {},
   "outputs": [],
   "source": [
    "r_min1_train, r_max1_train = ranges[6][0], ranges[6][1]\n",
    "r_min2_train, r_max2_train = ranges[8][0], ranges[8][1]\n",
    "r_min1_test, r_max1_test = ranges[16][0], ranges[16][1]\n",
    "r_min2_test, r_max2_test = ranges[18][0], ranges[18][1]\n",
    "\n",
    "features_class1_train = mnist_normalized[r_min1_train:r_max1_train,:]\n",
    "features_class2_train = mnist_normalized[r_min2_train:r_max2_train,:]\n",
    "labels_class1_train = mnist_label[r_min1_train:r_max1_train]\n",
    "labels_class2_train = mnist_label[r_min2_train:r_max2_train]\n",
    "features_class1_test = mnist_normalized[r_min1_test:r_max1_test,:]\n",
    "features_class2_test = mnist_normalized[r_min2_test:r_max2_test,:]\n",
    "labels_class1_test = mnist_label[r_min1_test:r_max1_test]\n",
    "labels_class2_test = mnist_label[r_min2_test:r_max2_test]\n",
    "\n",
    "features_train = np.vstack((features_class1_train, features_class2_train))\n",
    "features_test = np.vstack((features_class1_test, features_class2_test))\n",
    "labels_train = np.append(labels_class1_train, labels_class2_train)\n",
    "labels_test = np.append(labels_class1_test, labels_class2_test)"
   ]
  },
  {
   "cell_type": "code",
   "execution_count": 176,
   "metadata": {},
   "outputs": [
    {
     "data": {
      "text/plain": [
       "<matplotlib.text.Text at 0x7f255156f850>"
      ]
     },
     "execution_count": 176,
     "metadata": {},
     "output_type": "execute_result"
    },
    {
     "data": {
      "image/png": "[encoded data removed]",
      "text/plain": [
       "<matplotlib.figure.Figure at 0x7f2551770450>"
      ]
     },
     "metadata": {},
     "output_type": "display_data"
    }
   ],
   "source": [
    "plt.subplot(1, 4, 1)\n",
    "plt.imshow(features_train[100].reshape(28,28))\n",
    "plt.title(str(labels_train[100]))\n",
    "plt.subplot(1, 4, 2)\n",
    "plt.imshow(features_train[8000].reshape(28,28))\n",
    "plt.title(str(labels_train[8000]))\n",
    "plt.subplot(1, 4, 3)\n",
    "plt.imshow(features_test[100].reshape(28,28))\n",
    "plt.title(str(labels_test[100]))\n",
    "plt.subplot(1, 4, 4)\n",
    "plt.imshow(features_test[1500].reshape(28,28))\n",
    "plt.title(str(labels_test[1500]))"
   ]
  },
  {
   "cell_type": "code",
   "execution_count": 177,
   "metadata": {},
   "outputs": [
    {
     "name": "stdout",
     "output_type": "stream",
     "text": [
      "Train Error: 0.012235534030079022\n",
      "Test Error: 0.049689440993788817\n"
     ]
    },
    {
     "data": {
      "text/plain": [
       "<matplotlib.colorbar.Colorbar at 0x7f2551500190>"
      ]
     },
     "execution_count": 177,
     "metadata": {},
     "output_type": "execute_result"
    },
    {
     "data": {
      "image/png": "[encoded data removed]",
      "text/plain": [
       "<matplotlib.figure.Figure at 0x7f255440e390>"
      ]
     },
     "metadata": {},
     "output_type": "display_data"
    }
   ],
   "source": [
    "model = svm.LinearSVC(C=2**(-5),loss='hinge')\n",
    "model.fit(features_train, labels_train)\n",
    "predicted_train = model.predict(features_train)\n",
    "predicted_test = model.predict(features_test)\n",
    "error_train = sklearn.metrics.mean_squared_error(labels_train, predicted_train)\n",
    "error_test = sklearn.metrics.mean_squared_error(labels_test, predicted_test)\n",
    "print(\"Train Error: \"+ str(error_train))\n",
    "print(\"Test Error: \"+ str(error_test))\n",
    "\n",
    "weights = model.coef_\n",
    "matrix_weights = weights.reshape((28,28))\n",
    "plt.pcolor(matrix_weights, cmap='RdBu')\n",
    "plt.colorbar()"
   ]
  },
  {
   "cell_type": "markdown",
   "metadata": {},
   "source": [
    "### Test for 4 and 7 (C = $2^5$ = 32)"
   ]
  },
  {
   "cell_type": "code",
   "execution_count": 172,
   "metadata": {},
   "outputs": [],
   "source": [
    "r_min1_train, r_max1_train = ranges[4][0], ranges[4][1]\n",
    "r_min2_train, r_max2_train = ranges[7][0], ranges[7][1]\n",
    "r_min1_test, r_max1_test = ranges[14][0], ranges[14][1]\n",
    "r_min2_test, r_max2_test = ranges[17][0], ranges[17][1]\n",
    "\n",
    "features_class1_train = mnist_normalized[r_min1_train:r_max1_train,:]\n",
    "features_class2_train = mnist_normalized[r_min2_train:r_max2_train,:]\n",
    "labels_class1_train = mnist_label[r_min1_train:r_max1_train]\n",
    "labels_class2_train = mnist_label[r_min2_train:r_max2_train]\n",
    "features_class1_test = mnist_normalized[r_min1_test:r_max1_test,:]\n",
    "features_class2_test = mnist_normalized[r_min2_test:r_max2_test,:]\n",
    "labels_class1_test = mnist_label[r_min1_test:r_max1_test]\n",
    "labels_class2_test = mnist_label[r_min2_test:r_max2_test]\n",
    "\n",
    "features_train = np.vstack((features_class1_train, features_class2_train))\n",
    "features_test = np.vstack((features_class1_test, features_class2_test))\n",
    "labels_train = np.append(labels_class1_train, labels_class2_train)\n",
    "labels_test = np.append(labels_class1_test, labels_class2_test)"
   ]
  },
  {
   "cell_type": "code",
   "execution_count": 173,
   "metadata": {},
   "outputs": [
    {
     "data": {
      "text/plain": [
       "<matplotlib.text.Text at 0x7f2553320950>"
      ]
     },
     "execution_count": 173,
     "metadata": {},
     "output_type": "execute_result"
    },
    {
     "data": {
      "image/png": "[encoded data removed]",
      "text/plain": [
       "<matplotlib.figure.Figure at 0x7f2553da37d0>"
      ]
     },
     "metadata": {},
     "output_type": "display_data"
    }
   ],
   "source": [
    "plt.subplot(1, 4, 1)\n",
    "plt.imshow(features_train[100].reshape(28,28))\n",
    "plt.title(str(labels_train[100]))\n",
    "plt.subplot(1, 4, 2)\n",
    "plt.imshow(features_train[8000].reshape(28,28))\n",
    "plt.title(str(labels_train[8000]))\n",
    "plt.subplot(1, 4, 3)\n",
    "plt.imshow(features_test[100].reshape(28,28))\n",
    "plt.title(str(labels_test[100]))\n",
    "plt.subplot(1, 4, 4)\n",
    "plt.imshow(features_test[1500].reshape(28,28))\n",
    "plt.title(str(labels_test[1500]))"
   ]
  },
  {
   "cell_type": "code",
   "execution_count": 174,
   "metadata": {},
   "outputs": [
    {
     "name": "stdout",
     "output_type": "stream",
     "text": [
      "Train Error: 0.005203601222433303\n",
      "Test Error: 0.1746268656716418\n"
     ]
    },
    {
     "data": {
      "text/plain": [
       "<matplotlib.colorbar.Colorbar at 0x7f2553234490>"
      ]
     },
     "execution_count": 174,
     "metadata": {},
     "output_type": "execute_result"
    },
    {
     "data": {
      "image/png": "[encoded data removed]",
      "text/plain": [
       "<matplotlib.figure.Figure at 0x7f2553d92cd0>"
      ]
     },
     "metadata": {},
     "output_type": "display_data"
    }
   ],
   "source": [
    "model = svm.LinearSVC(C=2**5,loss='hinge')\n",
    "model.fit(features_train, labels_train)\n",
    "predicted_train = model.predict(features_train)\n",
    "predicted_test = model.predict(features_test)\n",
    "error_train = sklearn.metrics.mean_squared_error(labels_train, predicted_train)\n",
    "error_test = sklearn.metrics.mean_squared_error(labels_test, predicted_test)\n",
    "print(\"Train Error: \"+ str(error_train))\n",
    "print(\"Test Error: \"+ str(error_test))\n",
    "\n",
    "weights = model.coef_\n",
    "matrix_weights = weights.reshape((28,28))\n",
    "plt.pcolor(matrix_weights, cmap='RdBu')\n",
    "plt.colorbar()"
   ]
  },
  {
   "cell_type": "markdown",
   "metadata": {},
   "source": [
    "As we can see in the above examples, for small $C$ values give weights which can be related to the digits that we are trying to predict. But for a bigger value for $C$ $(2^5)$, the plot obtained for weights is very sparse with respect to the other examples. Furthermore, we can see that for bigger values of $C$, we reduce our training error, but increase the test error, but for smaller values of $C$ we may increase the train error, but decrease the test error."
   ]
  },
  {
   "cell_type": "markdown",
   "metadata": {},
   "source": [
    "\n",
    "## 3.\n",
    "## a) \n",
    "The data set we build is made up of the most frequent words of length greater than 3 characters in spanish and english form wiktionary.org. The data was downloaded and filtered with bash tools as awk, sed and vim commands, always ordered from most frequent to less frequent word. \n",
    "For this assigment, many data sets were build for tuning up the parameters and real training.\n",
    "For the cross validation, a date set was build with words within the 7000 and 8000 most frequent words (none of this range was used in the training set). "
   ]
  },
  {
   "cell_type": "markdown",
   "metadata": {},
   "source": [
    "### B)"
   ]
  },
  {
   "cell_type": "markdown",
   "metadata": {},
   "source": [
    "## String Subsequence Kernel\n",
    "This implementation uses dynamic programming to caculate the number of common string subsequences of length n of two strings, the distance between characters in the subsequence is penalized with a decay factor $\\lambda$, the implementatin consist of n+1 iterations, where each iteration creates a matrix and each position j,k tells how many common subsequences of length i have been counted at the moment and wich decay the subsequece has."
   ]
  },
  {
   "cell_type": "code",
   "execution_count": 2,
   "metadata": {},
   "outputs": [],
   "source": [
    "def ssk (a, b, n, lam):\n",
    "    Kp = np.zeros((n + 1, len(a), len(b)), dtype=np.float64)\n",
    "    Kp[0, :] = 1.0\n",
    "    for i in range(n):\n",
    "        for j in range(len(a) - 1):\n",
    "            Kpp = 0.0\n",
    "            for k in range(len(b) - 1):\n",
    "                Kpp = lam * (Kpp + lam * int(a[j] == b[k]) * Kp[i, j, k])           \n",
    "                Kp[i+1, j+1, k+1] = lam * Kp[i+1, j, k+1] + Kpp\n",
    "                \n",
    "    K = 0.0\n",
    "    for j in range(len(a)):\n",
    "        for k in range(len(b)):\n",
    "            K += lam * lam * int(a[j] == b[k]) * Kp[n-1, j, k]\n",
    "    \n",
    "    return  K"
   ]
  },
  {
   "cell_type": "markdown",
   "metadata": {},
   "source": [
    "## N-Grams kernel \n",
    "Implementation of the n-gram kernel taken from scikit-learn"
   ]
  },
  {
   "cell_type": "code",
   "execution_count": 3,
   "metadata": {},
   "outputs": [],
   "source": [
    "def ngk(doc1, doc2, n=2):\n",
    "    # Counts the occurences of unique n-grams\n",
    "    ngrams = CountVectorizer(analyzer='char', ngram_range=(n, n)).fit_transform([doc1, doc2])\n",
    "\n",
    "    # Normalize\n",
    "    a, b = TfidfTransformer().fit_transform(ngrams).toarray()    \n",
    "    return np.dot(a, b)"
   ]
  },
  {
   "cell_type": "markdown",
   "metadata": {},
   "source": [
    "### C)"
   ]
  },
  {
   "cell_type": "markdown",
   "metadata": {},
   "source": [
    "## SSK Classifier with scikit-learn svm.SVC"
   ]
  },
  {
   "cell_type": "code",
   "execution_count": 5,
   "metadata": {},
   "outputs": [],
   "source": [
    "def sskClassifier(n, lam):\n",
    "    #t = time()\n",
    "    for i in range(X.shape[0]):\n",
    "        for j in range(X.shape[0]):\n",
    "            gram[i][j] = ssk(X[i], X[j], n, lam)\n",
    "\n",
    "    clf = svm.SVC(kernel='precomputed')\n",
    "    clf.fit(gram, Y)\n",
    "\n",
    "    for i in range(XT.shape[0]):\n",
    "        for j in range(X.shape[0]):\n",
    "            gramT[i][j] = ssk(XT[i], X[j], n, lam)\n",
    "\n",
    "    Z = clf.predict(gramT)\n",
    "    a = accuracy_score(YT, Z)\n",
    "    print(a)\n",
    "    return a"
   ]
  },
  {
   "cell_type": "markdown",
   "metadata": {},
   "source": [
    "## Cross validation\n",
    "To compare different parameters of n and $\\lambda$, we used a smaller part of the dataset because we just want the apparently best parameters, not a high accuracy at the moment"
   ]
  },
  {
   "cell_type": "markdown",
   "metadata": {},
   "source": [
    "## Load data"
   ]
  },
  {
   "cell_type": "code",
   "execution_count": 3,
   "metadata": {},
   "outputs": [],
   "source": [
    "english = np.genfromtxt('words/english400.txt',dtype='str')\n",
    "spanish = np.genfromtxt('words/spanish400.txt',dtype='str')\n",
    "sl = np.zeros(spanish.shape)\n",
    "el = np.full(spanish.shape, 1)\n",
    "X = np.concatenate((spanish, english), axis=0)\n",
    "Y = np.concatenate((sl, el), axis=0)\n",
    "\n",
    "englishTest = np.genfromtxt('words/englishTest100.txt',dtype='str')\n",
    "spanishTest = np.genfromtxt('words/spanishTest100.txt',dtype='str')\n",
    "slt = np.zeros(spanishTest.shape)\n",
    "elt = np.full(spanishTest.shape, 1)\n",
    "XT = np.concatenate((spanishTest, englishTest), axis=0)\n",
    "YT = np.concatenate((slt, elt), axis=0)\n",
    "\n",
    "gram = np.zeros((X.shape[0], X.shape[0]))\n",
    "gramT = np.zeros((XT.shape[0], X.shape[0]))"
   ]
  },
  {
   "cell_type": "markdown",
   "metadata": {},
   "source": [
    "## Compare accuracy"
   ]
  },
  {
   "cell_type": "code",
   "execution_count": 7,
   "metadata": {},
   "outputs": [
    {
     "name": "stdout",
     "output_type": "stream",
     "text": [
      "n  2 lamda  0.1\n",
      "0.715\n",
      "n  2 lamda  0.2\n",
      "0.72\n",
      "n  2 lamda  0.3\n",
      "0.705\n",
      "n  2 lamda  0.4\n",
      "0.695\n",
      "n  2 lamda  0.5\n",
      "0.745\n",
      "n  2 lamda  0.6\n",
      "0.77\n",
      "n  2 lamda  0.7\n",
      "0.775\n",
      "n  2 lamda  0.8\n",
      "0.73\n",
      "n  2 lamda  0.9\n",
      "0.74\n",
      "n  2 lamda  1.0\n",
      "0.725\n",
      "n  3 lamda  0.1\n",
      "0.59\n",
      "n  3 lamda  0.2\n",
      "0.585\n",
      "n  3 lamda  0.3\n",
      "0.61\n",
      "n  3 lamda  0.4\n",
      "0.665\n",
      "n  3 lamda  0.5\n",
      "0.705\n",
      "n  3 lamda  0.6\n",
      "0.75\n",
      "n  3 lamda  0.7\n",
      "0.745\n",
      "n  3 lamda  0.8\n",
      "0.76\n",
      "n  3 lamda  0.9\n",
      "0.72\n",
      "n  3 lamda  1.0\n",
      "0.71\n",
      "n  4 lamda  0.1\n",
      "0.61\n",
      "n  4 lamda  0.2\n",
      "0.65\n",
      "n  4 lamda  0.3\n",
      "0.67\n",
      "n  4 lamda  0.4\n",
      "0.62\n",
      "n  4 lamda  0.5\n",
      "0.565\n",
      "n  4 lamda  0.6\n",
      "0.555\n",
      "n  4 lamda  0.7\n",
      "0.735\n",
      "n  4 lamda  0.8\n",
      "0.69\n",
      "n  4 lamda  0.9\n",
      "0.685\n",
      "n  4 lamda  1.0\n",
      "0.65\n",
      "n  5 lamda  0.1\n",
      "0.525\n",
      "n  5 lamda  0.2\n",
      "0.515\n",
      "n  5 lamda  0.3\n",
      "0.505\n",
      "n  5 lamda  0.4\n",
      "0.5\n",
      "n  5 lamda  0.5\n",
      "0.5\n",
      "n  5 lamda  0.6\n",
      "0.5\n",
      "n  5 lamda  0.7\n",
      "0.615\n",
      "n  5 lamda  0.8\n",
      "0.66\n",
      "n  5 lamda  0.9\n",
      "0.625\n",
      "n  5 lamda  1.0\n",
      "0.62\n",
      "n  6 lamda  0.1\n",
      "0.5\n",
      "n  6 lamda  0.2\n",
      "0.5\n",
      "n  6 lamda  0.3\n",
      "0.5\n",
      "n  6 lamda  0.4\n",
      "0.5\n",
      "n  6 lamda  0.5\n",
      "0.5\n",
      "n  6 lamda  0.6\n",
      "0.5\n",
      "n  6 lamda  0.7\n",
      "0.5\n",
      "n  6 lamda  0.8\n",
      "0.5\n",
      "n  6 lamda  0.9\n",
      "0.54\n",
      "n  6 lamda  1.0\n",
      "0.535\n",
      "n  7 lamda  0.1\n",
      "0.5\n",
      "n  7 lamda  0.2\n",
      "0.5\n",
      "n  7 lamda  0.3\n",
      "0.5\n",
      "n  7 lamda  0.4\n",
      "0.5\n",
      "n  7 lamda  0.5\n",
      "0.5\n",
      "n  7 lamda  0.6\n",
      "0.5\n",
      "n  7 lamda  0.7\n",
      "0.5\n",
      "n  7 lamda  0.8\n",
      "0.5\n",
      "n  7 lamda  0.9\n",
      "0.495\n",
      "n  7 lamda  1.0\n",
      "0.495\n",
      "nMax 2 lamMax 7 value 0.775\n"
     ]
    }
   ],
   "source": [
    "nMax, lamMax, tmp = 0, 0, 0\n",
    "for n in range(2, 8):\n",
    "    for lam in range(1, 11):\n",
    "        print(\"n \", n, \"lamda \", lam/10.0)\n",
    "        aux = sskClassifier(n, lam/10.0)\n",
    "        if aux > tmp:\n",
    "            tmp = aux\n",
    "            nMax = n\n",
    "            lamMax = lam\n",
    "\n",
    "print(\"nMax\", nMax, \"lamMax\", lamMax, \"value\", tmp)"
   ]
  },
  {
   "cell_type": "code",
   "execution_count": 4,
   "metadata": {},
   "outputs": [
    {
     "name": "stdout",
     "output_type": "stream",
     "text": [
      "High five! You successfully sent some data to your account on plotly. View your plot in your browser at https://plot.ly/~jccaleroe/0 or inside your plot.ly account where it is named 'styled_table'\n"
     ]
    },
    {
     "data": {
      "text/html": [
       "<iframe id=\"igraph\" scrolling=\"no\" style=\"border:none;\" seamless=\"seamless\" src=\"https://plot.ly/~jccaleroe/0.embed\" height=\"800px\" width=\"600px\"></iframe>"
      ],
      "text/plain": [
       "<plotly.tools.PlotlyDisplay object>"
      ]
     },
     "execution_count": 4,
     "metadata": {},
     "output_type": "execute_result"
    }
   ],
   "source": [
    "trace = go.Table(\n",
    "    header=dict(values=['Subsequence length', 'Decay factor', 'Accuracy score'],\n",
    "                line = dict(color='#7D7F80'),\n",
    "                fill = dict(color='#a1c3d1'),\n",
    "                align = ['left'] * 5),\n",
    "    cells=dict(values=[[2, 2, 2, 2, 2, 2, 2, 2, 2, 2, 3, 3, 3, 3, 3, 3, 3, 3, 3, 3, 4, 4, 4, 4, 4, 4, 4, 4, 4, 4, 5, 5, 5, 5, 5, 5, 5, 5, 5, 5, 6, 6, 6, 6, 6, 6, 6, 6, 6, 6, 7, 7, 7, 7, 7, 7, 7, 7, 7, 7],\n",
    "                       [0.1, 0.2, 0.3, 0.4, 0.5, 0.6, 0.7, 0.8, 0.9, 1, 0.1, 0.2, 0.3, 0.4, 0.5, 0.6, 0.7, 0.8, 0.9, 1, 0.1, 0.2, 0.3, 0.4, 0.5, 0.6, 0.7, 0.8, 0.9, 1, 0.1, 0.2, 0.3, 0.4, 0.5, 0.6, 0.7, 0.8, 0.9, 1, 0.1, 0.2, 0.3, 0.4, 0.5, 0.6, 0.7, 0.8, 0.9, 1, 0.1, 0.2, 0.3, 0.4, 0.5, 0.6, 0.7, 0.8, 0.9, 1],\n",
    "                       [0.715, 0.72, 0.705, 0.695, 0.745, 0.77, 0.775, 0.73, 0.74, 0.725, 0.59, 0.585, 0.61, 0.665, 0.705, 0.75, 0.745, 0.76, 0.72, 0.71, 0.61, 0.65, 0.67, 0.62, 0.565, 0.555, 0.735, 0.69, 0.685, 0.65, 0.525, 0.515, 0.505, 0.5, 0.5, 0.5, 0.615, 0.66, 0.625, 0.62, 0.5, 0.5, 0.5, 0.5, 0.5, 0.5, 0.5, 0.5, 0.54, 0.535, 0.5, 0.5, 0.5, 0.5, 0.5, 0.5, 0.5, 0.5, 0.495, 0.495]\n",
    "                      ],\n",
    "               line = dict(color='#7D7F80'),\n",
    "               fill = dict(color='#EDFAFF'),\n",
    "               align = ['left'] * 4))\n",
    "\n",
    "layout = dict(width=600, height=800)\n",
    "data = [trace]\n",
    "fig = dict(data=data, layout=layout)\n",
    "py.iplot(fig, filename = 'styled_table')"
   ]
  },
  {
   "cell_type": "markdown",
   "metadata": {},
   "source": [
    "### Best parameters:\n",
    "### n= 2, lambda = 0.7"
   ]
  },
  {
   "cell_type": "markdown",
   "metadata": {},
   "source": [
    "## NGK Classifier with scikit-learn svm.SVC"
   ]
  },
  {
   "cell_type": "code",
   "execution_count": 5,
   "metadata": {},
   "outputs": [],
   "source": [
    "def ngkClassifier(n):    \n",
    "    for i in range(X.shape[0]):\n",
    "        for j in range(X.shape[0]):\n",
    "            gram2[i][j] = ngk(X[i], X[j], n)\n",
    "\n",
    "    clf2 = svm.SVC(kernel='precomputed')\n",
    "    clf2.fit(gram2, Y)    \n",
    "    \n",
    "    for i in range(XT.shape[0]):\n",
    "        for j in range(X.shape[0]):\n",
    "            gramT2[i][j] = ngk(XT[i], X[j], n)\n",
    "\n",
    "    Z2 = clf2.predict(gramT2)\n",
    "\n",
    "    a = accuracy_score(YT, Z2)\n",
    "    print(a)\n",
    "    return a"
   ]
  },
  {
   "cell_type": "markdown",
   "metadata": {},
   "source": [
    "## Cross validation\n",
    "To compare different parameters of n and $\\lambda$, we used a smaller part of the dataset because we just want the apparently best parameters, not a high accuracy at the moment"
   ]
  },
  {
   "cell_type": "markdown",
   "metadata": {},
   "source": [
    "## Load data"
   ]
  },
  {
   "cell_type": "code",
   "execution_count": null,
   "metadata": {},
   "outputs": [],
   "source": [
    "english = np.genfromtxt('words/english400.txt',dtype='str')\n",
    "spanish = np.genfromtxt('words/spanish400.txt',dtype='str')\n",
    "sl = np.zeros(spanish.shape)\n",
    "el = np.full(spanish.shape, 1)\n",
    "X = np.concatenate((spanish, english), axis=0)\n",
    "Y = np.concatenate((sl, el), axis=0)\n",
    "\n",
    "englishTest = np.genfromtxt('words/englishTest100.txt',dtype='str')\n",
    "spanishTest = np.genfromtxt('words/spanishTest100.txt',dtype='str')\n",
    "slt = np.zeros(spanishTest.shape)\n",
    "elt = np.full(spanishTest.shape, 1)\n",
    "XT = np.concatenate((spanishTest, englishTest), axis=0)\n",
    "YT = np.concatenate((slt, elt), axis=0)\n",
    "\n",
    "gram2 = np.zeros((X.shape[0], X.shape[0]))\n",
    "gramT2 = np.zeros((XT.shape[0], X.shape[0]))"
   ]
  },
  {
   "cell_type": "code",
   "execution_count": 5,
   "metadata": {
    "scrolled": true
   },
   "outputs": [
    {
     "name": "stdout",
     "output_type": "stream",
     "text": [
      "n  1\n",
      "0.705\n",
      "n  2\n",
      "0.79\n",
      "n  3\n",
      "0.71\n",
      "n  4\n",
      "0.69\n",
      "Max n: 2 value: 0.79\n"
     ]
    }
   ],
   "source": [
    "nMax, tmp = 0, 0\n",
    "for n in range(1, 5):\n",
    "    print(\"n \", n)\n",
    "    aux = ngkClassifier(n)\n",
    "    if aux > tmp:\n",
    "        tmp = aux\n",
    "        nMax = n\n",
    "        \n",
    "print(\"Max n:\", nMax, \"value:\", tmp)\n"
   ]
  },
  {
   "cell_type": "code",
   "execution_count": 53,
   "metadata": {},
   "outputs": [
    {
     "name": "stdout",
     "output_type": "stream",
     "text": [
      "High five! You successfully sent some data to your account on plotly. View your plot in your browser at https://plot.ly/~jccaleroe/0 or inside your plot.ly account where it is named 'styled_table'\n"
     ]
    },
    {
     "data": {
      "text/html": [
       "<iframe id=\"igraph\" scrolling=\"no\" style=\"border:none;\" seamless=\"seamless\" src=\"https://plot.ly/~jccaleroe/0.embed\" height=\"300px\" width=\"500px\"></iframe>"
      ],
      "text/plain": [
       "<plotly.tools.PlotlyDisplay object>"
      ]
     },
     "execution_count": 53,
     "metadata": {},
     "output_type": "execute_result"
    }
   ],
   "source": [
    "trace = go.Table(\n",
    "    header=dict(values=['N-grams', 'Accuracy score'],\n",
    "                line = dict(color='#7D7F80'),\n",
    "                fill = dict(color='#a1c3d1'),\n",
    "                align = ['left'] * 5),\n",
    "    cells=dict(values=[[1, 2, 3, 4],\n",
    "                       [0.705, 0.79, 0.71, 0.69]],\n",
    "               line = dict(color='#7D7F80'),\n",
    "               fill = dict(color='#EDFAFF'),\n",
    "               align = ['left'] * 4))\n",
    "\n",
    "layout = dict(width=500, height=300)\n",
    "data = [trace]\n",
    "fig = dict(data=data, layout=layout)\n",
    "py.iplot(fig, filename = 'styled_table')"
   ]
  },
  {
   "cell_type": "markdown",
   "metadata": {},
   "source": [
    "### Best parameter: \n",
    "### n = 2"
   ]
  },
  {
   "cell_type": "markdown",
   "metadata": {},
   "source": [
    "## D)\n",
    "## Performance and errors"
   ]
  },
  {
   "cell_type": "markdown",
   "metadata": {},
   "source": [
    "## SSK\n",
    "Now, with a better idea of what parameters to use, we trained a medium data set with 4000 spanish words and 4000 english words adding up to 8000 words"
   ]
  },
  {
   "cell_type": "code",
   "execution_count": 25,
   "metadata": {},
   "outputs": [],
   "source": [
    "english = np.genfromtxt('words/english4000.txt',dtype='str')\n",
    "spanish = np.genfromtxt('words/spanish4000.txt',dtype='str')\n",
    "sl = np.zeros(spanish.shape)\n",
    "el = np.full(spanish.shape, 1)\n",
    "X = np.concatenate((spanish, english), axis=0)\n",
    "Y = np.concatenate((sl, el), axis=0)\n",
    "\n",
    "englishTest = np.genfromtxt('words/englishTest100.txt',dtype='str')\n",
    "spanishTest = np.genfromtxt('words/spanishTest100.txt',dtype='str')\n",
    "slt = np.zeros(spanishTest.shape)\n",
    "elt = np.full(spanishTest.shape, 1)\n",
    "XT = np.concatenate((spanishTest, englishTest), axis=0)\n",
    "YT = np.concatenate((slt, elt), axis=0)\n",
    "\n",
    "gram = np.zeros((X.shape[0], X.shape[0]))\n",
    "gramT = np.zeros((XT.shape[0], X.shape[0]))"
   ]
  },
  {
   "cell_type": "markdown",
   "metadata": {},
   "source": [
    "## Accuracy"
   ]
  },
  {
   "cell_type": "code",
   "execution_count": 7,
   "metadata": {},
   "outputs": [
    {
     "name": "stdout",
     "output_type": "stream",
     "text": [
      "0.87\n"
     ]
    }
   ],
   "source": [
    "a = sskClassifier(2, 0.7)"
   ]
  },
  {
   "cell_type": "code",
   "execution_count": 17,
   "metadata": {},
   "outputs": [],
   "source": [
    "clf = svm.SVC(kernel='precomputed')\n",
    "clf.fit(gram, Y)\n",
    "Z = clf.predict(gramT)"
   ]
  },
  {
   "cell_type": "markdown",
   "metadata": {},
   "source": [
    "## Words mistaken\n",
    "Here we can see, it classified zero as a word in English and chocolate as a word in Spanish, but that they were in the data set of Spanish and English respectively, these errors are acceptable since both languages use those words. We can also see a name Hugo, which can be of both languages too, the other words with a data set a little bit larger could have been avoidable, but in general most words have at least 6 characters, and bigger words are harder to classify since they have more common subsequences with others words."
   ]
  },
  {
   "cell_type": "code",
   "execution_count": 34,
   "metadata": {},
   "outputs": [
    {
     "name": "stdout",
     "output_type": "stream",
     "text": [
      "cicatrices Predicted: English, Real: Spanish\n",
      "zero Predicted: English, Real: Spanish\n",
      "utilizan Predicted: English, Real: Spanish\n",
      "coincide Predicted: English, Real: Spanish\n",
      "atraen Predicted: English, Real: Spanish\n",
      "aplicar Predicted: English, Real: Spanish\n",
      "agáchate Predicted: English, Real: Spanish\n",
      "triunfo Predicted: English, Real: Spanish\n",
      "timbre Predicted: English, Real: Spanish\n",
      "sufren Predicted: English, Real: Spanish\n",
      "sesos Predicted: English, Real: Spanish\n",
      "servirle Predicted: English, Real: Spanish\n",
      "soda Predicted: Spanish, Real: English\n",
      "candid Predicted: Spanish, Real: English\n",
      "Hugo Predicted: Spanish, Real: English\n",
      "chairman Predicted: Spanish, Real: English\n",
      "climax Predicted: Spanish, Real: English\n",
      "cupboard Predicted: Spanish, Real: English\n",
      "ludicrous Predicted: Spanish, Real: English\n",
      "colossal Predicted: Spanish, Real: English\n",
      "colorado Predicted: Spanish, Real: English\n",
      "plateau Predicted: Spanish, Real: English\n",
      "indescribable Predicted: Spanish, Real: English\n",
      "rubber Predicted: Spanish, Real: English\n",
      "exclude Predicted: Spanish, Real: English\n",
      "chocolate Predicted: Spanish, Real: English\n"
     ]
    }
   ],
   "source": [
    "for i in range(Z.shape[0]):\n",
    "    if Z[i] != YT[i]:\n",
    "        print(XT[i], \"Predicted:\", \"Spanish,\" if Z[i] == 0 else \"English,\", \"Real:\", \"Spanish\" if YT[i] == 0 else \"English\")"
   ]
  },
  {
   "cell_type": "markdown",
   "metadata": {},
   "source": [
    "## NGK\n",
    "Now, with a better idea of what parameters to use, we trained a medium data set with 3000 spanish words and 3000 english words adding up to 6000 words"
   ]
  },
  {
   "cell_type": "code",
   "execution_count": 7,
   "metadata": {},
   "outputs": [],
   "source": [
    "english = np.genfromtxt('words/english2000.txt',dtype='str')\n",
    "spanish = np.genfromtxt('words/spanish2000.txt',dtype='str')\n",
    "sl = np.zeros(spanish.shape)\n",
    "el = np.full(spanish.shape, 1)\n",
    "X = np.concatenate((spanish, english), axis=0)\n",
    "Y = np.concatenate((sl, el), axis=0)\n",
    "\n",
    "englishTest = np.genfromtxt('words/englishTest100.txt',dtype='str')\n",
    "spanishTest = np.genfromtxt('words/spanishTest100.txt',dtype='str')\n",
    "slt = np.zeros(spanishTest.shape)\n",
    "elt = np.full(spanishTest.shape, 1)\n",
    "XT = np.concatenate((spanishTest, englishTest), axis=0)\n",
    "YT = np.concatenate((slt, elt), axis=0)\n",
    "\n",
    "gram2 = np.zeros((X.shape[0], X.shape[0]))\n",
    "gramT2 = np.zeros((XT.shape[0], X.shape[0]))"
   ]
  },
  {
   "cell_type": "markdown",
   "metadata": {},
   "source": [
    "## Accuracy"
   ]
  },
  {
   "cell_type": "code",
   "execution_count": 8,
   "metadata": {},
   "outputs": [
    {
     "name": "stdout",
     "output_type": "stream",
     "text": [
      "0.875\n"
     ]
    }
   ],
   "source": [
    "a = ngkClassifier(2)"
   ]
  },
  {
   "cell_type": "code",
   "execution_count": 9,
   "metadata": {},
   "outputs": [],
   "source": [
    "clf2 = svm.SVC(kernel='precomputed')\n",
    "clf2.fit(gram2, Y)\n",
    "Z2 = clf2.predict(gramT2)"
   ]
  },
  {
   "cell_type": "markdown",
   "metadata": {},
   "source": [
    "## Words mistaken\n",
    "Here we can see, it classified chocolate as a word in Spanish, but it is an English data set word, but that is a spanish word, so it is not so bad. We can also see names as Hugo, colorado and Pero, which can be of both languages too, the other words with a data set a little bit larger could have been avoidable, but in general this classifier tends more to classify spanish words than english."
   ]
  },
  {
   "cell_type": "code",
   "execution_count": 10,
   "metadata": {},
   "outputs": [
    {
     "name": "stdout",
     "output_type": "stream",
     "text": [
      "utilizan Predicted: English, Real: Spanish\n",
      "reemplazar Predicted: English, Real: Spanish\n",
      "insignia Predicted: English, Real: Spanish\n",
      "explícame Predicted: English, Real: Spanish\n",
      "aplicar Predicted: English, Real: Spanish\n",
      "agáchate Predicted: English, Real: Spanish\n",
      "triunfo Predicted: English, Real: Spanish\n",
      "sufren Predicted: English, Real: Spanish\n",
      "retirarse Predicted: English, Real: Spanish\n",
      "soda Predicted: Spanish, Real: English\n",
      "salon Predicted: Spanish, Real: English\n",
      "Peru Predicted: Spanish, Real: English\n",
      "Hugo Predicted: Spanish, Real: English\n",
      "deficient Predicted: Spanish, Real: English\n",
      "hazel Predicted: Spanish, Real: English\n",
      "knave Predicted: Spanish, Real: English\n",
      "climax Predicted: Spanish, Real: English\n",
      "colossal Predicted: Spanish, Real: English\n",
      "vale Predicted: Spanish, Real: English\n",
      "colorado Predicted: Spanish, Real: English\n",
      "barley Predicted: Spanish, Real: English\n",
      "indescribable Predicted: Spanish, Real: English\n",
      "adieu Predicted: Spanish, Real: English\n",
      "abuses Predicted: Spanish, Real: English\n",
      "chocolate Predicted: Spanish, Real: English\n"
     ]
    }
   ],
   "source": [
    "for i in range(Z2.shape[0]):\n",
    "    if Z2[i] != YT[i]:\n",
    "        print(XT[i], \"Predicted:\", \"Spanish,\" if Z2[i] == 0 else \"English,\", \"Real:\", \"Spanish\" if YT[i] == 0 else \"English\")"
   ]
  }
 ],
 "metadata": {
  "kernelspec": {
   "display_name": "Python 3",
   "language": "python",
   "name": "python3"
  },
  "language_info": {
   "codemirror_mode": {
    "name": "ipython",
    "version": 3
   },
   "file_extension": ".py",
   "mimetype": "text/x-python",
   "name": "python",
   "nbconvert_exporter": "python",
   "pygments_lexer": "ipython3",
   "version": "3.6.4"
  }
 },
 "nbformat": 4,
 "nbformat_minor": 2
}
