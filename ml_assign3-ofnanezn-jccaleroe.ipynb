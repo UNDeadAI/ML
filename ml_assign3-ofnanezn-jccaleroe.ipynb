{
 "cells": [
  {
   "cell_type": "markdown",
   "metadata": {},
   "source": [
    "# Machine Learning - Assignment 3\n",
    "\n",
    "### Oscar Fabián Ñáñez Núñez - Juan Camilo Calero Espinosa\n",
    "### ofnanezn - jccaleroe"
   ]
  },
  {
   "cell_type": "code",
   "execution_count": 1,
   "metadata": {},
   "outputs": [],
   "source": [
    "from sklearn.datasets import fetch_mldata\n",
    "from sklearn.preprocessing import scale\n",
    "import sklearn\n",
    "import matplotlib.pyplot as plt\n",
    "import numpy as np\n",
    "from numpy import linalg as AL\n",
    "from sklearn.kernel_approximation import RBFSampler\n",
    "from sklearn import svm"
   ]
  },
  {
   "cell_type": "markdown",
   "metadata": {},
   "source": [
    "## 1."
   ]
  },
  {
   "cell_type": "code",
   "execution_count": 23,
   "metadata": {},
   "outputs": [],
   "source": [
    "#<x,y>\n",
    "def phi1(x):\n",
    "    return np.array([x[0], x[1]])"
   ]
  },
  {
   "cell_type": "code",
   "execution_count": 24,
   "metadata": {},
   "outputs": [],
   "source": [
    "#(<x,y>)^2\n",
    "def phi2(x):\n",
    "    return np.array([x[0]**2, np.sqrt(2)*x[0]*x[1], x[1]**2])"
   ]
  },
  {
   "cell_type": "code",
   "execution_count": 28,
   "metadata": {},
   "outputs": [],
   "source": [
    "#(<x,y>+1)^5\n",
    "#x1^10 + 5 x1^8 x2^2 + 5 x1^8 + 10 x1^6 x2^4 + 20 x1^6 x2^2 + 10 x1^6 + 10 x1^4 x2^6 + 30 x1^4 x2^4 + 30 x1^4 x2^2 + 10 x1^4 + 5 x1^2 x2^8 + 20 x1^2 x2^6 + 30 x1^2 x2^4 + 20 x1^2 x2^2 + 5 x1^2 + x2^10 + 5 x2^8 + 10 x2^6 + 10 x2^4 + 5 x2^2 + 1\n",
    "def phi3(X):\n",
    "    x1 = x[0]\n",
    "    x2 = x[1]\n",
    "    return np.array([x1**5, np.sqrt(5)*(x1**4)*(x2), np.sqrt(5)*(x1**4), np.sqrt(10)*(x1**3)*(x2**2), np.sqrt(20)*(x1**3)*x2, np.sqrt(10)*(x1**3), np.sqrt(10)*(x1**2)*(x2**3), np.sqrt(30)*(x1**2)*(x2**2), np.sqrt(30)*(x1**2)*x2 , np.sqrt(10)*(x1**2), np.sqrt(5)*x1*(x2**4), np.sqrt(20)*x1*(x2**3), np.sqrt(30)*x1*(x2**2), np.sqrt(20)*x1*x2, np.sqrt(5)*x1, x2**5, np.sqrt(5)*(x2**4), np.sqrt(10)*(x2**3), np.sqrt(10)*(x2**2), np.sqrt(5)*x2 , 1])"
   ]
  },
  {
   "cell_type": "code",
   "execution_count": 36,
   "metadata": {},
   "outputs": [],
   "source": [
    "def massFuntion(phi, x):\n",
    "    return np.sum(np.array( [ phi(X) for X in x ] ), axis=0 ) / x.shape[0]"
   ]
  },
  {
   "cell_type": "code",
   "execution_count": 37,
   "metadata": {},
   "outputs": [],
   "source": [
    "def averageDistance(phi, x):\n",
    "    s = massFuntion(phi, x)\n",
    "    return np.sum([AL.norm(phi(X) - s) for X in x ]) / x.shape[0]    "
   ]
  },
  {
   "cell_type": "code",
   "execution_count": 39,
   "metadata": {},
   "outputs": [
    {
     "name": "stdout",
     "output_type": "stream",
     "text": [
      "2.181590058931585\n",
      "7.914628929835604\n",
      "1.4485751647352964e-14\n",
      "0.8567338704646932\n"
     ]
    }
   ],
   "source": [
    "x = np.array([[0,1], [-1,3], [2,4], [3,-1], [-1,2]])\n",
    "print(averageDistance(phi1, x))\n",
    "print(averageDistance(phi2, x))\n",
    "print(averageDistance(phi3, x))\n",
    "\n",
    "##Gaussian\n",
    "rbf_feature = RBFSampler(gamma=1, random_state=1)\n",
    "p = rbf_feature.fit_transform(x)\n",
    "s = np.sum(p, axis=0) / p.shape[0]\n",
    "print(np.sum([AL.norm(X - s) for X in p]) / p.shape[0])"
   ]
  },
  {
   "cell_type": "markdown",
   "metadata": {},
   "source": [
    "## 2.\n",
    "\n",
    "## a)"
   ]
  },
  {
   "cell_type": "code",
   "execution_count": 2,
   "metadata": {},
   "outputs": [
    {
     "name": "stdout",
     "output_type": "stream",
     "text": [
      "(70000, 784)\n",
      "(70000,)\n"
     ]
    }
   ],
   "source": [
    "mnist = fetch_mldata('MNIST original')\n",
    "mnist_features = mnist[\"data\"]\n",
    "mnist_label = mnist[\"target\"]\n",
    "print(mnist_features.shape)\n",
    "print(mnist_label.shape)"
   ]
  },
  {
   "cell_type": "markdown",
   "metadata": {},
   "source": [
    "## b)"
   ]
  },
  {
   "cell_type": "code",
   "execution_count": 3,
   "metadata": {},
   "outputs": [
    {
     "name": "stderr",
     "output_type": "stream",
     "text": [
      "/usr/lib/python3.6/site-packages/sklearn/utils/validation.py:475: DataConversionWarning: Data with input dtype uint8 was converted to float64 by the scale function.\n",
      "  warnings.warn(msg, DataConversionWarning)\n"
     ]
    }
   ],
   "source": [
    "mnist_normalized = scale(mnist_features)"
   ]
  },
  {
   "cell_type": "code",
   "execution_count": 4,
   "metadata": {},
   "outputs": [
    {
     "name": "stdout",
     "output_type": "stream",
     "text": [
      "MNIST Normalized Mean:\n",
      "[ 0.00000000e+00  0.00000000e+00  0.00000000e+00  0.00000000e+00\n",
      "  0.00000000e+00  0.00000000e+00  0.00000000e+00  0.00000000e+00\n",
      "  0.00000000e+00  0.00000000e+00  0.00000000e+00  0.00000000e+00\n",
      " -8.90297954e-16  1.37035621e-15  3.46195430e-15  1.85119228e-15\n",
      "  0.00000000e+00  0.00000000e+00  0.00000000e+00  0.00000000e+00\n",
      "  0.00000000e+00  0.00000000e+00  0.00000000e+00  0.00000000e+00\n",
      "  0.00000000e+00  0.00000000e+00  0.00000000e+00  0.00000000e+00\n",
      "  0.00000000e+00  0.00000000e+00  0.00000000e+00  0.00000000e+00\n",
      "  1.66164811e-15 -3.96895770e-15 -1.04125612e-15 -3.21838528e-15\n",
      "  2.96320657e-16  1.94626101e-15  6.56149450e-15  7.37403432e-15\n",
      " -8.95523655e-15 -1.17649416e-14 -7.39276874e-15  9.30961023e-15\n",
      "  3.57000094e-15  1.63714884e-14 -2.70308924e-15 -5.43929257e-15\n",
      "  1.83800445e-15  2.36091503e-15  1.64787886e-15  2.94463957e-16\n",
      "  0.00000000e+00  0.00000000e+00  0.00000000e+00  0.00000000e+00\n",
      "  0.00000000e+00  0.00000000e+00  1.65354324e-15  2.82215677e-15\n",
      " -5.51613680e-15 -7.45300012e-15 -2.79612405e-15 -4.92164870e-15\n",
      "  5.16181007e-15 -1.87797807e-14  4.39600737e-16 -1.98468222e-14\n",
      "  8.63823100e-15  5.36429238e-14  2.13597394e-16  4.13161600e-14\n",
      " -6.27048572e-15  4.62956657e-15 -4.79194069e-14 -4.20037255e-14\n",
      " -1.98280341e-14 -1.88553369e-14  8.94005505e-15 -9.61892421e-15\n",
      " -5.96879936e-16  2.20343079e-15  0.00000000e+00  0.00000000e+00\n",
      "  0.00000000e+00  0.00000000e+00  4.39460299e-16 -3.49650274e-15\n",
      " -2.59631557e-15  1.41066077e-15 -8.02318608e-15  6.75317917e-15\n",
      " -1.29004791e-14 -2.70869347e-14  3.40025619e-14  2.34354782e-14\n",
      "  3.31134477e-14  4.85251125e-15 -8.24200628e-15  3.13930310e-15\n",
      " -2.44637596e-14  4.62675533e-15 -1.53380990e-14 -1.74355601e-14\n",
      " -5.78278116e-14  2.05894956e-14  9.00296108e-15 -1.48794056e-14\n",
      "  1.24886962e-14  1.29341062e-15 -1.33982436e-15  0.00000000e+00\n",
      "  0.00000000e+00  4.04558567e-16  1.80177951e-15 -1.78820902e-15\n",
      " -4.39411672e-15 -1.20172784e-14  2.64938738e-14  1.55507642e-14\n",
      " -2.92511959e-14  2.95341029e-14 -6.73601873e-14  6.06555917e-15\n",
      "  7.23816118e-14  9.72869959e-14  3.09725610e-14 -1.11257844e-13\n",
      " -5.65475793e-14  5.15260136e-14  2.01082468e-14 -1.56481764e-14\n",
      "  1.02035570e-14 -1.26501476e-14  1.58254996e-14 -2.80788127e-14\n",
      " -9.91248631e-15 -4.00346978e-15 -6.46721273e-15  4.62346505e-16\n",
      "  0.00000000e+00  1.58292549e-15 -1.03256852e-15 -8.96487943e-16\n",
      " -4.45556945e-15  6.85838172e-15 -3.73939483e-14 -3.52665682e-14\n",
      " -2.68752274e-14 -8.69895568e-14 -5.71749775e-14  7.67353292e-14\n",
      " -5.57077781e-14  4.35491040e-14  3.12502183e-14 -4.71325106e-14\n",
      "  1.85159348e-14 -4.21563134e-14 -8.59731365e-14 -1.67835777e-14\n",
      "  5.63218837e-15  2.41702705e-14 -2.98400685e-14 -2.64541008e-15\n",
      " -3.51035336e-14 -1.16192659e-14 -5.52269738e-15  3.90136153e-15\n",
      "  0.00000000e+00 -2.55279329e-16 -5.06510855e-15 -1.16099836e-14\n",
      " -2.13275707e-15 -7.32047439e-15  3.52919321e-14 -1.37113194e-14\n",
      "  4.32894625e-14  5.33353441e-14  4.75381480e-14 -3.55530684e-14\n",
      " -2.03520217e-14  4.58408549e-15 -1.94294168e-14  4.29272839e-14\n",
      " -1.06478485e-14  2.40768548e-14  5.34438049e-14 -4.62584923e-14\n",
      "  2.77339485e-14  1.28367832e-14 -1.75551320e-15 -2.80584595e-14\n",
      " -4.14412401e-14  1.72450685e-14 -5.27187361e-15 -3.55026529e-15\n",
      " -1.49423756e-15  1.79146187e-15 -3.08813798e-15 -1.02372593e-14\n",
      "  2.11474921e-14  4.21274539e-14 -3.10804144e-14 -5.05726461e-14\n",
      "  1.08954385e-14 -1.53944381e-14 -1.51910992e-14  8.94673542e-15\n",
      " -1.16123809e-14  5.12702262e-15 -1.74446489e-15  1.68906960e-14\n",
      "  4.18951921e-14  3.21449343e-14  2.68365393e-14 -2.09369760e-14\n",
      " -4.45101353e-14 -2.06745549e-14 -9.18688300e-15  2.90281370e-14\n",
      "  5.10517723e-14  4.29256610e-14  2.62528352e-15  3.84772407e-15\n",
      " -1.15462535e-15 -1.44396687e-15  1.98370709e-14  2.00457746e-14\n",
      "  2.65952649e-14 -4.71153037e-15  3.93024502e-15 -2.29362355e-14\n",
      " -2.32469441e-14  8.95123975e-15  8.07492454e-14  8.13751701e-14\n",
      "  4.81437430e-15  3.08411201e-14 -1.17985272e-14  4.76857284e-15\n",
      " -1.83286053e-14  1.31271010e-14  1.05144845e-14  4.06492300e-15\n",
      "  8.83394310e-15  1.37389306e-14 -2.27558242e-14  1.19883904e-14\n",
      "  2.05579490e-14  3.20909767e-14  1.78406948e-14 -1.36939155e-15\n",
      "  3.67408725e-15  5.25019938e-15 -1.70636630e-14  4.33005596e-14\n",
      "  4.12736734e-14 -2.90487896e-14  3.49244126e-14 -1.47122489e-14\n",
      " -5.39806009e-14 -9.08180610e-14 -1.02455631e-14  5.19216281e-14\n",
      " -5.56177009e-14 -3.82535527e-14  1.55014319e-14 -3.97772291e-16\n",
      "  2.20563599e-14 -3.11765851e-15 -1.02103595e-14  1.95440838e-14\n",
      " -9.77984677e-15  2.72141801e-14  1.63044816e-15 -3.12209441e-14\n",
      " -1.44016418e-14 -1.79104902e-14  1.01538276e-14 -4.56916231e-15\n",
      " -2.02122297e-16  7.34482624e-15  1.22798186e-14 -4.35350085e-14\n",
      "  2.70798217e-14  4.41120886e-14  4.47772914e-14  3.54946104e-14\n",
      " -5.51532312e-14 -3.95689672e-15 -4.57352910e-14 -4.30031407e-14\n",
      " -1.27445039e-14  1.51436482e-15  2.12625917e-14 -6.42478134e-14\n",
      "  1.87911591e-15 -1.05368254e-14 -1.27708955e-15 -1.02747176e-14\n",
      " -1.61281084e-14 -4.18627767e-14 -6.28812899e-14 -4.98728313e-14\n",
      "  5.57410705e-15  1.17152621e-14  1.05059523e-14 -4.13099084e-15\n",
      " -1.21723757e-15 -5.87446768e-15  2.20826998e-14 -2.28939685e-15\n",
      "  4.21822839e-14 -2.63256464e-14 -4.76934365e-14 -1.91746071e-14\n",
      "  4.22290194e-14 -3.04871303e-14  6.37805364e-15  4.08157762e-14\n",
      " -2.92296092e-14  6.48899347e-15  2.17456688e-14 -8.76402855e-14\n",
      "  1.35848697e-14 -4.94473890e-14  2.45489371e-14  2.33278508e-14\n",
      "  7.09158763e-15 -2.29232554e-14  5.46456134e-15  7.57875802e-14\n",
      "  2.55348591e-14  9.58877045e-15  7.04000816e-15  2.17790290e-15\n",
      "  1.60284127e-15  3.75259506e-15 -1.17904932e-14 -2.38041174e-14\n",
      " -2.20632536e-14 -1.28818940e-14  4.77635392e-16 -2.91616318e-14\n",
      " -4.03311860e-14 -2.33759773e-14  2.04809756e-14  1.54954549e-14\n",
      "  2.16972186e-14 -2.88971545e-14 -5.68395902e-14  1.20006132e-14\n",
      " -2.44488477e-14 -7.21811254e-14  7.94926030e-15 -2.27881206e-16\n",
      " -1.16089741e-14  5.72697921e-14  1.42663357e-14  6.61597745e-14\n",
      "  1.19283781e-14  4.18666570e-15 -2.14688882e-16  1.76385553e-15\n",
      "  1.25709003e-15  2.63214416e-15  6.89508450e-15 -1.87662469e-14\n",
      "  2.41068237e-15 -9.36323796e-15 -1.33369791e-14 -4.76146107e-16\n",
      "  1.34653177e-14  3.72411879e-14 -3.66446683e-14 -2.79640596e-14\n",
      " -2.35212389e-14 -1.67817442e-14  1.52126470e-14  5.11293825e-15\n",
      " -7.42955538e-15 -1.63494329e-14  7.42220063e-14 -5.54870467e-14\n",
      "  6.78620969e-15  3.33612122e-14 -7.77782838e-14 -6.64522263e-14\n",
      "  2.88454895e-15 -2.07178501e-15 -3.73829658e-15  5.63431469e-16\n",
      "  4.97138454e-16  1.74019849e-15  9.90932723e-15 -1.80259002e-15\n",
      " -5.06681681e-15 -3.53809061e-14  2.24415090e-14 -1.96901162e-14\n",
      " -4.26258616e-14 -3.18524017e-15 -4.34451522e-15  2.26043374e-14\n",
      " -2.05914183e-14 -1.27713840e-14  1.67878917e-14 -1.12571539e-15\n",
      " -2.76818758e-14  1.05680956e-14 -2.43088660e-14 -1.01306995e-14\n",
      "  3.46595958e-14 -8.23649855e-14 -1.42009658e-14 -2.62276867e-14\n",
      " -3.30432594e-14 -3.52232529e-16  7.89183411e-15  2.63058964e-15\n",
      " -2.95110959e-16 -2.11040963e-15  4.88768381e-15 -4.75224681e-15\n",
      " -7.76760561e-15 -1.04762830e-14  2.08645228e-14  8.24978435e-14\n",
      " -2.00397540e-14  4.10058241e-14 -3.27041854e-14 -5.27292035e-14\n",
      " -3.40612173e-14 -8.24876040e-15 -1.21034072e-14  6.77932631e-15\n",
      "  2.25313197e-14  7.99627285e-14  2.60380701e-14  2.68021097e-14\n",
      "  1.02466377e-14 -9.53451175e-14  2.68782139e-14 -1.93890935e-14\n",
      " -3.84371479e-14 -4.12064073e-15 -1.85257025e-14 -6.63515180e-15\n",
      "  1.30497285e-15  1.54773491e-16  7.82524343e-16  1.07930750e-14\n",
      "  5.52349761e-14  1.16184200e-13  1.12737438e-13 -1.62887481e-13\n",
      " -1.58433964e-14 -2.88185349e-15  2.01486922e-14 -4.47997258e-14\n",
      "  2.90201196e-15 -7.42445797e-15 -5.56502622e-15 -1.33485064e-14\n",
      "  9.74324209e-14  2.96516557e-14  2.07281938e-14  3.60239061e-15\n",
      " -4.12952847e-14 -1.36262002e-14 -1.79177292e-14 -5.21424729e-14\n",
      "  2.50361541e-14 -3.02386655e-14 -1.93327388e-14 -2.46348358e-15\n",
      "  0.00000000e+00 -1.50742990e-15 -6.10754939e-15  2.67566112e-14\n",
      " -2.35464981e-14 -6.92323960e-14 -1.59070725e-13 -8.96274610e-14\n",
      "  1.90553002e-14 -5.73727098e-15 -2.14631836e-14 -5.11287060e-14\n",
      "  2.24113791e-14  8.47778038e-15  1.83975057e-15 -2.55979628e-14\n",
      "  4.38802677e-14 -2.19079675e-14  9.77054628e-15 -4.56456682e-14\n",
      "  2.82450856e-14 -6.33829513e-14  4.14823017e-14 -6.80012856e-14\n",
      "  4.15703662e-14 -3.22041957e-15 -1.24181044e-14 -3.27193877e-16\n",
      "  3.44977430e-15 -9.21484293e-16  8.96583185e-15 -4.46074990e-14\n",
      " -1.35934874e-14  1.44692961e-13 -2.79971443e-14  1.08087878e-13\n",
      " -4.58880870e-15  3.12563665e-14  9.44833101e-15  1.60582500e-14\n",
      "  3.70627656e-15 -3.70848590e-15  1.15795231e-14  2.49853233e-14\n",
      "  4.75411076e-14  6.40566965e-16 -1.32017893e-14 -9.34297719e-15\n",
      " -1.21674512e-14  4.22676037e-14  7.94452504e-14 -5.86400048e-14\n",
      "  2.03628503e-14  2.88516151e-14  1.14085417e-14 -4.09698069e-17\n",
      "  1.48937971e-15 -4.92554410e-16 -1.75434780e-14  4.50217320e-14\n",
      " -4.14177573e-14  8.93911294e-14 -2.62119739e-14  1.23150442e-13\n",
      "  4.04786522e-14  4.31372398e-16 -1.34379936e-14  1.87574432e-14\n",
      " -3.26722776e-17 -4.35953337e-15 -1.08601599e-15  1.59614385e-14\n",
      "  2.51404485e-14 -8.66429151e-16 -1.54534480e-15 -5.45884290e-15\n",
      "  9.49211852e-14 -1.24145265e-13 -4.49921497e-14 -3.11911703e-14\n",
      " -4.57731345e-14 -2.81300832e-14 -1.69046246e-14 -5.91770787e-15\n",
      "  0.00000000e+00  3.53567161e-15 -9.06251641e-15 -2.21280569e-14\n",
      " -6.89773437e-14  4.50301130e-14 -6.67576201e-14 -5.25960735e-14\n",
      "  6.66933175e-14  2.77656818e-14 -3.63467256e-14 -1.71064908e-14\n",
      " -2.02748738e-14 -1.14017684e-15 -1.41239338e-14  8.06566877e-15\n",
      " -1.05561591e-15 -2.83107664e-15 -8.54948176e-15 -1.85887401e-14\n",
      " -8.95759752e-14 -3.70651605e-15  3.67891114e-14  4.14077590e-14\n",
      "  6.84440710e-14  1.56867059e-15 -1.38634746e-14  1.82722220e-15\n",
      "  1.23400178e-15 -5.76002207e-15  1.16807437e-14 -1.54496297e-15\n",
      " -5.85250491e-14  2.70285905e-14 -6.46145835e-15  6.07766536e-14\n",
      " -1.38755252e-13  4.93219973e-14 -2.04276183e-14 -7.44119052e-14\n",
      " -3.85968749e-14 -1.85991710e-14  8.79915506e-15  4.69100631e-15\n",
      "  2.40371136e-15  1.27601485e-14 -2.76486738e-14  4.06440278e-15\n",
      " -1.19371100e-14  1.98088783e-14  4.04746736e-14  3.96355337e-14\n",
      "  4.45673228e-14 -2.24667735e-14 -2.47863466e-15 -4.31373673e-15\n",
      "  4.41871015e-15 -4.23659022e-15 -1.05282784e-14 -2.92089702e-14\n",
      " -1.83206236e-14 -9.96923901e-14  2.12496608e-14  1.18923089e-13\n",
      " -2.09491345e-14 -3.03112551e-14  6.63173659e-14 -9.87203018e-15\n",
      " -2.34873391e-15  1.95840645e-15 -1.20392585e-15  5.28353551e-15\n",
      " -9.84258786e-15  1.78501436e-14 -1.10148049e-14  1.99627473e-14\n",
      "  1.44656794e-14 -4.04466310e-14  1.76004933e-14 -8.68294682e-15\n",
      " -1.34815004e-14  4.46332574e-15 -3.03470458e-15  5.53857634e-15\n",
      "  0.00000000e+00  1.58292549e-15  1.82068874e-15 -1.28447019e-14\n",
      " -3.01392217e-14 -3.73632672e-14 -2.89915377e-14 -2.66693017e-14\n",
      " -3.89577973e-14  2.17719271e-14  3.45680881e-14  1.36489566e-14\n",
      "  2.79786987e-15 -7.53336441e-15 -8.19571078e-15  3.49196227e-15\n",
      "  2.72053745e-14 -2.69133049e-14 -2.98840080e-14 -2.92198599e-14\n",
      "  1.76007011e-14  1.44100961e-14 -1.88415910e-15  1.47232139e-14\n",
      "  8.62256298e-15  4.63113476e-16  1.76645826e-15  0.00000000e+00\n",
      "  0.00000000e+00  0.00000000e+00  3.17462703e-15  2.48931738e-15\n",
      " -3.02825681e-15  1.27781226e-14 -1.19738188e-15  7.17027073e-15\n",
      "  9.18703367e-15 -6.64199410e-14 -2.71929542e-15 -8.03847195e-14\n",
      " -1.20824753e-13  5.67107821e-14  3.99796101e-14  2.27182384e-14\n",
      " -1.02585897e-13 -2.32647362e-14 -9.43719246e-14  2.20504282e-14\n",
      " -6.80991858e-14 -2.07894404e-14  5.64355665e-15  1.17433999e-15\n",
      " -1.22722318e-15 -7.79941835e-16 -3.40153206e-15  0.00000000e+00\n",
      "  0.00000000e+00  0.00000000e+00 -5.95492405e-16  4.29650685e-15\n",
      " -7.99159845e-16  1.86260715e-14 -2.60019308e-15 -7.70772898e-14\n",
      " -5.92183405e-14  1.28779669e-13 -6.80145464e-15 -2.33953499e-14\n",
      "  1.38488230e-13 -1.05237419e-13  1.09135553e-13  1.21983860e-13\n",
      "  1.47773343e-13  5.72885739e-14  4.37292607e-14  1.16183037e-13\n",
      " -6.92235777e-14 -6.87077102e-15 -3.53796417e-15  2.76143165e-14\n",
      "  1.05581687e-14 -2.73310615e-16 -4.71637536e-16  0.00000000e+00\n",
      "  0.00000000e+00  0.00000000e+00  0.00000000e+00  1.94662535e-15\n",
      " -5.78624088e-15 -1.25930885e-14  2.91768667e-14 -2.23128853e-14\n",
      " -1.57279301e-14  7.17361155e-14  6.37471988e-14  2.54733607e-14\n",
      " -3.04379244e-14  1.22612251e-13 -6.86670649e-14 -4.99652994e-14\n",
      " -2.87896175e-14  4.97117557e-14  4.41523183e-14 -3.09405236e-14\n",
      " -5.55932314e-14  9.06457726e-15 -1.21223241e-14 -2.66222783e-15\n",
      "  4.63097038e-15  2.35339445e-15  0.00000000e+00  0.00000000e+00\n",
      "  0.00000000e+00  0.00000000e+00  0.00000000e+00  0.00000000e+00\n",
      "  2.40681718e-15  4.25812000e-15 -7.63982132e-18 -8.09199325e-15\n",
      "  8.07064108e-15 -9.88502534e-16  1.71021187e-14  2.51779127e-14\n",
      " -2.92697822e-14 -8.02304354e-15 -7.59331705e-15 -1.15459795e-14\n",
      "  1.63460628e-14  1.88417411e-14 -6.50588968e-15  1.45374559e-14\n",
      " -7.12479758e-15 -4.37417984e-15 -3.58566589e-15  1.55118901e-15\n",
      "  0.00000000e+00  0.00000000e+00  0.00000000e+00  0.00000000e+00]\n",
      "MNIST Normalized Std_Deviation:\n"
     ]
    },
    {
     "name": "stdout",
     "output_type": "stream",
     "text": [
      "[0. 0. 0. 0. 0. 0. 0. 0. 0. 0. 0. 0. 1. 1. 1. 1. 0. 0. 0. 0. 0. 0. 0. 0.\n",
      " 0. 0. 0. 0. 0. 0. 0. 0. 1. 1. 1. 1. 1. 1. 1. 1. 1. 1. 1. 1. 1. 1. 1. 1.\n",
      " 1. 1. 1. 1. 0. 0. 0. 0. 0. 0. 1. 1. 1. 1. 1. 1. 1. 1. 1. 1. 1. 1. 1. 1.\n",
      " 1. 1. 1. 1. 1. 1. 1. 1. 1. 1. 0. 0. 0. 0. 1. 1. 1. 1. 1. 1. 1. 1. 1. 1.\n",
      " 1. 1. 1. 1. 1. 1. 1. 1. 1. 1. 1. 1. 1. 1. 1. 0. 0. 1. 1. 1. 1. 1. 1. 1.\n",
      " 1. 1. 1. 1. 1. 1. 1. 1. 1. 1. 1. 1. 1. 1. 1. 1. 1. 1. 1. 1. 0. 1. 1. 1.\n",
      " 1. 1. 1. 1. 1. 1. 1. 1. 1. 1. 1. 1. 1. 1. 1. 1. 1. 1. 1. 1. 1. 1. 1. 1.\n",
      " 0. 1. 1. 1. 1. 1. 1. 1. 1. 1. 1. 1. 1. 1. 1. 1. 1. 1. 1. 1. 1. 1. 1. 1.\n",
      " 1. 1. 1. 1. 1. 1. 1. 1. 1. 1. 1. 1. 1. 1. 1. 1. 1. 1. 1. 1. 1. 1. 1. 1.\n",
      " 1. 1. 1. 1. 1. 1. 1. 1. 1. 1. 1. 1. 1. 1. 1. 1. 1. 1. 1. 1. 1. 1. 1. 1.\n",
      " 1. 1. 1. 1. 1. 1. 1. 1. 1. 1. 1. 1. 1. 1. 1. 1. 1. 1. 1. 1. 1. 1. 1. 1.\n",
      " 1. 1. 1. 1. 1. 1. 1. 1. 1. 1. 1. 1. 1. 1. 1. 1. 1. 1. 1. 1. 1. 1. 1. 1.\n",
      " 1. 1. 1. 1. 1. 1. 1. 1. 1. 1. 1. 1. 1. 1. 1. 1. 1. 1. 1. 1. 1. 1. 1. 1.\n",
      " 1. 1. 1. 1. 1. 1. 1. 1. 1. 1. 1. 1. 1. 1. 1. 1. 1. 1. 1. 1. 1. 1. 1. 1.\n",
      " 1. 1. 1. 1. 1. 1. 1. 1. 1. 1. 1. 1. 1. 1. 1. 1. 1. 1. 1. 1. 1. 1. 1. 1.\n",
      " 1. 1. 1. 1. 1. 1. 1. 1. 1. 1. 1. 1. 1. 1. 1. 1. 1. 1. 1. 1. 1. 1. 1. 1.\n",
      " 1. 1. 1. 1. 1. 1. 1. 1. 1. 1. 1. 1. 1. 1. 1. 1. 1. 1. 1. 1. 1. 1. 1. 1.\n",
      " 1. 1. 1. 1. 1. 1. 1. 1. 1. 1. 1. 1. 1. 1. 1. 1. 1. 1. 1. 1. 1. 1. 1. 1.\n",
      " 1. 1. 1. 1. 1. 1. 1. 1. 1. 1. 1. 1. 1. 1. 1. 1. 1. 1. 1. 1. 1. 1. 1. 1.\n",
      " 1. 1. 1. 1. 1. 1. 1. 1. 1. 1. 1. 1. 1. 1. 1. 1. 1. 1. 1. 1. 0. 1. 1. 1.\n",
      " 1. 1. 1. 1. 1. 1. 1. 1. 1. 1. 1. 1. 1. 1. 1. 1. 1. 1. 1. 1. 1. 1. 1. 1.\n",
      " 1. 1. 1. 1. 1. 1. 1. 1. 1. 1. 1. 1. 1. 1. 1. 1. 1. 1. 1. 1. 1. 1. 1. 1.\n",
      " 1. 1. 1. 1. 1. 1. 1. 1. 1. 1. 1. 1. 1. 1. 1. 1. 1. 1. 1. 1. 1. 1. 1. 1.\n",
      " 1. 1. 1. 1. 1. 1. 1. 1. 0. 1. 1. 1. 1. 1. 1. 1. 1. 1. 1. 1. 1. 1. 1. 1.\n",
      " 1. 1. 1. 1. 1. 1. 1. 1. 1. 1. 1. 1. 1. 1. 1. 1. 1. 1. 1. 1. 1. 1. 1. 1.\n",
      " 1. 1. 1. 1. 1. 1. 1. 1. 1. 1. 1. 1. 1. 1. 1. 1. 1. 1. 1. 1. 1. 1. 1. 1.\n",
      " 1. 1. 1. 1. 1. 1. 1. 1. 1. 1. 1. 1. 1. 1. 1. 1. 1. 1. 1. 1. 0. 1. 1. 1.\n",
      " 1. 1. 1. 1. 1. 1. 1. 1. 1. 1. 1. 1. 1. 1. 1. 1. 1. 1. 1. 1. 1. 1. 1. 0.\n",
      " 0. 0. 1. 1. 1. 1. 1. 1. 1. 1. 1. 1. 1. 1. 1. 1. 1. 1. 1. 1. 1. 1. 1. 1.\n",
      " 1. 1. 1. 0. 0. 0. 1. 1. 1. 1. 1. 1. 1. 1. 1. 1. 1. 1. 1. 1. 1. 1. 1. 1.\n",
      " 1. 1. 1. 1. 1. 1. 1. 0. 0. 0. 0. 1. 1. 1. 1. 1. 1. 1. 1. 1. 1. 1. 1. 1.\n",
      " 1. 1. 1. 1. 1. 1. 1. 1. 1. 1. 0. 0. 0. 0. 0. 0. 1. 1. 1. 1. 1. 1. 1. 1.\n",
      " 1. 1. 1. 1. 1. 1. 1. 1. 1. 1. 1. 1. 0. 0. 0. 0.]\n"
     ]
    }
   ],
   "source": [
    "print(\"MNIST Normalized Mean:\")\n",
    "print(mnist_normalized.mean(axis=0))\n",
    "print(\"MNIST Normalized Std_Deviation:\")\n",
    "print(mnist_normalized.std(axis=0))"
   ]
  },
  {
   "cell_type": "markdown",
   "metadata": {},
   "source": [
    "## c)\n",
    "\n",
    "We will use the classes 6 and 9."
   ]
  },
  {
   "cell_type": "code",
   "execution_count": 5,
   "metadata": {},
   "outputs": [
    {
     "name": "stdout",
     "output_type": "stream",
     "text": [
      "(5918, 784) (5949, 784) (5918,) (5949,)\n",
      "(958, 784) (1009, 784) (958,) (1009,)\n"
     ]
    }
   ],
   "source": [
    "C_values = [2**i for i in range(-15,11)]\n",
    "\n",
    "ranges = [(0,5923),(5923,12665),(12665,18623),(18623,24754),(24754,30596),(30596,36017),(36017,41935),(41935,48200),(48200,54051),(54051,60000),\n",
    "          (60000,60980),(60980,62115),(62115,63147),(63147,64157),(64157,65139),(65139,66031),(66031,66989),(66989,68017),(68017,68991),(68991,70000)]\n",
    "\n",
    "r_min1_train, r_max1_train = ranges[6][0], ranges[6][1]\n",
    "r_min2_train, r_max2_train = ranges[9][0], ranges[9][1]\n",
    "r_min1_test, r_max1_test = ranges[16][0], ranges[16][1]\n",
    "r_min2_test, r_max2_test = ranges[19][0], ranges[19][1]\n",
    "\n",
    "\n",
    "features_class6_train = mnist_features[r_min1_train:r_max1_train,:]\n",
    "features_class9_train = mnist_features[r_min2_train:r_max2_train,:]\n",
    "labels_class6_train = mnist_label[r_min1_train:r_max1_train]\n",
    "labels_class9_train = mnist_label[r_min2_train:r_max2_train]\n",
    "features_class6_test = mnist_features[r_min1_test:r_max1_test,:]\n",
    "features_class9_test = mnist_features[r_min2_test:r_max2_test,:]\n",
    "labels_class6_test = mnist_label[r_min1_test:r_max1_test]\n",
    "labels_class9_test = mnist_label[r_min2_test:r_max2_test]\n",
    "\n",
    "print(features_class6_train.shape, features_class9_train.shape, labels_class6_train.shape, labels_class9_train.shape)\n",
    "print(features_class6_test.shape, features_class9_test.shape, labels_class6_test.shape, labels_class9_test.shape)"
   ]
  },
  {
   "cell_type": "code",
   "execution_count": 6,
   "metadata": {},
   "outputs": [
    {
     "name": "stdout",
     "output_type": "stream",
     "text": [
      "(11867, 784) (11867,)\n",
      "(1967, 784) (1967,)\n"
     ]
    }
   ],
   "source": [
    "features_train = np.vstack((features_class6_train, features_class9_train))\n",
    "features_test = np.vstack((features_class6_test, features_class9_test))\n",
    "labels_train = np.append(labels_class6_train, labels_class9_train)\n",
    "labels_test = np.append(labels_class6_test, labels_class9_test)\n",
    "\n",
    "print(features_train.shape, labels_train.shape)\n",
    "print(features_test.shape, labels_test.shape)"
   ]
  },
  {
   "cell_type": "code",
   "execution_count": 8,
   "metadata": {},
   "outputs": [],
   "source": [
    "historic_error_train = []\n",
    "historic_error_test = []\n",
    "\n",
    "for C in C_values:\n",
    "    model = svm.LinearSVC(C=C,loss='hinge')\n",
    "    model.fit(features_train, labels_train)\n",
    "    predicted_train = model.predict(features_train)\n",
    "    predicted_test = model.predict(features_test)\n",
    "    error_train = sklearn.metrics.mean_squared_error(labels_train, predicted_train)\n",
    "    error_test = sklearn.metrics.mean_squared_error(labels_test, predicted_test)\n",
    "    historic_error_train.append(error_train)\n",
    "    historic_error_test.append(error_test)"
   ]
  },
  {
   "cell_type": "code",
   "execution_count": 9,
   "metadata": {},
   "outputs": [
    {
     "name": "stderr",
     "output_type": "stream",
     "text": [
      "/usr/lib/python3.6/site-packages/ipykernel_launcher.py:2: MatplotlibDeprecationWarning: pyplot.hold is deprecated.\n",
      "    Future behavior will be consistent with the long-time default:\n",
      "    plot commands add elements without first clearing the\n",
      "    Axes and/or Figure.\n",
      "  \n",
      "/usr/lib/python3.6/site-packages/matplotlib/__init__.py:911: MatplotlibDeprecationWarning: axes.hold is deprecated. Please remove it from your matplotlibrc and/or style files.\n",
      "  mplDeprecation)\n",
      "/usr/lib/python3.6/site-packages/matplotlib/rcsetup.py:156: MatplotlibDeprecationWarning: axes.hold is deprecated, will be removed in 3.0\n",
      "  mplDeprecation)\n"
     ]
    },
    {
     "data": {
      "text/plain": [
       "[<matplotlib.lines.Line2D at 0x7f8566359048>]"
      ]
     },
     "execution_count": 9,
     "metadata": {},
     "output_type": "execute_result"
    },
    {
     "data": {
      "image/png": "[encoded data removed]",
      "text/plain": [
       "<Figure size 432x288 with 1 Axes>"
      ]
     },
     "metadata": {},
     "output_type": "display_data"
    }
   ],
   "source": [
    "plt.plot([i for i in range(-15,11)],historic_error_train)\n",
    "plt.hold(True)\n",
    "plt.plot([i for i in range(-15,11)],historic_error_test)"
   ]
  },
  {
   "cell_type": "markdown",
   "metadata": {},
   "source": [
    "## d)\n",
    "Since all values of $C$ have equal error, we will choose $C = 2^0 = 1$."
   ]
  },
  {
   "cell_type": "code",
   "execution_count": 10,
   "metadata": {},
   "outputs": [],
   "source": [
    "model = svm.LinearSVC(C=1,loss='hinge')\n",
    "model.fit(features_train, labels_train)\n",
    "params = model.get_params()"
   ]
  },
  {
   "cell_type": "code",
   "execution_count": 11,
   "metadata": {},
   "outputs": [
    {
     "name": "stdout",
     "output_type": "stream",
     "text": [
      "(1, 784)\n",
      "[[ 0.00000000e+00  0.00000000e+00  0.00000000e+00  0.00000000e+00\n",
      "   0.00000000e+00  0.00000000e+00  0.00000000e+00  0.00000000e+00\n",
      "   0.00000000e+00  0.00000000e+00  0.00000000e+00  0.00000000e+00\n",
      "   0.00000000e+00  0.00000000e+00  0.00000000e+00  0.00000000e+00\n",
      "   0.00000000e+00  0.00000000e+00  0.00000000e+00  0.00000000e+00\n",
      "   0.00000000e+00  0.00000000e+00  0.00000000e+00  0.00000000e+00\n",
      "   0.00000000e+00  0.00000000e+00  0.00000000e+00  0.00000000e+00\n",
      "   0.00000000e+00  0.00000000e+00  0.00000000e+00  0.00000000e+00\n",
      "   0.00000000e+00  0.00000000e+00  0.00000000e+00 -1.05879118e-22\n",
      "  -8.47032947e-22 -2.11758237e-22  4.23516474e-22 -1.05879118e-21\n",
      "  -1.65331922e-04 -9.93798438e-06 -5.18807680e-21  0.00000000e+00\n",
      "   0.00000000e+00  0.00000000e+00  4.23516474e-22  0.00000000e+00\n",
      "  -1.69406589e-21  0.00000000e+00  2.32934060e-21  2.96461532e-21\n",
      "   0.00000000e+00  0.00000000e+00  0.00000000e+00  0.00000000e+00\n",
      "   0.00000000e+00  0.00000000e+00  0.00000000e+00  0.00000000e+00\n",
      "   0.00000000e+00  0.00000000e+00  0.00000000e+00  2.01170325e-21\n",
      "  -2.54109884e-21 -1.18178831e-04 -4.21997429e-04 -9.47516606e-05\n",
      "  -3.20721183e-04 -1.44652940e-04 -3.27742839e-04 -3.61225963e-04\n",
      "  -2.69148757e-05 -6.57714077e-07 -9.07645427e-05  3.38813179e-21\n",
      "  -4.55280209e-21 -1.04820327e-20 -1.69406589e-21  2.11758237e-21\n",
      "   0.00000000e+00  0.00000000e+00  0.00000000e+00  0.00000000e+00\n",
      "   0.00000000e+00  0.00000000e+00  0.00000000e+00  0.00000000e+00\n",
      "   0.00000000e+00 -1.31542815e-05 -1.01788892e-05 -2.47201595e-04\n",
      "  -3.50735891e-04 -5.22482478e-04 -6.81863769e-04 -4.62836228e-04\n",
      "  -1.13472255e-03 -1.22704051e-03 -8.77720603e-04 -1.23481475e-03\n",
      "  -8.48028736e-04 -5.87586132e-04 -3.00007916e-04 -2.79257806e-04\n",
      "  -2.03527918e-04 -6.87903480e-05 -1.09472812e-04 -7.69268408e-05\n",
      "   1.58156933e-21  0.00000000e+00  0.00000000e+00  0.00000000e+00\n",
      "   0.00000000e+00  0.00000000e+00  0.00000000e+00  0.00000000e+00\n",
      "  -6.71072287e-05 -1.19267752e-04 -1.09578542e-04 -3.67894138e-04\n",
      "  -4.75253266e-04 -1.06020839e-03 -3.59223678e-04 -2.51215990e-04\n",
      "  -4.35363295e-04 -6.08316025e-04 -6.63695164e-04  2.65428520e-04\n",
      "   5.56315055e-04  4.22651152e-04 -6.26044540e-04 -6.91057988e-04\n",
      "  -5.18000111e-04 -4.05084590e-04 -1.90181815e-04 -1.86399653e-04\n",
      "  -3.17637355e-21 -4.23516474e-22  0.00000000e+00  0.00000000e+00\n",
      "   0.00000000e+00  0.00000000e+00  0.00000000e+00  0.00000000e+00\n",
      "  -3.03846619e-04 -3.24965135e-04 -1.58701261e-04 -4.26498770e-04\n",
      "  -5.21014305e-04 -5.78051603e-04 -5.19495982e-05  1.09010485e-03\n",
      "   8.80751180e-04  6.48759754e-04  3.03947509e-04 -2.62916937e-04\n",
      "   2.33477541e-04  8.18699854e-04  5.45866625e-04 -9.72772325e-04\n",
      "  -2.27181001e-04 -3.45853954e-04 -5.21258221e-04 -3.72607992e-04\n",
      "  -2.16770731e-04 -2.06448315e-05  0.00000000e+00  0.00000000e+00\n",
      "   0.00000000e+00  0.00000000e+00  0.00000000e+00  0.00000000e+00\n",
      "  -4.36196986e-04 -2.55911954e-04 -5.55617726e-05 -3.07028180e-04\n",
      "   2.11012816e-04  8.75528344e-05  7.63047345e-04  5.61559187e-04\n",
      "   4.99553274e-04  6.89006604e-04  1.41152993e-03  8.33185299e-04\n",
      "   9.97219085e-04  1.46100067e-03  8.83643962e-04 -2.54150963e-04\n",
      "   6.23998562e-04  8.22269213e-04  2.18785903e-04  5.59406161e-04\n",
      "   1.61426034e-04  6.04774108e-06  0.00000000e+00  0.00000000e+00\n",
      "   0.00000000e+00  0.00000000e+00  0.00000000e+00  0.00000000e+00\n",
      "  -4.73478780e-04 -1.51223111e-04  1.60409825e-04 -1.09050008e-04\n",
      "   3.75019864e-04 -1.11274968e-04  7.11811730e-04  4.42353196e-04\n",
      "   2.42412741e-06  5.67374064e-04  1.89316570e-04  1.03310364e-03\n",
      "   1.04720374e-03  4.66426054e-04  5.09740767e-04  2.40910386e-04\n",
      "   1.56640286e-03  8.06428607e-04  4.35989734e-04  8.02287155e-04\n",
      "   8.44390541e-04  5.10950344e-04  0.00000000e+00  0.00000000e+00\n",
      "   0.00000000e+00  0.00000000e+00  0.00000000e+00  0.00000000e+00\n",
      "  -4.57917278e-04 -1.70186971e-05  3.81141154e-04 -4.01027232e-05\n",
      "   7.42346658e-04  2.78654778e-04  2.03534899e-05  4.09157686e-04\n",
      "  -1.70624956e-04  6.72048561e-04  8.20746690e-05  4.83859982e-04\n",
      "   1.52262776e-03  8.84366089e-04  1.11750829e-03 -1.82406350e-04\n",
      "   3.74443223e-04 -2.28238493e-04  2.98241607e-04  3.59921703e-04\n",
      "   6.21417349e-04  3.76580255e-04  0.00000000e+00  0.00000000e+00\n",
      "   0.00000000e+00  0.00000000e+00  0.00000000e+00  0.00000000e+00\n",
      "  -3.05281031e-04  1.49648160e-04  9.00277829e-04  7.28442147e-04\n",
      "  -5.36696735e-05  2.03101291e-04  4.20619791e-04  7.23687858e-05\n",
      "   8.45613420e-04  4.53851785e-04  9.05884232e-04  1.52038122e-03\n",
      "   9.20106930e-04  4.04126579e-04  9.18505195e-04  1.02001724e-03\n",
      "   3.43260057e-05 -1.28784636e-04  4.48112916e-04  8.71529722e-05\n",
      "  -3.79930012e-05  5.60041662e-06  0.00000000e+00  0.00000000e+00\n",
      "   0.00000000e+00  0.00000000e+00  0.00000000e+00 -4.23516474e-22\n",
      "  -3.19909964e-05  9.36843040e-04  8.60007623e-04  5.66233965e-04\n",
      "   5.07080342e-04  7.45645549e-04  6.97355348e-04 -1.20934208e-04\n",
      "   4.56383973e-04 -2.07768576e-04  1.83325047e-04  3.99817575e-04\n",
      "   7.76421536e-04  1.72871803e-04  5.93402152e-04  1.41612498e-03\n",
      "   1.33304689e-03 -1.39133953e-04 -3.99630690e-05 -3.20087542e-04\n",
      "  -4.36037870e-04 -8.81952086e-05  0.00000000e+00  0.00000000e+00\n",
      "   0.00000000e+00  0.00000000e+00  5.96370800e-05 -8.47032947e-22\n",
      "   3.34694591e-04  7.73782677e-04  5.38120133e-04  1.17256380e-04\n",
      "   5.81397276e-04  5.50890229e-04  8.42684458e-04  5.49672739e-04\n",
      "   8.15945721e-04 -2.50340262e-04  3.65044098e-04  9.77390960e-04\n",
      "   1.62418241e-04  2.53789313e-04  6.04146408e-05  2.87961169e-04\n",
      "   3.98718394e-04 -4.94776981e-04 -3.65308815e-05  4.23072770e-05\n",
      "  -6.11169580e-04 -2.96117435e-04  0.00000000e+00  0.00000000e+00\n",
      "   0.00000000e+00  0.00000000e+00  1.46279630e-05  1.69406589e-21\n",
      "   7.72591663e-04  6.76232612e-04  4.32554411e-04  3.51451902e-04\n",
      "   8.95506639e-04 -2.24927280e-04 -9.66408473e-04 -2.16942902e-04\n",
      "  -4.95668662e-04 -8.62681530e-04  6.52843947e-04  1.58039412e-04\n",
      "   1.07133060e-03  1.15707953e-03 -2.10024583e-04  8.63374834e-05\n",
      "   2.20498795e-04 -1.63253301e-04 -1.03413154e-04  2.10677967e-04\n",
      "  -5.12421405e-04 -2.88629147e-04  0.00000000e+00  0.00000000e+00\n",
      "   0.00000000e+00  0.00000000e+00  0.00000000e+00  2.37396706e-05\n",
      "   8.28446127e-04  2.33259088e-04  4.59064629e-04  4.23872882e-04\n",
      "   3.99843337e-04 -1.28352841e-03  5.28033859e-04 -8.84975267e-04\n",
      "  -5.67573213e-04 -6.77228401e-04  1.60420871e-04 -1.07489843e-04\n",
      "   3.40401578e-04  3.33527767e-04  3.97178791e-04 -8.34794318e-04\n",
      "   6.70587263e-04 -7.36249648e-04  1.38402506e-04 -5.06696301e-04\n",
      "  -7.38588511e-04 -1.10481857e-04  0.00000000e+00  0.00000000e+00\n",
      "   0.00000000e+00  0.00000000e+00  0.00000000e+00  4.10357163e-05\n",
      "   9.89989286e-04  4.35466941e-04 -1.26432840e-05 -2.61577126e-04\n",
      "  -1.21090908e-05 -3.35279612e-04 -3.19123775e-05 -4.40751762e-04\n",
      "  -1.49355745e-03 -1.64830512e-04  2.70106836e-04 -4.09012663e-04\n",
      "   4.72981985e-04  1.19870727e-03 -3.70001397e-05  6.58743874e-04\n",
      "   5.16594161e-04 -5.02971417e-05 -9.77462492e-05 -8.53604578e-04\n",
      "  -7.44515304e-04 -2.58656351e-05  0.00000000e+00  0.00000000e+00\n",
      "   0.00000000e+00  0.00000000e+00  0.00000000e+00  4.23516474e-22\n",
      "   5.06214387e-04  1.74006077e-05  6.40202519e-05 -1.63243736e-04\n",
      "   6.60801698e-04  1.94200951e-04 -3.93143670e-05 -1.03483354e-03\n",
      "  -2.71777578e-04  1.09456115e-04 -8.65252099e-05  1.20148650e-04\n",
      "   4.94974840e-04  1.02174245e-03  2.16895928e-04 -3.46609290e-04\n",
      "   5.33543877e-04  1.50408645e-05 -3.07709501e-04 -2.61892427e-04\n",
      "  -5.06095015e-04 -1.66378950e-04  0.00000000e+00  0.00000000e+00\n",
      "   0.00000000e+00  0.00000000e+00  0.00000000e+00 -2.06464281e-21\n",
      "   2.01344474e-04 -4.75355767e-04 -2.80103557e-04 -2.31467177e-04\n",
      "  -2.35274803e-04 -8.04438350e-04 -5.40133699e-04 -1.44262602e-03\n",
      "   5.31905955e-05  5.12889726e-04 -8.06842400e-04 -4.06430485e-04\n",
      "  -1.04865598e-03  1.82553634e-04 -1.06876113e-03 -3.87560292e-05\n",
      "   9.80129499e-04 -4.46786177e-04 -3.50925879e-04 -3.18695795e-04\n",
      "  -4.09948825e-04 -1.76865018e-04  0.00000000e+00  0.00000000e+00\n",
      "   0.00000000e+00  0.00000000e+00  0.00000000e+00  0.00000000e+00\n",
      "  -5.90233117e-05 -4.43036770e-04 -6.53216996e-04 -5.73440588e-04\n",
      "  -6.47709032e-04 -8.06805801e-04 -8.88698830e-04 -3.65977805e-04\n",
      "  -1.03771615e-03  3.26997412e-05  5.78297623e-05 -3.70555505e-05\n",
      "   3.18498410e-04 -6.08272864e-05 -8.92187768e-04 -2.37287254e-04\n",
      "   2.45534855e-04 -9.39655812e-04 -3.40680178e-04 -6.39160302e-04\n",
      "  -4.87279880e-05 -7.75969053e-05  0.00000000e+00  0.00000000e+00\n",
      "   0.00000000e+00  0.00000000e+00  0.00000000e+00  0.00000000e+00\n",
      "  -8.08803040e-05 -3.79482663e-04 -9.85899253e-05 -9.63774503e-04\n",
      "  -6.55046199e-04 -6.83600597e-04 -5.83291849e-04 -4.39446016e-04\n",
      "  -1.41628927e-03 -6.47040353e-05  8.82930025e-04 -1.69409001e-04\n",
      "  -4.28360022e-04 -2.51294212e-06 -8.69097047e-04 -9.20864138e-04\n",
      "  -2.66442146e-04 -3.12144624e-04 -6.11887721e-04 -1.31928698e-04\n",
      "   3.72355915e-04 -2.90152815e-06  0.00000000e+00  0.00000000e+00\n",
      "   0.00000000e+00  0.00000000e+00  0.00000000e+00  0.00000000e+00\n",
      "  -9.13694976e-05 -2.86824615e-04 -1.14999739e-04 -1.05253390e-04\n",
      "  -5.12045033e-04 -9.55097266e-04 -1.48912918e-03 -1.78852957e-03\n",
      "  -9.41109186e-04 -4.24088907e-05 -5.41758432e-04 -3.79042413e-04\n",
      "   1.45077291e-04 -1.96894696e-05 -6.61462815e-04 -3.76896342e-04\n",
      "  -1.77682268e-04 -7.35066851e-04 -5.11262570e-04  4.84312106e-04\n",
      "   8.91103324e-04  8.36529847e-06  0.00000000e+00  0.00000000e+00\n",
      "   0.00000000e+00  0.00000000e+00  0.00000000e+00  0.00000000e+00\n",
      "  -2.58882328e-05  4.80018095e-05  5.87249496e-05 -4.97574280e-04\n",
      "  -1.92300777e-04 -4.26778478e-05 -8.76167167e-04 -1.06450293e-03\n",
      "  -1.02989488e-03 -1.36233442e-03 -1.88801571e-04 -7.47248209e-04\n",
      "  -5.31701293e-04  8.16090154e-04  3.23627612e-05  1.05678985e-04\n",
      "  -8.41267099e-04 -5.11966116e-04 -2.11647975e-04  7.49784052e-04\n",
      "   1.12962370e-03  1.78808255e-04  0.00000000e+00  0.00000000e+00\n",
      "   0.00000000e+00  0.00000000e+00  0.00000000e+00  0.00000000e+00\n",
      "  -3.83811804e-22  2.35904111e-04  2.88532753e-04 -1.61893228e-04\n",
      "  -1.83320416e-04 -9.59416458e-04 -4.15486268e-04 -1.26490789e-03\n",
      "  -9.16045392e-04 -9.95695140e-04 -7.51730355e-04  4.28274073e-04\n",
      "  -7.26060911e-05 -1.80880181e-04  4.89078949e-04 -1.12448031e-03\n",
      "  -7.38979087e-04  2.20715790e-04  3.10171560e-04  6.72319140e-04\n",
      "   9.05297540e-04  6.27397385e-06  0.00000000e+00  0.00000000e+00\n",
      "   0.00000000e+00  0.00000000e+00  0.00000000e+00  0.00000000e+00\n",
      "   0.00000000e+00  1.77597087e-04  2.62209262e-04  4.95976267e-04\n",
      "   2.77597750e-04 -3.41324734e-04 -6.81651105e-04 -2.60945376e-04\n",
      "  -1.06321742e-03 -9.53280981e-04 -8.55789060e-04 -7.10156215e-04\n",
      "  -9.52787584e-05 -3.14452993e-04 -1.21035291e-03 -1.47646712e-03\n",
      "   4.40167212e-04  6.24740540e-04  5.53730706e-04  5.54365185e-04\n",
      "   8.99023566e-04 -2.96461532e-21  0.00000000e+00  0.00000000e+00\n",
      "   0.00000000e+00  0.00000000e+00  0.00000000e+00  0.00000000e+00\n",
      "   0.00000000e+00  7.34295648e-05  1.77577136e-04  3.84673108e-04\n",
      "   9.39534450e-04  1.01752578e-03  8.37582104e-04  8.79347106e-04\n",
      "  -3.12729387e-04 -2.52479092e-04 -9.21417838e-04  6.90637604e-04\n",
      "   5.04771918e-04  2.74597976e-04 -3.65585675e-04  1.55963808e-04\n",
      "   6.09282043e-04  7.93791191e-04  4.98393241e-04  3.48829232e-04\n",
      "   8.99023566e-04  9.52912066e-22  0.00000000e+00  0.00000000e+00\n",
      "   0.00000000e+00  0.00000000e+00  0.00000000e+00  0.00000000e+00\n",
      "   2.69991752e-21 -2.11758237e-21  1.09758850e-04  3.42509743e-04\n",
      "   6.18881552e-04  6.29891357e-04  1.10086721e-03  2.02165202e-03\n",
      "   1.43545975e-03  1.52888008e-03  6.39874655e-04  9.79003275e-04\n",
      "  -4.04102380e-04  3.47058710e-04  4.62468076e-04  5.13725161e-04\n",
      "   6.79952407e-04  9.55735704e-04  6.50375554e-04  3.46968913e-04\n",
      "   1.69406589e-21  0.00000000e+00  0.00000000e+00  0.00000000e+00\n",
      "   0.00000000e+00  0.00000000e+00  0.00000000e+00  0.00000000e+00\n",
      "   4.23516474e-22 -3.59989003e-21  1.93077320e-04  3.52069011e-04\n",
      "   2.33687146e-04  4.25998121e-04  9.74972755e-04  7.00895447e-04\n",
      "   1.88678393e-04  5.90943326e-04  5.62318053e-04  2.95629473e-04\n",
      "   2.99539865e-04  6.53225680e-04  3.81134926e-04  4.03452830e-04\n",
      "   3.75621518e-04  2.88631228e-04 -4.23516474e-21  4.76456033e-22\n",
      "   0.00000000e+00  0.00000000e+00  0.00000000e+00  0.00000000e+00\n",
      "   0.00000000e+00  0.00000000e+00  0.00000000e+00  0.00000000e+00\n",
      "  -1.69406589e-21  4.14234930e-05  3.26907067e-04  2.11514106e-04\n",
      "   1.87437593e-05 -1.96538114e-21  8.47032947e-22  5.16037916e-08\n",
      "   5.81876070e-05  1.64550725e-05  1.35865996e-04  2.31740621e-04\n",
      "  -4.23516474e-21  2.37239430e-05  1.03723286e-04  9.47742228e-05\n",
      "   2.65160982e-04  2.58889699e-04 -8.47032947e-22  0.00000000e+00\n",
      "   0.00000000e+00  0.00000000e+00  0.00000000e+00  0.00000000e+00\n",
      "   0.00000000e+00  0.00000000e+00  0.00000000e+00  0.00000000e+00\n",
      "   0.00000000e+00  0.00000000e+00  0.00000000e+00  0.00000000e+00\n",
      "   0.00000000e+00  0.00000000e+00  0.00000000e+00  0.00000000e+00\n",
      "  -1.69406589e-21 -1.69406589e-21  5.87629107e-21  0.00000000e+00\n",
      "   0.00000000e+00  0.00000000e+00  0.00000000e+00  0.00000000e+00\n",
      "   0.00000000e+00  0.00000000e+00  0.00000000e+00  0.00000000e+00\n",
      "   0.00000000e+00  0.00000000e+00  0.00000000e+00  0.00000000e+00]]\n"
     ]
    }
   ],
   "source": [
    "weights = model.coef_\n",
    "print(weights.shape)\n",
    "print(weights)"
   ]
  },
  {
   "cell_type": "markdown",
   "metadata": {},
   "source": [
    "## e)"
   ]
  },
  {
   "cell_type": "code",
   "execution_count": 12,
   "metadata": {},
   "outputs": [
    {
     "data": {
      "text/plain": [
       "<matplotlib.collections.PolyCollection at 0x7f856627f400>"
      ]
     },
     "execution_count": 12,
     "metadata": {},
     "output_type": "execute_result"
    },
    {
     "data": {
      "image/png": "[encoded data removed]",
      "text/plain": [
       "<Figure size 432x288 with 1 Axes>"
      ]
     },
     "metadata": {},
     "output_type": "display_data"
    }
   ],
   "source": [
    "matrix_weights = weights.reshape((28,28))\n",
    "plt.pcolor(matrix_weights)"
   ]
  },
  {
   "cell_type": "markdown",
   "metadata": {},
   "source": [
    "\n",
    "## 3)"
   ]
  },
  {
   "cell_type": "code",
   "execution_count": 2,
   "metadata": {},
   "outputs": [],
   "source": [
    "def ssk (a, b, n, lam):\n",
    "    Kp = np.zeros((n + 1, len(a), len(b)), dtype=np.float64)\n",
    "    Kp[0, :] = 1.0\n",
    "    for i in range(n):\n",
    "        for j in range(len(a) - 1):\n",
    "            Kpp = 0.0\n",
    "            for k in range(len(b) - 1):\n",
    "                Kpp = lam * (Kpp + lam * int(a[j] == b[k]) * Kp[i, j, k])           \n",
    "                Kp[i+1, j+1, k+1] = lam * Kp[i+1, j, k+1] + Kpp\n",
    "    #print(Kp)\n",
    "    K = 0.0\n",
    "    for j in range(len(a)):\n",
    "        for k in range(len(b)):\n",
    "            K += lam * lam * int(a[j] == b[k]) * Kp[n-1, j, k]\n",
    "    \n",
    "    return  K"
   ]
  },
  {
   "cell_type": "code",
   "execution_count": 15,
   "metadata": {},
   "outputs": [
    {
     "name": "stdout",
     "output_type": "stream",
     "text": [
      "(198, 198)\n",
      "gram preprocessed\n",
      "(20, 198)\n",
      "test gram preprocessed\n",
      "[1. 1. 1. 1. 1. 1. 1. 1. 1. 1. 1. 1. 1. 1. 1. 1. 1. 1. 1. 1.]\n",
      "[0. 0. 0. 0. 0. 0. 0. 0. 0. 0. 1. 1. 1. 1. 1. 1. 1. 1. 1. 1.]\n",
      "['analizado' 'ambientes' 'amaban' 'almanaque' 'alisa' 'alimenticia'\n",
      " 'alimentado' 'alcancé' 'albóndigas' 'albin' 'freshet' 'grovel'\n",
      " 'harlequin' 'jewry' 'megaphone' 'parallelogram' 'plummet' 'sublunary'\n",
      " 'typographical' 'ussr']\n"
     ]
    }
   ],
   "source": [
    "n = 7\n",
    "lamda = 0.5\n",
    "\n",
    "english = np.genfromtxt('words/english2.txt',dtype='str')\n",
    "spanish = np.genfromtxt('words/spanish2.txt',dtype='str')\n",
    "sl = np.zeros(spanish.shape)\n",
    "el = np.full(spanish.shape, 1)\n",
    "X = np.concatenate((spanish, english), axis=0)\n",
    "Y = np.concatenate((sl, el), axis=0)\n",
    "#print(Y)\n",
    "gram = np.zeros((X.shape[0], X.shape[0]))\n",
    "print(gram.shape)\n",
    "for i in range(X.shape[0]):\n",
    "    for j in range(X.shape[0]):\n",
    "        gram[i][j] = ssk(X[i], X[j], n, lamda)\n",
    "\n",
    "print(\"gram preprocessed\")\n",
    "\n",
    "clf = svm.SVC(kernel='precomputed')\n",
    "clf.fit(gram, Y)\n",
    "\n",
    "englishTest = np.genfromtxt('englishTest.txt',dtype='str')\n",
    "spanishTest = np.genfromtxt('spanishTest.txt',dtype='str')\n",
    "slt = np.zeros(spanishTest.shape)\n",
    "elt = np.full(spanishTest.shape, 1)\n",
    "XT = np.concatenate((spanishTest, englishTest), axis=0)\n",
    "YT = np.concatenate((slt, elt), axis=0)\n",
    "gramT = np.zeros((XT.shape[0], X.shape[0]))\n",
    "print(gramT.shape)\n",
    "for i in range(XT.shape[0]):\n",
    "    for j in range(X.shape[0]):\n",
    "        gramT[i][j] = ssk(XT[i], X[j], n, lamda)\n",
    "\n",
    "print(\"test gram preprocessed\")\n",
    "Z = clf.predict(gramT)\n",
    "print(Z)\n",
    "print(YT)\n",
    "print(XT)"
   ]
  },
  {
   "cell_type": "code",
   "execution_count": null,
   "metadata": {},
   "outputs": [],
   "source": []
  }
 ],
 "metadata": {
  "kernelspec": {
   "display_name": "Python 3",
   "language": "python",
   "name": "python3"
  },
  "language_info": {
   "codemirror_mode": {
    "name": "ipython",
    "version": 3
   },
   "file_extension": ".py",
   "mimetype": "text/x-python",
   "name": "python",
   "nbconvert_exporter": "python",
   "pygments_lexer": "ipython3",
   "version": "3.6.4"
  }
 },
 "nbformat": 4,
 "nbformat_minor": 2
}
