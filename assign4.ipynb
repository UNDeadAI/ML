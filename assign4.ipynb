{
 "cells": [
  {
   "cell_type": "markdown",
   "metadata": {},
   "source": [
    "# Machine Learning - Assignment 4\n",
    "\n",
    "### Oscar Fabián Ñáñez Núñez - Juan Camilo Calero Espinosa\n",
    "### ofnanezn - jccaleroe"
   ]
  },
  {
   "cell_type": "code",
   "execution_count": 1,
   "metadata": {},
   "outputs": [],
   "source": [
    "import numpy as np\n",
    "import pylab as pl\n",
    "\n",
    "%matplotlib inline"
   ]
  },
  {
   "cell_type": "markdown",
   "metadata": {},
   "source": [
    "# 1."
   ]
  },
  {
   "cell_type": "markdown",
   "metadata": {},
   "source": [
    "## 1a)\n",
    "Write a function to simulate the neural network:"
   ]
  },
  {
   "cell_type": "code",
   "execution_count": 2,
   "metadata": {},
   "outputs": [],
   "source": [
    "def sigmoid(x, derivative=False):\n",
    "    sigma_x = 1./(1+np.exp(-x))\n",
    "    if not derivative:\n",
    "        return sigma_x\n",
    "    else:\n",
    "        return sigma_x * (1 - sigma_x)\n",
    "    \n",
    "def relu(x, derivative=False):\n",
    "    if not derivative:\n",
    "        return max(0,x)\n",
    "    else:\n",
    "        return (1 if x > 0 else 0)"
   ]
  },
  {
   "cell_type": "code",
   "execution_count": 18,
   "metadata": {},
   "outputs": [],
   "source": [
    "def forward_propagate(x, w):\n",
    "    '''\n",
    "    x: input value for neuron 5\n",
    "    w: weights array in the following order\n",
    "       [w13, w12, w14, w32, w42, w53, w54]\n",
    "    Returns: a pair of arrays (a, z), where \n",
    "             a has the activation values for each neuron, and\n",
    "             z the output values for each neuron\n",
    "    '''\n",
    "    w31, w21, w41, w32, w42, w53, w54 = w[0], w[1], w[2], w[3], w[4], w[5], w[6]\n",
    "    z = np.zeros(5)\n",
    "    a = np.zeros(5)\n",
    "    # your code here\n",
    "    a[4] = x\n",
    "    z[4] = a[4]\n",
    "    a[3] = w54*z[4]\n",
    "    z[3] = sigmoid(a[3])\n",
    "    a[2] = w53*z[4]\n",
    "    z[2] = sigmoid(a[2])\n",
    "    a[1] = w32*z[2] + w42*z[3]\n",
    "    z[1] = relu(a[1])\n",
    "    a[0] = w31*z[2] + w21*z[1] + w41*z[3]\n",
    "    z[0] = sigmoid(a[0])\n",
    "    return (a, z)"
   ]
  },
  {
   "cell_type": "markdown",
   "metadata": {},
   "source": [
    "## 1b)\n",
    "Deduce the equations to calculate $\\delta_{i}$ (the error value per neuron) for all the neurons. Write a function that given a training sample and the weights of the network calculate $\\delta_{i}$ for each neuron. Assume a square error loss:\n",
    "$$ L_2(f, D) =\\sum_{(x_{i},r_{i}) \\in D} (r_i - f(x_i))^2 $$"
   ]
  },
  {
   "cell_type": "code",
   "execution_count": 19,
   "metadata": {},
   "outputs": [],
   "source": [
    "def bp(x, y, w):\n",
    "    '''\n",
    "    x: input value for neuron 5\n",
    "    y: output value for neuron 1\n",
    "    w: weights array in the following order\n",
    "       [w13, w12, w14, w32, w42, w53, w54]\n",
    "    Returns: an array delta with the delta values for each\n",
    "             neuron\n",
    "    '''\n",
    "    delta = np.zeros(5)\n",
    "    return delta"
   ]
  },
  {
   "cell_type": "code",
   "execution_count": null,
   "metadata": {},
   "outputs": [],
   "source": []
  }
 ],
 "metadata": {
  "kernelspec": {
   "display_name": "Python 2",
   "language": "python",
   "name": "python2"
  },
  "language_info": {
   "codemirror_mode": {
    "name": "ipython",
    "version": 2
   },
   "file_extension": ".py",
   "mimetype": "text/x-python",
   "name": "python",
   "nbconvert_exporter": "python",
   "pygments_lexer": "ipython2",
   "version": "2.7.14"
  }
 },
 "nbformat": 4,
 "nbformat_minor": 2
}
