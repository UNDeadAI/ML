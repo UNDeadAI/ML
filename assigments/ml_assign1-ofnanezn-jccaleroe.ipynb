{
 "cells": [
  {
   "cell_type": "markdown",
   "metadata": {
    "collapsed": true
   },
   "source": [
    "# Machine Learning - Assignment 1\n",
    "\n",
    "### Oscar Fabián Ñáñez Núñez - Juan Camilo Calero Espinoza\n",
    "### ofnanezn - jccaleroe"
   ]
  },
  {
   "cell_type": "markdown",
   "metadata": {},
   "source": [
    "## 1) Online course \n",
    "<br>\n",
    "<img src=\"image.png\"></img>"
   ]
  },
  {
   "cell_type": "markdown",
   "metadata": {},
   "source": [
    "\n",
    "\n",
    "## 2) Probability and Linear Algebra"
   ]
  },
  {
   "cell_type": "code",
   "execution_count": 1,
   "metadata": {},
   "outputs": [],
   "source": [
    "import numpy as np"
   ]
  },
  {
   "cell_type": "code",
   "execution_count": 2,
   "metadata": {},
   "outputs": [
    {
     "name": "stdout",
     "output_type": "stream",
     "text": [
      "TD Matrix:\n",
      "[[2. 3. 0. 3. 7.]\n",
      " [0. 5. 5. 0. 3.]\n",
      " [5. 0. 7. 3. 3.]\n",
      " [3. 1. 0. 9. 9.]\n",
      " [0. 0. 7. 1. 3.]\n",
      " [6. 9. 4. 6. 0.]]\n",
      "\n",
      "Vector L:\n",
      "[[5]\n",
      " [2]\n",
      " [3]\n",
      " [6]\n",
      " [4]\n",
      " [3]]\n"
     ]
    }
   ],
   "source": [
    "TD = np.array([[2.,3.,0.,3.,7.],\n",
    "               [0.,5.,5.,0.,3.],\n",
    "               [5.,0.,7.,3.,3.],\n",
    "               [3.,1.,0.,9.,9.],\n",
    "               [0.,0.,7.,1.,3.],\n",
    "               [6.,9.,4.,6.,0]])\n",
    "\n",
    "L = np.array([[5,2,3,6,4,3]]).T\n",
    "\n",
    "print(\"TD Matrix:\")\n",
    "print(TD)\n",
    "print(\"\\nVector L:\")\n",
    "print(L)"
   ]
  },
  {
   "cell_type": "markdown",
   "metadata": {},
   "source": [
    "## Notation:\n",
    "Let $\\bf{1^{i}}$ be a columnar vector of ones with length i. <br>\n",
    "We'll treat $TD$ as a matrix of size $n \\times m$. <br>\n",
    "When using indexes, $i$ will refer to rows and $j$ will refer to columns. <br>\n",
    "We are using broadcasting inside mathematical notation. <br>\n",
    "$*$ operator will refer to element-wise multiplication. <br>\n",
    "$\\times$ operator will refer to matrices dot product. <br>\n",
    "$A^t$ will denote the transpose of matrix/vector A <br>\n",
    "$diag(v)$ will refer to the Diagonal matrix of vector $v$. <br>\n",
    "$\\frac {1}{M}$ is equivalent to $\\frac {1}{m_{ij}} \\space \\forall m_{ij} \\in M$ "
   ]
  },
  {
   "cell_type": "markdown",
   "metadata": {},
   "source": [
    "## a)\n",
    "Mathematical expression: <br>\n",
    "    &emsp;&emsp;$P(T,D) = P(D) \\times P(T|D) = \\frac{1}{5} * \\frac{TD}{\\sum_i TD} = \\frac{1}{5} * TD \\times diag(\\frac{1}{(\\mathbf{1^{n}})^t \\times TD}) $"
   ]
  },
  {
   "cell_type": "code",
   "execution_count": 3,
   "metadata": {},
   "outputs": [
    {
     "data": {
      "text/plain": [
       "array([[1., 1., 1., 1., 1., 1.]])"
      ]
     },
     "execution_count": 3,
     "metadata": {},
     "output_type": "execute_result"
    }
   ],
   "source": [
    "np.ones((1,6))"
   ]
  },
  {
   "cell_type": "code",
   "execution_count": 3,
   "metadata": {},
   "outputs": [
    {
     "name": "stdout",
     "output_type": "stream",
     "text": [
      "[[0.025      0.03333333 0.         0.02727273 0.056     ]\n",
      " [0.         0.05555556 0.04347826 0.         0.024     ]\n",
      " [0.0625     0.         0.06086957 0.02727273 0.024     ]\n",
      " [0.0375     0.01111111 0.         0.08181818 0.072     ]\n",
      " [0.         0.         0.06086957 0.00909091 0.024     ]\n",
      " [0.075      0.1        0.03478261 0.05454545 0.        ]]\n"
     ]
    }
   ],
   "source": [
    "def PTD(TD):\n",
    "    return (1/5) * (np.dot(TD, np.diagflat(1/np.dot(np.ones((1,6)), TD))))\n",
    "\n",
    "P_TD = PTD(TD)\n",
    "print(P_TD)"
   ]
  },
  {
   "cell_type": "markdown",
   "metadata": {},
   "source": [
    "## b)    \n",
    "Mathematical expression: <br>\n",
    "    &emsp;&emsp;$P(T|D) = \\frac{TD}{\\sum_i TD} = TD \\times diag(\\frac{1}{(\\mathbf{1^{n}})^t \\times TD}) $"
   ]
  },
  {
   "cell_type": "code",
   "execution_count": 4,
   "metadata": {},
   "outputs": [
    {
     "name": "stdout",
     "output_type": "stream",
     "text": [
      "[[0.125      0.16666667 0.         0.13636364 0.28      ]\n",
      " [0.         0.27777778 0.2173913  0.         0.12      ]\n",
      " [0.3125     0.         0.30434783 0.13636364 0.12      ]\n",
      " [0.1875     0.05555556 0.         0.40909091 0.36      ]\n",
      " [0.         0.         0.30434783 0.04545455 0.12      ]\n",
      " [0.375      0.5        0.17391304 0.27272727 0.        ]]\n"
     ]
    }
   ],
   "source": [
    "def PTgD(TD):\n",
    "    return np.dot(TD, np.diagflat(1/np.dot(np.ones((1,6)), TD)))\n",
    "\n",
    "P_TgD = PTgD(TD)\n",
    "print(P_TgD)"
   ]
  },
  {
   "cell_type": "markdown",
   "metadata": {},
   "source": [
    "## c) \n",
    "Mathematical expression: <br>\n",
    "        &emsp;&emsp;$P(D|T) = \\frac {P(T,D)} {P(T)}= \\frac{P(T,D)}{\\sum_j P(T,D)} = diag(\\frac{1}{P(T,D) \\times \\mathbf{1^m}}) \\times P(T,D)$"
   ]
  },
  {
   "cell_type": "code",
   "execution_count": 5,
   "metadata": {},
   "outputs": [
    {
     "name": "stdout",
     "output_type": "stream",
     "text": [
      "[[0.17654612 0.23539482 0.         0.19259576 0.3954633 ]\n",
      " [0.         0.45154704 0.35338464 0.         0.19506832]\n",
      " [0.35787437 0.         0.34853851 0.15616336 0.13742376]\n",
      " [0.18524987 0.05488885 0.         0.40418153 0.35567975]\n",
      " [0.         0.         0.64782097 0.09675248 0.25542655]\n",
      " [0.28373832 0.37831776 0.13158879 0.20635514 0.        ]]\n"
     ]
    }
   ],
   "source": [
    "def PDgT(P_TD):\n",
    "    return np.dot(np.diagflat(1/np.dot(P_TD,np.ones((5,1)))),P_TD)\n",
    "    \n",
    "P_DgT = PDgT(P_TD)\n",
    "print(P_DgT)"
   ]
  },
  {
   "cell_type": "markdown",
   "metadata": {},
   "source": [
    "## d)\n",
    "Mathematical expression: <br>\n",
    "        &emsp;&emsp;$P(D)_j = \\frac {1}{m} \\hspace{0.3cm} \\forall j \\hspace{0.1cm}$ where $m$ is the number of columns of matrix $TD$ and $P(D)$ is a vector of size $m$"
   ]
  },
  {
   "cell_type": "code",
   "execution_count": 10,
   "metadata": {},
   "outputs": [
    {
     "name": "stdout",
     "output_type": "stream",
     "text": [
      "[0.2 0.2 0.2 0.2 0.2]\n"
     ]
    },
    {
     "data": {
      "text/plain": [
       "(6, 5)"
      ]
     },
     "execution_count": 10,
     "metadata": {},
     "output_type": "execute_result"
    }
   ],
   "source": [
    "def PD():\n",
    "    return np.array([1/TD.shape[1]]*TD.shape[1])\n",
    "\n",
    "P_D = PD()\n",
    "print(P_D)\n",
    "TD.shape"
   ]
  },
  {
   "cell_type": "markdown",
   "metadata": {},
   "source": [
    "## e)\n",
    "Mathematical expression: <br>\n",
    "        &emsp;&emsp;$P(T) = \\sum_i P(T,D) = P(T,D) \\times \\mathbf{1^m}$"
   ]
  },
  {
   "cell_type": "code",
   "execution_count": 7,
   "metadata": {},
   "outputs": [
    {
     "name": "stdout",
     "output_type": "stream",
     "text": [
      "[[0.14160606]\n",
      " [0.12303382]\n",
      " [0.17464229]\n",
      " [0.20242929]\n",
      " [0.09396047]\n",
      " [0.26432806]]\n"
     ]
    }
   ],
   "source": [
    "def PT(PTD):\n",
    "    return np.dot(P_TD,np.ones((5,1)))\n",
    "\n",
    "P_T = PT(P_TD)\n",
    "print(P_T)"
   ]
  },
  {
   "cell_type": "markdown",
   "metadata": {},
   "source": [
    "\n",
    "## f)\n",
    "Mathematical expression: <br> \n",
    "        &emsp;&emsp;$P(l) = P(T)$ <br>\n",
    "        &emsp;&emsp;$\\mathbf{E}[l] = \\sum_i L_i \\times P(l_i) = L^{t} \\times P(l)$"
   ]
  },
  {
   "cell_type": "code",
   "execution_count": 8,
   "metadata": {},
   "outputs": [
    {
     "name": "stdout",
     "output_type": "stream",
     "text": [
      "[[3.86142666]]\n"
     ]
    }
   ],
   "source": [
    "def E(l, P_T):\n",
    "    return np.dot(l.T, P_T)\n",
    "\n",
    "print(E(L, P_T))"
   ]
  },
  {
   "cell_type": "markdown",
   "metadata": {},
   "source": [
    "\n",
    "## g)\n",
    "Mathematical expression:    \n",
    "    &emsp;&emsp;$Var(l) = \\sum_{i} P(l_{i})*(L_{i}-\\mu_{L})^2 = (L^{t}-\\mu_{L})^{2} \\times P(T) \\quad$ where $\\mu_{L}$ is a vector with a same size than $L$ and which contains the mean in every position, and the square refers to element-wise power of two"
   ]
  },
  {
   "cell_type": "code",
   "execution_count": 9,
   "metadata": {},
   "outputs": [
    {
     "name": "stdout",
     "output_type": "stream",
     "text": [
      "[[1.86401552]]\n"
     ]
    }
   ],
   "source": [
    "def var(l, p):\n",
    "    return np.dot(np.square(l.T-np.mean(l)), p)\n",
    "\n",
    "print(var(L, P_T))"
   ]
  }
 ],
 "metadata": {
  "kernelspec": {
   "display_name": "Python 3",
   "language": "python",
   "name": "python3"
  },
  "language_info": {
   "codemirror_mode": {
    "name": "ipython",
    "version": 3
   },
   "file_extension": ".py",
   "mimetype": "text/x-python",
   "name": "python",
   "nbconvert_exporter": "python",
   "pygments_lexer": "ipython3",
   "version": "3.6.5"
  }
 },
 "nbformat": 4,
 "nbformat_minor": 2
}
