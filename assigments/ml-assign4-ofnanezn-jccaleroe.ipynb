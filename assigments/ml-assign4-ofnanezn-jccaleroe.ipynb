{
 "cells": [
  {
   "cell_type": "markdown",
   "metadata": {},
   "source": [
    "# Machine Learning - Assignment 4\n",
    "\n",
    "### Oscar Fabián Ñáñez Núñez - Juan Camilo Calero Espinosa\n",
    "### ofnanezn - jccaleroe"
   ]
  },
  {
   "cell_type": "code",
   "execution_count": 1,
   "metadata": {},
   "outputs": [
    {
     "name": "stderr",
     "output_type": "stream",
     "text": [
      "/usr/lib/python3.6/site-packages/h5py/__init__.py:36: FutureWarning: Conversion of the second argument of issubdtype from `float` to `np.floating` is deprecated. In future, it will be treated as `np.float64 == np.dtype(float).type`.\n",
      "  from ._conv import register_converters as _register_converters\n",
      "Using TensorFlow backend.\n"
     ]
    }
   ],
   "source": [
    "from keras.models import Sequential\n",
    "from keras.layers import Dense, Activation, Dropout\n",
    "from keras.layers import LSTM\n",
    "from keras.optimizers import RMSprop\n",
    "from keras.utils.data_utils import get_file\n",
    "from keras.layers.wrappers import TimeDistributed\n",
    "from itertools import permutations\n",
    "from operator import itemgetter\n",
    "\n",
    "from keras.applications.mobilenet import MobileNet\n",
    "from keras.preprocessing import image\n",
    "from keras.applications.mobilenet import preprocess_input, decode_predictions\n",
    "import numpy as np\n",
    "from keras.preprocessing import image\n",
    "import operator\n",
    "from sklearn.metrics import confusion_matrix\n",
    "import matplotlib.pyplot as plt\n",
    "import itertools\n",
    "from keras import models, layers, optimizers\n",
    "from keras.utils import multi_gpu_model\n",
    "from keras.models import load_model\n",
    "import warnings\n",
    "\n",
    "warnings.filterwarnings('ignore')\n",
    "folders = [\"birds/toucan/tou\", \"birds/egret/egr\", \"birds/mandarin/man\", \"birds/wood_duck/wod\", \"birds/puffin/puf\", \n",
    "           \"birds/owl/owl\"]\n",
    "birds = [\"toucan\", \"American_egret\", \"mandarin\", \"wood_duck\", \"puffin\", \"owl\"]"
   ]
  },
  {
   "cell_type": "markdown",
   "metadata": {},
   "source": [
    "# 1."
   ]
  },
  {
   "cell_type": "markdown",
   "metadata": {},
   "source": [
    "## 1a)\n",
    "![title](nn.jpg)\n",
    "where $a_{i}=\\sum_{j}w_{j}^{i}z_{j}$ , $z_{i}=f_{i}(a_{i})$ for\n",
    "$i=1,2,3,4$, $z_{5}=a_{5}$ (an input neuron), $f_{2}(x)=\\textrm{relu}(x)$,\n",
    "and $f_{1}(x)=f_{3}(x)=f_{4}(x)=\\textrm{sigmoid}(x)$. $\\textrm{relu}(x)$\n",
    "corresponds to a rectifier linear unit transfer function defined as:\n",
    "$$\n",
    "\\textrm{relu}(x)=\\begin{cases}\n",
    "x & \\textrm{if }x\\ge0\\\\\n",
    "0 & \\textrm{otherwise}\n",
    "\\end{cases}\n",
    "$$\n",
    "\n",
    "1.a Write a function to simulate the neural network:"
   ]
  },
  {
   "cell_type": "code",
   "execution_count": 2,
   "metadata": {},
   "outputs": [],
   "source": [
    "def sigmoid(x, derivative=False):\n",
    "    sigma_x = 1./(1+np.exp(-x))\n",
    "    if not derivative:\n",
    "        return sigma_x\n",
    "    else:\n",
    "        return sigma_x * (1 - sigma_x)\n",
    "    \n",
    "def relu(x, derivative=False):\n",
    "    if not derivative:\n",
    "        return max(0,x)\n",
    "    else:\n",
    "        return (1 if x > 0 else 0)"
   ]
  },
  {
   "cell_type": "code",
   "execution_count": 3,
   "metadata": {},
   "outputs": [],
   "source": [
    "def forward_propagate(x, w):\n",
    "    '''\n",
    "    x: input value for neuron 5\n",
    "    w: weights array in the following order\n",
    "       [w13, w12, w14, w32, w42, w53, w54]\n",
    "    Returns: a pair of arrays (a, z), where \n",
    "             a has the activation values for each neuron, and\n",
    "             z the output values for each neuron\n",
    "    '''\n",
    "    w31, w21, w41, w32, w42, w53, w54 = w[0], w[1], w[2], w[3], w[4], w[5], w[6]\n",
    "    z = np.zeros(5)\n",
    "    a = np.zeros(5)\n",
    "    # your code here\n",
    "    a[4] = x\n",
    "    z[4] = a[4]\n",
    "    a[3] = w54*z[4]\n",
    "    z[3] = sigmoid(a[3])\n",
    "    a[2] = w53*z[4]\n",
    "    z[2] = sigmoid(a[2])\n",
    "    a[1] = w32*z[2] + w42*z[3]\n",
    "    z[1] = relu(a[1])\n",
    "    a[0] = w31*z[2] + w21*z[1] + w41*z[3]\n",
    "    z[0] = sigmoid(a[0])\n",
    "    return (a, z)"
   ]
  },
  {
   "cell_type": "markdown",
   "metadata": {},
   "source": [
    "## 1b)\n",
    "Deduce the equations to calculate $\\delta_{i}$ (the error value per neuron) for all the neurons. Write a function that given a training sample and the weights of the network calculate $\\delta_{i}$ for each neuron. Assume a square error loss:\n",
    "$$ L_2(f, D) =\\sum_{(x_{i},r_{i}) \\in D} (r_i - f(x_i))^2 $$"
   ]
  },
  {
   "cell_type": "code",
   "execution_count": 4,
   "metadata": {},
   "outputs": [],
   "source": [
    "def bp(x, y, w):\n",
    "    '''\n",
    "    x: input value for neuron 5\n",
    "    y: output value for neuron 1\n",
    "    w: weights array in the following order\n",
    "       [w13, w12, w14, w32, w42, w53, w54]\n",
    "    Returns: an arr6ay delta with the delta values for each\n",
    "             neuron\n",
    "    '''\n",
    "    w31, w21, w41, w32, w42, w53, w54 = w[0], w[1], w[2], w[3], w[4], w[5], w[6]\n",
    "    (a, z) = forward_propagate(x, w)\n",
    "    delta = np.zeros(5)\n",
    "    dz1 = -2 * (y - z[0])\n",
    "    da1 = dz1 * sigmoid(a[0],derivative=True)\n",
    "    delta[0] = da1\n",
    "    delta[1] = relu(a[1], derivative=True) * w21 * delta[0]\n",
    "    delta[2] = sigmoid(a[2],derivative=True) * (w31 * delta[0] + w32 * delta[1])\n",
    "    delta[3] = sigmoid(a[3],derivative=True) * (w42 * delta[1] + w41 * delta[0])\n",
    "    delta[4] = sigmoid(a[4],derivative=True) * (w53 * delta[2] + w54 * delta[3])\n",
    "    return delta"
   ]
  },
  {
   "cell_type": "markdown",
   "metadata": {},
   "source": [
    "## 1c) \n",
    "Write a function to update the neural network weights when a new training sample is shown using stochastic gradient descent."
   ]
  },
  {
   "cell_type": "code",
   "execution_count": 5,
   "metadata": {},
   "outputs": [],
   "source": [
    "def train_step(x, y, w, eta):\n",
    "    '''\n",
    "    x: input value for neuron 5\n",
    "    y: output value for neuron 1\n",
    "    w: weights array in the following order\n",
    "       [w13, w12, w14, w32, w42, w53, w54]\n",
    "    eta: learning rate\n",
    "    Returns: updated w array\n",
    "    '''\n",
    "    # Calculate dw\n",
    "    # Your code here\n",
    "    (a, z) = forward_propagate(x, w)\n",
    "    delta = bp(x, y, w)\n",
    "    dw = np.zeros(7)\n",
    "    dw[0] = delta[0] * z[2]\n",
    "    dw[1] = delta[0] * z[1]\n",
    "    dw[2] = delta[0] * z[3]\n",
    "    dw[3] = delta[1] * z[2]\n",
    "    dw[4] = delta[1] * z[3]\n",
    "    dw[5] = delta[2] * z[4]\n",
    "    dw[6] = delta[3] * z[4]\n",
    "    for i in range(7):\n",
    "        w[i] = w[i] - eta * dw[i]\n",
    "    return w"
   ]
  },
  {
   "cell_type": "markdown",
   "metadata": {},
   "source": [
    "## 1d )\n",
    "\n",
    "Use the previous function to train the network with these [training samples](http://fagonzalezo.github.io/ml/samples_assign4.txt).  Plot the evolution of the error and the predictions of the trained network. Write down the weights of the trained network."
   ]
  },
  {
   "cell_type": "code",
   "execution_count": 6,
   "metadata": {},
   "outputs": [
    {
     "name": "stdout",
     "output_type": "stream",
     "text": [
      "Initial Weights:\n",
      "[1.764052345967664, 0.4001572083672233, 0.9787379841057392, 2.240893199201458, 1.8675579901499675, -0.977277879876411, 0.9500884175255894]\n",
      "\n",
      "Final Weights:\n",
      "[1.8422380614386813, -0.17999527981195826, 0.5725075476623633, 2.204537583119406, 1.875575093783582, -1.1503918081843931, 0.8729672543618427]\n"
     ]
    },
    {
     "data": {
      "text/plain": [
       "[<matplotlib.lines.Line2D at 0x7f4691727898>]"
      ]
     },
     "execution_count": 6,
     "metadata": {},
     "output_type": "execute_result"
    },
    {
     "data": {
      "image/png": "[encoded data removed]",
      "text/plain": [
       "<Figure size 432x288 with 1 Axes>"
      ]
     },
     "metadata": {},
     "output_type": "display_data"
    }
   ],
   "source": [
    "dataset = open(\"samples_assign4.txt\", 'r').readlines()[1:]\n",
    "np.random.seed(0)\n",
    "w = [np.random.randn() for i in range(7)]\n",
    "print(\"Initial Weights:\")\n",
    "print(w)\n",
    "\n",
    "num_iterations = 30\n",
    "history = []\n",
    "\n",
    "for j in range(num_iterations):\n",
    "    error = 0\n",
    "    for line in dataset:\n",
    "        (x,y) = map(float, line.strip().split(\" \"))\n",
    "        (a,z) = forward_propagate(x, w)\n",
    "        error += (y - a[0])**2\n",
    "        w = train_step(x, y, w, 0.01)\n",
    "    history.append(error)\n",
    "    \n",
    "print(\"\\nFinal Weights:\")\n",
    "print(w)\n",
    "\n",
    "epochs = list(range(num_iterations))\n",
    "plt.plot(epochs, history)"
   ]
  },
  {
   "cell_type": "markdown",
   "metadata": {},
   "source": [
    "As we can see, the learning is working because the error is going down in every epoch of the training."
   ]
  },
  {
   "cell_type": "markdown",
   "metadata": {},
   "source": [
    "# 2. The hangman\n",
    "\n",
    "Design a function able to find the missing characters from a word. The function must work as follows:\n",
    "\n",
    "```\n",
    ">>> hangman(\"pe_p_e\")\n",
    "'people'\n",
    "\n",
    ">>> hangman(\"phi__sop_y\")\n",
    "'philosophy'\n",
    "\n",
    ">>> hangman(\"si_nif_c_nc_\")\n",
    "'significance'\n",
    "\n",
    ">>> hangman(\"kn__l_d_e\")\n",
    "'knowledge'\n",
    "\n",
    ">>> hangman(\"inte_r_ga_i_n\")\n",
    "'interrogation'\n",
    "```\n",
    "\n",
    "The function must be able to deal with up to 4 unknowns in arbitrary length words. The function must work in a reasonable time (max 30 seconds in a laptop). "
   ]
  },
  {
   "cell_type": "markdown",
   "metadata": {},
   "source": [
    "We are using the model used in the class, which is trained with a Nietzsche text."
   ]
  },
  {
   "cell_type": "code",
   "execution_count": 7,
   "metadata": {},
   "outputs": [
    {
     "name": "stdout",
     "output_type": "stream",
     "text": [
      "Downloading data from https://s3.amazonaws.com/text-datasets/nietzsche.txt\n",
      "606208/600901 [==============================] - 1s 2us/step\n",
      "Total number of chars: 600893\n",
      "Vocabulary size: 57\n"
     ]
    }
   ],
   "source": [
    "path = get_file('nietzsche.txt', origin=\"https://s3.amazonaws.com/text-datasets/nietzsche.txt\")\n",
    "text = open(path).read().lower()\n",
    "chars = sorted(list(set(text)))\n",
    "vocab_size = 57\n",
    "char_indices = dict((c, i) for i, c in enumerate(chars))\n",
    "indices_char = dict((i, c) for i, c in enumerate(chars))\n",
    "print(\"Total number of chars:\", len(text))\n",
    "print(\"Vocabulary size:\", vocab_size)"
   ]
  },
  {
   "cell_type": "code",
   "execution_count": 8,
   "metadata": {},
   "outputs": [],
   "source": [
    "def log_likelihood(model, text):\n",
    "    probs = model.predict(parse_text(text, vocab_size, padding=True)).squeeze()\n",
    "    return sum([np.log(probs[i, char_indices[c]]) \n",
    "                 for i,c in enumerate(text[1:]) ])\n",
    "\n",
    "def parse_text(text, vocab_size, padding=False):\n",
    "    if padding:\n",
    "        X = np.zeros((1, maxlen, vocab_size), dtype=np.bool)\n",
    "    else:\n",
    "        X = np.zeros((1, len(text), vocab_size), dtype=np.bool)\n",
    "    for t, char in enumerate(text):\n",
    "        X[0, t, char_indices[char]] = 1\n",
    "    return X"
   ]
  },
  {
   "cell_type": "code",
   "execution_count": 9,
   "metadata": {},
   "outputs": [],
   "source": [
    "maxlen = 40\n",
    "model = Sequential()\n",
    "model.add(LSTM(128, input_shape=(maxlen, vocab_size), return_sequences=True, name=\"lstm_1\"))\n",
    "model.add(TimeDistributed(Dense(vocab_size), name=\"dense_1\"))#Check names to see how to load weights\n",
    "model.add(Activation('softmax', name=\"activation_1\"))\n",
    "h5file = 'lstm-pretrained-weights.hdf5'\n",
    "optimizer = RMSprop(lr=0.01)\n",
    "model.load_weights(h5file)\n",
    "model.compile(loss='categorical_crossentropy', optimizer=optimizer)"
   ]
  },
  {
   "cell_type": "markdown",
   "metadata": {},
   "source": [
    "## Beam Search\n",
    "To choose the best words, we used a Beam Search approach with a modification. In this approach, for each level we fill an empty space with all the combination of letters of the alphabet, then we make the prediction to obtain the log likelihood for each node and finally we take the $\\beta$ best results. In our case, at the first level we take all the nodes, because at that time the tree is not so wide. At the end, we return those $\\beta$ best results."
   ]
  },
  {
   "cell_type": "code",
   "execution_count": 36,
   "metadata": {},
   "outputs": [],
   "source": [
    "alphabet = \"abcdefghijklmnopqrstuvwxyz\"\n",
    " \n",
    "def beam_search(word, empty_spaces, width):\n",
    "    s = ((word, empty_spaces), -1)\n",
    "    frontier = [s]\n",
    "    count = 0\n",
    "    for pos in empty_spaces:\n",
    "        new_frontier = []\n",
    "        while frontier:\n",
    "            cur_node = frontier.pop(0)\n",
    "            cur_word = cur_node[0][0]\n",
    "            empty = cur_node[0][1]\n",
    "            cur_pos = empty[0]\n",
    "            for char in alphabet:\n",
    "                child_word = cur_word[:cur_pos] + char + cur_word[cur_pos + 1:]\n",
    "                prediction = log_likelihood(model, child_word)\n",
    "                child_node = ((child_word,empty[1:]), prediction)\n",
    "                new_frontier.append(child_node)\n",
    "        new_frontier.sort(key=itemgetter(1), reverse=True)\n",
    "        if count == 0:\n",
    "            frontier = new_frontier\n",
    "        elif count == 1:\n",
    "            frontier = new_frontier[:width]\n",
    "        else:\n",
    "            frontier = new_frontier[:width]\n",
    "        count += 1\n",
    "\n",
    "    return frontier"
   ]
  },
  {
   "cell_type": "markdown",
   "metadata": {},
   "source": [
    "We choose a value $\\beta = 5$"
   ]
  },
  {
   "cell_type": "code",
   "execution_count": 37,
   "metadata": {},
   "outputs": [],
   "source": [
    "def hangman(word):\n",
    "    ### your code here\n",
    "    empty_spaces = []\n",
    "    for i in range(len(word)):\n",
    "        if word[i] == '_':\n",
    "            empty_spaces.append(i)\n",
    "    word = str.replace(word, \"_\", \" \")\n",
    "    best_results = beam_search(word, empty_spaces, 5)\n",
    "    return best_results\n",
    "    #return log_likelihood(model, word)"
   ]
  },
  {
   "cell_type": "markdown",
   "metadata": {},
   "source": [
    "## Test examples"
   ]
  },
  {
   "cell_type": "code",
   "execution_count": 38,
   "metadata": {},
   "outputs": [
    {
     "data": {
      "text/plain": [
       "[(('philosopay', []), -12.201210714876652),\n",
       " (('philosophy', []), -12.705522395670414),\n",
       " (('philosopey', []), -14.257561542093754),\n",
       " (('philosopty', []), -14.326228715479374),\n",
       " (('phinosopty', []), -15.19134908914566)]"
      ]
     },
     "execution_count": 38,
     "metadata": {},
     "output_type": "execute_result"
    }
   ],
   "source": [
    "hangman(\"phi__sop_y\")"
   ]
  },
  {
   "cell_type": "code",
   "execution_count": 39,
   "metadata": {},
   "outputs": [
    {
     "data": {
      "text/plain": [
       "[(('significance', []), -16.644860601983964),\n",
       " (('significunce', []), -17.164872373454273),\n",
       " (('sitnificance', []), -17.7872135322541),\n",
       " (('significence', []), -20.550010630860925),\n",
       " (('significancy', []), -21.59570995438844)]"
      ]
     },
     "execution_count": 39,
     "metadata": {},
     "output_type": "execute_result"
    }
   ],
   "source": [
    "hangman(\"si_nif_c_nc_\")"
   ]
  },
  {
   "cell_type": "code",
   "execution_count": 40,
   "metadata": {},
   "outputs": [
    {
     "data": {
      "text/plain": [
       "[(('peapse', []), -7.607858531177044),\n",
       " (('people', []), -9.375611485913396),\n",
       " (('peaphe', []), -10.407592171803117),\n",
       " (('peaple', []), -10.510804258286953),\n",
       " (('peopse', []), -11.720048189163208)]"
      ]
     },
     "execution_count": 40,
     "metadata": {},
     "output_type": "execute_result"
    }
   ],
   "source": [
    "hangman(\"pe_p_e\")"
   ]
  },
  {
   "cell_type": "code",
   "execution_count": 41,
   "metadata": {},
   "outputs": [
    {
     "data": {
      "text/plain": [
       "[(('knowledge', []), -12.072935830336064),\n",
       " (('knowledne', []), -17.689156855922192),\n",
       " (('knesledne', []), -17.929851695895195),\n",
       " (('knesledpe', []), -18.320329040288925),\n",
       " (('knowludge', []), -18.571546263992786)]"
      ]
     },
     "execution_count": 41,
     "metadata": {},
     "output_type": "execute_result"
    }
   ],
   "source": [
    "hangman(\"kn__l_d_e\")"
   ]
  },
  {
   "cell_type": "code",
   "execution_count": 42,
   "metadata": {},
   "outputs": [
    {
     "data": {
      "text/plain": [
       "[(('intefrigation', []), -21.944310006685555),\n",
       " (('intefrogation', []), -25.836700432002544),\n",
       " (('intefragation', []), -29.120118674996775),\n",
       " (('intefrigatian', []), -30.869161847047508),\n",
       " (('intefrogatien', []), -31.533195167779922)]"
      ]
     },
     "execution_count": 42,
     "metadata": {},
     "output_type": "execute_result"
    }
   ],
   "source": [
    "hangman(\"inte_r_ga_i_n\")"
   ]
  },
  {
   "cell_type": "markdown",
   "metadata": {},
   "source": [
    "As we can see, we get good results for almost all the puzzles (being at the top 5), except for interrogation, which is "
   ]
  },
  {
   "cell_type": "markdown",
   "metadata": {},
   "source": [
    "# 3. Bird classification. \n",
    "\n",
    "1. Direct prediction\n",
    "   * Download the dataset birds from http://www-cvr.ai.uiuc.edu/ponce_grp/data/.\n",
    "   * Use [Keras](https://keras.io/) and the [MobileNet](https://keras.io/applications/#mobilenet) pre-trained model, to classify the images in the birds dataset. Construct a confusion matrix that relates the bird classes with the 10 most frequent classes from ImageNet predicted by the model.\n",
    "2. Transfer learning\n",
    "   * Use the pre-trained MobileNet model as a feature extractor. Create a new model that replaces the top part of MobileNet with two layers of 256 and 6 neurons respectively.\n",
    "   * Change the attribute trainable of the other layers to be False. This will prevent the weights of these layers to be changed during training.\n",
    "   * Train the model with the training images from the bird dataset. \n",
    "   * Evaluate the performance over the test dataset reporting the results in a confusion matrix. Discuss the results. \n",
    "3. Fine tuning\n",
    "   * Repeat the experiment from the last question, but this time allow all the layers to be trained. \n",
    "   * Compare and discuss the results."
   ]
  },
  {
   "cell_type": "markdown",
   "metadata": {},
   "source": [
    "## 1. Direct Prediction"
   ]
  },
  {
   "cell_type": "markdown",
   "metadata": {},
   "source": [
    "### Loading the model"
   ]
  },
  {
   "cell_type": "code",
   "execution_count": 73,
   "metadata": {},
   "outputs": [],
   "source": [
    "model = MobileNet(weights='imagenet')"
   ]
  },
  {
   "cell_type": "code",
   "execution_count": 7,
   "metadata": {},
   "outputs": [],
   "source": [
    "def predict(img_path):    \n",
    "    img = image.load_img(img_path, target_size=(224, 224))\n",
    "    x = image.img_to_array(img)\n",
    "    x = np.expand_dims(x, axis=0)\n",
    "    x = preprocess_input(x)\n",
    "    preds = model.predict(x)\n",
    "    return decode_predictions(preds, top=3)[0][0][1]"
   ]
  },
  {
   "cell_type": "code",
   "execution_count": 8,
   "metadata": {},
   "outputs": [],
   "source": [
    "d = {}\n",
    "for i in range(6):\n",
    "    for j in range(1,101):\n",
    "        s = predict(folders[i]+str(j).zfill(3)+\".jpg\")\n",
    "        if s in d:\n",
    "            d[s] += 1\n",
    "        else:\n",
    "            d[s] = 1"
   ]
  },
  {
   "cell_type": "code",
   "execution_count": 9,
   "metadata": {},
   "outputs": [],
   "source": [
    "sd = sorted(d.items(), key=operator.itemgetter(1), reverse=True)\n",
    "ten = []\n",
    "for i in range(min(len(sd), 10)):\n",
    "    ten.append(sd[i][0])"
   ]
  },
  {
   "cell_type": "markdown",
   "metadata": {},
   "source": [
    "Let's going to predice some images with the imageNet Network without being modified."
   ]
  },
  {
   "cell_type": "code",
   "execution_count": 10,
   "metadata": {},
   "outputs": [],
   "source": [
    "true = []\n",
    "pred = []\n",
    "for i in range(6):\n",
    "    for j in range(1,101):\n",
    "        s = predict(folders[i]+str(j).zfill(3)+\".jpg\")\n",
    "        if s in ten:\n",
    "            pred.append(s)\n",
    "        else:\n",
    "            pred.append(\"other\")\n",
    "        true.append(birds[i])"
   ]
  },
  {
   "cell_type": "code",
   "execution_count": 11,
   "metadata": {},
   "outputs": [
    {
     "name": "stdout",
     "output_type": "stream",
     "text": [
      "toucan \t toucan\n",
      "toucan \t toucan\n",
      "toucan \t toucan\n",
      "toucan \t toucan\n",
      "toucan \t toucan\n",
      "toucan \t toucan\n",
      "toucan \t toucan\n",
      "toucan \t toucan\n",
      "toucan \t toucan\n",
      "toucan \t toucan\n",
      "toucan \t toucan\n",
      "toucan \t toucan\n",
      "toucan \t toucan\n",
      "toucan \t toucan\n",
      "toucan \t toucan\n",
      "toucan \t toucan\n",
      "toucan \t toucan\n",
      "toucan \t toucan\n",
      "toucan \t toucan\n",
      "toucan \t toucan\n",
      "toucan \t toucan\n",
      "toucan \t toucan\n",
      "toucan \t toucan\n",
      "toucan \t toucan\n",
      "toucan \t toucan\n",
      "toucan \t toucan\n",
      "toucan \t toucan\n",
      "toucan \t toucan\n",
      "toucan \t toucan\n",
      "toucan \t toucan\n",
      "toucan \t toucan\n",
      "toucan \t toucan\n",
      "toucan \t toucan\n",
      "toucan \t toucan\n",
      "toucan \t toucan\n",
      "toucan \t toucan\n",
      "toucan \t toucan\n",
      "toucan \t toucan\n",
      "toucan \t toucan\n",
      "toucan \t toucan\n",
      "toucan \t toucan\n",
      "toucan \t toucan\n",
      "toucan \t toucan\n",
      "toucan \t toucan\n",
      "toucan \t toucan\n",
      "toucan \t toucan\n",
      "toucan \t toucan\n",
      "toucan \t toucan\n",
      "toucan \t toucan\n",
      "toucan \t toucan\n",
      "toucan \t toucan\n",
      "toucan \t toucan\n",
      "toucan \t toucan\n",
      "toucan \t toucan\n",
      "toucan \t toucan\n",
      "toucan \t toucan\n",
      "toucan \t toucan\n",
      "toucan \t toucan\n",
      "toucan \t toucan\n",
      "toucan \t toucan\n",
      "toucan \t toucan\n",
      "toucan \t toucan\n",
      "toucan \t toucan\n",
      "toucan \t toucan\n",
      "toucan \t toucan\n",
      "toucan \t toucan\n",
      "toucan \t toucan\n",
      "toucan \t toucan\n",
      "toucan \t toucan\n",
      "toucan \t toucan\n",
      "toucan \t toucan\n",
      "toucan \t toucan\n",
      "toucan \t toucan\n",
      "toucan \t toucan\n",
      "toucan \t other\n",
      "toucan \t toucan\n",
      "toucan \t toucan\n",
      "toucan \t toucan\n",
      "toucan \t toucan\n",
      "toucan \t other\n",
      "toucan \t toucan\n",
      "toucan \t toucan\n",
      "toucan \t toucan\n",
      "toucan \t toucan\n",
      "toucan \t toucan\n",
      "toucan \t toucan\n",
      "toucan \t toucan\n",
      "toucan \t toucan\n",
      "toucan \t toucan\n",
      "toucan \t toucan\n",
      "toucan \t toucan\n",
      "toucan \t toucan\n",
      "toucan \t toucan\n",
      "toucan \t other\n",
      "toucan \t toucan\n",
      "toucan \t toucan\n",
      "toucan \t toucan\n",
      "toucan \t toucan\n",
      "toucan \t toucan\n",
      "toucan \t toucan\n",
      "American_egret \t American_egret\n",
      "American_egret \t American_egret\n",
      "American_egret \t American_egret\n",
      "American_egret \t American_egret\n",
      "American_egret \t American_egret\n",
      "American_egret \t American_egret\n",
      "American_egret \t American_egret\n",
      "American_egret \t American_egret\n",
      "American_egret \t American_egret\n",
      "American_egret \t American_egret\n",
      "American_egret \t American_egret\n",
      "American_egret \t American_egret\n",
      "American_egret \t American_egret\n",
      "American_egret \t American_egret\n",
      "American_egret \t American_egret\n",
      "American_egret \t American_egret\n",
      "American_egret \t American_egret\n",
      "American_egret \t American_egret\n",
      "American_egret \t American_egret\n",
      "American_egret \t American_egret\n",
      "American_egret \t American_egret\n",
      "American_egret \t other\n",
      "American_egret \t American_egret\n",
      "American_egret \t American_egret\n",
      "American_egret \t American_egret\n",
      "American_egret \t American_egret\n",
      "American_egret \t American_egret\n",
      "American_egret \t other\n",
      "American_egret \t American_egret\n",
      "American_egret \t American_egret\n",
      "American_egret \t American_egret\n",
      "American_egret \t American_egret\n",
      "American_egret \t American_egret\n",
      "American_egret \t American_egret\n",
      "American_egret \t American_egret\n",
      "American_egret \t American_egret\n",
      "American_egret \t American_egret\n",
      "American_egret \t American_egret\n",
      "American_egret \t American_egret\n",
      "American_egret \t American_egret\n",
      "American_egret \t American_egret\n",
      "American_egret \t American_egret\n",
      "American_egret \t American_egret\n",
      "American_egret \t American_egret\n",
      "American_egret \t American_egret\n",
      "American_egret \t other\n",
      "American_egret \t American_egret\n",
      "American_egret \t American_egret\n",
      "American_egret \t other\n",
      "American_egret \t American_egret\n",
      "American_egret \t American_egret\n",
      "American_egret \t American_egret\n",
      "American_egret \t other\n",
      "American_egret \t other\n",
      "American_egret \t American_egret\n",
      "American_egret \t American_egret\n",
      "American_egret \t American_egret\n",
      "American_egret \t American_egret\n",
      "American_egret \t American_egret\n",
      "American_egret \t American_egret\n",
      "American_egret \t American_egret\n",
      "American_egret \t American_egret\n",
      "American_egret \t American_egret\n",
      "American_egret \t American_egret\n",
      "American_egret \t other\n",
      "American_egret \t other\n",
      "American_egret \t American_egret\n",
      "American_egret \t American_egret\n",
      "American_egret \t American_egret\n",
      "American_egret \t American_egret\n",
      "American_egret \t American_egret\n",
      "American_egret \t American_egret\n",
      "American_egret \t American_egret\n",
      "American_egret \t American_egret\n",
      "American_egret \t American_egret\n",
      "American_egret \t American_egret\n",
      "American_egret \t other\n",
      "American_egret \t American_egret\n",
      "American_egret \t American_egret\n",
      "American_egret \t American_egret\n",
      "American_egret \t American_egret\n",
      "American_egret \t American_egret\n",
      "American_egret \t American_egret\n",
      "American_egret \t American_egret\n",
      "American_egret \t American_egret\n",
      "American_egret \t American_egret\n",
      "American_egret \t American_egret\n",
      "American_egret \t American_egret\n",
      "American_egret \t American_egret\n",
      "American_egret \t American_egret\n",
      "American_egret \t American_egret\n",
      "American_egret \t American_egret\n",
      "American_egret \t American_egret\n",
      "American_egret \t American_egret\n",
      "American_egret \t American_egret\n",
      "American_egret \t American_egret\n",
      "American_egret \t American_egret\n",
      "American_egret \t American_egret\n",
      "American_egret \t American_egret\n",
      "American_egret \t American_egret\n",
      "mandarin \t drake\n",
      "mandarin \t drake\n",
      "mandarin \t drake\n",
      "mandarin \t drake\n",
      "mandarin \t drake\n",
      "mandarin \t drake\n",
      "mandarin \t other\n",
      "mandarin \t other\n",
      "mandarin \t drake\n",
      "mandarin \t drake\n",
      "mandarin \t other\n",
      "mandarin \t drake\n",
      "mandarin \t other\n",
      "mandarin \t drake\n",
      "mandarin \t drake\n",
      "mandarin \t drake\n",
      "mandarin \t water_ouzel\n",
      "mandarin \t other\n",
      "mandarin \t drake\n",
      "mandarin \t drake\n",
      "mandarin \t drake\n",
      "mandarin \t drake\n",
      "mandarin \t drake\n",
      "mandarin \t drake\n",
      "mandarin \t drake\n",
      "mandarin \t drake\n",
      "mandarin \t drake\n",
      "mandarin \t drake\n",
      "mandarin \t drake\n",
      "mandarin \t drake\n",
      "mandarin \t drake\n",
      "mandarin \t drake\n",
      "mandarin \t drake\n",
      "mandarin \t drake\n",
      "mandarin \t drake\n",
      "mandarin \t drake\n",
      "mandarin \t drake\n",
      "mandarin \t drake\n",
      "mandarin \t drake\n",
      "mandarin \t other\n",
      "mandarin \t drake\n",
      "mandarin \t drake\n",
      "mandarin \t albatross\n",
      "mandarin \t drake\n",
      "mandarin \t drake\n",
      "mandarin \t drake\n",
      "mandarin \t drake\n",
      "mandarin \t other\n",
      "mandarin \t drake\n",
      "mandarin \t drake\n",
      "mandarin \t drake\n",
      "mandarin \t drake\n",
      "mandarin \t other\n",
      "mandarin \t other\n",
      "mandarin \t drake\n",
      "mandarin \t drake\n",
      "mandarin \t other\n",
      "mandarin \t drake\n",
      "mandarin \t other\n",
      "mandarin \t drake\n",
      "mandarin \t drake\n",
      "mandarin \t drake\n",
      "mandarin \t drake\n",
      "mandarin \t drake\n",
      "mandarin \t drake\n",
      "mandarin \t drake\n",
      "mandarin \t drake\n",
      "mandarin \t drake\n",
      "mandarin \t drake\n",
      "mandarin \t other\n",
      "mandarin \t other\n",
      "mandarin \t other\n",
      "mandarin \t drake\n",
      "mandarin \t drake\n",
      "mandarin \t other\n",
      "mandarin \t drake\n",
      "mandarin \t drake\n",
      "mandarin \t drake\n",
      "mandarin \t drake\n",
      "mandarin \t drake\n",
      "mandarin \t drake\n",
      "mandarin \t drake\n",
      "mandarin \t drake\n",
      "mandarin \t drake\n",
      "mandarin \t drake\n",
      "mandarin \t other\n",
      "mandarin \t drake\n",
      "mandarin \t drake\n",
      "mandarin \t drake\n",
      "mandarin \t drake\n",
      "mandarin \t drake\n",
      "mandarin \t drake\n",
      "mandarin \t drake\n",
      "mandarin \t drake\n",
      "mandarin \t drake\n",
      "mandarin \t other\n",
      "mandarin \t drake\n",
      "mandarin \t drake\n",
      "mandarin \t other\n",
      "mandarin \t drake\n",
      "wood_duck \t drake\n",
      "wood_duck \t drake\n",
      "wood_duck \t drake\n",
      "wood_duck \t drake\n",
      "wood_duck \t drake\n",
      "wood_duck \t drake\n",
      "wood_duck \t drake\n",
      "wood_duck \t drake\n",
      "wood_duck \t drake\n",
      "wood_duck \t drake\n",
      "wood_duck \t drake\n",
      "wood_duck \t drake\n",
      "wood_duck \t drake\n",
      "wood_duck \t drake\n",
      "wood_duck \t drake\n",
      "wood_duck \t drake\n",
      "wood_duck \t other\n",
      "wood_duck \t drake\n",
      "wood_duck \t drake\n",
      "wood_duck \t drake\n",
      "wood_duck \t drake\n",
      "wood_duck \t drake\n",
      "wood_duck \t drake\n",
      "wood_duck \t drake\n",
      "wood_duck \t drake\n",
      "wood_duck \t drake\n",
      "wood_duck \t drake\n",
      "wood_duck \t drake\n",
      "wood_duck \t drake\n",
      "wood_duck \t drake\n",
      "wood_duck \t drake\n",
      "wood_duck \t drake\n",
      "wood_duck \t drake\n",
      "wood_duck \t drake\n",
      "wood_duck \t drake\n",
      "wood_duck \t drake\n",
      "wood_duck \t drake\n",
      "wood_duck \t drake\n",
      "wood_duck \t drake\n",
      "wood_duck \t drake\n",
      "wood_duck \t drake\n",
      "wood_duck \t drake\n",
      "wood_duck \t drake\n",
      "wood_duck \t drake\n",
      "wood_duck \t drake\n",
      "wood_duck \t drake\n",
      "wood_duck \t drake\n",
      "wood_duck \t drake\n",
      "wood_duck \t drake\n",
      "wood_duck \t drake\n",
      "wood_duck \t drake\n",
      "wood_duck \t magpie\n",
      "wood_duck \t drake\n",
      "wood_duck \t drake\n",
      "wood_duck \t drake\n",
      "wood_duck \t drake\n",
      "wood_duck \t drake\n",
      "wood_duck \t drake\n",
      "wood_duck \t drake\n",
      "wood_duck \t drake\n",
      "wood_duck \t drake\n",
      "wood_duck \t drake\n",
      "wood_duck \t drake\n",
      "wood_duck \t drake\n",
      "wood_duck \t drake\n",
      "wood_duck \t drake\n",
      "wood_duck \t drake\n",
      "wood_duck \t drake\n",
      "wood_duck \t drake\n",
      "wood_duck \t drake\n",
      "wood_duck \t drake\n",
      "wood_duck \t drake\n",
      "wood_duck \t drake\n",
      "wood_duck \t drake\n",
      "wood_duck \t drake\n",
      "wood_duck \t drake\n",
      "wood_duck \t drake\n",
      "wood_duck \t drake\n",
      "wood_duck \t other\n",
      "wood_duck \t drake\n",
      "wood_duck \t drake\n",
      "wood_duck \t drake\n",
      "wood_duck \t drake\n",
      "wood_duck \t drake\n",
      "wood_duck \t drake\n",
      "wood_duck \t drake\n",
      "wood_duck \t drake\n",
      "wood_duck \t drake\n",
      "wood_duck \t drake\n",
      "wood_duck \t drake\n",
      "wood_duck \t drake\n",
      "wood_duck \t drake\n",
      "wood_duck \t drake\n",
      "wood_duck \t drake\n",
      "wood_duck \t drake\n",
      "wood_duck \t drake\n",
      "wood_duck \t drake\n",
      "wood_duck \t drake\n",
      "wood_duck \t drake\n",
      "wood_duck \t drake\n",
      "puffin \t toucan\n",
      "puffin \t drake\n",
      "puffin \t drake\n",
      "puffin \t water_ouzel\n",
      "puffin \t other\n",
      "puffin \t magpie\n",
      "puffin \t toucan\n",
      "puffin \t king_penguin\n",
      "puffin \t magpie\n",
      "puffin \t drake\n",
      "puffin \t toucan\n",
      "puffin \t king_penguin\n",
      "puffin \t toucan\n",
      "puffin \t albatross\n",
      "puffin \t magpie\n",
      "puffin \t toucan\n",
      "puffin \t drake\n",
      "puffin \t other\n",
      "puffin \t albatross\n",
      "puffin \t water_ouzel\n",
      "puffin \t magpie\n",
      "puffin \t toucan\n",
      "puffin \t other\n",
      "puffin \t water_ouzel\n",
      "puffin \t magpie\n",
      "puffin \t magpie\n",
      "puffin \t other\n",
      "puffin \t other\n",
      "puffin \t other\n",
      "puffin \t albatross\n",
      "puffin \t other\n",
      "puffin \t king_penguin\n",
      "puffin \t other\n",
      "puffin \t magpie\n",
      "puffin \t magpie\n",
      "puffin \t drake\n",
      "puffin \t drake\n",
      "puffin \t magpie\n",
      "puffin \t other\n",
      "puffin \t albatross\n",
      "puffin \t other\n",
      "puffin \t water_ouzel\n",
      "puffin \t magpie\n",
      "puffin \t water_ouzel\n",
      "puffin \t toucan\n",
      "puffin \t king_penguin\n",
      "puffin \t toucan\n",
      "puffin \t toucan\n",
      "puffin \t other\n",
      "puffin \t other\n",
      "puffin \t albatross\n",
      "puffin \t toucan\n",
      "puffin \t other\n",
      "puffin \t water_ouzel\n",
      "puffin \t toucan\n",
      "puffin \t magpie\n",
      "puffin \t drake\n",
      "puffin \t drake\n",
      "puffin \t toucan\n",
      "puffin \t king_penguin\n",
      "puffin \t toucan\n",
      "puffin \t albatross\n",
      "puffin \t drake\n",
      "puffin \t toucan\n",
      "puffin \t toucan\n",
      "puffin \t drake\n",
      "puffin \t albatross\n",
      "puffin \t king_penguin\n",
      "puffin \t albatross\n",
      "puffin \t albatross\n",
      "puffin \t toucan\n",
      "puffin \t other\n",
      "puffin \t other\n",
      "puffin \t magpie\n",
      "puffin \t magpie\n",
      "puffin \t albatross\n",
      "puffin \t ptarmigan\n",
      "puffin \t king_penguin\n",
      "puffin \t toucan\n",
      "puffin \t magpie\n",
      "puffin \t toucan\n",
      "puffin \t albatross\n",
      "puffin \t other\n",
      "puffin \t albatross\n",
      "puffin \t drake\n",
      "puffin \t albatross\n",
      "puffin \t other\n",
      "puffin \t other\n",
      "puffin \t albatross\n",
      "puffin \t other\n",
      "puffin \t albatross\n",
      "puffin \t magpie\n",
      "puffin \t toucan\n",
      "puffin \t magpie\n",
      "puffin \t toucan\n",
      "puffin \t magpie\n",
      "puffin \t drake\n",
      "puffin \t king_penguin\n",
      "puffin \t albatross\n",
      "puffin \t magpie\n",
      "owl \t other\n",
      "owl \t other\n",
      "owl \t ptarmigan\n",
      "owl \t other\n",
      "owl \t great_grey_owl\n",
      "owl \t albatross\n",
      "owl \t ptarmigan\n",
      "owl \t other\n",
      "owl \t other\n",
      "owl \t ptarmigan\n",
      "owl \t ptarmigan\n",
      "owl \t African_grey\n",
      "owl \t African_grey\n",
      "owl \t other\n",
      "owl \t African_grey\n",
      "owl \t other\n",
      "owl \t other\n",
      "owl \t ptarmigan\n",
      "owl \t ptarmigan\n",
      "owl \t great_grey_owl\n",
      "owl \t albatross\n",
      "owl \t ptarmigan\n",
      "owl \t other\n",
      "owl \t African_grey\n",
      "owl \t ptarmigan\n",
      "owl \t African_grey\n",
      "owl \t ptarmigan\n",
      "owl \t other\n",
      "owl \t ptarmigan\n",
      "owl \t other\n",
      "owl \t great_grey_owl\n",
      "owl \t ptarmigan\n",
      "owl \t African_grey\n",
      "owl \t other\n",
      "owl \t African_grey\n",
      "owl \t other\n",
      "owl \t other\n",
      "owl \t ptarmigan\n",
      "owl \t ptarmigan\n",
      "owl \t other\n",
      "owl \t other\n",
      "owl \t other\n",
      "owl \t other\n",
      "owl \t great_grey_owl\n",
      "owl \t other\n",
      "owl \t ptarmigan\n",
      "owl \t great_grey_owl\n",
      "owl \t African_grey\n",
      "owl \t ptarmigan\n",
      "owl \t ptarmigan\n",
      "owl \t great_grey_owl\n",
      "owl \t African_grey\n",
      "owl \t African_grey\n",
      "owl \t other\n",
      "owl \t African_grey\n",
      "owl \t ptarmigan\n",
      "owl \t ptarmigan\n",
      "owl \t African_grey\n",
      "owl \t ptarmigan\n",
      "owl \t other\n",
      "owl \t ptarmigan\n",
      "owl \t ptarmigan\n",
      "owl \t ptarmigan\n",
      "owl \t great_grey_owl\n",
      "owl \t other\n",
      "owl \t albatross\n",
      "owl \t other\n",
      "owl \t other\n",
      "owl \t ptarmigan\n",
      "owl \t great_grey_owl\n",
      "owl \t ptarmigan\n",
      "owl \t other\n",
      "owl \t albatross\n",
      "owl \t great_grey_owl\n",
      "owl \t other\n",
      "owl \t ptarmigan\n",
      "owl \t other\n",
      "owl \t African_grey\n",
      "owl \t other\n",
      "owl \t African_grey\n",
      "owl \t African_grey\n",
      "owl \t great_grey_owl\n",
      "owl \t other\n",
      "owl \t other\n",
      "owl \t great_grey_owl\n",
      "owl \t ptarmigan\n",
      "owl \t other\n",
      "owl \t other\n",
      "owl \t African_grey\n",
      "owl \t great_grey_owl\n",
      "owl \t great_grey_owl\n",
      "owl \t other\n",
      "owl \t other\n",
      "owl \t African_grey\n",
      "owl \t African_grey\n",
      "owl \t other\n",
      "owl \t ptarmigan\n",
      "owl \t other\n",
      "owl \t great_grey_owl\n",
      "owl \t other\n"
     ]
    }
   ],
   "source": [
    "for j in range(6):\n",
    "    for i in range(j*100,(j+1)*100):\n",
    "        print(true[i], \"\\t\", pred[i])"
   ]
  },
  {
   "cell_type": "code",
   "execution_count": 12,
   "metadata": {},
   "outputs": [],
   "source": [
    "def plot_confusion_matrix(cm, xclasses, yclasses, normalize=False, title='Confusion matrix', cmap=plt.cm.Blues):    \n",
    "    if normalize:\n",
    "        cm = cm.astype('float') / cm.sum(axis=1)[:, np.newaxis]\n",
    "        print(\"Normalized confusion matrix\")\n",
    "    else:\n",
    "        print('Confusion matrix, without normalization')\n",
    "    print(cm)\n",
    "    \n",
    "    plt.imshow(cm, interpolation='nearest', cmap=cmap)\n",
    "    plt.title(title)\n",
    "    #plt.colorbar()\n",
    "    xtick_marks = np.arange(len(xclasses))\n",
    "    ytick_marks = np.arange(len(yclasses))\n",
    "    plt.xticks(xtick_marks, xclasses, rotation=90)\n",
    "    plt.yticks(ytick_marks, yclasses)\n",
    "\n",
    "    fmt = '.2f' if normalize else 'd'\n",
    "    thresh = cm.max() / 2.\n",
    "    for i, j in itertools.product(range(cm.shape[0]), range(cm.shape[1])):\n",
    "        plt.text(j, i, format(cm[i, j], fmt),\n",
    "                 horizontalalignment=\"center\",\n",
    "                 color=\"white\" if cm[i, j] > thresh else \"black\")\n",
    "\n",
    "    plt.tight_layout()\n",
    "    plt.ylabel('True label')\n",
    "    plt.xlabel('Predicted label')"
   ]
  },
  {
   "cell_type": "markdown",
   "metadata": {},
   "source": [
    "### Confussion matrix without training"
   ]
  },
  {
   "cell_type": "code",
   "execution_count": 13,
   "metadata": {},
   "outputs": [
    {
     "name": "stdout",
     "output_type": "stream",
     "text": [
      "Confusion matrix, without normalization\n",
      "[[ 0 91  0  0  0  0  0  0  9  0  0  0  0  0  0]\n",
      " [ 0  0  1 80  0  0  0  0 18  0  0  0  0  1  0]\n",
      " [18  0  4  0 14  0  0  0 37  0 27  0  0  0  0]\n",
      " [ 0  0 16 12  0  8 18  0 19  0  1  0 20  6  0]\n",
      " [ 0  0  0  0  0  0  0  0  3  0  0  0 97  0  0]\n",
      " [ 0  0  0 97  0  0  1  0  2  0  0  0  0  0  0]]\n"
     ]
    },
    {
     "data": {
      "image/png": "[encoded data removed]",
      "text/plain": [
       "<Figure size 720x720 with 1 Axes>"
      ]
     },
     "metadata": {},
     "output_type": "display_data"
    }
   ],
   "source": [
    "cnf_matrix = confusion_matrix(true, pred)\n",
    "np.set_printoptions(precision=2)\n",
    "plt.figure(figsize=(10,10))\n",
    "s = set()\n",
    "for i in ten:\n",
    "    s.add(i)\n",
    "for i in birds:\n",
    "    s.add(i)\n",
    "s.add(\"other\")\n",
    "l = sorted(list(s))\n",
    "indices = []\n",
    "for i in range(len(l)):\n",
    "    if l[i] in birds:\n",
    "        indices.append(i)\n",
    "plot_confusion_matrix(np.array([[x for x in cnf_matrix[y]] for y in indices]), yclasses=sorted(birds), xclasses=l,\n",
    "                     normalize=False)"
   ]
  },
  {
   "cell_type": "markdown",
   "metadata": {},
   "source": [
    "In this matrix, we can see that only Egrets and Toucans are predicted correctly, and Mandarins and Wood Ducks are similar to a kind of duck (Drake)."
   ]
  },
  {
   "cell_type": "markdown",
   "metadata": {},
   "source": [
    "## 2. Transfer Learning"
   ]
  },
  {
   "cell_type": "markdown",
   "metadata": {},
   "source": [
    "# Train model with no trainable mobilenet layers\n",
    "## Train Model without removing layers"
   ]
  },
  {
   "cell_type": "markdown",
   "metadata": {},
   "source": [
    "The first test we are doing is to just aggregate two new layers to the network (not removing anyone), and just train this layers."
   ]
  },
  {
   "cell_type": "code",
   "execution_count": 69,
   "metadata": {},
   "outputs": [],
   "source": [
    "training = 71\n",
    "validation = 101\n",
    "birdsNum = 6\n",
    "epochs = 50\n",
    "batch_size = 64\n",
    "\n",
    "layers.BatchNormalization(axis=-1, momentum=0.99, epsilon=0.001, center=True, scale=True, beta_initializer='zeros', gamma_initializer='ones', moving_mean_initializer='zeros', moving_variance_initializer='ones', beta_regularizer=None, gamma_regularizer=None, beta_constraint=None, gamma_constraint=None)\n",
    "\n",
    "def loadImage(img_path):\n",
    "    img = image.load_img(img_path, target_size=(224, 224))\n",
    "    x = image.img_to_array(img)    \n",
    "    return preprocess_input(x)"
   ]
  },
  {
   "cell_type": "code",
   "execution_count": 70,
   "metadata": {},
   "outputs": [
    {
     "name": "stdout",
     "output_type": "stream",
     "text": [
      "_________________________________________________________________\n",
      "Layer (type)                 Output Shape              Param #   \n",
      "=================================================================\n",
      "input_1 (InputLayer)         (None, 224, 224, 3)       0         \n",
      "_________________________________________________________________\n",
      "conv1_pad (ZeroPadding2D)    (None, 226, 226, 3)       0         \n",
      "_________________________________________________________________\n",
      "conv1 (Conv2D)               (None, 112, 112, 32)      864       \n",
      "_________________________________________________________________\n",
      "conv1_bn (BatchNormalization (None, 112, 112, 32)      128       \n",
      "_________________________________________________________________\n",
      "conv1_relu (Activation)      (None, 112, 112, 32)      0         \n",
      "_________________________________________________________________\n",
      "conv_pad_1 (ZeroPadding2D)   (None, 114, 114, 32)      0         \n",
      "_________________________________________________________________\n",
      "conv_dw_1 (DepthwiseConv2D)  (None, 112, 112, 32)      288       \n",
      "_________________________________________________________________\n",
      "conv_dw_1_bn (BatchNormaliza (None, 112, 112, 32)      128       \n",
      "_________________________________________________________________\n",
      "conv_dw_1_relu (Activation)  (None, 112, 112, 32)      0         \n",
      "_________________________________________________________________\n",
      "conv_pw_1 (Conv2D)           (None, 112, 112, 64)      2048      \n",
      "_________________________________________________________________\n",
      "conv_pw_1_bn (BatchNormaliza (None, 112, 112, 64)      256       \n",
      "_________________________________________________________________\n",
      "conv_pw_1_relu (Activation)  (None, 112, 112, 64)      0         \n",
      "_________________________________________________________________\n",
      "conv_pad_2 (ZeroPadding2D)   (None, 114, 114, 64)      0         \n",
      "_________________________________________________________________\n",
      "conv_dw_2 (DepthwiseConv2D)  (None, 56, 56, 64)        576       \n",
      "_________________________________________________________________\n",
      "conv_dw_2_bn (BatchNormaliza (None, 56, 56, 64)        256       \n",
      "_________________________________________________________________\n",
      "conv_dw_2_relu (Activation)  (None, 56, 56, 64)        0         \n",
      "_________________________________________________________________\n",
      "conv_pw_2 (Conv2D)           (None, 56, 56, 128)       8192      \n",
      "_________________________________________________________________\n",
      "conv_pw_2_bn (BatchNormaliza (None, 56, 56, 128)       512       \n",
      "_________________________________________________________________\n",
      "conv_pw_2_relu (Activation)  (None, 56, 56, 128)       0         \n",
      "_________________________________________________________________\n",
      "conv_pad_3 (ZeroPadding2D)   (None, 58, 58, 128)       0         \n",
      "_________________________________________________________________\n",
      "conv_dw_3 (DepthwiseConv2D)  (None, 56, 56, 128)       1152      \n",
      "_________________________________________________________________\n",
      "conv_dw_3_bn (BatchNormaliza (None, 56, 56, 128)       512       \n",
      "_________________________________________________________________\n",
      "conv_dw_3_relu (Activation)  (None, 56, 56, 128)       0         \n",
      "_________________________________________________________________\n",
      "conv_pw_3 (Conv2D)           (None, 56, 56, 128)       16384     \n",
      "_________________________________________________________________\n",
      "conv_pw_3_bn (BatchNormaliza (None, 56, 56, 128)       512       \n",
      "_________________________________________________________________\n",
      "conv_pw_3_relu (Activation)  (None, 56, 56, 128)       0         \n",
      "_________________________________________________________________\n",
      "conv_pad_4 (ZeroPadding2D)   (None, 58, 58, 128)       0         \n",
      "_________________________________________________________________\n",
      "conv_dw_4 (DepthwiseConv2D)  (None, 28, 28, 128)       1152      \n",
      "_________________________________________________________________\n",
      "conv_dw_4_bn (BatchNormaliza (None, 28, 28, 128)       512       \n",
      "_________________________________________________________________\n",
      "conv_dw_4_relu (Activation)  (None, 28, 28, 128)       0         \n",
      "_________________________________________________________________\n",
      "conv_pw_4 (Conv2D)           (None, 28, 28, 256)       32768     \n",
      "_________________________________________________________________\n",
      "conv_pw_4_bn (BatchNormaliza (None, 28, 28, 256)       1024      \n",
      "_________________________________________________________________\n",
      "conv_pw_4_relu (Activation)  (None, 28, 28, 256)       0         \n",
      "_________________________________________________________________\n",
      "conv_pad_5 (ZeroPadding2D)   (None, 30, 30, 256)       0         \n",
      "_________________________________________________________________\n",
      "conv_dw_5 (DepthwiseConv2D)  (None, 28, 28, 256)       2304      \n",
      "_________________________________________________________________\n",
      "conv_dw_5_bn (BatchNormaliza (None, 28, 28, 256)       1024      \n",
      "_________________________________________________________________\n",
      "conv_dw_5_relu (Activation)  (None, 28, 28, 256)       0         \n",
      "_________________________________________________________________\n",
      "conv_pw_5 (Conv2D)           (None, 28, 28, 256)       65536     \n",
      "_________________________________________________________________\n",
      "conv_pw_5_bn (BatchNormaliza (None, 28, 28, 256)       1024      \n",
      "_________________________________________________________________\n",
      "conv_pw_5_relu (Activation)  (None, 28, 28, 256)       0         \n",
      "_________________________________________________________________\n",
      "conv_pad_6 (ZeroPadding2D)   (None, 30, 30, 256)       0         \n",
      "_________________________________________________________________\n",
      "conv_dw_6 (DepthwiseConv2D)  (None, 14, 14, 256)       2304      \n",
      "_________________________________________________________________\n",
      "conv_dw_6_bn (BatchNormaliza (None, 14, 14, 256)       1024      \n",
      "_________________________________________________________________\n",
      "conv_dw_6_relu (Activation)  (None, 14, 14, 256)       0         \n",
      "_________________________________________________________________\n",
      "conv_pw_6 (Conv2D)           (None, 14, 14, 512)       131072    \n",
      "_________________________________________________________________\n",
      "conv_pw_6_bn (BatchNormaliza (None, 14, 14, 512)       2048      \n",
      "_________________________________________________________________\n",
      "conv_pw_6_relu (Activation)  (None, 14, 14, 512)       0         \n",
      "_________________________________________________________________\n",
      "conv_pad_7 (ZeroPadding2D)   (None, 16, 16, 512)       0         \n",
      "_________________________________________________________________\n",
      "conv_dw_7 (DepthwiseConv2D)  (None, 14, 14, 512)       4608      \n",
      "_________________________________________________________________\n",
      "conv_dw_7_bn (BatchNormaliza (None, 14, 14, 512)       2048      \n",
      "_________________________________________________________________\n",
      "conv_dw_7_relu (Activation)  (None, 14, 14, 512)       0         \n",
      "_________________________________________________________________\n",
      "conv_pw_7 (Conv2D)           (None, 14, 14, 512)       262144    \n",
      "_________________________________________________________________\n",
      "conv_pw_7_bn (BatchNormaliza (None, 14, 14, 512)       2048      \n",
      "_________________________________________________________________\n",
      "conv_pw_7_relu (Activation)  (None, 14, 14, 512)       0         \n",
      "_________________________________________________________________\n",
      "conv_pad_8 (ZeroPadding2D)   (None, 16, 16, 512)       0         \n",
      "_________________________________________________________________\n",
      "conv_dw_8 (DepthwiseConv2D)  (None, 14, 14, 512)       4608      \n",
      "_________________________________________________________________\n",
      "conv_dw_8_bn (BatchNormaliza (None, 14, 14, 512)       2048      \n",
      "_________________________________________________________________\n",
      "conv_dw_8_relu (Activation)  (None, 14, 14, 512)       0         \n",
      "_________________________________________________________________\n",
      "conv_pw_8 (Conv2D)           (None, 14, 14, 512)       262144    \n",
      "_________________________________________________________________\n",
      "conv_pw_8_bn (BatchNormaliza (None, 14, 14, 512)       2048      \n",
      "_________________________________________________________________\n",
      "conv_pw_8_relu (Activation)  (None, 14, 14, 512)       0         \n",
      "_________________________________________________________________\n",
      "conv_pad_9 (ZeroPadding2D)   (None, 16, 16, 512)       0         \n",
      "_________________________________________________________________\n",
      "conv_dw_9 (DepthwiseConv2D)  (None, 14, 14, 512)       4608      \n",
      "_________________________________________________________________\n",
      "conv_dw_9_bn (BatchNormaliza (None, 14, 14, 512)       2048      \n",
      "_________________________________________________________________\n",
      "conv_dw_9_relu (Activation)  (None, 14, 14, 512)       0         \n",
      "_________________________________________________________________\n",
      "conv_pw_9 (Conv2D)           (None, 14, 14, 512)       262144    \n",
      "_________________________________________________________________\n",
      "conv_pw_9_bn (BatchNormaliza (None, 14, 14, 512)       2048      \n",
      "_________________________________________________________________\n",
      "conv_pw_9_relu (Activation)  (None, 14, 14, 512)       0         \n",
      "_________________________________________________________________\n",
      "conv_pad_10 (ZeroPadding2D)  (None, 16, 16, 512)       0         \n",
      "_________________________________________________________________\n",
      "conv_dw_10 (DepthwiseConv2D) (None, 14, 14, 512)       4608      \n",
      "_________________________________________________________________\n",
      "conv_dw_10_bn (BatchNormaliz (None, 14, 14, 512)       2048      \n",
      "_________________________________________________________________\n",
      "conv_dw_10_relu (Activation) (None, 14, 14, 512)       0         \n",
      "_________________________________________________________________\n",
      "conv_pw_10 (Conv2D)          (None, 14, 14, 512)       262144    \n",
      "_________________________________________________________________\n",
      "conv_pw_10_bn (BatchNormaliz (None, 14, 14, 512)       2048      \n",
      "_________________________________________________________________\n",
      "conv_pw_10_relu (Activation) (None, 14, 14, 512)       0         \n",
      "_________________________________________________________________\n",
      "conv_pad_11 (ZeroPadding2D)  (None, 16, 16, 512)       0         \n",
      "_________________________________________________________________\n",
      "conv_dw_11 (DepthwiseConv2D) (None, 14, 14, 512)       4608      \n",
      "_________________________________________________________________\n",
      "conv_dw_11_bn (BatchNormaliz (None, 14, 14, 512)       2048      \n",
      "_________________________________________________________________\n",
      "conv_dw_11_relu (Activation) (None, 14, 14, 512)       0         \n",
      "_________________________________________________________________\n",
      "conv_pw_11 (Conv2D)          (None, 14, 14, 512)       262144    \n",
      "_________________________________________________________________\n",
      "conv_pw_11_bn (BatchNormaliz (None, 14, 14, 512)       2048      \n",
      "_________________________________________________________________\n",
      "conv_pw_11_relu (Activation) (None, 14, 14, 512)       0         \n",
      "_________________________________________________________________\n",
      "conv_pad_12 (ZeroPadding2D)  (None, 16, 16, 512)       0         \n",
      "_________________________________________________________________\n",
      "conv_dw_12 (DepthwiseConv2D) (None, 7, 7, 512)         4608      \n",
      "_________________________________________________________________\n",
      "conv_dw_12_bn (BatchNormaliz (None, 7, 7, 512)         2048      \n",
      "_________________________________________________________________\n",
      "conv_dw_12_relu (Activation) (None, 7, 7, 512)         0         \n",
      "_________________________________________________________________\n",
      "conv_pw_12 (Conv2D)          (None, 7, 7, 1024)        524288    \n",
      "_________________________________________________________________\n",
      "conv_pw_12_bn (BatchNormaliz (None, 7, 7, 1024)        4096      \n",
      "_________________________________________________________________\n",
      "conv_pw_12_relu (Activation) (None, 7, 7, 1024)        0         \n",
      "_________________________________________________________________\n",
      "conv_pad_13 (ZeroPadding2D)  (None, 9, 9, 1024)        0         \n",
      "_________________________________________________________________\n",
      "conv_dw_13 (DepthwiseConv2D) (None, 7, 7, 1024)        9216      \n",
      "_________________________________________________________________\n",
      "conv_dw_13_bn (BatchNormaliz (None, 7, 7, 1024)        4096      \n",
      "_________________________________________________________________\n",
      "conv_dw_13_relu (Activation) (None, 7, 7, 1024)        0         \n",
      "_________________________________________________________________\n",
      "conv_pw_13 (Conv2D)          (None, 7, 7, 1024)        1048576   \n",
      "_________________________________________________________________\n",
      "conv_pw_13_bn (BatchNormaliz (None, 7, 7, 1024)        4096      \n",
      "_________________________________________________________________\n",
      "conv_pw_13_relu (Activation) (None, 7, 7, 1024)        0         \n",
      "_________________________________________________________________\n",
      "global_average_pooling2d_1 ( (None, 1024)              0         \n",
      "_________________________________________________________________\n",
      "reshape_1 (Reshape)          (None, 1, 1, 1024)        0         \n",
      "=================================================================\n",
      "Total params: 3,228,864\n",
      "Trainable params: 3,206,976\n",
      "Non-trainable params: 21,888\n",
      "_________________________________________________________________\n"
     ]
    }
   ],
   "source": [
    "model.summary()"
   ]
  },
  {
   "cell_type": "code",
   "execution_count": 78,
   "metadata": {},
   "outputs": [
    {
     "name": "stdout",
     "output_type": "stream",
     "text": [
      "_________________________________________________________________\n",
      "Layer (type)                 Output Shape              Param #   \n",
      "=================================================================\n",
      "mobilenet_1.00_224 (Model)   (None, 1000)              3228864   \n",
      "_________________________________________________________________\n",
      "dense_24 (Dense)             (None, 256)               256256    \n",
      "_________________________________________________________________\n",
      "dense_25 (Dense)             (None, 6)                 1542      \n",
      "=================================================================\n",
      "Total params: 3,486,662\n",
      "Trainable params: 257,798\n",
      "Non-trainable params: 3,228,864\n",
      "_________________________________________________________________\n"
     ]
    }
   ],
   "source": [
    "model2 = models.Sequential()\n",
    "model2.add(model)\n",
    "\n",
    "model2.add(layers.Dense(256, activation='relu'))\n",
    "model2.add(layers.Dense(6, activation='softmax'))\n",
    "\n",
    "for layer in model2.layers[:-3]:\n",
    "    layer.trainable = False\n",
    "    \n",
    "model2.summary()"
   ]
  },
  {
   "cell_type": "code",
   "execution_count": 40,
   "metadata": {},
   "outputs": [],
   "source": [
    "sgd = optimizers.SGD(lr=0.1, decay=1e-6, momentum=0.9, nesterov=True)\n",
    "model2.compile(loss='sparse_categorical_crossentropy',\n",
    "              optimizer=sgd,\n",
    "              metrics=['acc'])"
   ]
  },
  {
   "cell_type": "code",
   "execution_count": 41,
   "metadata": {
    "scrolled": true
   },
   "outputs": [],
   "source": [
    "x, y, vx, vy = [], [], [], []\n",
    "\n",
    "for i in range(birdsNum):\n",
    "    for j in range(1,training):\n",
    "        x.append(loadImage(folders[i]+str(j).zfill(3)+\".jpg\"))\n",
    "        y.append(i)\n",
    "        \n",
    "for i in range(birdsNum):\n",
    "    for j in range(training,validation):\n",
    "        vx.append(loadImage(folders[i]+str(j).zfill(3)+\".jpg\"))\n",
    "        vy.append(i)\n",
    "\n",
    "x = np.array(x)\n",
    "y = np.array(y)\n",
    "vy = np.array(vy)\n",
    "vx = np.array(vx)\n",
    "v = (vx, vy)"
   ]
  },
  {
   "cell_type": "code",
   "execution_count": 42,
   "metadata": {
    "scrolled": true
   },
   "outputs": [
    {
     "name": "stdout",
     "output_type": "stream",
     "text": [
      "Train on 420 samples, validate on 180 samples\n",
      "Epoch 1/50\n",
      "420/420 [==============================] - 3s 7ms/step - loss: 1.7802 - acc: 0.2976 - val_loss: 1.7061 - val_acc: 0.5722\n",
      "Epoch 2/50\n",
      "420/420 [==============================] - 1s 3ms/step - loss: 1.7393 - acc: 0.3881 - val_loss: 1.5963 - val_acc: 0.6056\n",
      "Epoch 3/50\n",
      "420/420 [==============================] - 1s 3ms/step - loss: 1.6896 - acc: 0.4095 - val_loss: 1.4561 - val_acc: 0.6611\n",
      "Epoch 4/50\n",
      "420/420 [==============================] - 1s 3ms/step - loss: 1.6146 - acc: 0.4286 - val_loss: 1.3032 - val_acc: 0.6333\n",
      "Epoch 5/50\n",
      "420/420 [==============================] - 1s 3ms/step - loss: 1.5314 - acc: 0.4714 - val_loss: 1.1666 - val_acc: 0.6167\n",
      "Epoch 6/50\n",
      "420/420 [==============================] - 1s 2ms/step - loss: 1.4634 - acc: 0.5119 - val_loss: 1.0800 - val_acc: 0.6556\n",
      "Epoch 7/50\n",
      "420/420 [==============================] - 1s 3ms/step - loss: 1.3997 - acc: 0.4452 - val_loss: 1.0260 - val_acc: 0.6389\n",
      "Epoch 8/50\n",
      "420/420 [==============================] - 1s 2ms/step - loss: 1.3710 - acc: 0.5738 - val_loss: 0.9959 - val_acc: 0.6722\n",
      "Epoch 9/50\n",
      "420/420 [==============================] - 1s 3ms/step - loss: 1.2949 - acc: 0.4619 - val_loss: 0.9989 - val_acc: 0.7333\n",
      "Epoch 10/50\n",
      "420/420 [==============================] - 1s 3ms/step - loss: 1.2991 - acc: 0.5571 - val_loss: 0.9844 - val_acc: 0.7389\n",
      "Epoch 11/50\n",
      "420/420 [==============================] - 1s 2ms/step - loss: 1.2635 - acc: 0.5929 - val_loss: 0.9545 - val_acc: 0.7111\n",
      "Epoch 12/50\n",
      "420/420 [==============================] - 1s 3ms/step - loss: 1.2304 - acc: 0.5762 - val_loss: 0.9453 - val_acc: 0.7056\n",
      "Epoch 13/50\n",
      "420/420 [==============================] - 1s 2ms/step - loss: 1.2125 - acc: 0.5762 - val_loss: 0.9277 - val_acc: 0.7667\n",
      "Epoch 14/50\n",
      "420/420 [==============================] - 1s 3ms/step - loss: 1.1900 - acc: 0.6405 - val_loss: 0.9130 - val_acc: 0.7444\n",
      "Epoch 15/50\n",
      "420/420 [==============================] - 1s 3ms/step - loss: 1.1710 - acc: 0.6167 - val_loss: 0.9525 - val_acc: 0.7500\n",
      "Epoch 16/50\n",
      "420/420 [==============================] - 1s 2ms/step - loss: 1.1413 - acc: 0.6976 - val_loss: 0.9160 - val_acc: 0.7444\n",
      "Epoch 17/50\n",
      "420/420 [==============================] - 1s 3ms/step - loss: 1.1049 - acc: 0.7571 - val_loss: 0.9395 - val_acc: 0.7278\n",
      "Epoch 18/50\n",
      "420/420 [==============================] - 1s 3ms/step - loss: 1.0778 - acc: 0.6976 - val_loss: 0.8811 - val_acc: 0.7556\n",
      "Epoch 19/50\n",
      "420/420 [==============================] - 1s 3ms/step - loss: 1.0459 - acc: 0.7238 - val_loss: 0.9278 - val_acc: 0.7500\n",
      "Epoch 20/50\n",
      "420/420 [==============================] - 1s 2ms/step - loss: 1.0263 - acc: 0.7452 - val_loss: 0.9334 - val_acc: 0.7333\n",
      "Epoch 21/50\n",
      "420/420 [==============================] - 1s 3ms/step - loss: 1.0001 - acc: 0.7667 - val_loss: 0.9322 - val_acc: 0.7333\n",
      "Epoch 22/50\n",
      "420/420 [==============================] - 1s 3ms/step - loss: 0.9603 - acc: 0.8190 - val_loss: 0.9343 - val_acc: 0.7333\n",
      "Epoch 23/50\n",
      "420/420 [==============================] - 1s 3ms/step - loss: 0.9378 - acc: 0.7548 - val_loss: 0.9213 - val_acc: 0.7167\n",
      "Epoch 24/50\n",
      "420/420 [==============================] - 1s 3ms/step - loss: 0.9178 - acc: 0.7524 - val_loss: 0.8965 - val_acc: 0.7667\n",
      "Epoch 25/50\n",
      "420/420 [==============================] - 1s 3ms/step - loss: 0.8879 - acc: 0.7738 - val_loss: 0.8860 - val_acc: 0.7611\n",
      "Epoch 26/50\n",
      "420/420 [==============================] - 1s 3ms/step - loss: 0.8652 - acc: 0.8452 - val_loss: 0.8389 - val_acc: 0.7722\n",
      "Epoch 27/50\n",
      "420/420 [==============================] - 1s 3ms/step - loss: 0.8499 - acc: 0.7881 - val_loss: 0.8855 - val_acc: 0.7611\n",
      "Epoch 28/50\n",
      "420/420 [==============================] - 1s 3ms/step - loss: 0.8177 - acc: 0.8238 - val_loss: 0.8580 - val_acc: 0.7667\n",
      "Epoch 29/50\n",
      "420/420 [==============================] - 1s 3ms/step - loss: 0.7978 - acc: 0.8452 - val_loss: 0.8737 - val_acc: 0.7667\n",
      "Epoch 30/50\n",
      "420/420 [==============================] - 1s 3ms/step - loss: 0.7937 - acc: 0.8143 - val_loss: 0.8745 - val_acc: 0.7556\n",
      "Epoch 31/50\n",
      "420/420 [==============================] - 1s 3ms/step - loss: 0.7639 - acc: 0.8357 - val_loss: 0.8895 - val_acc: 0.7556\n",
      "Epoch 32/50\n",
      "420/420 [==============================] - 1s 3ms/step - loss: 0.7374 - acc: 0.8452 - val_loss: 0.9099 - val_acc: 0.7444\n",
      "Epoch 33/50\n",
      "420/420 [==============================] - 1s 3ms/step - loss: 0.7274 - acc: 0.8738 - val_loss: 0.8379 - val_acc: 0.7722\n",
      "Epoch 34/50\n",
      "420/420 [==============================] - 1s 3ms/step - loss: 0.7122 - acc: 0.7857 - val_loss: 0.9190 - val_acc: 0.7556\n",
      "Epoch 35/50\n",
      "420/420 [==============================] - 1s 3ms/step - loss: 0.6930 - acc: 0.8357 - val_loss: 0.9022 - val_acc: 0.7611\n",
      "Epoch 36/50\n",
      "420/420 [==============================] - 1s 3ms/step - loss: 0.6450 - acc: 0.8571 - val_loss: 0.8832 - val_acc: 0.7722\n",
      "Epoch 37/50\n",
      "420/420 [==============================] - 1s 3ms/step - loss: 0.6448 - acc: 0.8619 - val_loss: 0.9165 - val_acc: 0.7556\n",
      "Epoch 38/50\n",
      "420/420 [==============================] - 1s 3ms/step - loss: 0.6268 - acc: 0.8500 - val_loss: 0.8464 - val_acc: 0.7778\n",
      "Epoch 39/50\n",
      "420/420 [==============================] - 1s 3ms/step - loss: 0.6162 - acc: 0.8119 - val_loss: 0.8529 - val_acc: 0.7833\n",
      "Epoch 40/50\n",
      "420/420 [==============================] - 1s 3ms/step - loss: 0.5568 - acc: 0.8452 - val_loss: 0.8605 - val_acc: 0.7833\n",
      "Epoch 41/50\n",
      "420/420 [==============================] - 1s 3ms/step - loss: 0.5774 - acc: 0.8905 - val_loss: 0.8334 - val_acc: 0.7833\n",
      "Epoch 42/50\n",
      "420/420 [==============================] - 1s 3ms/step - loss: 0.5670 - acc: 0.9000 - val_loss: 0.8551 - val_acc: 0.7944\n",
      "Epoch 43/50\n",
      "420/420 [==============================] - 1s 3ms/step - loss: 0.5167 - acc: 0.8714 - val_loss: 0.9398 - val_acc: 0.7556\n",
      "Epoch 44/50\n",
      "420/420 [==============================] - 1s 3ms/step - loss: 0.5508 - acc: 0.8381 - val_loss: 0.8736 - val_acc: 0.7833\n",
      "Epoch 45/50\n",
      "420/420 [==============================] - 1s 3ms/step - loss: 0.5158 - acc: 0.8905 - val_loss: 0.8900 - val_acc: 0.7667\n",
      "Epoch 46/50\n",
      "420/420 [==============================] - 1s 3ms/step - loss: 0.4875 - acc: 0.8976 - val_loss: 0.8961 - val_acc: 0.7778\n",
      "Epoch 47/50\n",
      "420/420 [==============================] - 1s 3ms/step - loss: 0.4730 - acc: 0.9167 - val_loss: 0.8407 - val_acc: 0.8000\n",
      "Epoch 48/50\n",
      "420/420 [==============================] - 1s 3ms/step - loss: 0.4900 - acc: 0.9071 - val_loss: 0.8473 - val_acc: 0.7889\n",
      "Epoch 49/50\n",
      "420/420 [==============================] - 1s 3ms/step - loss: 0.4714 - acc: 0.9143 - val_loss: 0.8867 - val_acc: 0.7833\n",
      "Epoch 50/50\n",
      "420/420 [==============================] - 1s 3ms/step - loss: 0.4296 - acc: 0.9262 - val_loss: 0.8896 - val_acc: 0.7778\n"
     ]
    }
   ],
   "source": [
    "history = model2.fit(x, y, epochs=epochs, batch_size=batch_size, validation_data=v)"
   ]
  },
  {
   "cell_type": "code",
   "execution_count": 43,
   "metadata": {},
   "outputs": [
    {
     "data": {
      "text/plain": [
       "Text(0,0.5,'Loss')"
      ]
     },
     "execution_count": 43,
     "metadata": {},
     "output_type": "execute_result"
    },
    {
     "data": {
      "image/png": "[encoded data removed]",
      "text/plain": [
       "<Figure size 432x288 with 1 Axes>"
      ]
     },
     "metadata": {},
     "output_type": "display_data"
    }
   ],
   "source": [
    "plt.plot(history.history['loss'], label=\"Train Loss\")\n",
    "plt.plot(history.history['val_loss'], label=\"Validation Loss\")\n",
    "plt.legend()\n",
    "plt.xlabel('Epoch')\n",
    "plt.ylabel('Loss')"
   ]
  },
  {
   "cell_type": "code",
   "execution_count": 44,
   "metadata": {},
   "outputs": [
    {
     "name": "stdout",
     "output_type": "stream",
     "text": [
      "Test loss: 0.8895824270115958\n",
      "Test accuracy: 0.7777777777777778\n"
     ]
    }
   ],
   "source": [
    "score = model2.evaluate(vx, vy, verbose=0)\n",
    "print('Test loss:', score[0])\n",
    "print('Test accuracy:', score[1])"
   ]
  },
  {
   "cell_type": "markdown",
   "metadata": {},
   "source": [
    "### Saving Model"
   ]
  },
  {
   "cell_type": "code",
   "execution_count": 45,
   "metadata": {},
   "outputs": [],
   "source": [
    "model2.save_weights(\"model1.h5\")"
   ]
  },
  {
   "cell_type": "markdown",
   "metadata": {},
   "source": [
    "### Confussion matrix"
   ]
  },
  {
   "cell_type": "code",
   "execution_count": 46,
   "metadata": {},
   "outputs": [],
   "source": [
    "def getPredicted(pred):    \n",
    "    c, m = 0, 0\n",
    "    for i in range(pred.shape[1]):\n",
    "        if pred[0][i] > m:\n",
    "            m = pred[0][i]\n",
    "            c = birds[i]\n",
    "    return c\n",
    "\n",
    "def predict2(img_path):\n",
    "    img = image.load_img(img_path, target_size=(224, 224))\n",
    "    x = image.img_to_array(img)\n",
    "    x = np.expand_dims(x, axis=0)\n",
    "    x = preprocess_input(x)\n",
    "    return getPredicted(model2.predict(x))"
   ]
  },
  {
   "cell_type": "code",
   "execution_count": 47,
   "metadata": {
    "scrolled": true
   },
   "outputs": [],
   "source": [
    "true = []\n",
    "pred = []\n",
    "for i in range(birdsNum):\n",
    "    for j in range(training,validation):\n",
    "        s = predict2(folders[i]+str(j).zfill(3)+\".jpg\")\n",
    "        pred.append(s)\n",
    "        true.append(birds[i]) "
   ]
  },
  {
   "cell_type": "code",
   "execution_count": 48,
   "metadata": {},
   "outputs": [
    {
     "name": "stdout",
     "output_type": "stream",
     "text": [
      "Confusion matrix, without normalization\n",
      "[[30  0  0  0  0  0]\n",
      " [ 0  7  0  0  0 23]\n",
      " [ 0  0 29  1  0  0]\n",
      " [ 0  4  0 15  7  4]\n",
      " [ 0  0  0  0 30  0]\n",
      " [ 0  0  0  1  0 29]]\n"
     ]
    },
    {
     "data": {
      "image/png": "[encoded data removed]",
      "text/plain": [
       "<Figure size 720x720 with 1 Axes>"
      ]
     },
     "metadata": {},
     "output_type": "display_data"
    }
   ],
   "source": [
    "cnf_matrix = confusion_matrix(true, pred)\n",
    "np.set_printoptions(precision=2)\n",
    "plt.figure(figsize=(10,10))\n",
    "\n",
    "plot_confusion_matrix(cnf_matrix, yclasses=sorted(birds), xclasses=sorted(birds), normalize=False)"
   ]
  },
  {
   "cell_type": "markdown",
   "metadata": {},
   "source": [
    "In this matrix we can see that predictions got a lot better, but still Mandarins and Wood Ducks are hard to differentiate and Puffins are not quite clear. By seen, the validation accuracy was stuck at some point of the training as we can see in the history error plot."
   ]
  },
  {
   "cell_type": "markdown",
   "metadata": {},
   "source": [
    "## Train Model removing 2 layers till convolutional layer"
   ]
  },
  {
   "cell_type": "markdown",
   "metadata": {},
   "source": [
    "In this case, we will remove the feedforward layers from ImageNet and just let train the two new added layers."
   ]
  },
  {
   "cell_type": "code",
   "execution_count": 76,
   "metadata": {},
   "outputs": [
    {
     "name": "stdout",
     "output_type": "stream",
     "text": [
      "_________________________________________________________________\n",
      "Layer (type)                 Output Shape              Param #   \n",
      "=================================================================\n",
      "input_2 (InputLayer)         (None, 224, 224, 3)       0         \n",
      "_________________________________________________________________\n",
      "conv1_pad (ZeroPadding2D)    (None, 226, 226, 3)       0         \n",
      "_________________________________________________________________\n",
      "conv1 (Conv2D)               (None, 112, 112, 32)      864       \n",
      "_________________________________________________________________\n",
      "conv1_bn (BatchNormalization (None, 112, 112, 32)      128       \n",
      "_________________________________________________________________\n",
      "conv1_relu (Activation)      (None, 112, 112, 32)      0         \n",
      "_________________________________________________________________\n",
      "conv_pad_1 (ZeroPadding2D)   (None, 114, 114, 32)      0         \n",
      "_________________________________________________________________\n",
      "conv_dw_1 (DepthwiseConv2D)  (None, 112, 112, 32)      288       \n",
      "_________________________________________________________________\n",
      "conv_dw_1_bn (BatchNormaliza (None, 112, 112, 32)      128       \n",
      "_________________________________________________________________\n",
      "conv_dw_1_relu (Activation)  (None, 112, 112, 32)      0         \n",
      "_________________________________________________________________\n",
      "conv_pw_1 (Conv2D)           (None, 112, 112, 64)      2048      \n",
      "_________________________________________________________________\n",
      "conv_pw_1_bn (BatchNormaliza (None, 112, 112, 64)      256       \n",
      "_________________________________________________________________\n",
      "conv_pw_1_relu (Activation)  (None, 112, 112, 64)      0         \n",
      "_________________________________________________________________\n",
      "conv_pad_2 (ZeroPadding2D)   (None, 114, 114, 64)      0         \n",
      "_________________________________________________________________\n",
      "conv_dw_2 (DepthwiseConv2D)  (None, 56, 56, 64)        576       \n",
      "_________________________________________________________________\n",
      "conv_dw_2_bn (BatchNormaliza (None, 56, 56, 64)        256       \n",
      "_________________________________________________________________\n",
      "conv_dw_2_relu (Activation)  (None, 56, 56, 64)        0         \n",
      "_________________________________________________________________\n",
      "conv_pw_2 (Conv2D)           (None, 56, 56, 128)       8192      \n",
      "_________________________________________________________________\n",
      "conv_pw_2_bn (BatchNormaliza (None, 56, 56, 128)       512       \n",
      "_________________________________________________________________\n",
      "conv_pw_2_relu (Activation)  (None, 56, 56, 128)       0         \n",
      "_________________________________________________________________\n",
      "conv_pad_3 (ZeroPadding2D)   (None, 58, 58, 128)       0         \n",
      "_________________________________________________________________\n",
      "conv_dw_3 (DepthwiseConv2D)  (None, 56, 56, 128)       1152      \n",
      "_________________________________________________________________\n",
      "conv_dw_3_bn (BatchNormaliza (None, 56, 56, 128)       512       \n",
      "_________________________________________________________________\n",
      "conv_dw_3_relu (Activation)  (None, 56, 56, 128)       0         \n",
      "_________________________________________________________________\n",
      "conv_pw_3 (Conv2D)           (None, 56, 56, 128)       16384     \n",
      "_________________________________________________________________\n",
      "conv_pw_3_bn (BatchNormaliza (None, 56, 56, 128)       512       \n",
      "_________________________________________________________________\n",
      "conv_pw_3_relu (Activation)  (None, 56, 56, 128)       0         \n",
      "_________________________________________________________________\n",
      "conv_pad_4 (ZeroPadding2D)   (None, 58, 58, 128)       0         \n",
      "_________________________________________________________________\n",
      "conv_dw_4 (DepthwiseConv2D)  (None, 28, 28, 128)       1152      \n",
      "_________________________________________________________________\n",
      "conv_dw_4_bn (BatchNormaliza (None, 28, 28, 128)       512       \n",
      "_________________________________________________________________\n",
      "conv_dw_4_relu (Activation)  (None, 28, 28, 128)       0         \n",
      "_________________________________________________________________\n",
      "conv_pw_4 (Conv2D)           (None, 28, 28, 256)       32768     \n",
      "_________________________________________________________________\n",
      "conv_pw_4_bn (BatchNormaliza (None, 28, 28, 256)       1024      \n",
      "_________________________________________________________________\n",
      "conv_pw_4_relu (Activation)  (None, 28, 28, 256)       0         \n",
      "_________________________________________________________________\n",
      "conv_pad_5 (ZeroPadding2D)   (None, 30, 30, 256)       0         \n",
      "_________________________________________________________________\n",
      "conv_dw_5 (DepthwiseConv2D)  (None, 28, 28, 256)       2304      \n",
      "_________________________________________________________________\n",
      "conv_dw_5_bn (BatchNormaliza (None, 28, 28, 256)       1024      \n",
      "_________________________________________________________________\n",
      "conv_dw_5_relu (Activation)  (None, 28, 28, 256)       0         \n",
      "_________________________________________________________________\n",
      "conv_pw_5 (Conv2D)           (None, 28, 28, 256)       65536     \n",
      "_________________________________________________________________\n",
      "conv_pw_5_bn (BatchNormaliza (None, 28, 28, 256)       1024      \n",
      "_________________________________________________________________\n",
      "conv_pw_5_relu (Activation)  (None, 28, 28, 256)       0         \n",
      "_________________________________________________________________\n",
      "conv_pad_6 (ZeroPadding2D)   (None, 30, 30, 256)       0         \n",
      "_________________________________________________________________\n",
      "conv_dw_6 (DepthwiseConv2D)  (None, 14, 14, 256)       2304      \n",
      "_________________________________________________________________\n",
      "conv_dw_6_bn (BatchNormaliza (None, 14, 14, 256)       1024      \n",
      "_________________________________________________________________\n",
      "conv_dw_6_relu (Activation)  (None, 14, 14, 256)       0         \n",
      "_________________________________________________________________\n",
      "conv_pw_6 (Conv2D)           (None, 14, 14, 512)       131072    \n",
      "_________________________________________________________________\n",
      "conv_pw_6_bn (BatchNormaliza (None, 14, 14, 512)       2048      \n",
      "_________________________________________________________________\n",
      "conv_pw_6_relu (Activation)  (None, 14, 14, 512)       0         \n",
      "_________________________________________________________________\n",
      "conv_pad_7 (ZeroPadding2D)   (None, 16, 16, 512)       0         \n",
      "_________________________________________________________________\n",
      "conv_dw_7 (DepthwiseConv2D)  (None, 14, 14, 512)       4608      \n",
      "_________________________________________________________________\n",
      "conv_dw_7_bn (BatchNormaliza (None, 14, 14, 512)       2048      \n",
      "_________________________________________________________________\n",
      "conv_dw_7_relu (Activation)  (None, 14, 14, 512)       0         \n",
      "_________________________________________________________________\n",
      "conv_pw_7 (Conv2D)           (None, 14, 14, 512)       262144    \n",
      "_________________________________________________________________\n",
      "conv_pw_7_bn (BatchNormaliza (None, 14, 14, 512)       2048      \n",
      "_________________________________________________________________\n",
      "conv_pw_7_relu (Activation)  (None, 14, 14, 512)       0         \n",
      "_________________________________________________________________\n",
      "conv_pad_8 (ZeroPadding2D)   (None, 16, 16, 512)       0         \n",
      "_________________________________________________________________\n",
      "conv_dw_8 (DepthwiseConv2D)  (None, 14, 14, 512)       4608      \n",
      "_________________________________________________________________\n",
      "conv_dw_8_bn (BatchNormaliza (None, 14, 14, 512)       2048      \n",
      "_________________________________________________________________\n",
      "conv_dw_8_relu (Activation)  (None, 14, 14, 512)       0         \n",
      "_________________________________________________________________\n",
      "conv_pw_8 (Conv2D)           (None, 14, 14, 512)       262144    \n",
      "_________________________________________________________________\n",
      "conv_pw_8_bn (BatchNormaliza (None, 14, 14, 512)       2048      \n",
      "_________________________________________________________________\n",
      "conv_pw_8_relu (Activation)  (None, 14, 14, 512)       0         \n",
      "_________________________________________________________________\n",
      "conv_pad_9 (ZeroPadding2D)   (None, 16, 16, 512)       0         \n",
      "_________________________________________________________________\n",
      "conv_dw_9 (DepthwiseConv2D)  (None, 14, 14, 512)       4608      \n",
      "_________________________________________________________________\n",
      "conv_dw_9_bn (BatchNormaliza (None, 14, 14, 512)       2048      \n",
      "_________________________________________________________________\n",
      "conv_dw_9_relu (Activation)  (None, 14, 14, 512)       0         \n",
      "_________________________________________________________________\n",
      "conv_pw_9 (Conv2D)           (None, 14, 14, 512)       262144    \n",
      "_________________________________________________________________\n",
      "conv_pw_9_bn (BatchNormaliza (None, 14, 14, 512)       2048      \n",
      "_________________________________________________________________\n",
      "conv_pw_9_relu (Activation)  (None, 14, 14, 512)       0         \n",
      "_________________________________________________________________\n",
      "conv_pad_10 (ZeroPadding2D)  (None, 16, 16, 512)       0         \n",
      "_________________________________________________________________\n",
      "conv_dw_10 (DepthwiseConv2D) (None, 14, 14, 512)       4608      \n",
      "_________________________________________________________________\n",
      "conv_dw_10_bn (BatchNormaliz (None, 14, 14, 512)       2048      \n",
      "_________________________________________________________________\n",
      "conv_dw_10_relu (Activation) (None, 14, 14, 512)       0         \n",
      "_________________________________________________________________\n",
      "conv_pw_10 (Conv2D)          (None, 14, 14, 512)       262144    \n",
      "_________________________________________________________________\n",
      "conv_pw_10_bn (BatchNormaliz (None, 14, 14, 512)       2048      \n",
      "_________________________________________________________________\n",
      "conv_pw_10_relu (Activation) (None, 14, 14, 512)       0         \n",
      "_________________________________________________________________\n",
      "conv_pad_11 (ZeroPadding2D)  (None, 16, 16, 512)       0         \n",
      "_________________________________________________________________\n",
      "conv_dw_11 (DepthwiseConv2D) (None, 14, 14, 512)       4608      \n",
      "_________________________________________________________________\n",
      "conv_dw_11_bn (BatchNormaliz (None, 14, 14, 512)       2048      \n",
      "_________________________________________________________________\n",
      "conv_dw_11_relu (Activation) (None, 14, 14, 512)       0         \n",
      "_________________________________________________________________\n",
      "conv_pw_11 (Conv2D)          (None, 14, 14, 512)       262144    \n",
      "_________________________________________________________________\n",
      "conv_pw_11_bn (BatchNormaliz (None, 14, 14, 512)       2048      \n",
      "_________________________________________________________________\n",
      "conv_pw_11_relu (Activation) (None, 14, 14, 512)       0         \n",
      "_________________________________________________________________\n",
      "conv_pad_12 (ZeroPadding2D)  (None, 16, 16, 512)       0         \n",
      "_________________________________________________________________\n",
      "conv_dw_12 (DepthwiseConv2D) (None, 7, 7, 512)         4608      \n",
      "_________________________________________________________________\n",
      "conv_dw_12_bn (BatchNormaliz (None, 7, 7, 512)         2048      \n",
      "_________________________________________________________________\n",
      "conv_dw_12_relu (Activation) (None, 7, 7, 512)         0         \n",
      "_________________________________________________________________\n",
      "conv_pw_12 (Conv2D)          (None, 7, 7, 1024)        524288    \n",
      "_________________________________________________________________\n",
      "conv_pw_12_bn (BatchNormaliz (None, 7, 7, 1024)        4096      \n",
      "_________________________________________________________________\n",
      "conv_pw_12_relu (Activation) (None, 7, 7, 1024)        0         \n",
      "_________________________________________________________________\n",
      "conv_pad_13 (ZeroPadding2D)  (None, 9, 9, 1024)        0         \n",
      "_________________________________________________________________\n",
      "conv_dw_13 (DepthwiseConv2D) (None, 7, 7, 1024)        9216      \n",
      "_________________________________________________________________\n",
      "conv_dw_13_bn (BatchNormaliz (None, 7, 7, 1024)        4096      \n",
      "_________________________________________________________________\n",
      "conv_dw_13_relu (Activation) (None, 7, 7, 1024)        0         \n",
      "_________________________________________________________________\n",
      "conv_pw_13 (Conv2D)          (None, 7, 7, 1024)        1048576   \n",
      "_________________________________________________________________\n",
      "conv_pw_13_bn (BatchNormaliz (None, 7, 7, 1024)        4096      \n",
      "_________________________________________________________________\n",
      "conv_pw_13_relu (Activation) (None, 7, 7, 1024)        0         \n",
      "_________________________________________________________________\n",
      "global_average_pooling2d_2 ( (None, 1024)              0         \n",
      "_________________________________________________________________\n",
      "reshape_1 (Reshape)          (None, 1, 1, 1024)        0         \n",
      "=================================================================\n",
      "Total params: 3,228,864\n",
      "Trainable params: 0\n",
      "Non-trainable params: 3,228,864\n",
      "_________________________________________________________________\n"
     ]
    }
   ],
   "source": [
    "old_model = model\n",
    "old_model.layers.pop()\n",
    "old_model.layers.pop()\n",
    "old_model.summary()"
   ]
  },
  {
   "cell_type": "code",
   "execution_count": 77,
   "metadata": {},
   "outputs": [
    {
     "name": "stdout",
     "output_type": "stream",
     "text": [
      "_________________________________________________________________\n",
      "Layer (type)                 Output Shape              Param #   \n",
      "=================================================================\n",
      "mobilenet_1.00_224 (Model)   (None, 1000)              3228864   \n",
      "_________________________________________________________________\n",
      "dense_22 (Dense)             (None, 256)               256256    \n",
      "_________________________________________________________________\n",
      "dense_23 (Dense)             (None, 6)                 1542      \n",
      "=================================================================\n",
      "Total params: 3,486,662\n",
      "Trainable params: 257,798\n",
      "Non-trainable params: 3,228,864\n",
      "_________________________________________________________________\n"
     ]
    }
   ],
   "source": [
    "model2 = models.Sequential()\n",
    "model2.add(old_model)\n",
    "\n",
    "model2.add(layers.Dense(256, activation='relu'))\n",
    "model2.add(layers.Dense(6, activation='softmax'))\n",
    "\n",
    "for layer in model2.layers[:-3]:\n",
    "    layer.trainable = False\n",
    "    \n",
    "model2.summary()"
   ]
  },
  {
   "cell_type": "code",
   "execution_count": 51,
   "metadata": {},
   "outputs": [],
   "source": [
    "sgd = optimizers.SGD(lr=0.01, decay=1e-6, momentum=0.9, nesterov=True)\n",
    "model2.compile(loss='sparse_categorical_crossentropy',\n",
    "              optimizer=sgd,\n",
    "              metrics=['acc'])"
   ]
  },
  {
   "cell_type": "code",
   "execution_count": 52,
   "metadata": {},
   "outputs": [],
   "source": [
    "x, y, vx, vy = [], [], [], []\n",
    "\n",
    "for i in range(birdsNum):\n",
    "    for j in range(1,training):\n",
    "        x.append(loadImage(folders[i]+str(j).zfill(3)+\".jpg\"))\n",
    "        y.append(i)\n",
    "        \n",
    "for i in range(birdsNum):\n",
    "    for j in range(training,validation):\n",
    "        vx.append(loadImage(folders[i]+str(j).zfill(3)+\".jpg\"))\n",
    "        vy.append(i)\n",
    "\n",
    "x = np.array(x)\n",
    "y = np.array(y)\n",
    "vy = np.array(vy)\n",
    "vx = np.array(vx)\n",
    "v = (vx, vy)"
   ]
  },
  {
   "cell_type": "code",
   "execution_count": 53,
   "metadata": {
    "scrolled": true
   },
   "outputs": [
    {
     "name": "stdout",
     "output_type": "stream",
     "text": [
      "Train on 420 samples, validate on 180 samples\n",
      "Epoch 1/50\n",
      "420/420 [==============================] - 3s 7ms/step - loss: 1.7901 - acc: 0.1738 - val_loss: 1.7751 - val_acc: 0.2000\n",
      "Epoch 2/50\n",
      "420/420 [==============================] - 1s 3ms/step - loss: 1.7848 - acc: 0.2167 - val_loss: 1.7605 - val_acc: 0.4889\n",
      "Epoch 3/50\n",
      "420/420 [==============================] - 1s 3ms/step - loss: 1.7765 - acc: 0.2881 - val_loss: 1.7442 - val_acc: 0.5056\n",
      "Epoch 4/50\n",
      "420/420 [==============================] - 1s 3ms/step - loss: 1.7706 - acc: 0.3262 - val_loss: 1.7280 - val_acc: 0.4944\n",
      "Epoch 5/50\n",
      "420/420 [==============================] - 1s 3ms/step - loss: 1.7618 - acc: 0.3810 - val_loss: 1.7121 - val_acc: 0.5000\n",
      "Epoch 6/50\n",
      "420/420 [==============================] - 1s 3ms/step - loss: 1.7557 - acc: 0.3881 - val_loss: 1.6968 - val_acc: 0.5111\n",
      "Epoch 7/50\n",
      "420/420 [==============================] - 1s 2ms/step - loss: 1.7500 - acc: 0.4095 - val_loss: 1.6825 - val_acc: 0.5389\n",
      "Epoch 8/50\n",
      "420/420 [==============================] - 1s 3ms/step - loss: 1.7436 - acc: 0.4262 - val_loss: 1.6681 - val_acc: 0.5556\n",
      "Epoch 9/50\n",
      "420/420 [==============================] - 1s 3ms/step - loss: 1.7371 - acc: 0.4643 - val_loss: 1.6538 - val_acc: 0.5556\n",
      "Epoch 10/50\n",
      "420/420 [==============================] - 1s 3ms/step - loss: 1.7309 - acc: 0.4667 - val_loss: 1.6390 - val_acc: 0.5611\n",
      "Epoch 11/50\n",
      "420/420 [==============================] - 1s 3ms/step - loss: 1.7220 - acc: 0.4643 - val_loss: 1.6240 - val_acc: 0.5611\n",
      "Epoch 12/50\n",
      "420/420 [==============================] - 1s 3ms/step - loss: 1.7172 - acc: 0.4833 - val_loss: 1.6086 - val_acc: 0.5889\n",
      "Epoch 13/50\n",
      "420/420 [==============================] - 1s 3ms/step - loss: 1.7111 - acc: 0.5262 - val_loss: 1.5927 - val_acc: 0.6056\n",
      "Epoch 14/50\n",
      "420/420 [==============================] - 1s 3ms/step - loss: 1.7068 - acc: 0.5048 - val_loss: 1.5767 - val_acc: 0.6000\n",
      "Epoch 15/50\n",
      "420/420 [==============================] - 1s 3ms/step - loss: 1.6961 - acc: 0.5286 - val_loss: 1.5602 - val_acc: 0.6444\n",
      "Epoch 16/50\n",
      "420/420 [==============================] - 1s 3ms/step - loss: 1.6910 - acc: 0.6000 - val_loss: 1.5434 - val_acc: 0.6611\n",
      "Epoch 17/50\n",
      "420/420 [==============================] - 1s 3ms/step - loss: 1.6819 - acc: 0.5738 - val_loss: 1.5264 - val_acc: 0.6556\n",
      "Epoch 18/50\n",
      "420/420 [==============================] - 1s 3ms/step - loss: 1.6747 - acc: 0.5786 - val_loss: 1.5088 - val_acc: 0.6389\n",
      "Epoch 19/50\n",
      "420/420 [==============================] - 1s 3ms/step - loss: 1.6651 - acc: 0.5929 - val_loss: 1.4908 - val_acc: 0.6444\n",
      "Epoch 20/50\n",
      "420/420 [==============================] - 1s 3ms/step - loss: 1.6589 - acc: 0.5714 - val_loss: 1.4728 - val_acc: 0.6333\n",
      "Epoch 21/50\n",
      "420/420 [==============================] - 1s 3ms/step - loss: 1.6472 - acc: 0.5048 - val_loss: 1.4542 - val_acc: 0.6222\n",
      "Epoch 22/50\n",
      "420/420 [==============================] - 1s 3ms/step - loss: 1.6435 - acc: 0.5690 - val_loss: 1.4353 - val_acc: 0.6333\n",
      "Epoch 23/50\n",
      "420/420 [==============================] - 1s 3ms/step - loss: 1.6316 - acc: 0.5690 - val_loss: 1.4167 - val_acc: 0.6333\n",
      "Epoch 24/50\n",
      "420/420 [==============================] - 1s 3ms/step - loss: 1.6229 - acc: 0.5881 - val_loss: 1.3979 - val_acc: 0.6556\n",
      "Epoch 25/50\n",
      "420/420 [==============================] - 1s 3ms/step - loss: 1.6164 - acc: 0.5452 - val_loss: 1.3785 - val_acc: 0.6556\n",
      "Epoch 26/50\n",
      "420/420 [==============================] - 1s 3ms/step - loss: 1.6068 - acc: 0.6500 - val_loss: 1.3608 - val_acc: 0.6556\n",
      "Epoch 27/50\n",
      "420/420 [==============================] - 1s 3ms/step - loss: 1.5881 - acc: 0.6714 - val_loss: 1.3428 - val_acc: 0.6500\n",
      "Epoch 28/50\n",
      "420/420 [==============================] - 1s 3ms/step - loss: 1.5873 - acc: 0.6048 - val_loss: 1.3248 - val_acc: 0.6278\n",
      "Epoch 29/50\n",
      "420/420 [==============================] - 1s 3ms/step - loss: 1.5754 - acc: 0.5762 - val_loss: 1.3073 - val_acc: 0.6333\n",
      "Epoch 30/50\n",
      "420/420 [==============================] - 1s 2ms/step - loss: 1.5598 - acc: 0.6500 - val_loss: 1.2892 - val_acc: 0.6556\n",
      "Epoch 31/50\n",
      "420/420 [==============================] - 1s 3ms/step - loss: 1.5583 - acc: 0.6500 - val_loss: 1.2718 - val_acc: 0.6667\n",
      "Epoch 32/50\n",
      "420/420 [==============================] - 1s 3ms/step - loss: 1.5402 - acc: 0.7119 - val_loss: 1.2550 - val_acc: 0.6667\n",
      "Epoch 33/50\n",
      "420/420 [==============================] - 1s 3ms/step - loss: 1.5329 - acc: 0.6190 - val_loss: 1.2390 - val_acc: 0.6667\n",
      "Epoch 34/50\n",
      "420/420 [==============================] - 1s 3ms/step - loss: 1.5249 - acc: 0.6071 - val_loss: 1.2234 - val_acc: 0.6667\n",
      "Epoch 35/50\n",
      "420/420 [==============================] - 1s 2ms/step - loss: 1.5136 - acc: 0.6071 - val_loss: 1.2088 - val_acc: 0.6611\n",
      "Epoch 36/50\n",
      "420/420 [==============================] - 1s 3ms/step - loss: 1.5084 - acc: 0.5810 - val_loss: 1.1952 - val_acc: 0.6667\n",
      "Epoch 37/50\n",
      "420/420 [==============================] - 1s 3ms/step - loss: 1.5017 - acc: 0.6143 - val_loss: 1.1821 - val_acc: 0.6611\n",
      "Epoch 38/50\n",
      "420/420 [==============================] - 1s 3ms/step - loss: 1.4922 - acc: 0.6071 - val_loss: 1.1686 - val_acc: 0.6556\n",
      "Epoch 39/50\n",
      "420/420 [==============================] - 1s 2ms/step - loss: 1.4895 - acc: 0.6190 - val_loss: 1.1578 - val_acc: 0.6667\n",
      "Epoch 40/50\n",
      "420/420 [==============================] - 1s 3ms/step - loss: 1.4756 - acc: 0.6190 - val_loss: 1.1487 - val_acc: 0.6500\n",
      "Epoch 41/50\n",
      "420/420 [==============================] - 1s 3ms/step - loss: 1.4710 - acc: 0.6143 - val_loss: 1.1392 - val_acc: 0.6611\n",
      "Epoch 42/50\n",
      "420/420 [==============================] - 1s 3ms/step - loss: 1.4580 - acc: 0.6333 - val_loss: 1.1300 - val_acc: 0.6556\n",
      "Epoch 43/50\n",
      "420/420 [==============================] - 1s 3ms/step - loss: 1.4517 - acc: 0.6667 - val_loss: 1.1203 - val_acc: 0.6667\n",
      "Epoch 44/50\n",
      "420/420 [==============================] - 1s 3ms/step - loss: 1.4385 - acc: 0.6310 - val_loss: 1.1124 - val_acc: 0.6667\n",
      "Epoch 45/50\n",
      "420/420 [==============================] - 1s 3ms/step - loss: 1.4485 - acc: 0.5857 - val_loss: 1.1046 - val_acc: 0.6722\n",
      "Epoch 46/50\n",
      "420/420 [==============================] - 1s 3ms/step - loss: 1.4323 - acc: 0.6952 - val_loss: 1.0964 - val_acc: 0.6944\n",
      "Epoch 47/50\n",
      "420/420 [==============================] - 1s 3ms/step - loss: 1.4228 - acc: 0.6881 - val_loss: 1.0870 - val_acc: 0.6889\n",
      "Epoch 48/50\n",
      "420/420 [==============================] - 1s 3ms/step - loss: 1.4153 - acc: 0.6476 - val_loss: 1.0782 - val_acc: 0.7000\n",
      "Epoch 49/50\n",
      "420/420 [==============================] - 1s 3ms/step - loss: 1.4149 - acc: 0.6571 - val_loss: 1.0704 - val_acc: 0.6944\n",
      "Epoch 50/50\n",
      "420/420 [==============================] - 1s 3ms/step - loss: 1.3988 - acc: 0.7238 - val_loss: 1.0644 - val_acc: 0.7056\n"
     ]
    }
   ],
   "source": [
    "history = model2.fit(x, y, epochs=epochs, batch_size=batch_size, validation_data=v)"
   ]
  },
  {
   "cell_type": "code",
   "execution_count": 54,
   "metadata": {},
   "outputs": [
    {
     "data": {
      "text/plain": [
       "Text(0,0.5,'Loss')"
      ]
     },
     "execution_count": 54,
     "metadata": {},
     "output_type": "execute_result"
    },
    {
     "data": {
      "image/png": "[encoded data removed]",
      "text/plain": [
       "<Figure size 432x288 with 1 Axes>"
      ]
     },
     "metadata": {},
     "output_type": "display_data"
    }
   ],
   "source": [
    "plt.plot(history.history['loss'], label=\"Train Loss\")\n",
    "plt.plot(history.history['val_loss'], label=\"Validation Loss\")\n",
    "plt.legend()\n",
    "plt.xlabel('Epoch')\n",
    "plt.ylabel('Loss')"
   ]
  },
  {
   "cell_type": "code",
   "execution_count": 55,
   "metadata": {},
   "outputs": [
    {
     "name": "stdout",
     "output_type": "stream",
     "text": [
      "Test loss: 1.0644341521792942\n",
      "Test accuracy: 0.7055555542310079\n"
     ]
    }
   ],
   "source": [
    "score = model2.evaluate(vx, vy, verbose=0)\n",
    "print('Test loss:', score[0])\n",
    "print('Test accuracy:', score[1])"
   ]
  },
  {
   "cell_type": "markdown",
   "metadata": {},
   "source": [
    "### Saving and Loading Model"
   ]
  },
  {
   "cell_type": "code",
   "execution_count": 56,
   "metadata": {},
   "outputs": [],
   "source": [
    "model2.save_weights(\"model2.h5\")"
   ]
  },
  {
   "cell_type": "markdown",
   "metadata": {},
   "source": [
    "### Confusion Matrix"
   ]
  },
  {
   "cell_type": "code",
   "execution_count": 57,
   "metadata": {},
   "outputs": [],
   "source": [
    "true = []\n",
    "pred = []\n",
    "for i in range(birdsNum):\n",
    "    for j in range(training,validation):\n",
    "        s = predict2(folders[i]+str(j).zfill(3)+\".jpg\")\n",
    "        pred.append(s)\n",
    "        true.append(birds[i]) "
   ]
  },
  {
   "cell_type": "code",
   "execution_count": 58,
   "metadata": {},
   "outputs": [
    {
     "name": "stdout",
     "output_type": "stream",
     "text": [
      "Confusion matrix, without normalization\n",
      "[[30  0  0  0  0  0]\n",
      " [ 0  0  1  0  0 29]\n",
      " [ 0  0 28  1  0  1]\n",
      " [ 0  1  0 10  7 12]\n",
      " [ 0  0  0  1 29  0]\n",
      " [ 0  0  0  0  0 30]]\n"
     ]
    },
    {
     "data": {
      "image/png": "[encoded data removed]",
      "text/plain": [
       "<Figure size 720x720 with 1 Axes>"
      ]
     },
     "metadata": {},
     "output_type": "display_data"
    }
   ],
   "source": [
    "cnf_matrix = confusion_matrix(true, pred)\n",
    "np.set_printoptions(precision=2)\n",
    "plt.figure(figsize=(10,10))\n",
    "\n",
    "plot_confusion_matrix(cnf_matrix, yclasses=sorted(birds), xclasses=sorted(birds), normalize=False)"
   ]
  },
  {
   "cell_type": "markdown",
   "metadata": {},
   "source": [
    "Removing the two layers gave worse results, the problem with Mandarins and Wook Ducks remains, and Puffins had a worse behavior."
   ]
  },
  {
   "cell_type": "markdown",
   "metadata": {},
   "source": [
    "## 3. Fine Tuning"
   ]
  },
  {
   "cell_type": "markdown",
   "metadata": {},
   "source": [
    "## Training all the model"
   ]
  },
  {
   "cell_type": "markdown",
   "metadata": {},
   "source": [
    "In this case we will let train all the Network"
   ]
  },
  {
   "cell_type": "code",
   "execution_count": 79,
   "metadata": {},
   "outputs": [
    {
     "name": "stdout",
     "output_type": "stream",
     "text": [
      "<keras.engine.training.Model object at 0x7f0096713160> True\n",
      "<keras.layers.core.Dense object at 0x7f0096475d30> True\n",
      "<keras.layers.core.Dense object at 0x7f00964625c0> True\n",
      "_________________________________________________________________\n",
      "Layer (type)                 Output Shape              Param #   \n",
      "=================================================================\n",
      "mobilenet_1.00_224 (Model)   (None, 1000)              3228864   \n",
      "_________________________________________________________________\n",
      "dense_26 (Dense)             (None, 256)               256256    \n",
      "_________________________________________________________________\n",
      "dense_27 (Dense)             (None, 6)                 1542      \n",
      "=================================================================\n",
      "Total params: 3,486,662\n",
      "Trainable params: 3,464,774\n",
      "Non-trainable params: 21,888\n",
      "_________________________________________________________________\n"
     ]
    }
   ],
   "source": [
    "model2 = models.Sequential()\n",
    "model2.add(old_model)\n",
    "\n",
    "model2.add(layers.Dense(256, activation='relu'))\n",
    "model2.add(layers.Dense(6, activation='softmax'))\n",
    "\n",
    "for layer in model2.layers:\n",
    "    layer.trainable = True\n",
    "    print(layer, layer.trainable)\n",
    "    \n",
    "model2.summary()"
   ]
  },
  {
   "cell_type": "code",
   "execution_count": 60,
   "metadata": {},
   "outputs": [],
   "source": [
    "sgd = optimizers.SGD(lr=0.01, decay=1e-6, momentum=0.9, nesterov=True)\n",
    "model2.compile(loss='sparse_categorical_crossentropy',\n",
    "              optimizer=sgd,\n",
    "              metrics=['acc'])"
   ]
  },
  {
   "cell_type": "code",
   "execution_count": 61,
   "metadata": {},
   "outputs": [],
   "source": [
    "x, y, vx, vy = [], [], [], []\n",
    "\n",
    "for i in range(birdsNum):\n",
    "    for j in range(1,training):\n",
    "        x.append(loadImage(folders[i]+str(j).zfill(3)+\".jpg\"))\n",
    "        y.append(i)\n",
    "        \n",
    "for i in range(birdsNum):\n",
    "    for j in range(training,validation):\n",
    "        vx.append(loadImage(folders[i]+str(j).zfill(3)+\".jpg\"))\n",
    "        vy.append(i)\n",
    "\n",
    "x = np.array(x)\n",
    "y = np.array(y)\n",
    "vy = np.array(vy)\n",
    "vx = np.array(vx)\n",
    "v = (vx, vy)"
   ]
  },
  {
   "cell_type": "code",
   "execution_count": 62,
   "metadata": {
    "scrolled": true
   },
   "outputs": [
    {
     "name": "stdout",
     "output_type": "stream",
     "text": [
      "Train on 420 samples, validate on 180 samples\n",
      "Epoch 1/50\n",
      "420/420 [==============================] - 8s 18ms/step - loss: 1.7871 - acc: 0.2262 - val_loss: 1.7856 - val_acc: 0.3167\n",
      "Epoch 2/50\n",
      "420/420 [==============================] - 3s 7ms/step - loss: 1.7790 - acc: 0.3738 - val_loss: 1.7780 - val_acc: 0.3611\n",
      "Epoch 3/50\n",
      "420/420 [==============================] - 3s 7ms/step - loss: 1.7627 - acc: 0.4333 - val_loss: 1.7664 - val_acc: 0.3889\n",
      "Epoch 4/50\n",
      "420/420 [==============================] - 3s 7ms/step - loss: 1.7408 - acc: 0.4786 - val_loss: 1.7491 - val_acc: 0.4500\n",
      "Epoch 5/50\n",
      "420/420 [==============================] - 3s 7ms/step - loss: 1.7096 - acc: 0.5214 - val_loss: 1.7275 - val_acc: 0.4500\n",
      "Epoch 6/50\n",
      "420/420 [==============================] - 3s 7ms/step - loss: 1.6732 - acc: 0.5810 - val_loss: 1.7033 - val_acc: 0.4722\n",
      "Epoch 7/50\n",
      "420/420 [==============================] - 3s 7ms/step - loss: 1.6328 - acc: 0.6143 - val_loss: 1.6765 - val_acc: 0.5000\n",
      "Epoch 8/50\n",
      "420/420 [==============================] - 3s 7ms/step - loss: 1.5907 - acc: 0.6524 - val_loss: 1.6471 - val_acc: 0.5222\n",
      "Epoch 9/50\n",
      "420/420 [==============================] - 3s 7ms/step - loss: 1.5452 - acc: 0.7333 - val_loss: 1.6136 - val_acc: 0.5778\n",
      "Epoch 10/50\n",
      "420/420 [==============================] - 3s 7ms/step - loss: 1.4949 - acc: 0.7952 - val_loss: 1.5773 - val_acc: 0.6222\n",
      "Epoch 11/50\n",
      "420/420 [==============================] - 3s 7ms/step - loss: 1.4406 - acc: 0.8167 - val_loss: 1.5382 - val_acc: 0.6444\n",
      "Epoch 12/50\n",
      "420/420 [==============================] - 3s 7ms/step - loss: 1.3808 - acc: 0.8214 - val_loss: 1.5026 - val_acc: 0.6444\n",
      "Epoch 13/50\n",
      "420/420 [==============================] - 3s 7ms/step - loss: 1.3179 - acc: 0.8548 - val_loss: 1.4632 - val_acc: 0.6333\n",
      "Epoch 14/50\n",
      "420/420 [==============================] - 3s 7ms/step - loss: 1.2494 - acc: 0.8595 - val_loss: 1.4141 - val_acc: 0.6667\n",
      "Epoch 15/50\n",
      "420/420 [==============================] - 3s 7ms/step - loss: 1.1856 - acc: 0.9119 - val_loss: 1.3498 - val_acc: 0.7056\n",
      "Epoch 16/50\n",
      "420/420 [==============================] - 3s 7ms/step - loss: 1.1170 - acc: 0.9452 - val_loss: 1.2826 - val_acc: 0.7444\n",
      "Epoch 17/50\n",
      "420/420 [==============================] - 3s 7ms/step - loss: 1.0429 - acc: 0.9381 - val_loss: 1.2183 - val_acc: 0.7278\n",
      "Epoch 18/50\n",
      "420/420 [==============================] - 3s 7ms/step - loss: 0.9660 - acc: 0.9405 - val_loss: 1.1517 - val_acc: 0.7556\n",
      "Epoch 19/50\n",
      "420/420 [==============================] - 3s 7ms/step - loss: 0.8840 - acc: 0.9667 - val_loss: 1.0770 - val_acc: 0.8222\n",
      "Epoch 20/50\n",
      "420/420 [==============================] - 3s 7ms/step - loss: 0.8107 - acc: 0.9929 - val_loss: 1.0033 - val_acc: 0.8833\n",
      "Epoch 21/50\n",
      "420/420 [==============================] - 3s 7ms/step - loss: 0.7402 - acc: 0.9905 - val_loss: 0.9384 - val_acc: 0.8833\n",
      "Epoch 22/50\n",
      "420/420 [==============================] - 3s 7ms/step - loss: 0.6716 - acc: 0.9905 - val_loss: 0.8793 - val_acc: 0.8833\n",
      "Epoch 23/50\n",
      "420/420 [==============================] - 3s 7ms/step - loss: 0.6041 - acc: 0.9881 - val_loss: 0.8245 - val_acc: 0.8833\n",
      "Epoch 24/50\n",
      "420/420 [==============================] - 3s 7ms/step - loss: 0.5472 - acc: 0.9857 - val_loss: 0.7704 - val_acc: 0.8944\n",
      "Epoch 25/50\n",
      "420/420 [==============================] - 3s 7ms/step - loss: 0.4911 - acc: 0.9881 - val_loss: 0.7199 - val_acc: 0.8889\n",
      "Epoch 26/50\n",
      "420/420 [==============================] - 3s 7ms/step - loss: 0.4395 - acc: 0.9857 - val_loss: 0.6698 - val_acc: 0.8889\n",
      "Epoch 27/50\n",
      "420/420 [==============================] - 3s 7ms/step - loss: 0.3879 - acc: 0.9905 - val_loss: 0.6165 - val_acc: 0.8944\n",
      "Epoch 28/50\n",
      "420/420 [==============================] - 3s 7ms/step - loss: 0.3390 - acc: 0.9905 - val_loss: 0.5707 - val_acc: 0.9056\n",
      "Epoch 29/50\n",
      "420/420 [==============================] - 3s 7ms/step - loss: 0.2955 - acc: 0.9929 - val_loss: 0.5358 - val_acc: 0.9056\n",
      "Epoch 30/50\n",
      "420/420 [==============================] - 3s 7ms/step - loss: 0.2570 - acc: 0.9929 - val_loss: 0.5029 - val_acc: 0.9056\n",
      "Epoch 31/50\n",
      "420/420 [==============================] - 3s 7ms/step - loss: 0.2248 - acc: 0.9952 - val_loss: 0.4764 - val_acc: 0.9000\n",
      "Epoch 32/50\n",
      "420/420 [==============================] - 3s 7ms/step - loss: 0.1959 - acc: 0.9952 - val_loss: 0.4453 - val_acc: 0.9111\n",
      "Epoch 33/50\n",
      "420/420 [==============================] - 3s 7ms/step - loss: 0.1729 - acc: 0.9952 - val_loss: 0.4122 - val_acc: 0.9111\n",
      "Epoch 34/50\n",
      "420/420 [==============================] - 3s 7ms/step - loss: 0.1533 - acc: 0.9952 - val_loss: 0.3812 - val_acc: 0.9167\n",
      "Epoch 35/50\n",
      "420/420 [==============================] - 3s 7ms/step - loss: 0.1371 - acc: 0.9952 - val_loss: 0.3561 - val_acc: 0.9278\n",
      "Epoch 36/50\n",
      "420/420 [==============================] - 3s 7ms/step - loss: 0.1220 - acc: 0.9976 - val_loss: 0.3336 - val_acc: 0.9278\n",
      "Epoch 37/50\n",
      "420/420 [==============================] - 3s 7ms/step - loss: 0.1105 - acc: 0.9976 - val_loss: 0.3124 - val_acc: 0.9278\n",
      "Epoch 38/50\n",
      "420/420 [==============================] - 3s 7ms/step - loss: 0.1012 - acc: 0.9976 - val_loss: 0.2928 - val_acc: 0.9333\n",
      "Epoch 39/50\n",
      "420/420 [==============================] - 3s 7ms/step - loss: 0.0931 - acc: 0.9976 - val_loss: 0.2765 - val_acc: 0.9389\n",
      "Epoch 40/50\n",
      "420/420 [==============================] - 3s 7ms/step - loss: 0.0862 - acc: 0.9976 - val_loss: 0.2622 - val_acc: 0.9444\n",
      "Epoch 41/50\n",
      "420/420 [==============================] - 3s 7ms/step - loss: 0.0809 - acc: 0.9976 - val_loss: 0.2483 - val_acc: 0.9444\n",
      "Epoch 42/50\n",
      "420/420 [==============================] - 3s 7ms/step - loss: 0.0747 - acc: 0.9976 - val_loss: 0.2385 - val_acc: 0.9444\n",
      "Epoch 43/50\n",
      "420/420 [==============================] - 3s 7ms/step - loss: 0.0688 - acc: 0.9976 - val_loss: 0.2290 - val_acc: 0.9444\n",
      "Epoch 44/50\n",
      "420/420 [==============================] - 3s 7ms/step - loss: 0.0651 - acc: 0.9976 - val_loss: 0.2199 - val_acc: 0.9444\n",
      "Epoch 45/50\n",
      "420/420 [==============================] - 3s 7ms/step - loss: 0.0607 - acc: 0.9976 - val_loss: 0.2116 - val_acc: 0.9500\n",
      "Epoch 46/50\n",
      "420/420 [==============================] - 3s 7ms/step - loss: 0.0572 - acc: 0.9976 - val_loss: 0.2026 - val_acc: 0.9500\n",
      "Epoch 47/50\n",
      "420/420 [==============================] - 3s 7ms/step - loss: 0.0543 - acc: 0.9976 - val_loss: 0.1945 - val_acc: 0.9500\n",
      "Epoch 48/50\n",
      "420/420 [==============================] - 3s 7ms/step - loss: 0.0517 - acc: 0.9976 - val_loss: 0.1878 - val_acc: 0.9500\n",
      "Epoch 49/50\n",
      "420/420 [==============================] - 3s 7ms/step - loss: 0.0494 - acc: 0.9976 - val_loss: 0.1819 - val_acc: 0.9500\n",
      "Epoch 50/50\n",
      "420/420 [==============================] - 3s 7ms/step - loss: 0.0472 - acc: 0.9976 - val_loss: 0.1765 - val_acc: 0.9500\n"
     ]
    }
   ],
   "source": [
    "history = model2.fit(x, y, epochs=epochs, batch_size=batch_size, validation_data=v)"
   ]
  },
  {
   "cell_type": "code",
   "execution_count": 63,
   "metadata": {},
   "outputs": [
    {
     "data": {
      "text/plain": [
       "Text(0,0.5,'Loss')"
      ]
     },
     "execution_count": 63,
     "metadata": {},
     "output_type": "execute_result"
    },
    {
     "data": {
      "image/png": "[encoded data removed]",
      "text/plain": [
       "<Figure size 432x288 with 1 Axes>"
      ]
     },
     "metadata": {},
     "output_type": "display_data"
    }
   ],
   "source": [
    "plt.plot(history.history['loss'], label=\"Train Loss\")\n",
    "plt.plot(history.history['val_loss'], label=\"Validation Loss\")\n",
    "plt.legend()\n",
    "plt.xlabel('Epoch')\n",
    "plt.ylabel('Loss')"
   ]
  },
  {
   "cell_type": "code",
   "execution_count": 64,
   "metadata": {},
   "outputs": [
    {
     "name": "stdout",
     "output_type": "stream",
     "text": [
      "Test loss: 0.1764640481935607\n",
      "Test accuracy: 0.95\n"
     ]
    }
   ],
   "source": [
    "score = model2.evaluate(vx, vy, verbose=0)\n",
    "print('Test loss:', score[0])\n",
    "print('Test accuracy:', score[1])"
   ]
  },
  {
   "cell_type": "markdown",
   "metadata": {},
   "source": [
    "### Saving and loading model"
   ]
  },
  {
   "cell_type": "code",
   "execution_count": 65,
   "metadata": {},
   "outputs": [],
   "source": [
    "model2.save_weights(\"model3.h5\")"
   ]
  },
  {
   "cell_type": "code",
   "execution_count": 67,
   "metadata": {},
   "outputs": [],
   "source": [
    "true = []\n",
    "pred = []\n",
    "for i in range(birdsNum):\n",
    "    for j in range(training,validation):\n",
    "        s = predict2(folders[i]+str(j).zfill(3)+\".jpg\")\n",
    "        pred.append(s)\n",
    "        true.append(birds[i]) "
   ]
  },
  {
   "cell_type": "code",
   "execution_count": 68,
   "metadata": {},
   "outputs": [
    {
     "name": "stdout",
     "output_type": "stream",
     "text": [
      "Confusion matrix, without normalization\n",
      "[[30  0  0  0  0  0]\n",
      " [ 0 30  0  0  0  0]\n",
      " [ 0  0 30  0  0  0]\n",
      " [ 0  1  0 29  0  0]\n",
      " [ 0  7  0  0 23  0]\n",
      " [ 0  1  0  0  0 29]]\n"
     ]
    },
    {
     "data": {
      "image/png": "[encoded data removed]",
      "text/plain": [
       "<Figure size 720x720 with 1 Axes>"
      ]
     },
     "metadata": {},
     "output_type": "display_data"
    }
   ],
   "source": [
    "cnf_matrix = confusion_matrix(true, pred)\n",
    "np.set_printoptions(precision=2)\n",
    "plt.figure(figsize=(10,10))\n",
    "\n",
    "plot_confusion_matrix(cnf_matrix, yclasses=sorted(birds), xclasses=sorted(birds), normalize=False)"
   ]
  },
  {
   "cell_type": "markdown",
   "metadata": {},
   "source": [
    "Training all the model was almost perfect, getting a 95% of accuracy. By seen, it was necessary to train some features extracted by the Convolutional Layers. However, there was a trade-off, because toucan in this case got worse, although,it was a better strategy for the global results.\n",
    "<br><br>\n",
    "Furthermore, in general we had to add some hyperparameters to get better the training. Some of them were Gradient Descent with Momemtum, Batch Normalization, Learning Rate Decay, an optimal batch-size, and some other."
   ]
  }
 ],
 "metadata": {
  "kernelspec": {
   "display_name": "Python 3",
   "language": "python",
   "name": "python3"
  },
  "language_info": {
   "codemirror_mode": {
    "name": "ipython",
    "version": 3
   },
   "file_extension": ".py",
   "mimetype": "text/x-python",
   "name": "python",
   "nbconvert_exporter": "python",
   "pygments_lexer": "ipython3",
   "version": "3.6.3"
  }
 },
 "nbformat": 4,
 "nbformat_minor": 2
}
